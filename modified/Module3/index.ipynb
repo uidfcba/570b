{
 "cells": [
  {
   "cell_type": "markdown",
   "metadata": {},
   "source": [
    "# Module 3: Practical Concepts in Machine Learning\n",
    "\n",
    "This module introduces several important and practical concepts in machine learning. First, you will learn about the challenges inherent in applying data analytics (and machine learning in particular) to real world data sets. This also introduces several methodologies that you may encounter in the future that dictate how to approach, tackle, and deploy data analytic solutions. Next, you will learn about a powerful technique to combine the predictions from many weak learners to make a better prediction via a process known as ensemble learning. Specifically, this module will introduce two of the most popular ensemble learning techniques: bagging and boosting and demonstrate how to employ them in a Python data analytics script. Finally, the concept of a machine learning pipeline is introduced, which encapsulates the process of creating, deploying, and reusing machine learning models.\n",
    "\n",
    "## Learning Objectives\n",
    "\n",
    "#### By the end of this module, you should be able to:\n",
    "\n",
    "- articulate the differences between performing data analytics in this course and the real-world,\n",
    "- understand the basic concepts behind ensemble learning, bagging, and boosting,\n",
    "- develop a data analytics script that employs ensemble learning in a Python script by using the scikit learn module, and\n",
    "- construct a machine learning pipeline by using the scikit learn module.\n",
    "\n",
    "### Activities and Assignments\n",
    "\n",
    "| Activities and Assignments               | Time Estimate | Deadline | Points |\n",
    "| :--------------------------------------- | ------------- | --------- | -----: |\n",
    "| **[Module 3 Overview Video][wv]**      | 10 Minutes    | N/A |    N/A |\n",
    "| **[Module 3 Lesson 1: Production Data Analytics][nb1]** | 1 Hour   | N/A  |     N/A |\n",
    "| **[Module 3 Lesson 2: Introduction to Bagging][nb2]** | 2 Hours | N/A  |     N/A |\n",
    "| **[Module 3 Lesson 3: Introduction to Boosting][nb3]** | 2 Hours | N/A  |     N/A |\n",
    "| **[Module 3 Lesson 4: Introduction to Pipelines][nb4]** | 2 Hours   | N/A  |   N/A |\n",
    "| **[Module 3 Assignment][ma]**                    | 2 Hours   | N/A   |  N/A |\n",
    "\n",
    "----------\n",
    "\n",
    "[nb1]: notebooks/m3l1.ipynb\n",
    "[nb2]: notebooks/m3l2.ipynb\n",
    "[nb3]: notebooks/m3l3.ipynb\n",
    "[nb4]: notebooks/m3l4.ipynb\n",
    "\n",
    "[wv]: https://mediaspace.illinois.edu/media/t/1_ramy1d8m\n",
    "[ma]: assignment/assignment.ipynb"
   ]
  },
  {
   "cell_type": "markdown",
   "metadata": {
    "deletable": false,
    "editable": false
   },
   "source": [
    "**&copy; 2017: Robert J. Brunner at the University of Illinois.**\n",
    "\n",
    "This notebook is released under the [Creative Commons license CC BY-NC-SA 4.0][ll]. Any reproduction, adaptation, distribution, dissemination or making available of this notebook for commercial use is not allowed unless authorized in writing by the copyright holder.\n",
    "\n",
    "[ll]: https://creativecommons.org/licenses/by-nc-sa/4.0/legalcode "
   ]
  }
 ],
 "metadata": {
  "kernelspec": {
   "display_name": "Python 3",
   "language": "python",
   "name": "python3"
  },
  "language_info": {
   "codemirror_mode": {
    "name": "ipython",
    "version": 3
   },
   "file_extension": ".py",
   "mimetype": "text/x-python",
   "name": "python",
   "nbconvert_exporter": "python",
   "pygments_lexer": "ipython3",
   "version": "3.6.7"
  }
 },
 "nbformat": 4,
 "nbformat_minor": 2
}
