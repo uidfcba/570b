{
 "cells": [
  {
   "cell_type": "markdown",
   "metadata": {},
   "source": [
    "# Module 3: Lesson 4\n",
    "\n",
    "-----\n",
    "\n",
    "## Introduction to Pipelines\n",
    "\n",
    "This lesson introduces the machine learning pipeline, where multiple steps in the machine learning process can be encapsulated into a single object, simplifying development and reuse.\n",
    "\n",
    "### Objectives\n",
    "\n",
    "By the end of this lesson, you will be able to\n",
    "\n",
    "- articulate the concepts behind a machine learning pipeline,\n",
    "- explain the benefits of using a machine learning pipeline, and\n",
    "- create and deploy a machine learning pipeline by using the scikit learn library.\n",
    "\n",
    "### Time Estimate\n",
    "\n",
    "Approximately 2 hours.\n",
    "\n",
    "### Activities \n",
    "\n",
    "Video: Watch the [Introduction to ML Pipelines][imlpv] video, which will demonstrate \n",
    "\n",
    "Notebook: Read and complete the practice exercises in the [Introduction to ML Pipelines][intro2pipe] notebook.\n",
    "\n",
    "------\n",
    "\n",
    "[imlpv]:  https://mediaspace.illinois.edu/media/t/1_9o1geaql\n",
    "[intro2pipe]: intro2pc.ipynb"
   ]
  },
  {
   "cell_type": "markdown",
   "metadata": {
    "deletable": false,
    "editable": false
   },
   "source": [
    "**&copy; 2017: Robert J. Brunner at the University of Illinois.**\n",
    "\n",
    "This notebook is released under the [Creative Commons license CC BY-NC-SA 4.0][ll]. Any reproduction, adaptation, distribution, dissemination or making available of this notebook for commercial use is not allowed unless authorized in writing by the copyright holder.\n",
    "\n",
    "[ll]: https://creativecommons.org/licenses/by-nc-sa/4.0/legalcode "
   ]
  }
 ],
 "metadata": {
  "kernelspec": {
   "display_name": "Python 3",
   "language": "python",
   "name": "python3"
  },
  "language_info": {
   "codemirror_mode": {
    "name": "ipython",
    "version": 3
   },
   "file_extension": ".py",
   "mimetype": "text/x-python",
   "name": "python",
   "nbconvert_exporter": "python",
   "pygments_lexer": "ipython3",
   "version": "3.6.7"
  }
 },
 "nbformat": 4,
 "nbformat_minor": 2
}
