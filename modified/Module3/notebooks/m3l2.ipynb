{
 "cells": [
  {
   "cell_type": "markdown",
   "metadata": {},
   "source": [
    "# Module 3: Lesson 2\n",
    "\n",
    "-----\n",
    "\n",
    "## Introduction to Bagging\n",
    "\n",
    "This lesson introduces ensemble learning, and in particular the concept of bagging and the random forest, which implements bagging via many decisions trees.\n",
    "\n",
    "### Objectives\n",
    "\n",
    "By the end of this lesson, you will be able to:\n",
    "\n",
    "- explain the concept of bagging,\n",
    "- articulate how bagging can improve the predictive power of a machine learning algorithm, and\n",
    "- apply bagging algorithms, such as the random forest, by using the scikit learn library.\n",
    "\n",
    "### Time Estimate\n",
    "\n",
    "Approximately 2 hours.\n",
    "\n",
    "### Activities \n",
    "\n",
    "Reading: Learn about the [Decision Tree algorithm][jdt] and its application by using the scikit learn module in _Python Data Science Handbook_ by Jake VanderPlas. You can skim the Decision Tree section, and you should stop when you reach  the _Example: Random Forest for Classifying Digits_ section, which is optional.\n",
    "\n",
    "Video: Watch the [introduction to Bagging ][ibav] video, which will demonstrate \n",
    "\n",
    "Notebook: Read and complete the practice exercises in the [Introduction to Bagging & Random Forests][intro2brf] notebook.\n",
    "\n",
    "------\n",
    "[jdt]: http://nbviewer.jupyter.org/github/jakevdp/PythonDataScienceHandbook/blob/master/notebooks/05.08-Random-Forests.ipynb\n",
    "\n",
    "[ibav]: https://mediaspace.illinois.edu/media/t/1_6xml6yxt\n",
    "[intro2brf]: intro2bat.ipynb"
   ]
  },
  {
   "cell_type": "markdown",
   "metadata": {
    "deletable": false,
    "editable": false
   },
   "source": [
    "**&copy; 2017: Robert J. Brunner at the University of Illinois.**\n",
    "\n",
    "This notebook is released under the [Creative Commons license CC BY-NC-SA 4.0][ll]. Any reproduction, adaptation, distribution, dissemination or making available of this notebook for commercial use is not allowed unless authorized in writing by the copyright holder.\n",
    "\n",
    "[ll]: https://creativecommons.org/licenses/by-nc-sa/4.0/legalcode "
   ]
  }
 ],
 "metadata": {
  "kernelspec": {
   "display_name": "Python 3",
   "language": "python",
   "name": "python3"
  },
  "language_info": {
   "codemirror_mode": {
    "name": "ipython",
    "version": 3
   },
   "file_extension": ".py",
   "mimetype": "text/x-python",
   "name": "python",
   "nbconvert_exporter": "python",
   "pygments_lexer": "ipython3",
   "version": "3.6.7"
  }
 },
 "nbformat": 4,
 "nbformat_minor": 2
}
