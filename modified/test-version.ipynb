{
 "cells": [
  {
   "cell_type": "code",
   "execution_count": 1,
   "metadata": {
    "scrolled": true
   },
   "outputs": [
    {
     "name": "stdout",
     "output_type": "stream",
     "text": [
      "3.6.7 | packaged by conda-forge | (default, Nov 21 2018, 02:32:25) \n",
      "[GCC 4.8.2 20140120 (Red Hat 4.8.2-15)]\n"
     ]
    }
   ],
   "source": [
    "# Display Python version\n",
    "import sys\n",
    "print(sys.version)"
   ]
  },
  {
   "cell_type": "code",
   "execution_count": 2,
   "metadata": {},
   "outputs": [
    {
     "name": "stdout",
     "output_type": "stream",
     "text": [
      "Numpy version        = 1.15.4\n",
      "Pandas version       = 0.23.4\n",
      "Scikit Learn version = 0.20.2\n",
      "Matplotlib version   = 0.9.0\n",
      "Seaborn version      = 3.0.2\n",
      "Statsmodels version  = 0.9.0\n"
     ]
    }
   ],
   "source": [
    "# Display basic Python library versions\n",
    "import numpy as np\n",
    "import pandas as pd\n",
    "import sklearn as sk\n",
    "import seaborn as sns\n",
    "import matplotlib as mpl\n",
    "import statsmodels as sts\n",
    "\n",
    "print(f'Numpy version        = {np.__version__}')\n",
    "print(f'Pandas version       = {pd.__version__}')\n",
    "print(f'Scikit Learn version = {sk.__version__}')\n",
    "print(f'Matplotlib version   = {sns.__version__}')\n",
    "print(f'Seaborn version      = {mpl.__version__}')\n",
    "print(f'Statsmodels version  = {sts.__version__}')"
   ]
  }
 ],
 "metadata": {
  "kernelspec": {
   "display_name": "Python 3",
   "language": "python",
   "name": "python3"
  },
  "language_info": {
   "codemirror_mode": {
    "name": "ipython",
    "version": 3
   },
   "file_extension": ".py",
   "mimetype": "text/x-python",
   "name": "python",
   "nbconvert_exporter": "python",
   "pygments_lexer": "ipython3",
   "version": "3.6.7"
  }
 },
 "nbformat": 4,
 "nbformat_minor": 2
}
