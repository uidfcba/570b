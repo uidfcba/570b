{
 "cells": [
  {
   "cell_type": "markdown",
   "metadata": {},
   "source": [
    "# Module 7: Lesson 2\n",
    "\n",
    "-----\n",
    "\n",
    "\n",
    "## Introduction to Spatial Clustering\n",
    "\n",
    "This lesson introduces one of the most popular clustering algorithms, K-means. Given a value _K_, this algorithm finds the best _K_ cluster centers and assigns points to these cluster centers based on their distances.\n",
    "\n",
    "\n",
    "### Objectives\n",
    "\n",
    "By the end of this lesson, you will be able to\n",
    "\n",
    "- articulate the basic concepts behind spatial clustering algorithms,\n",
    "- explain how the k-Means algorithm works to identify clusters, and\n",
    "- apply the k-Means algorithm by using the scikit learn library to perform cluster analysis.\n",
    "\n",
    "### Time Estimate\n",
    "\n",
    "Approximately 2 hours.\n",
    "\n",
    "### Activities\n",
    "Reading: Learn about the [k-means clustering][ikm] algorithm and its application by using the scikit learn module in the _Introduction to K-Means Clustering_ blog article by Andrea Trevino on _datascience.com_\n",
    "\n",
    "Reading: Explore the visual interactive demo for the [K-means][vkm] clustering algorithm by Naftali Harris.\n",
    "\n",
    "Video: Watch the [Introduction to Spatial Clustering][kmcv] video, which will demonstrate \n",
    "\n",
    "Notebook: Read and complete the practice exercises in the [Introduction to Spatial Clustering][intro2kmc] notebook.\n",
    "\n",
    "------\n",
    "[ikm]: https://www.datascience.com/blog/introduction-to-k-means-clustering-algorithm-learn-data-science-tutorials\n",
    "[vkm]: https://www.naftaliharris.com/blog/visualizing-k-means-clustering/\n",
    "\n",
    "[kmcv]: https://mediaspace.illinois.edu/media/t/1_5bz6cr26\n",
    "[intro2kmc]: intro2km.ipynb "
   ]
  },
  {
   "cell_type": "markdown",
   "metadata": {
    "deletable": false,
    "editable": false
   },
   "source": [
    "**&copy; 2017: Robert J. Brunner at the University of Illinois.**\n",
    "\n",
    "This notebook is released under the [Creative Commons license CC BY-NC-SA 4.0][ll]. Any reproduction, adaptation, distribution, dissemination or making available of this notebook for commercial use is not allowed unless authorized in writing by the copyright holder.\n",
    "\n",
    "[ll]: https://creativecommons.org/licenses/by-nc-sa/4.0/legalcode "
   ]
  }
 ],
 "metadata": {
  "kernelspec": {
   "display_name": "Python 3",
   "language": "python",
   "name": "python3"
  },
  "language_info": {
   "codemirror_mode": {
    "name": "ipython",
    "version": 3
   },
   "file_extension": ".py",
   "mimetype": "text/x-python",
   "name": "python",
   "nbconvert_exporter": "python",
   "pygments_lexer": "ipython3",
   "version": "3.6.7"
  }
 },
 "nbformat": 4,
 "nbformat_minor": 2
}
