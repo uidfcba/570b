{
 "cells": [
  {
   "cell_type": "markdown",
   "metadata": {},
   "source": [
    "# Module 7: Lesson 1\n",
    "\n",
    "-----\n",
    "\n",
    "## Introduction to Clustering\n",
    "\n",
    "This lesson introduces the general concept of clustering, along with examples where it can be applied in business.\n",
    "\n",
    "### Objectives\n",
    "\n",
    "By the end of this lesson, you will\n",
    "\n",
    "- understand the basic concepts behind clustering,\n",
    "- be able to articulate the importance of clustering for business applications, and\n",
    "- be familiar with more advanced applications of clustering such as customer segmentation.\n",
    "\n",
    "### Time Estimate\n",
    "\n",
    "Approximately 1 hour.\n",
    "\n",
    "### Activities\n",
    "\n",
    "Reading: Read about performing [customer segmentation][csm] for more effective retail marketing in a blog article by Varda Tirosh at Optimove.\n",
    "\n",
    "Reading: Learn different ways that [clustering can be used by business][bcdm] in this short blog article at _Data Entry Outsourced_. \n",
    "\n",
    "Reading: Learn about performing clustering correctly in the [first blog article][cbd1] and the [second blog article][cbd2] by Tavish Srivastava at Analytics Vidhya.\n",
    "\n",
    "Video: Watch the [Introduction to Clustering ][icv] video, which will demonstrate review many of the basic concepts and applications for clustering.\n",
    "\n",
    "------\n",
    "\n",
    "[csm]: http://www.optimove.com/blog/customer-segmentation-for-more-effective-marketing\n",
    "\n",
    "[bcdm]: https://www.dataentryoutsourced.com/blog/how-businesses-can-use-clustering-in-data-mining/\n",
    "\n",
    "[cbd1]: https://www.analyticsvidhya.com/blog/2013/11/getting-clustering-right/\n",
    "[cbd2]: https://www.analyticsvidhya.com/blog/2013/11/getting-clustering-right-part-ii/\n",
    "\n",
    "[icv]: https://mediaspace.illinois.edu/media/t/1_9tl3do0d"
   ]
  },
  {
   "cell_type": "markdown",
   "metadata": {
    "deletable": false,
    "editable": false
   },
   "source": [
    "**&copy; 2017: Robert J. Brunner at the University of Illinois.**\n",
    "\n",
    "This notebook is released under the [Creative Commons license CC BY-NC-SA 4.0][ll]. Any reproduction, adaptation, distribution, dissemination or making available of this notebook for commercial use is not allowed unless authorized in writing by the copyright holder.\n",
    "\n",
    "[ll]: https://creativecommons.org/licenses/by-nc-sa/4.0/legalcode "
   ]
  }
 ],
 "metadata": {
  "kernelspec": {
   "display_name": "Python 3",
   "language": "python",
   "name": "python3"
  },
  "language_info": {
   "codemirror_mode": {
    "name": "ipython",
    "version": 3
   },
   "file_extension": ".py",
   "mimetype": "text/x-python",
   "name": "python",
   "nbconvert_exporter": "python",
   "pygments_lexer": "ipython3",
   "version": "3.6.7"
  }
 },
 "nbformat": 4,
 "nbformat_minor": 2
}
