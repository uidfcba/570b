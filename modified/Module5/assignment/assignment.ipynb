{
 "cells": [
  {
   "cell_type": "markdown",
   "metadata": {
    "deletable": false,
    "editable": false
   },
   "source": [
    "# Module 5 Assignment\n",
    "\n",
    "A few things you should keep in mind when working on assignments:\n",
    "\n",
    "1. Make sure you fill in any place that says `# YOUR CODE HERE`. Do not write your answer anywhere else other than where it says `# YOUR CODE HERE`. Anything you write elsewhere will be removed or overwritten by the autograder.\n",
    "2. Before you submit your assignment, make sure everything runs as expected. Go to the menubar, select Kernel, and restart the kernel and run all cells (Restart & Run all).\n",
    "3. Do not change the title (i.e. file name) of this notebook.\n",
    "4. Make sure that you save your work (in the menubar, select File → Save and CheckPoint).\n",
    "5. All work must be your own, if you do use any code from another source (such as a course notebook or a website) you need to properly cite the source.\n",
    "\n",
    "-----"
   ]
  },
  {
   "cell_type": "code",
   "execution_count": null,
   "metadata": {
    "deletable": false,
    "editable": false
   },
   "outputs": [],
   "source": [
    "import numpy as np\n",
    "import pandas as pd\n",
    "\n",
    "from sklearn.model_selection import train_test_split\n",
    "\n",
    "from nose.tools import assert_is_instance, assert_equal, assert_almost_equal\n",
    "import helper as hp"
   ]
  },
  {
   "cell_type": "markdown",
   "metadata": {
    "deletable": false,
    "editable": false
   },
   "source": [
    "-----\n",
    "\n",
    "## Problem 1: Reading in Breast Cancer Dataset\n",
    "\n",
    "For this problem, you will complete the `handle_data` function below to first load the data into the assignment notebook, before creating the features and labels to use for later classification tasks. For testing purposes, this function will be used to load the breast cancer data set, which has labels given by the `class` feature. Specifically, you must complete the following tasks:\n",
    "- Read in the dataset specified in the `file_name` parameter by using any method that you have learned in this course. The simplest (and recommended) approach is to use the Pandas module.\n",
    "- Create a NumPy array that only contains the labels (e.g., the `class` column).\n",
    "- Create a multidimensional NumPy array that contains all features except the label feature (e.g., all columns but the `class` column).\n",
    "- Return the feature and label arrays in order.\n",
    "\n",
    "-----"
   ]
  },
  {
   "cell_type": "code",
   "execution_count": null,
   "metadata": {
    "deletable": false,
    "nbgrader": {
     "checksum": "d55892394611927beaeb63fbe90750f2",
     "grade": false,
     "grade_id": "p1_answer",
     "locked": false,
     "schema_version": 1,
     "solution": true
    }
   },
   "outputs": [],
   "source": [
    "def handle_data(file_name):\n",
    "    '''\n",
    "    Load data from indicated file, and create and return feature and label arrays.\n",
    "    \n",
    "    Inputs\n",
    "    ---------\n",
    "    file_name: path to data file\n",
    "\n",
    "    Returns\n",
    "    -------\n",
    "    feature: A NumPy array containing the features\n",
    "    label: A NumPy array containing the labels\n",
    "    '''\n",
    "    ### YOUR CODE HERE"
   ]
  },
  {
   "cell_type": "code",
   "execution_count": null,
   "metadata": {
    "deletable": false,
    "editable": false,
    "nbgrader": {
     "checksum": "f3f0334ee919ea50e1decb1a8739083d",
     "grade": true,
     "grade_id": "p1_test",
     "locked": true,
     "points": 1,
     "schema_version": 1,
     "solution": false
    }
   },
   "outputs": [],
   "source": [
    "# Handle data\n",
    "X, y = handle_data('breast-cancer-wisconsin.data')\n",
    "\n",
    "# Checking type\n",
    "assert_equal(type(X), np.ndarray, \"Your features should be of type NumPy array\")\n",
    "assert_equal(type(y), np.ndarray, \"Your labels should be of type NumPy array\")\n",
    "\n",
    "# Checking shape\n",
    "assert_equal(X.shape[0], 683, \"You should have 683 labels not %s\"%X.shape[0])\n",
    "assert_equal(X.shape[1], 10, \"You should have 10 columns not %s\"%X.shape[1])\n",
    "assert_equal(y.shape[0], 683, \"You should have 683 labels not %s\"%y.shape[0])\n",
    "\n",
    "# Checking actual data\n",
    "assert_equal(X.tolist(), hp.X, msg=\"\")\n",
    "assert_equal(y.tolist(), hp.y, msg=\"\")"
   ]
  },
  {
   "cell_type": "markdown",
   "metadata": {
    "deletable": false,
    "editable": false
   },
   "source": [
    "-----\n",
    "\n",
    "## Problem 2: Preparing Data\n",
    "\n",
    "For this problem, you will extract feature and label arrays from their parent DataFrame. You will pre-process the features and labels to scale the features and encode the labels. Specifically, you must complete the following tasks:\n",
    "- Make a new Pandas DataFrame for the features, which contains all columns in the parent DataFrame, except for the label column, whose name is provided by the `label_name` parameter.\n",
    "- Make a Pandas Series that contains the label from the parent DataFrame, which is indicated by the column specified in the `label_name` parameter.\n",
    "- Transform the features DataFrame by using the [StandardScaler](http://scikit-learn.org/stable/modules/generated/sklearn.preprocessing.StandardScaler.html) object from the scikit learn library (use the default parameters) .\n",
    "- Transform the label Series by using the [LabelEncoder](http://scikit-learn.org/stable/modules/generated/sklearn.preprocessing.LabelEncoder.html) object from the scikit learn library (use the default parameters).\n",
    "- Return the Standardized Features and Encoded Labels, in this order.\n",
    "\n",
    "-----"
   ]
  },
  {
   "cell_type": "code",
   "execution_count": null,
   "metadata": {
    "deletable": false,
    "nbgrader": {
     "checksum": "6967c4e4935b7d6ca7c037d5c11af01d",
     "grade": false,
     "grade_id": "p2_answer",
     "locked": false,
     "schema_version": 1,
     "solution": true
    }
   },
   "outputs": [],
   "source": [
    "from sklearn.preprocessing import StandardScaler, LabelEncoder\n",
    "\n",
    "def prep_data(df, label_name):\n",
    "    \"\"\"\n",
    "    Prepares the features and labels contained in the DataFrame, df.\n",
    "    \n",
    "    Parameters\n",
    "    ----------\n",
    "    df: A DataFrame containing the data to process\n",
    "    label_name: string containing the name of the label column in the DataFrame, df\n",
    "    \n",
    "    Returns\n",
    "    -------\n",
    "    xx, yy:  NumPy arrays containing the scaled features and encoded labels, respectively\n",
    "    \"\"\"\n",
    "\n",
    "    ### YOUR CODE HERE\n",
    "    \n",
    "    return xx, yy"
   ]
  },
  {
   "cell_type": "code",
   "execution_count": null,
   "metadata": {
    "deletable": false,
    "editable": false,
    "nbgrader": {
     "checksum": "0ca22759f4ed1ac2b9c6027f6ec4557e",
     "grade": true,
     "grade_id": "p2_test",
     "locked": true,
     "points": 1,
     "schema_version": 1,
     "solution": false
    }
   },
   "outputs": [],
   "source": [
    "# Load Breast Cancer data set\n",
    "df = pd.read_csv('./breast-cancer-wisconsin.data')\n",
    "\n",
    "# Process data\n",
    "X, y = prep_data(df, label_name='class')\n",
    "\n",
    "# Test Processing function\n",
    "assert_equal(X.tolist(), hp.xx)\n",
    "assert_equal(y.tolist(), hp.yy)"
   ]
  },
  {
   "cell_type": "markdown",
   "metadata": {
    "deletable": false,
    "editable": false
   },
   "source": [
    "-----\n",
    "\n",
    "Now we prepare the data for classification by creating training and testing features and labels.\n",
    "\n",
    "-----"
   ]
  },
  {
   "cell_type": "code",
   "execution_count": null,
   "metadata": {
    "deletable": false,
    "editable": false
   },
   "outputs": [],
   "source": [
    "# Split data into training and testing\n",
    "X_train, X_test, y_train, y_test = train_test_split(X, y, test_size=0.25, random_state=0)"
   ]
  },
  {
   "cell_type": "markdown",
   "metadata": {
    "deletable": false,
    "editable": false
   },
   "source": [
    "-----\n",
    "\n",
    "## Problem 3: Gaussian Process Classification\n",
    "\n",
    "This problem requires that you complete the `gc` function below to perform Gaussian Process classification on the supplied training data, and return the score for this classifier when applied to the test data. Specifically, you must complete the following tasks:\n",
    "- Create a [`GaussianProcessClassifier`](http://scikit-learn.org/stable/modules/generated/sklearn.gaussian_process.GaussianProcessClassifier.html) using the default hyperparameters, except for the `random_state` parameter, which should be set to the `rs` parameter supplied to the `gc` function.\n",
    "- Fit your `GaussianProcessClassifier` estimator to the training features and labels.\n",
    "- Compute the mean accuracy by using this estimator for the test features and labels.\n",
    "- Return the mean accuracy.\n",
    "\n",
    "-----"
   ]
  },
  {
   "cell_type": "code",
   "execution_count": null,
   "metadata": {
    "deletable": false,
    "nbgrader": {
     "checksum": "4cac256007749cd4f334be62a7b36338",
     "grade": false,
     "grade_id": "p3_answer",
     "locked": false,
     "schema_version": 1,
     "solution": true
    }
   },
   "outputs": [],
   "source": [
    "from sklearn.gaussian_process import GaussianProcessClassifier\n",
    "\n",
    "def gc(X_train, X_test, y_train, y_test, rs=0):\n",
    "    '''\n",
    "    Creates and applies a Gaussian Process Classifier to training data and\n",
    "    returns the mean accuracy score for this estimator on testing data.\n",
    "    \n",
    "    Parameters\n",
    "    ----------\n",
    "    X_train: NumPy multi-dimensional array containing training features\n",
    "    X_test: NumPy multi-dimensional array containing testing features\n",
    "    y_train: NumPy array containing training labels\n",
    "    y_test: NumPy array containing testing labels\n",
    "    rs: random_state parameter for GPC estimator\n",
    "    \n",
    "    Returns\n",
    "    -------\n",
    "    floating point value containing the mean accuracy\n",
    "    '''\n",
    "    \n",
    "    ### YOUR CODE HERE"
   ]
  },
  {
   "cell_type": "code",
   "execution_count": null,
   "metadata": {
    "deletable": false,
    "editable": false,
    "nbgrader": {
     "checksum": "7553f1aac812d989c2484b8649597c41",
     "grade": true,
     "grade_id": "p3_test",
     "locked": true,
     "points": 1,
     "schema_version": 1,
     "solution": false
    }
   },
   "outputs": [],
   "source": [
    "# Compute Mean Accuracy\n",
    "score = gc(X_train, X_test, y_train, y_test, rs=0)\n",
    "\n",
    "# Test Mean Accuracy\n",
    "assert_almost_equal(score, 0.95906, places=2)"
   ]
  },
  {
   "cell_type": "markdown",
   "metadata": {
    "deletable": false,
    "editable": false
   },
   "source": [
    "**&copy; 2017: Robert J. Brunner at the University of Illinois.**\n",
    "\n",
    "This notebook is released under the [Creative Commons license CC BY-NC-SA 4.0][ll]. Any reproduction, adaptation, distribution, dissemination or making available of this notebook for commercial use is not allowed unless authorized in writing by the copyright holder.\n",
    "\n",
    "[ll]: https://creativecommons.org/licenses/by-nc-sa/4.0/legalcode "
   ]
  }
 ],
 "metadata": {
  "coursera": {
   "course_slug": "data-analytics-accountancy-2",
   "graded_item_id": "MIF41",
   "launcher_item_id": "m5_assignment"
  },
  "kernelspec": {
   "display_name": "Python 3",
   "language": "python",
   "name": "python3"
  },
  "language_info": {
   "codemirror_mode": {
    "name": "ipython",
    "version": 3
   },
   "file_extension": ".py",
   "mimetype": "text/x-python",
   "name": "python",
   "nbconvert_exporter": "python",
   "pygments_lexer": "ipython3",
   "version": "3.6.7"
  }
 },
 "nbformat": 4,
 "nbformat_minor": 2
}
