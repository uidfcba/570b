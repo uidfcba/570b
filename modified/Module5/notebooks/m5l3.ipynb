{
 "cells": [
  {
   "cell_type": "markdown",
   "metadata": {},
   "source": [
    "# Module 5: Lesson 3\n",
    "\n",
    "-----\n",
    "\n",
    "##  Introduction to Gaussian Processes\n",
    "\n",
    "This lesson introduces Gaussian Processes, in which a set of Gaussian (or Normal) distributions are used to infer the underlying functional relationship among a set of data. \n",
    "\n",
    "### Objectives\n",
    "\n",
    "By the end of this lesson, you will be able to\n",
    "\n",
    "- articulate the basic concepts underlying a Gaussian Process,\n",
    "- explain the probabilistic underpinning behind a Gaussian Process, and\n",
    "- apply Gaussian Process by using the scikit learn library.\n",
    "\n",
    "### Time Estimate\n",
    "\n",
    "Approximately 2 hours.\n",
    "\n",
    "### Activities\n",
    "\n",
    "Reading: Learn about the [Gaussian Process algorithm][cfgp] and its application by using the scikit learn module in the  blog article _Fitting Gaussian Process Models in Python_ by Chris Fonnesbeck on the Domino Data lab website. You can skip the Introductory _Building models with Gaussians_ section, which is optional. Do not read the GPflow or PyMC3 sections, which describe other Python modules.\n",
    "\n",
    "Reading: Interact with the [Gaussian process regression][vgp] website by Pradeep Ranganathan to learn how the addition of new data points constrict a Gaussian process.\n",
    "\n",
    "Video: Watch the [Introduction to Gaussian Processes][igpv] video, which will introduce Gaussian Processes and demonstrate how they can be used for machine learning.\n",
    "\n",
    "Notebook: Read and complete the practice exercises in the [Introduction to Gaussian Processes][intro2gp] notebook.\n",
    "\n",
    "------\n",
    "[vgp]: http://rpradeep.webhop.net/gpr/\n",
    "[cfgp]: https://blog.dominodatalab.com/fitting-gaussian-process-models-python/\n",
    "[igpv]: https://mediaspace.illinois.edu/media/t/1_dhwta86b\n",
    "[intro2gp]: intro2gp.ipynb \n",
    "\n"
   ]
  },
  {
   "cell_type": "markdown",
   "metadata": {
    "deletable": false,
    "editable": false
   },
   "source": [
    "**&copy; 2017: Robert J. Brunner at the University of Illinois.**\n",
    "\n",
    "This notebook is released under the [Creative Commons license CC BY-NC-SA 4.0][ll]. Any reproduction, adaptation, distribution, dissemination or making available of this notebook for commercial use is not allowed unless authorized in writing by the copyright holder.\n",
    "\n",
    "[ll]: https://creativecommons.org/licenses/by-nc-sa/4.0/legalcode "
   ]
  }
 ],
 "metadata": {
  "kernelspec": {
   "display_name": "Python 3",
   "language": "python",
   "name": "python3"
  },
  "language_info": {
   "codemirror_mode": {
    "name": "ipython",
    "version": 3
   },
   "file_extension": ".py",
   "mimetype": "text/x-python",
   "name": "python",
   "nbconvert_exporter": "python",
   "pygments_lexer": "ipython3",
   "version": "3.6.7"
  }
 },
 "nbformat": 4,
 "nbformat_minor": 2
}
