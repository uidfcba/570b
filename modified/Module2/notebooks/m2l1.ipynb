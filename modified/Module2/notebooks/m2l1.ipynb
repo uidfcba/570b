{
 "cells": [
  {
   "cell_type": "markdown",
   "metadata": {},
   "source": [
    "# Module 2: Lesson 1\n",
    "\n",
    "-----\n",
    "\n",
    "## Digital Supply Chains\n",
    "\n",
    "This lesson introduces the general concept of machine learning and discusses the use of these fundamental algorithms in business and accountancy.\n",
    "\n",
    "### Objectives\n",
    "\n",
    "By the end of this lesson, you will understand how\n",
    "\n",
    "- supply chains are integral to modern business,\n",
    "- supply chains have become highly digitized, and\n",
    "- future technological changes will continue to drive innovation in supply chain management.\n",
    "\n",
    "### Time Estimate\n",
    "\n",
    "Approximately 1 hour.\n",
    "\n",
    "### Activities\n",
    "\n",
    "Reading: [Read about ][dsc] the _Digital supply chain: it’s all about that data_. Specifically, download and read the [full report][fr]\n",
    "\n",
    "Video: Watch the [introduction to fundamental algorithms ][ifav] video, which will review how classification and regression are applied to problems in business and accountancy. \n",
    "\n",
    "------\n",
    "\n",
    "[dsc]:  http://www.ey.com/gl/en/industries/technology/ey-digital-supply-chain-its-all-about-that-data\n",
    "\n",
    "[fr]: http://www.ey.com/Publication/vwLUAssets/Digital_supply_chain_-_its_all_about_the_data/$File/EY-digital-supply-chain-its-all-about-that-data-final.pdf\n",
    "\n",
    "[ifav]: https://mediaspace.illinois.edu/media/t/1_kqmquet9"
   ]
  },
  {
   "cell_type": "markdown",
   "metadata": {
    "deletable": false,
    "editable": false
   },
   "source": [
    "**&copy; 2017: Robert J. Brunner at the University of Illinois.**\n",
    "\n",
    "This notebook is released under the [Creative Commons license CC BY-NC-SA 4.0][ll]. Any reproduction, adaptation, distribution, dissemination or making available of this notebook for commercial use is not allowed unless authorized in writing by the copyright holder.\n",
    "\n",
    "[ll]: https://creativecommons.org/licenses/by-nc-sa/4.0/legalcode "
   ]
  }
 ],
 "metadata": {
  "kernelspec": {
   "display_name": "Python 3",
   "language": "python",
   "name": "python3"
  },
  "language_info": {
   "codemirror_mode": {
    "name": "ipython",
    "version": 3
   },
   "file_extension": ".py",
   "mimetype": "text/x-python",
   "name": "python",
   "nbconvert_exporter": "python",
   "pygments_lexer": "ipython3",
   "version": "3.7.3"
  }
 },
 "nbformat": 4,
 "nbformat_minor": 2
}
