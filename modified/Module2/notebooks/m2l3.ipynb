{
 "cells": [
  {
   "cell_type": "markdown",
   "metadata": {},
   "source": [
    "# Module 2: Lesson 3\n",
    "\n",
    "-----\n",
    "\n",
    "## Introduction to Decision Trees\n",
    "\n",
    "This lesson introduces Decision Trees, which are a powerful algorithm for both classification and regression. Decision trees are simple to build and visualize, and thus can be useful in explaining why a classification or regression model makes specific predictions.\n",
    "\n",
    "### Objectives\n",
    "\n",
    "By the end of this lesson, you will be be able to\n",
    "\n",
    "- articulate the basic concepts behind the decision tree algorithm,\n",
    "- create and use a decision tree by using the scikit learn library, and\n",
    "- apply this algorithm successfully to specific problem categories.\n",
    "\n",
    "### Time Estimate\n",
    "\n",
    "Approximately 2 hours.\n",
    "\n",
    "### Activities\n",
    "\n",
    "Reading: Learn about the machine learning, in particular with [decision tree][viml] by interacting with the _visual introduction to machine learning_ website by R2D3.\n",
    "\n",
    "Video: Watch the [Introduction to Decision Trees][idtv] video, which will demonstrate \n",
    "\n",
    "Notebook: Read and complete the practice exercises in the [Introduction to Decision Trees][intro2dt] notebook.\n",
    "\n",
    "------\n",
    "\n",
    "[viml]: http://www.r2d3.us/visual-intro-to-machine-learning-part-1/\n",
    "\n",
    "[idtv]: https://mediaspace.illinois.edu/media/t/1_bcvgzoop\n",
    "\n",
    "[intro2dt]: intro2dt.ipynb"
   ]
  },
  {
   "cell_type": "markdown",
   "metadata": {
    "deletable": false,
    "editable": false
   },
   "source": [
    "**&copy; 2017: Robert J. Brunner at the University of Illinois.**\n",
    "\n",
    "This notebook is released under the [Creative Commons license CC BY-NC-SA 4.0][ll]. Any reproduction, adaptation, distribution, dissemination or making available of this notebook for commercial use is not allowed unless authorized in writing by the copyright holder.\n",
    "\n",
    "[ll]: https://creativecommons.org/licenses/by-nc-sa/4.0/legalcode "
   ]
  }
 ],
 "metadata": {
  "kernelspec": {
   "display_name": "Python 3",
   "language": "python",
   "name": "python3"
  },
  "language_info": {
   "codemirror_mode": {
    "name": "ipython",
    "version": 3
   },
   "file_extension": ".py",
   "mimetype": "text/x-python",
   "name": "python",
   "nbconvert_exporter": "python",
   "pygments_lexer": "ipython3",
   "version": "3.7.3"
  }
 },
 "nbformat": 4,
 "nbformat_minor": 2
}
