{
 "cells": [
  {
   "cell_type": "markdown",
   "metadata": {},
   "source": [
    "# Module 6: Lesson 2\n",
    "\n",
    "-----\n",
    "\n",
    "##  Introduction to Feature Selection\n",
    "\n",
    "This lesson explores feature selection, which is a technique for improving the performance of machine learning algorithms by focusing on those features that contain the most predictive power. A side-note to this main point is that feature selection also has important ethical considerations when building models that are designed to avoid discrimination.\n",
    "\n",
    "### Objectives\n",
    "\n",
    "By the end of this lesson, you will be able to:\n",
    "\n",
    "- explain the benefits of feature selection,\n",
    "- articulate the impact of feature selection on model application,\n",
    "- explain the differences between feature selection techniques such as select k best, select percentiles, and recursive feature extraction, and\n",
    "- apply feature selection by using the scikit learn library.\n",
    "\n",
    "### Time Estimate\n",
    "\n",
    "Approximately 2 hours.\n",
    "\n",
    "### Activities \n",
    "\n",
    "Video: Watch the [introduction to feature selection][fsv] video, which will demonstrate simple techniques for feature selection including techniques for algorithmically  determining the _best_ features and quantifying the importance of specific features.\n",
    "\n",
    "Notebook: Read and complete the practice exercises in the [Introduction to feature selection][intro2fs] notebook.\n",
    "\n",
    "------\n",
    "\n",
    "[fsv]:  https://mediaspace.illinois.edu/media/t/1_fjfswhzr\n",
    "[intro2fs]: intro2fs.ipynb"
   ]
  },
  {
   "cell_type": "markdown",
   "metadata": {
    "deletable": false,
    "editable": false
   },
   "source": [
    "**&copy; 2017: Robert J. Brunner at the University of Illinois.**\n",
    "\n",
    "This notebook is released under the [Creative Commons license CC BY-NC-SA 4.0][ll]. Any reproduction, adaptation, distribution, dissemination or making available of this notebook for commercial use is not allowed unless authorized in writing by the copyright holder.\n",
    "\n",
    "[ll]: https://creativecommons.org/licenses/by-nc-sa/4.0/legalcode "
   ]
  }
 ],
 "metadata": {
  "kernelspec": {
   "display_name": "Python 3",
   "language": "python",
   "name": "python3"
  },
  "language_info": {
   "codemirror_mode": {
    "name": "ipython",
    "version": 3
   },
   "file_extension": ".py",
   "mimetype": "text/x-python",
   "name": "python",
   "nbconvert_exporter": "python",
   "pygments_lexer": "ipython3",
   "version": "3.6.7"
  }
 },
 "nbformat": 4,
 "nbformat_minor": 2
}
