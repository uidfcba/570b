{
 "cells": [
  {
   "cell_type": "markdown",
   "metadata": {},
   "source": [
    "# Module 6: Lesson 3\n",
    "\n",
    "-----\n",
    "\n",
    "## Introduction to Dimension Reduction\n",
    "\n",
    "This lesson introduces dimension reduction, which is an important technique for reducing the number of features used to build a machine learning model. With these techniques, such as principal component analysis, a smaller number of new features are created from the original set of features.\n",
    "\n",
    "### Objectives\n",
    "\n",
    "By the end of this lesson, you will be be able to\n",
    "\n",
    "- explain how the principal component analysis algorithm operates,\n",
    "- explain the relationship between PCA components and explained variance, and\n",
    "- apply the PCA algorithm by using the scikit learn library.\n",
    "\n",
    "### Time Estimate\n",
    "\n",
    "Approximately 2 hours.\n",
    "\n",
    "### Activities\n",
    "\n",
    "Reading: Visually explore [Principal Component Analysis][vpca] by using the website constructed by setosa.io.\n",
    "\n",
    "Reading: Learn about the [Principal Component Analysis][jpca] algorithm and its application by using the scikit learn module in Python Data Science Handbook by Jake VanderPlas. You can skip the _Example: Eigenfaces_ section, which is optional.\n",
    "\n",
    "Video: Watch the [introduction to dimension reduction][idrv] video, which will demonstrate the basic concepts behind this technique.\n",
    "\n",
    "Notebook: Read and complete the practice exercises in the [Introduction to dimension reduction][intro2dr] notebook.\n",
    "\n",
    "------\n",
    "[vpca]: http://setosa.io/ev/principal-component-analysis/\n",
    "\n",
    "[jpca]: http://nbviewer.jupyter.org/github/jakevdp/PythonDataScienceHandbook/blob/master/notebooks/05.09-Principal-Component-Analysis.ipynb\n",
    "[idrv]: https://mediaspace.illinois.edu/media/t/1_78dtid0o\n",
    "[intro2dr]: intro2dr.ipynb"
   ]
  },
  {
   "cell_type": "markdown",
   "metadata": {
    "deletable": false,
    "editable": false
   },
   "source": [
    "**&copy; 2017: Robert J. Brunner at the University of Illinois.**\n",
    "\n",
    "This notebook is released under the [Creative Commons license CC BY-NC-SA 4.0][ll]. Any reproduction, adaptation, distribution, dissemination or making available of this notebook for commercial use is not allowed unless authorized in writing by the copyright holder.\n",
    "\n",
    "[ll]: https://creativecommons.org/licenses/by-nc-sa/4.0/legalcode "
   ]
  }
 ],
 "metadata": {
  "kernelspec": {
   "display_name": "Python 3",
   "language": "python",
   "name": "python3"
  },
  "language_info": {
   "codemirror_mode": {
    "name": "ipython",
    "version": 3
   },
   "file_extension": ".py",
   "mimetype": "text/x-python",
   "name": "python",
   "nbconvert_exporter": "python",
   "pygments_lexer": "ipython3",
   "version": "3.6.7"
  }
 },
 "nbformat": 4,
 "nbformat_minor": 2
}
