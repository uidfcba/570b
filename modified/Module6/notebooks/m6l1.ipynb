{
 "cells": [
  {
   "cell_type": "markdown",
   "metadata": {},
   "source": [
    "# Module 6: Lesson 1\n",
    "\n",
    "-----\n",
    "\n",
    "## Practical Concerns with Machine Learning\t\n",
    "\n",
    "This lesson explores practical concerns with machine learning, with an emphasis on ethical issues that arise as machines increasingly make more decisions that affect our daily lives.\n",
    "\n",
    "\n",
    "### Objectives\n",
    "\n",
    "By the end of this lesson, you will be able to\n",
    "\n",
    "- discuss the role of ethics in machine learning,\n",
    "- explain how ethical concerns can be addressed in machine learning applications, and\n",
    "- articulate how humans are involved in the development of artificial intelligence.\n",
    "\n",
    "### Time Estimate\n",
    "\n",
    "Approximately 1 hour.\n",
    "\n",
    "### Activities\n",
    "\n",
    "Reading: Read about questions surrounding the [inclusion of ethics][rie] in the advancement of machine learning.\n",
    "\n",
    "Reading: Read about [ethics in machine learning][reml] and how the inclusion of ethics in machine learning can be improved.\n",
    "\n",
    "Reading: Explore the challenges of [integrating ethics in artificial intelligence and robots][reair].\n",
    "\n",
    "Reading: Learn about how the challenges in [artificial intelligence and human decision making][raih].\n",
    "\n",
    "Video: Watch the [practical concerns in ML ][pcmlv] video, which will discuss some of the practical concerns with machine learning. \n",
    "\n",
    "------\n",
    "[rie]: https://blogs.voanews.com/techtonics/2017/06/09/ai-ethics-missing-as-machine-learning-advances/\n",
    "\n",
    "[reml]: https://medium.com/towards-data-science/ethics-in-machine-learning-9fa5b1aadc12\n",
    "\n",
    "[reair]: http://www.nature.com/news/machine-ethics-the-robot-s-dilemma-1.17881\n",
    "\n",
    "[raih]: http://blog.practicalethics.ox.ac.uk/2013/08/would-you-hand-over-a-moral-decision-to-a-machine-why-not-moral-outsourcing-and-artificial-intelligence/\n",
    "\n",
    "[pcmlv]: https://mediaspace.illinois.edu/media/t/1_3z13vkj9"
   ]
  },
  {
   "cell_type": "markdown",
   "metadata": {
    "deletable": false,
    "editable": false
   },
   "source": [
    "**&copy; 2017: Robert J. Brunner at the University of Illinois.**\n",
    "\n",
    "This notebook is released under the [Creative Commons license CC BY-NC-SA 4.0][ll]. Any reproduction, adaptation, distribution, dissemination or making available of this notebook for commercial use is not allowed unless authorized in writing by the copyright holder.\n",
    "\n",
    "[ll]: https://creativecommons.org/licenses/by-nc-sa/4.0/legalcode "
   ]
  }
 ],
 "metadata": {
  "kernelspec": {
   "display_name": "Python 3",
   "language": "python",
   "name": "python3"
  },
  "language_info": {
   "codemirror_mode": {
    "name": "ipython",
    "version": 3
   },
   "file_extension": ".py",
   "mimetype": "text/x-python",
   "name": "python",
   "nbconvert_exporter": "python",
   "pygments_lexer": "ipython3",
   "version": "3.6.7"
  }
 },
 "nbformat": 4,
 "nbformat_minor": 2
}
