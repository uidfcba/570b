{
 "cells": [
  {
   "cell_type": "code",
   "execution_count": 1,
   "metadata": {},
   "outputs": [
    {
     "data": {
      "text/markdown": [
       "# University of Illinois-Deloitte Foundation Center for Business Analytics\n",
       "\n",
       "-----\n",
       "\n",
       "## Second Course in Foundations of Data Analytics\n",
       "\n",
       "------\n",
       "\n",
       "### [Module #1: Introduction to Machine Learning][m1]\n",
       "\n",
       "1. Reading: Machine Learning in Business /Accounting\n",
       "2. Notebook overview of Machine learning:\n",
       "3. Linear Regression as an ML problem\n",
       "4. k-NN Algorithm\n",
       "\n",
       "### [Module #2: Introduction to Classification][m2]\n",
       "\n",
       "1. Reading: Classification in Business /Accounting\n",
       "2. Naive Bayes for classification\n",
       "3. Logistic Regression\n",
       "4. SVM for classification\n",
       "\n",
       "### [Module #3: Introduction to Regression][m3]\n",
       "\n",
       "1. Reading: Regression in Business /Accounting\n",
       "2. SVM for regression\n",
       "3. Decision Trees\n",
       "4. Gaussian Processes\n",
       "\n",
       "### [Module #4: Practical Concepts][m4]\n",
       "\n",
       "1. Reading: Production ML in Business /Accounting\n",
       "2. Ensemble Learning: Bagging, Random Forests\n",
       "3. Ensemble Learning: Boosting, XGBoost, Adaboost\n",
       "4. Pipelines\n",
       "\n",
       "### [Module #5: Overfitting & Regularization][m5]\n",
       "\n",
       "1. Reading: Overfitting in Business /Accounting\n",
       "2. Overfitting:\n",
       "3. Model Selection via Cross-Validation\n",
       "4. Regularization\n",
       "\n",
       "### [Module #6: Feature Engineering][m6]\n",
       "\n",
       "1. Reading: ML Ethics in Business /Accounting\n",
       "2. Feature Selection: \n",
       "3. Dimension Reduction:\n",
       "4. Manifold Learning\n",
       "\n",
       "### [Module #7:  Introduction to Clustering][m7]\n",
       "\n",
       "1. Reading: Clustering in Business /Accounting\n",
       "2. Dendograms & K-Means\n",
       "3. DBSCAN- Density based\n",
       "4. Mixture Models\n",
       "\n",
       "### [Module #8: Introduction to Anomaly Detection][m8]\n",
       "\n",
       "1. Reading: Anomaly Detection (Fraud?) in Business /Accounting\n",
       "2. Statistical Outlier Detection\n",
       "3. ML Outlier Detection\n",
       "\n",
       "-----\n",
       "\n",
       "[m1]: Module1/index.ipynb\n",
       "[m2]: Module2/index.ipynb\n",
       "[m3]: Module3/index.ipynb\n",
       "[m4]: Module4/index.ipynb\n",
       "[m5]: Module5/index.ipynb\n",
       "[m6]: Module6/index.ipynb\n",
       "[m7]: Module7/index.ipynb\n",
       "[m8]: Module8/index.ipynb"
      ],
      "text/plain": [
       "<IPython.core.display.Markdown object>"
      ]
     },
     "metadata": {},
     "output_type": "display_data"
    }
   ],
   "source": [
    "from IPython.display import display, Markdown\n",
    "\n",
    "with open('Readme.md', 'r') as fin:\n",
    "    rme = fin.read()\n",
    "\n",
    "display(Markdown(rme))"
   ]
  },
  {
   "cell_type": "markdown",
   "metadata": {
    "deletable": false,
    "editable": false
   },
   "source": [
    "**&copy; 2017: Robert J. Brunner at the University of Illinois.**\n",
    "\n",
    "This notebook is released under the [Creative Commons license CC BY-NC-SA 4.0][ll]. Any reproduction, adaptation, distribution, dissemination or making available of this notebook for commercial use is not allowed unless authorized in writing by the copyright holder.\n",
    "\n",
    "[ll]: https://creativecommons.org/licenses/by-nc-sa/4.0/legalcode"
   ]
  }
 ],
 "metadata": {
  "kernelspec": {
   "display_name": "Python 3",
   "language": "python",
   "name": "python3"
  },
  "language_info": {
   "codemirror_mode": {
    "name": "ipython",
    "version": 3
   },
   "file_extension": ".py",
   "mimetype": "text/x-python",
   "name": "python",
   "nbconvert_exporter": "python",
   "pygments_lexer": "ipython3",
   "version": "3.6.7"
  }
 },
 "nbformat": 4,
 "nbformat_minor": 2
}
