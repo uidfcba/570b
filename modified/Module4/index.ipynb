{
 "cells": [
  {
   "cell_type": "markdown",
   "metadata": {},
   "source": [
    "# Module 4: Overfitting and Regularization\n",
    "\n",
    "This module introduces the concept of regularization, problems it can cause in machine learning analyses, and techniques to overcome it. First, the basic concept of overfitting is presented along with ways to identify its occurrence. Next, the technique of cross-validation is introduced, which can mitigate the likelihood that overfitting can occur. Next, the use of cross-validation to identify the optimal parameters for a machine learning algorithm trained on a given data set is presented. Finally, the concept of regularization, where an additional penalty term is applied when determining the best machine learning model parameters, is introduced and demonstrated for different regression and classification algorithms.\n",
    "\n",
    "## Learning Objectives\n",
    "\n",
    "#### By the end of this module, you should be able to:\n",
    "\n",
    "- articulate the issue of overfitting and explain how it can negatively impact a machine learning analysis,\n",
    "- explain the bias-variance tradeoff and its relationship to overfitting,\n",
    "- employ different cross-validation techniques to mitigate the impact of overfitting,\n",
    "- use cross-validation to select optimal model parameters when determining the best machine learning model, and\n",
    "- employ regularization to generate improve machine learning models.\n",
    "\n",
    "### Activities and Assignments\n",
    "\n",
    "| Activities and Assignments               | Time Estimate | Deadline | Points |\n",
    "| :--------------------------------------- | ------------- | --------- | -----: |\n",
    "| **[Module 4 Overview Video][wv]**        | 10 Minutes    | N/A   |    N/A |\n",
    "| **[Module 4 Lesson 1: Introduction to Overfitting][nb1]** | 1 Hour        | N/A  |    N/A |\n",
    "| **[Module 4 Lesson 2: Introduction to Cross-Validation][nb2]** | 2 Hours       | N/A  |    N/A |\n",
    "| **[Module 4 Lesson 3: Introduction to Model-Selection][nb3]** | 2 Hours       | N/A  |    N/A |\n",
    "| **[Module 4 Lesson 4: Introduction to Regularization][nb4]** | 2 Hours       | N/A  |    N/A |\n",
    "| **[Module 4 Assignment][ma]**                    | 2 Hours   | N/A   |  N/A |\n",
    "\n",
    "----------\n",
    "\n",
    "[nb1]: notebooks/m4l1.ipynb\n",
    "[nb2]: notebooks/m4l2.ipynb\n",
    "[nb3]: notebooks/m4l3.ipynb\n",
    "[nb4]: notebooks/m4l4.ipynb\n",
    "\n",
    "[wv]: https://mediaspace.illinois.edu/media/t/1_av629ez1\n",
    "[ma]: assignment/assignment.ipynb"
   ]
  },
  {
   "cell_type": "markdown",
   "metadata": {
    "deletable": false,
    "editable": false
   },
   "source": [
    "**&copy; 2017: Robert J. Brunner at the University of Illinois.**\n",
    "\n",
    "This notebook is released under the [Creative Commons license CC BY-NC-SA 4.0][ll]. Any reproduction, adaptation, distribution, dissemination or making available of this notebook for commercial use is not allowed unless authorized in writing by the copyright holder.\n",
    "\n",
    "[ll]: https://creativecommons.org/licenses/by-nc-sa/4.0/legalcode "
   ]
  }
 ],
 "metadata": {
  "kernelspec": {
   "display_name": "Python 3",
   "language": "python",
   "name": "python3"
  },
  "language_info": {
   "codemirror_mode": {
    "name": "ipython",
    "version": 3
   },
   "file_extension": ".py",
   "mimetype": "text/x-python",
   "name": "python",
   "nbconvert_exporter": "python",
   "pygments_lexer": "ipython3",
   "version": "3.6.7"
  }
 },
 "nbformat": 4,
 "nbformat_minor": 2
}
