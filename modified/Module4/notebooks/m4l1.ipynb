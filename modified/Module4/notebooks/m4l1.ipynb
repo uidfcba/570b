{
 "cells": [
  {
   "cell_type": "markdown",
   "metadata": {},
   "source": [
    "# Module 4: Lesson 1\n",
    "\n",
    "-----\n",
    "\n",
    "## Introduction to Overfitting\n",
    "\n",
    "This lesson introduces the general concept of overfitting, with an emphasis on why it is bad and issues that it can produce if left untreated.\n",
    "\n",
    "### Objectives\n",
    "\n",
    "By the end of this lesson, you will be able to\n",
    "\n",
    "- articulate the concept of overfitting, and\n",
    "- explain why overfitting can cause problems when constructing and applying models to data.\n",
    "\n",
    "### Time Estimate\n",
    "\n",
    "Approximately 1 hour.\n",
    "\n",
    "### Activities\n",
    "\n",
    "Reading: Read about the [problems data][rdp] can cause when the data are misused.\n",
    "\n",
    "Reading: Learn about [overfitting][rof] from the excellent discussion on Wikipedia.\n",
    "\n",
    "Reading: Learn about [overfitting][xof] with the simple demonstration using US Presidential Election cartoon from XKCD.\n",
    "\n",
    "Reading: Read about [different concerns with overfitting][kof] with this article on KDNuggets website by John Langford (with updates by Gregory Piatetsky).\n",
    "\n",
    "Video: Watch the [Introduction to Overfitting ][ofv] video, which will demonstrate overfitting and discuss problems that are associated with it.\n",
    "\n",
    "------\n",
    "\n",
    "[rof]: https://en.wikipedia.org/wiki/Overfitting\n",
    "\n",
    "[xof]: https://xkcd.com/1122/\n",
    "\n",
    "[kof]: http://www.kdnuggets.com/2015/01/clever-methods-overfitting-avoid.html\n",
    "\n",
    "[rdp]: https://www.inc.com/greg-satell/is-big-data-doing-more-harm-then-good.html\n",
    "\n",
    "[ofv]: https://mediaspace.illinois.edu/media/t/1_kpvyluzo"
   ]
  },
  {
   "cell_type": "markdown",
   "metadata": {
    "deletable": false,
    "editable": false
   },
   "source": [
    "**&copy; 2017: Robert J. Brunner at the University of Illinois.**\n",
    "\n",
    "This notebook is released under the [Creative Commons license CC BY-NC-SA 4.0][ll]. Any reproduction, adaptation, distribution, dissemination or making available of this notebook for commercial use is not allowed unless authorized in writing by the copyright holder.\n",
    "\n",
    "[ll]: https://creativecommons.org/licenses/by-nc-sa/4.0/legalcode "
   ]
  }
 ],
 "metadata": {
  "kernelspec": {
   "display_name": "Python 3",
   "language": "python",
   "name": "python3"
  },
  "language_info": {
   "codemirror_mode": {
    "name": "ipython",
    "version": 3
   },
   "file_extension": ".py",
   "mimetype": "text/x-python",
   "name": "python",
   "nbconvert_exporter": "python",
   "pygments_lexer": "ipython3",
   "version": "3.6.7"
  }
 },
 "nbformat": 4,
 "nbformat_minor": 2
}
