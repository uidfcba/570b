{
 "cells": [
  {
   "cell_type": "markdown",
   "metadata": {},
   "source": [
    "# Module 4: Lesson 3\n",
    "\n",
    "-----\n",
    "\n",
    "## Introduction to Model-Selection\n",
    "\n",
    "This lesson introduces model selection via cross-validation, which allows us to determine the optimal parameters for our selected machine learning algorithm while minimizing the effects of overfitting. \n",
    "\n",
    "### Objectives\n",
    "\n",
    "By the end of this lesson, you will be be able to\n",
    "\n",
    "- explain the concepts behind grid-search,\n",
    "- articulate how cross-validation can be used to select model hyperparameters, and\n",
    "- apply grid search cross-validation by using the scikit learn library.\n",
    "\n",
    "### Time Estimate\n",
    "\n",
    "Approximately 2 hours.\n",
    "\n",
    "### Activities\n",
    "\n",
    "Video: Watch the [Introduction to Model Selection][imsv] video, which will discuss a number of different approaches for identifying the optimal model parameters.\n",
    "\n",
    "Reading: Read how [machine learning can amplify biases][der] in the training data to understand the ethical implications of machine learning.\n",
    "\n",
    "Notebook: Read and complete the practice exercises in the [Introduction to Model Selection][intro2ms] notebook.\n",
    "\n",
    "------\n",
    "[der]: https://www.wired.com/story/machines-taught-by-photos-learn-a-sexist-view-of-women\n",
    "[imsv]: https://mediaspace.illinois.edu/media/t/1_0d8zfo52\n",
    "[intro2ms]: intro2ms.ipynb"
   ]
  },
  {
   "cell_type": "markdown",
   "metadata": {
    "deletable": false,
    "editable": false
   },
   "source": [
    "**&copy; 2017: Robert J. Brunner at the University of Illinois.**\n",
    "\n",
    "This notebook is released under the [Creative Commons license CC BY-NC-SA 4.0][ll]. Any reproduction, adaptation, distribution, dissemination or making available of this notebook for commercial use is not allowed unless authorized in writing by the copyright holder.\n",
    "\n",
    "[ll]: https://creativecommons.org/licenses/by-nc-sa/4.0/legalcode "
   ]
  }
 ],
 "metadata": {
  "kernelspec": {
   "display_name": "Python 3",
   "language": "python",
   "name": "python3"
  },
  "language_info": {
   "codemirror_mode": {
    "name": "ipython",
    "version": 3
   },
   "file_extension": ".py",
   "mimetype": "text/x-python",
   "name": "python",
   "nbconvert_exporter": "python",
   "pygments_lexer": "ipython3",
   "version": "3.6.7"
  }
 },
 "nbformat": 4,
 "nbformat_minor": 2
}
