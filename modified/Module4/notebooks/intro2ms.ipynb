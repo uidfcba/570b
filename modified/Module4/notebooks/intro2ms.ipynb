{
 "cells": [
  {
   "cell_type": "markdown",
   "metadata": {},
   "source": [
    "# Introduction to Model Selection\n",
    "\n",
    "-----"
   ]
  },
  {
   "cell_type": "markdown",
   "metadata": {},
   "source": [
    "With the growth of machine learning, there is an ever growing list of algorithms that can be used to model data. In previous notebooks, we have introduced many of the most popular machine learning algorithms, including linear and logistic regression, support vector machine, decision trees, k-nearest neighbors, and ensemble techniques like random forest and gradient boosted decision trees. In addition, these algorithms all have their own set of hyperparameters whose values, for optimal performance, must be carefully selected. \n",
    "\n",
    "As a result, selecting the best model and associated set of hyperparameters can be a daunting task. In this notebook, we explore the topic of [**Model Selection**][skms] by first manually evaluating one hyperparameter for one machine learning algorithm on a specific data set. This will introduce the basic concepts required to perform model selection, before we move into more automated techniques. Following this, we will look at grid searches to find the best combinations of multiple hyperparameters. Finally, we will look at additional model selection techniques such as random hyperparameter searches and nested hyperparameter searches. \n",
    "\n",
    "While we do not demonstrate them in this notebook, certain algorithms provide [model specific cross-validation][skmscv] hyperparameter searches, including linear and logistic regression methods, or [out-of-bag estimates][skoob] for hyperparameters such as random forests and gradient boosted decision trees.\n",
    "\n",
    "-----\n",
    "[skms]: http://scikit-learn.org/stable/modules/grid_search.html\n",
    "\n",
    "\n",
    "[skmscv]: http://scikit-learn.org/stable/modules/grid_search.html#model-specific-cross-validation\n",
    "[skoob]: http://scikit-learn.org/stable/modules/grid_search.html#out-of-bag-estimates"
   ]
  },
  {
   "cell_type": "markdown",
   "metadata": {},
   "source": [
    "## Table of Contents\n",
    "\n",
    "[Model Selection](#ModelSelection)\n",
    "\n",
    "[Grid Search](#Grid-Search)\n",
    "\n",
    "- [Multi-Dimensional Grid Search](#Multi-Dimensional-Grid-Search)\n",
    "- [Parameter Grid](#Parameter-Grid)\n",
    "\n",
    "[Randomized Grid Search](#Randomized-Grid-Search)\n",
    "\n",
    "[Nested Cross-Validation](#Nested-Cross-Validation)\n",
    "\n",
    "-----\n",
    "\n",
    "Before proceeding with the rest of this Notebook, we first have our standard notebook setup code.\n",
    "\n",
    "-----"
   ]
  },
  {
   "cell_type": "code",
   "execution_count": 1,
   "metadata": {},
   "outputs": [],
   "source": [
    "# Set up Notebook\n",
    "\n",
    "%matplotlib inline\n",
    "\n",
    "# Standard imports\n",
    "import numpy as np\n",
    "import pandas as pd\n",
    "import matplotlib.pyplot as plt\n",
    "import seaborn as sns\n",
    "\n",
    "# We do this to ignore several specific Pandas warnings\n",
    "import warnings\n",
    "warnings.filterwarnings(\"ignore\")\n",
    "\n",
    "# Set global fiugure properties\n",
    "import matplotlib as mpl\n",
    "mpl.rcParams.update({'axes.titlesize' : 20,\n",
    "                     'axes.labelsize' : 18,\n",
    "                     'legend.fontsize': 16})\n",
    "\n",
    "# Set default seaborn plotting style\n",
    "sns.set_style('white')\n",
    "\n",
    "# Some cells take a while to run, so we will time them\n",
    "from time import time"
   ]
  },
  {
   "cell_type": "markdown",
   "metadata": {},
   "source": [
    "-----\n",
    "\n",
    "[[Back to TOC]](#Table-of-Contents)\n",
    "\n",
    "## Model Selection\n",
    "\n",
    "Formally, model selection is the task of choosing the best machine learning model for a given data set. Thus, to get started, we first need a data set to which we can apply machine learning algorithms. For this purpose we will use the handwritten digit data set that is included with the scikit learn library. This data is comprised of 1,797 eight by eight pixel images, which results in 64 features (or dimensions). The first Code cell below load these data into our feature (`x`) and label (`y`) arrays. \n",
    "\n",
    "For the purpose of simplicity, we will use only one machine learning algorithm in this notebook, and focus on finding the best hyperparameters for this one algorithm on these data. The machine learning algorithm we will use to classify these images in this notebook is support vector classification. We also need a scoring method, for support vector classification the default is mean accuracy (i.e., averaged across all classes). However, different (or multiple) [scoring methods][sksm] can be used, adding a further level of complexity to this problem.\n",
    "\n",
    "This algorithm works best when the data are normalized (or at least scaled to the same ranges). While the individual pixel values are all restricted to the range [0, 16], some pixels are used more than others. For example, the pixels around the outer edges are used less frequently, and thus will likely be distributed differently than the center pixels. As a result, we employ a [`StandardScaling`][skss] estimator as part of a pipeline on these data to normalize all data before applying the SVC estimator.\n",
    "\n",
    "In this simple example, we will only evaluate one potential hyperparameter (`C`) for this one algorithm. On a real-world problem, however, we likely would evaluate multiple algorithms, each with various hyperparameter combinations in order to determine the best model. We generate an array of eight `C` values for the model selection process spanning 0.001 to 1000. We generate these values in log-space, as this allows us to quickly span a large range of values. Once we have a better idea of the rough range containing the optimal hyperparameter, we can sample the hyperparameter on a finer grid to identify the best hyperparameter value for these data.\n",
    "\n",
    "-----\n",
    "[sksm]: http://scikit-learn.org/stable/modules/model_evaluation.html\n",
    "[skss]: http://scikit-learn.org/stable/modules/generated/sklearn.preprocessing.StandardScaler.html"
   ]
  },
  {
   "cell_type": "code",
   "execution_count": 2,
   "metadata": {},
   "outputs": [],
   "source": [
    "import sklearn.datasets as ds\n",
    "\n",
    "# Load the digits data\n",
    "digits = ds.load_digits()\n",
    "    \n",
    "# Now lets get the data and labels\n",
    "x = digits.data\n",
    "y = digits.target"
   ]
  },
  {
   "cell_type": "code",
   "execution_count": 3,
   "metadata": {},
   "outputs": [
    {
     "name": "stdout",
     "output_type": "stream",
     "text": [
      "C values for model selection:\n",
      "\n",
      " [1.e-03 1.e-02 1.e-01 1.e+00 1.e+01 1.e+02 1.e+03 1.e+04]\n"
     ]
    }
   ],
   "source": [
    "from sklearn.pipeline import Pipeline\n",
    "from sklearn.preprocessing import StandardScaler\n",
    "from sklearn.svm import SVC\n",
    "\n",
    "# Create pipeline of scaler and estimator\n",
    "svp = Pipeline([('ss', StandardScaler()),\n",
    "                ('svc', SVC(random_state=23))])\n",
    "\n",
    "# Create classifier/sample parameter values\n",
    "c_vals = np.logspace(-3, 4, 8)\n",
    "\n",
    "print('C values for model selection:\\n\\n',c_vals)"
   ]
  },
  {
   "cell_type": "markdown",
   "metadata": {},
   "source": [
    "-----\n",
    "\n",
    "With the data loaded, the machine learning pipeline created, and a grid of hyperparameters specified, we can now proceed evaluating the different models. The first step is to generate a training and testing data sample, in this case we use 75% of the data for training, and we also employ a stratified splitting to preserve the class representation in both the training and testing data sets. For this task, there are ten classes, so we want to ensure the classes are fairly represented in the training and testing to minimize any potential biases that might result from an artificial class imbalance.\n",
    "\n",
    "-----"
   ]
  },
  {
   "cell_type": "code",
   "execution_count": 4,
   "metadata": {},
   "outputs": [],
   "source": [
    "from sklearn.model_selection import train_test_split\n",
    "\n",
    "x_train, x_test, y_train, y_test = \\\n",
    "    train_test_split(x, y, test_size = 0.25, \n",
    "                     stratify=y, random_state=23)"
   ]
  },
  {
   "cell_type": "markdown",
   "metadata": {},
   "source": [
    "-----\n",
    "\n",
    "The next step is to create a cross-validation iterator that will be applied to the training data to evaluate the model hyperparameters. In this case, we employ a stratified k-fold cross-validation technique to once again maintain class balance. We also specify five folds (via the `n_splits` parameter), which will produce five unique training and validation data sets for each hyperparameter. \n",
    "\n",
    "-----"
   ]
  },
  {
   "cell_type": "code",
   "execution_count": 5,
   "metadata": {},
   "outputs": [],
   "source": [
    "from sklearn.model_selection import StratifiedKFold\n",
    "skf = StratifiedKFold(n_splits=5, random_state=23)"
   ]
  },
  {
   "cell_type": "markdown",
   "metadata": {},
   "source": [
    "-----\n",
    "\n",
    "We can now compute cross validation scores for the different combinations of our two hyperparameters. The easiest way to accomplish this goal is to use the [`cross_val_score`][skcvs] function, which applies an estimator with a cross-validation technique to a training data set. This function will compute and return an array of scores for each fold in the cross-validation, by default three-fold cross-validation is used. The scores are computed using the default score method for the provided estimator, such as `accuracy`, but different metrics can be supplied via the `scoring` hyperparameter.\n",
    "\n",
    "The following Code cell applies this function to the handwritten image data set. First, we start a clock to compute the time for the cross-validation to complete. Next, we create two empty arrays to hold the statistics for the cross-validation scores (we will compute the mean and standard deviation). Next, we iterate through each value in our array of hyperparameter values, compute the cross-validation scores, and compute the statistics of these cross-validation scores. Finally, we display the total time taken for this specific cross-validation.\n",
    "\n",
    "-----\n",
    "[skcvs]: http://scikit-learn.org/stable/modules/generated/sklearn.model_selection.cross_val_score.html"
   ]
  },
  {
   "cell_type": "code",
   "execution_count": 6,
   "metadata": {},
   "outputs": [
    {
     "name": "stdout",
     "output_type": "stream",
     "text": [
      "Compute time = 4.65 seconds.\n"
     ]
    }
   ],
   "source": [
    "from sklearn.model_selection import cross_val_score\n",
    "\n",
    "# Start clock\n",
    "start = time()\n",
    "\n",
    "# Create arrays to hold cross-validation statistics\n",
    "scr_mean = np.zeros(c_vals.shape)\n",
    "scr_std = np.zeros(c_vals.shape)\n",
    "\n",
    "# Loop over parameter values to accumulate statistics\n",
    "for idx, c in enumerate(c_vals):\n",
    "    svp.set_params(svc__C = c)\n",
    "    score = cross_val_score(svp, x_train, y_train, cv=skf)\n",
    "    scr_mean[idx] = np.mean(score)\n",
    "    scr_std[idx] = np.std(score)\n",
    "\n",
    "# Display compute time\n",
    "print(f'Compute time = {time() - start:4.2f} seconds.')"
   ]
  },
  {
   "cell_type": "markdown",
   "metadata": {},
   "source": [
    "-----\n",
    "\n",
    "With the mean and standard deviation compute for the scores determined during each cross-validation, we can find the model that had the best score. To do this, we find the index into the mean score array by using the `argmax` function from the NumPy library. This allows us to display the best model score and the best model hyperparameter, as shown in the following Code cell.\n",
    "\n",
    "-----"
   ]
  },
  {
   "cell_type": "code",
   "execution_count": 7,
   "metadata": {},
   "outputs": [
    {
     "name": "stdout",
     "output_type": "stream",
     "text": [
      "Best Score = 0.981 +/- 0.002\n",
      "Best C param = 10.000\n"
     ]
    }
   ],
   "source": [
    "# Find best score (from means of scores)\n",
    "idx = np.argmax(scr_mean)\n",
    "\n",
    "# Display best score (and error) and associated 'C' value\n",
    "print(f'Best Score = {scr_mean[idx]:5.3f} +/- {scr_std[idx]:5.3f}')\n",
    "print(f'Best C param = {c_vals[idx]:5.3f}')"
   ]
  },
  {
   "cell_type": "markdown",
   "metadata": {},
   "source": [
    "-----\n",
    "\n",
    "With the hyperparameter that determined the best scoring model, we can perform standard model performance testing by creating and applying this model to the test data. In the following Code cell, we create an SVC model with the best `C` hyperparameter, train this model on the training data, and finally apply it to the test data. Finally, these predictions are used to generate a classification report, which indicates the strong performance of this best scoring model.\n",
    "\n",
    "\n",
    "-----"
   ]
  },
  {
   "cell_type": "code",
   "execution_count": 8,
   "metadata": {},
   "outputs": [
    {
     "name": "stdout",
     "output_type": "stream",
     "text": [
      "              precision    recall  f1-score   support\n",
      "\n",
      "           0       1.00      1.00      1.00        45\n",
      "           1       1.00      1.00      1.00        46\n",
      "           2       1.00      1.00      1.00        44\n",
      "           3       1.00      1.00      1.00        46\n",
      "           4       0.98      1.00      0.99        45\n",
      "           5       1.00      0.98      0.99        46\n",
      "           6       0.98      1.00      0.99        45\n",
      "           7       0.98      0.98      0.98        45\n",
      "           8       0.98      1.00      0.99        43\n",
      "           9       0.98      0.93      0.95        45\n",
      "\n",
      "   micro avg       0.99      0.99      0.99       450\n",
      "   macro avg       0.99      0.99      0.99       450\n",
      "weighted avg       0.99      0.99      0.99       450\n",
      "\n"
     ]
    }
   ],
   "source": [
    "from sklearn.metrics import classification_report\n",
    "\n",
    "# Set hyperparemeter to best value\n",
    "svp.set_params(svc__C = c_vals[idx])\n",
    "\n",
    "# Train model and predict on test data\n",
    "svp.fit(x_train, y_train)\n",
    "y_pred = svp.predict(x_test)\n",
    "\n",
    "# Generate classification report\n",
    "print(classification_report(y_test, y_pred))"
   ]
  },
  {
   "cell_type": "markdown",
   "metadata": {},
   "source": [
    "-----\n",
    "\n",
    "We can also visualize the model scores for different hyperparameter values. The following Code cell plots the confidence interval (or in this case, the mean plus or minus one standard deviation) for the model score for different values of the `C` hyperparameter. To complete this, the Code cell uses two Matplotlib functions: `semilogx` and `fill_between`. The former plots the data by using logarithmic spacing on the x axis, and standard linear spacing on the y axis. The latter fills the space between the `high` and `low` regions.\n",
    "\n",
    "From this plot, we see that low values for `C` perform poorly, but that once the `C` value exceeds 0.1, the scores increase dramatically, and become nearly constant above zero. Thus, to determine the best model to these data, we will need to explore additional hyperparameter in addition to the `C` value.\n",
    "\n",
    "-----"
   ]
  },
  {
   "cell_type": "code",
   "execution_count": 9,
   "metadata": {},
   "outputs": [
    {
     "data": {
      "image/png": "[encoded data removed]",
      "text/plain": [
       "<Figure size 720x576 with 1 Axes>"
      ]
     },
     "metadata": {
      "needs_background": "light"
     },
     "output_type": "display_data"
    }
   ],
   "source": [
    "# Define confidence interval\n",
    "high = scr_mean + scr_std\n",
    "low = scr_mean - scr_std\n",
    "\n",
    "# Plot the results\n",
    "fig, ax = plt.subplots(figsize=(10, 8))\n",
    "\n",
    "# Plot confidence interval\n",
    "ax.semilogx(c_vals, scr_mean, \n",
    "            color=sns.xkcd_rgb[\"denim blue\"], label='Parameter Value', linewidth=4)\n",
    "ax.fill_between(c_vals, high, low, \n",
    "                color=sns.xkcd_rgb[\"dusty purple\"], label='Confidnce Interval', alpha=0.25)\n",
    "\n",
    "# Mark the best `C` value\n",
    "ax.vlines(c_vals[idx], 0.8, 1.02, linestyles='-.', \n",
    "          color=sns.xkcd_rgb[\"pale red\"])\n",
    "ax.text(c_vals[idx], 0.75, 'Best Value', \n",
    "        horizontalalignment='center', \n",
    "        verticalalignment='top')\n",
    "\n",
    "# Decorate plot\n",
    "ax.set(title='SVC Parameter Selection',\n",
    "        xlabel='C Parameter', \n",
    "        ylabel='CV Score', ylim=(-0.1, 1.1))\n",
    "    \n",
    "ax.legend(loc=4, borderaxespad=1.5)\n",
    "sns.despine(offset=5, trim=True)"
   ]
  },
  {
   "cell_type": "markdown",
   "metadata": {},
   "source": [
    "-----\n",
    "\n",
    "<font color='red' size = '5'> Student Exercise </font>\n",
    "\n",
    "In the preceding cells, we applied cross-validation using a support vector classification estimator to the handwritten digit data set to determine the best `C` hyperparameter. Now that you have seen this technique work, try making the following changes and see if you can explain the results.\n",
    "\n",
    "1. Change the example to compute the best value of the _gamma_ hyperparameter.\n",
    "3. Change the algorithm to use a random forest classifier, and vary the `max_features` hyperparameter.\n",
    "\n",
    "-----"
   ]
  },
  {
   "cell_type": "markdown",
   "metadata": {},
   "source": [
    "[[Back to TOC]](#Table-of-Contents)\n",
    "\n",
    "## Grid Search\n",
    "\n",
    "Many machine learning algorithms have parameters that can be adjusted to tune the performance of the algorithm on a particular data set, for example, the `C` parameter in SVM. While in some cases there is a theoretical justification for a particular parameter value when applied to a specific data set, in many cases, we must determine the parameter (sometimes called hyper-parameter) values programmatically. With multiple parameters, however, this process can quickly become tedious, e.g., when running DBSCAN and changing the `eps` and `min_samples` parameters.\n",
    "\n",
    "Rather than repeatedly manually changing parameter values and computing the resulting model scores, a better approach is to employ a grid search approach. In a grid search, one defines a grid of parameter values, applies the model over all possible parameter value combinations in the grid, and identifies the set of parameters that produces the best model performance score. The scikit learn library provides a [`GridSearchCV`][skgs] object that performs a grid search by using cross validation, which produces a model score at the end.\n",
    "\n",
    "In the following Code cell, we demonstrate using `GridSearchCV` to compute the best value for the `C` parameter when running the SVC algorithm on the Handwritten Digit data. In this simple case, we simply employ the estimator directly, however, a grid search is often most effective when analyzing a pipeline that can have many free parameters.\n",
    "\n",
    "-----\n",
    "[skgs]: http://scikit-learn.org/stable/modules/generated/sklearn.grid_search.GridSearchCV.html"
   ]
  },
  {
   "cell_type": "code",
   "execution_count": 10,
   "metadata": {},
   "outputs": [
    {
     "name": "stdout",
     "output_type": "stream",
     "text": [
      "Compute time = 7.67 seconds.\n",
      "\n",
      "Best C=10.0000\n",
      "Best CV Score = 0.981\n"
     ]
    }
   ],
   "source": [
    "from sklearn.model_selection import GridSearchCV\n",
    "\n",
    "# Start clock\n",
    "start = time()\n",
    "\n",
    "# Create a dictionary of hyperparameters and values\n",
    "params = dict(svc__C=c_vals)\n",
    "\n",
    "# Create grid search cross validator\n",
    "gse = GridSearchCV(estimator=svp, param_grid=params, cv=skf, iid=True)\n",
    "\n",
    "# Fit estimator\n",
    "gse.fit(x_train, y_train)\n",
    "\n",
    "# Display time and best estimator results.\n",
    "print(f'Compute time = {time() - start:4.2f} seconds.\\n')\n",
    "\n",
    "print(f'Best C={gse.best_estimator_.get_params()[\"svc__C\"]:5.4f}')\n",
    "print(f'Best CV Score = {gse.best_score_:4.3f}')"
   ]
  },
  {
   "cell_type": "markdown",
   "metadata": {},
   "source": [
    "-----\n",
    "\n",
    "The grid search cross-validation estimator also provides access to the underlying best model, which allows us to make predictions. In the following Code cell, we compute the prediction score for the best model on our test data. In this case, the results are quite good, indicating that our _best model_ appears robust.\n",
    "\n",
    "-----"
   ]
  },
  {
   "cell_type": "code",
   "execution_count": 11,
   "metadata": {},
   "outputs": [
    {
     "name": "stdout",
     "output_type": "stream",
     "text": [
      "Test Score = 0.989\n"
     ]
    }
   ],
   "source": [
    "print(f'Test Score = {gse.score(x_test, y_test):4.3f}')"
   ]
  },
  {
   "cell_type": "markdown",
   "metadata": {},
   "source": [
    "-----\n",
    "\n",
    "The grid search cross-validation estimator stores the cross validation results, which can be accessed as a dictionary of NumPy arrays. In the following three Code cells, we demonstrate accessing several of these arrays. First, we extract the mean fit times for each cross-validation, and compute and display the mean and total time. Next, we extract the mean training score, and find and display the maximum training score. Finally, we extract the mean test score (from each validation pass), and  find and display the maximum mean test score. More information on the different arrays that can be extracted is available in the online documentation for the [`GridSearchCV`][skgscv] estimator.\n",
    "\n",
    "-----\n",
    "\n",
    "[skgscv]: http://scikit-learn.org/stable/modules/generated/sklearn.model_selection.GridSearchCV.html"
   ]
  },
  {
   "cell_type": "code",
   "execution_count": 12,
   "metadata": {
    "scrolled": true
   },
   "outputs": [
    {
     "name": "stdout",
     "output_type": "stream",
     "text": [
      "Mean fit time = 0.101 +/- 0.056\n",
      "Total fit time = 0.81 seconds\n"
     ]
    }
   ],
   "source": [
    "# Extract and process the mean fit time\n",
    "mft = gse.cv_results_['mean_fit_time']\n",
    "\n",
    "print(f'Mean fit time = {np.mean(mft):5.3f} +/- {np.std(mft):5.3f}')\n",
    "print(f'Total fit time = {np.sum(mft):4.2f} seconds')"
   ]
  },
  {
   "cell_type": "code",
   "execution_count": 13,
   "metadata": {},
   "outputs": [
    {
     "name": "stdout",
     "output_type": "stream",
     "text": [
      "Best train score = 1.000\n"
     ]
    }
   ],
   "source": [
    "# Extract and process the mean training score\n",
    "\n",
    "mft = gse.cv_results_['mean_train_score']\n",
    "\n",
    "print(f'Best train score = {np.max(mft):5.3f}')"
   ]
  },
  {
   "cell_type": "code",
   "execution_count": 14,
   "metadata": {
    "scrolled": true
   },
   "outputs": [
    {
     "name": "stdout",
     "output_type": "stream",
     "text": [
      "Best test score = 0.981\n"
     ]
    }
   ],
   "source": [
    "# Extract and process the mean test score\n",
    "\n",
    "mft = gse.cv_results_['mean_test_score']\n",
    "\n",
    "print(f'Best test score = {np.max(mft):5.3f}')"
   ]
  },
  {
   "cell_type": "markdown",
   "metadata": {},
   "source": [
    "-----\n",
    "\n",
    "Given the array of mean test scores, we can find the index in this array  for the highest score. This index can be used to find the hyperparameter that generated this score by extracting the NumPy array containing the `C` values, which is `param_svc__C`. The following Code cell demonstrates this process by using the NumPy `argmax` function to find the index for the maximum test score, which is used to find and display the corresponding `C` value.\n",
    "\n",
    "-----"
   ]
  },
  {
   "cell_type": "code",
   "execution_count": 15,
   "metadata": {},
   "outputs": [
    {
     "name": "stdout",
     "output_type": "stream",
     "text": [
      "Best C value = 10.0\n"
     ]
    }
   ],
   "source": [
    "gs_idx = np.argmax(gse.cv_results_['mean_test_score'])\n",
    "print(f'Best C value = {gse.cv_results_[\"param_svc__C\"][gs_idx]}')"
   ]
  },
  {
   "cell_type": "markdown",
   "metadata": {},
   "source": [
    "-----\n",
    "\n",
    "For easier access to the data, we can transform the dictionary of arrays  returned by the grid search cross-validation estimator into a DataFrame. This provides additional functionality, including improved display of the results, as well as transformations provided by the Pandas module. In the following Code cell, we convert the `cv_results_` to a DataFrame, and display the _transpose_ (this just flips the columns to rows and vice versa), which makes the results easier to explore. In this view, the columns are now different cross-validation folds; we had seven different values for `C` in the grid search so there are seven columns. The rows are the different pre-computed quantities, including the `mean_fit_time`, `mean_train_score`, and `param_svc__C`.\n",
    "\n",
    "-----"
   ]
  },
  {
   "cell_type": "code",
   "execution_count": 16,
   "metadata": {},
   "outputs": [
    {
     "data": {
      "text/html": [
       "<div>\n",
       "<style scoped>\n",
       "    .dataframe tbody tr th:only-of-type {\n",
       "        vertical-align: middle;\n",
       "    }\n",
       "\n",
       "    .dataframe tbody tr th {\n",
       "        vertical-align: top;\n",
       "    }\n",
       "\n",
       "    .dataframe thead th {\n",
       "        text-align: right;\n",
       "    }\n",
       "</style>\n",
       "<table border=\"1\" class=\"dataframe\">\n",
       "  <thead>\n",
       "    <tr style=\"text-align: right;\">\n",
       "      <th></th>\n",
       "      <th>0</th>\n",
       "      <th>1</th>\n",
       "      <th>2</th>\n",
       "      <th>3</th>\n",
       "      <th>4</th>\n",
       "      <th>5</th>\n",
       "      <th>6</th>\n",
       "      <th>7</th>\n",
       "    </tr>\n",
       "  </thead>\n",
       "  <tbody>\n",
       "    <tr>\n",
       "      <th>mean_fit_time</th>\n",
       "      <td>0.186889</td>\n",
       "      <td>0.199933</td>\n",
       "      <td>0.118624</td>\n",
       "      <td>0.061378</td>\n",
       "      <td>0.0599921</td>\n",
       "      <td>0.0660641</td>\n",
       "      <td>0.0595064</td>\n",
       "      <td>0.0588824</td>\n",
       "    </tr>\n",
       "    <tr>\n",
       "      <th>std_fit_time</th>\n",
       "      <td>0.00173851</td>\n",
       "      <td>0.018274</td>\n",
       "      <td>0.00145077</td>\n",
       "      <td>0.00124707</td>\n",
       "      <td>0.0022669</td>\n",
       "      <td>0.0128998</td>\n",
       "      <td>0.0014537</td>\n",
       "      <td>0.00198712</td>\n",
       "    </tr>\n",
       "    <tr>\n",
       "      <th>mean_score_time</th>\n",
       "      <td>0.0246257</td>\n",
       "      <td>0.026545</td>\n",
       "      <td>0.0219475</td>\n",
       "      <td>0.014502</td>\n",
       "      <td>0.0142043</td>\n",
       "      <td>0.0135807</td>\n",
       "      <td>0.0133521</td>\n",
       "      <td>0.0134721</td>\n",
       "    </tr>\n",
       "    <tr>\n",
       "      <th>std_score_time</th>\n",
       "      <td>0.000570697</td>\n",
       "      <td>0.00264289</td>\n",
       "      <td>0.000417718</td>\n",
       "      <td>0.000716539</td>\n",
       "      <td>0.0010472</td>\n",
       "      <td>0.00105688</td>\n",
       "      <td>0.00044796</td>\n",
       "      <td>0.000443349</td>\n",
       "    </tr>\n",
       "    <tr>\n",
       "      <th>param_svc__C</th>\n",
       "      <td>0.001</td>\n",
       "      <td>0.01</td>\n",
       "      <td>0.1</td>\n",
       "      <td>1</td>\n",
       "      <td>10</td>\n",
       "      <td>100</td>\n",
       "      <td>1000</td>\n",
       "      <td>10000</td>\n",
       "    </tr>\n",
       "    <tr>\n",
       "      <th>params</th>\n",
       "      <td>{'svc__C': 0.001}</td>\n",
       "      <td>{'svc__C': 0.01}</td>\n",
       "      <td>{'svc__C': 0.1}</td>\n",
       "      <td>{'svc__C': 1.0}</td>\n",
       "      <td>{'svc__C': 10.0}</td>\n",
       "      <td>{'svc__C': 100.0}</td>\n",
       "      <td>{'svc__C': 1000.0}</td>\n",
       "      <td>{'svc__C': 10000.0}</td>\n",
       "    </tr>\n",
       "    <tr>\n",
       "      <th>split0_test_score</th>\n",
       "      <td>0.101818</td>\n",
       "      <td>0.101818</td>\n",
       "      <td>0.898182</td>\n",
       "      <td>0.974545</td>\n",
       "      <td>0.981818</td>\n",
       "      <td>0.981818</td>\n",
       "      <td>0.981818</td>\n",
       "      <td>0.981818</td>\n",
       "    </tr>\n",
       "    <tr>\n",
       "      <th>split1_test_score</th>\n",
       "      <td>0.47037</td>\n",
       "      <td>0.47037</td>\n",
       "      <td>0.907407</td>\n",
       "      <td>0.977778</td>\n",
       "      <td>0.981481</td>\n",
       "      <td>0.981481</td>\n",
       "      <td>0.981481</td>\n",
       "      <td>0.981481</td>\n",
       "    </tr>\n",
       "    <tr>\n",
       "      <th>split2_test_score</th>\n",
       "      <td>0.100372</td>\n",
       "      <td>0.100372</td>\n",
       "      <td>0.929368</td>\n",
       "      <td>0.98513</td>\n",
       "      <td>0.98513</td>\n",
       "      <td>0.98513</td>\n",
       "      <td>0.98513</td>\n",
       "      <td>0.98513</td>\n",
       "    </tr>\n",
       "    <tr>\n",
       "      <th>split3_test_score</th>\n",
       "      <td>0.101124</td>\n",
       "      <td>0.101124</td>\n",
       "      <td>0.902622</td>\n",
       "      <td>0.973783</td>\n",
       "      <td>0.977528</td>\n",
       "      <td>0.977528</td>\n",
       "      <td>0.977528</td>\n",
       "      <td>0.977528</td>\n",
       "    </tr>\n",
       "    <tr>\n",
       "      <th>split4_test_score</th>\n",
       "      <td>0.101504</td>\n",
       "      <td>0.101504</td>\n",
       "      <td>0.943609</td>\n",
       "      <td>0.981203</td>\n",
       "      <td>0.981203</td>\n",
       "      <td>0.981203</td>\n",
       "      <td>0.981203</td>\n",
       "      <td>0.981203</td>\n",
       "    </tr>\n",
       "    <tr>\n",
       "      <th>mean_test_score</th>\n",
       "      <td>0.175204</td>\n",
       "      <td>0.175204</td>\n",
       "      <td>0.91611</td>\n",
       "      <td>0.978471</td>\n",
       "      <td>0.98144</td>\n",
       "      <td>0.98144</td>\n",
       "      <td>0.98144</td>\n",
       "      <td>0.98144</td>\n",
       "    </tr>\n",
       "    <tr>\n",
       "      <th>std_test_score</th>\n",
       "      <td>0.147789</td>\n",
       "      <td>0.147789</td>\n",
       "      <td>0.0173579</td>\n",
       "      <td>0.00423422</td>\n",
       "      <td>0.00240693</td>\n",
       "      <td>0.00240693</td>\n",
       "      <td>0.00240693</td>\n",
       "      <td>0.00240693</td>\n",
       "    </tr>\n",
       "    <tr>\n",
       "      <th>rank_test_score</th>\n",
       "      <td>7</td>\n",
       "      <td>7</td>\n",
       "      <td>6</td>\n",
       "      <td>5</td>\n",
       "      <td>1</td>\n",
       "      <td>1</td>\n",
       "      <td>1</td>\n",
       "      <td>1</td>\n",
       "    </tr>\n",
       "    <tr>\n",
       "      <th>split0_train_score</th>\n",
       "      <td>0.101679</td>\n",
       "      <td>0.101679</td>\n",
       "      <td>0.941231</td>\n",
       "      <td>0.996269</td>\n",
       "      <td>1</td>\n",
       "      <td>1</td>\n",
       "      <td>1</td>\n",
       "      <td>1</td>\n",
       "    </tr>\n",
       "    <tr>\n",
       "      <th>split1_train_score</th>\n",
       "      <td>0.491179</td>\n",
       "      <td>0.491179</td>\n",
       "      <td>0.948932</td>\n",
       "      <td>0.997214</td>\n",
       "      <td>1</td>\n",
       "      <td>1</td>\n",
       "      <td>1</td>\n",
       "      <td>1</td>\n",
       "    </tr>\n",
       "    <tr>\n",
       "      <th>split2_train_score</th>\n",
       "      <td>0.102041</td>\n",
       "      <td>0.102041</td>\n",
       "      <td>0.93692</td>\n",
       "      <td>0.996289</td>\n",
       "      <td>1</td>\n",
       "      <td>1</td>\n",
       "      <td>1</td>\n",
       "      <td>1</td>\n",
       "    </tr>\n",
       "    <tr>\n",
       "      <th>split3_train_score</th>\n",
       "      <td>0.101852</td>\n",
       "      <td>0.101852</td>\n",
       "      <td>0.948148</td>\n",
       "      <td>0.997222</td>\n",
       "      <td>1</td>\n",
       "      <td>1</td>\n",
       "      <td>1</td>\n",
       "      <td>1</td>\n",
       "    </tr>\n",
       "    <tr>\n",
       "      <th>split4_train_score</th>\n",
       "      <td>0.101758</td>\n",
       "      <td>0.101758</td>\n",
       "      <td>0.945421</td>\n",
       "      <td>0.9963</td>\n",
       "      <td>1</td>\n",
       "      <td>1</td>\n",
       "      <td>1</td>\n",
       "      <td>1</td>\n",
       "    </tr>\n",
       "    <tr>\n",
       "      <th>mean_train_score</th>\n",
       "      <td>0.179702</td>\n",
       "      <td>0.179702</td>\n",
       "      <td>0.944131</td>\n",
       "      <td>0.996659</td>\n",
       "      <td>1</td>\n",
       "      <td>1</td>\n",
       "      <td>1</td>\n",
       "      <td>1</td>\n",
       "    </tr>\n",
       "    <tr>\n",
       "      <th>std_train_score</th>\n",
       "      <td>0.155739</td>\n",
       "      <td>0.155739</td>\n",
       "      <td>0.00450014</td>\n",
       "      <td>0.000456906</td>\n",
       "      <td>0</td>\n",
       "      <td>0</td>\n",
       "      <td>0</td>\n",
       "      <td>0</td>\n",
       "    </tr>\n",
       "  </tbody>\n",
       "</table>\n",
       "</div>"
      ],
      "text/plain": [
       "                                    0                 1                2  \\\n",
       "mean_fit_time                0.186889          0.199933         0.118624   \n",
       "std_fit_time               0.00173851          0.018274       0.00145077   \n",
       "mean_score_time             0.0246257          0.026545        0.0219475   \n",
       "std_score_time            0.000570697        0.00264289      0.000417718   \n",
       "param_svc__C                    0.001              0.01              0.1   \n",
       "params              {'svc__C': 0.001}  {'svc__C': 0.01}  {'svc__C': 0.1}   \n",
       "split0_test_score            0.101818          0.101818         0.898182   \n",
       "split1_test_score             0.47037           0.47037         0.907407   \n",
       "split2_test_score            0.100372          0.100372         0.929368   \n",
       "split3_test_score            0.101124          0.101124         0.902622   \n",
       "split4_test_score            0.101504          0.101504         0.943609   \n",
       "mean_test_score              0.175204          0.175204          0.91611   \n",
       "std_test_score               0.147789          0.147789        0.0173579   \n",
       "rank_test_score                     7                 7                6   \n",
       "split0_train_score           0.101679          0.101679         0.941231   \n",
       "split1_train_score           0.491179          0.491179         0.948932   \n",
       "split2_train_score           0.102041          0.102041          0.93692   \n",
       "split3_train_score           0.101852          0.101852         0.948148   \n",
       "split4_train_score           0.101758          0.101758         0.945421   \n",
       "mean_train_score             0.179702          0.179702         0.944131   \n",
       "std_train_score              0.155739          0.155739       0.00450014   \n",
       "\n",
       "                                  3                 4                  5  \\\n",
       "mean_fit_time              0.061378         0.0599921          0.0660641   \n",
       "std_fit_time             0.00124707         0.0022669          0.0128998   \n",
       "mean_score_time            0.014502         0.0142043          0.0135807   \n",
       "std_score_time          0.000716539         0.0010472         0.00105688   \n",
       "param_svc__C                      1                10                100   \n",
       "params              {'svc__C': 1.0}  {'svc__C': 10.0}  {'svc__C': 100.0}   \n",
       "split0_test_score          0.974545          0.981818           0.981818   \n",
       "split1_test_score          0.977778          0.981481           0.981481   \n",
       "split2_test_score           0.98513           0.98513            0.98513   \n",
       "split3_test_score          0.973783          0.977528           0.977528   \n",
       "split4_test_score          0.981203          0.981203           0.981203   \n",
       "mean_test_score            0.978471           0.98144            0.98144   \n",
       "std_test_score           0.00423422        0.00240693         0.00240693   \n",
       "rank_test_score                   5                 1                  1   \n",
       "split0_train_score         0.996269                 1                  1   \n",
       "split1_train_score         0.997214                 1                  1   \n",
       "split2_train_score         0.996289                 1                  1   \n",
       "split3_train_score         0.997222                 1                  1   \n",
       "split4_train_score           0.9963                 1                  1   \n",
       "mean_train_score           0.996659                 1                  1   \n",
       "std_train_score         0.000456906                 0                  0   \n",
       "\n",
       "                                     6                    7  \n",
       "mean_fit_time                0.0595064            0.0588824  \n",
       "std_fit_time                 0.0014537           0.00198712  \n",
       "mean_score_time              0.0133521            0.0134721  \n",
       "std_score_time              0.00044796          0.000443349  \n",
       "param_svc__C                      1000                10000  \n",
       "params              {'svc__C': 1000.0}  {'svc__C': 10000.0}  \n",
       "split0_test_score             0.981818             0.981818  \n",
       "split1_test_score             0.981481             0.981481  \n",
       "split2_test_score              0.98513              0.98513  \n",
       "split3_test_score             0.977528             0.977528  \n",
       "split4_test_score             0.981203             0.981203  \n",
       "mean_test_score                0.98144              0.98144  \n",
       "std_test_score              0.00240693           0.00240693  \n",
       "rank_test_score                      1                    1  \n",
       "split0_train_score                   1                    1  \n",
       "split1_train_score                   1                    1  \n",
       "split2_train_score                   1                    1  \n",
       "split3_train_score                   1                    1  \n",
       "split4_train_score                   1                    1  \n",
       "mean_train_score                     1                    1  \n",
       "std_train_score                      0                    0  "
      ]
     },
     "execution_count": 16,
     "metadata": {},
     "output_type": "execute_result"
    }
   ],
   "source": [
    "# Convert results to a DataFrame\n",
    "gse_df = pd.DataFrame(gse.cv_results_)\n",
    "\n",
    "# Transpose is easier to view (columns become CV results)\n",
    "gse_df.T"
   ]
  },
  {
   "cell_type": "markdown",
   "metadata": {},
   "source": [
    "-----\n",
    "\n",
    "[[Back to TOC]](#Table-of-Contents)\n",
    "\n",
    "### Multi-Dimensional Grid Search\n",
    "\n",
    "The previous example performed a grid search on one hyperparameter. This approach can be extended to multiple hyperparameters by constructing a dictionary that maps the hyperparameters to the hyperparameter values. In the following Code cell, we demonstrate this by first creating arrays of our hyperparameter values, for both the `C` and `gamma` values. Next, we construct the grid of `C` and `gamma` values for the SVC algorithm by using an explicit dictionary. This grid has 48 (6 x 8) values, over which we perform stratified k-fold cross-validation using our SVC pipeline. At the end of the Code cell, we compute and display the processing time, the best fit hyperparameters, and the best cross-validation score.\n",
    "\n",
    "-----"
   ]
  },
  {
   "cell_type": "code",
   "execution_count": 17,
   "metadata": {},
   "outputs": [
    {
     "name": "stdout",
     "output_type": "stream",
     "text": [
      "Compute time = 62.53 seconds.\n",
      "\n",
      "Best C=100.0000\n",
      "Best gamma=0.0100\n",
      "Best CV Score = 0.984\n"
     ]
    }
   ],
   "source": [
    "# Start clock\n",
    "start = time()\n",
    "\n",
    "# Define individual parameter values\n",
    "# Equal-spaced intervals in log-space\n",
    "c_vals = np.logspace(-2, 3, 6)\n",
    "g_vals = np.logspace(-7, 0, 8)\n",
    "\n",
    "# Create parameter grid, by using an explicit dictionary\n",
    "params = dict(svc__C=c_vals, svc__gamma=g_vals)\n",
    "\n",
    "# Create Grid Search Cross validation iterator\n",
    "mgse = GridSearchCV(estimator=svp,\n",
    "                    param_grid=params,\n",
    "                    cv=skf, iid=True)\n",
    "\n",
    "# Fit and display results of grid search\n",
    "mgse.fit(x_train, y_train)\n",
    "\n",
    "# Compute and display results\n",
    "print(f'Compute time = {time() - start:4.2f} seconds.\\n')\n",
    "\n",
    "mgbe = mgse.best_estimator_\n",
    "print(f'Best C={mgbe.get_params()[\"svc__C\"]:5.4f}')\n",
    "print(f'Best gamma={mgbe.get_params()[\"svc__gamma\"]:5.4f}')\n",
    "print(f'Best CV Score = {mgse.best_score_:4.3f}')"
   ]
  },
  {
   "cell_type": "markdown",
   "metadata": {},
   "source": [
    "-----\n",
    "\n",
    "We can convert the cross-validation results into a Pandas DataFrame to simplify access and analysis. As the following Code cell demonstrates, we can convert the multiple hyperparameter grid search results into a DataFrame and quickly compute descriptive statistics for the relevant columns.\n",
    "\n",
    "-----"
   ]
  },
  {
   "cell_type": "code",
   "execution_count": 18,
   "metadata": {},
   "outputs": [
    {
     "data": {
      "text/html": [
       "<div>\n",
       "<style scoped>\n",
       "    .dataframe tbody tr th:only-of-type {\n",
       "        vertical-align: middle;\n",
       "    }\n",
       "\n",
       "    .dataframe tbody tr th {\n",
       "        vertical-align: top;\n",
       "    }\n",
       "\n",
       "    .dataframe thead th {\n",
       "        text-align: right;\n",
       "    }\n",
       "</style>\n",
       "<table border=\"1\" class=\"dataframe\">\n",
       "  <thead>\n",
       "    <tr style=\"text-align: right;\">\n",
       "      <th></th>\n",
       "      <th>mean_fit_time</th>\n",
       "      <th>std_fit_time</th>\n",
       "      <th>mean_score_time</th>\n",
       "      <th>std_score_time</th>\n",
       "      <th>split0_test_score</th>\n",
       "      <th>split1_test_score</th>\n",
       "      <th>split2_test_score</th>\n",
       "      <th>split3_test_score</th>\n",
       "      <th>split4_test_score</th>\n",
       "      <th>mean_test_score</th>\n",
       "      <th>std_test_score</th>\n",
       "      <th>rank_test_score</th>\n",
       "      <th>split0_train_score</th>\n",
       "      <th>split1_train_score</th>\n",
       "      <th>split2_train_score</th>\n",
       "      <th>split3_train_score</th>\n",
       "      <th>split4_train_score</th>\n",
       "      <th>mean_train_score</th>\n",
       "      <th>std_train_score</th>\n",
       "    </tr>\n",
       "  </thead>\n",
       "  <tbody>\n",
       "    <tr>\n",
       "      <th>count</th>\n",
       "      <td>48.000000</td>\n",
       "      <td>48.000000</td>\n",
       "      <td>48.000000</td>\n",
       "      <td>48.000000</td>\n",
       "      <td>48.000000</td>\n",
       "      <td>48.000000</td>\n",
       "      <td>48.000000</td>\n",
       "      <td>48.000000</td>\n",
       "      <td>48.000000</td>\n",
       "      <td>48.000000</td>\n",
       "      <td>48.000000</td>\n",
       "      <td>48.000000</td>\n",
       "      <td>48.000000</td>\n",
       "      <td>48.000000</td>\n",
       "      <td>48.000000</td>\n",
       "      <td>48.000000</td>\n",
       "      <td>48.000000</td>\n",
       "      <td>48.000000</td>\n",
       "      <td>48.000000</td>\n",
       "    </tr>\n",
       "    <tr>\n",
       "      <th>mean</th>\n",
       "      <td>0.151402</td>\n",
       "      <td>0.004199</td>\n",
       "      <td>0.021846</td>\n",
       "      <td>0.000717</td>\n",
       "      <td>0.492273</td>\n",
       "      <td>0.615972</td>\n",
       "      <td>0.492643</td>\n",
       "      <td>0.490559</td>\n",
       "      <td>0.499138</td>\n",
       "      <td>0.518158</td>\n",
       "      <td>0.054650</td>\n",
       "      <td>22.833333</td>\n",
       "      <td>0.577056</td>\n",
       "      <td>0.717444</td>\n",
       "      <td>0.576975</td>\n",
       "      <td>0.578414</td>\n",
       "      <td>0.577841</td>\n",
       "      <td>0.605546</td>\n",
       "      <td>0.056569</td>\n",
       "    </tr>\n",
       "    <tr>\n",
       "      <th>std</th>\n",
       "      <td>0.065173</td>\n",
       "      <td>0.003054</td>\n",
       "      <td>0.005518</td>\n",
       "      <td>0.000542</td>\n",
       "      <td>0.398570</td>\n",
       "      <td>0.295341</td>\n",
       "      <td>0.405191</td>\n",
       "      <td>0.400978</td>\n",
       "      <td>0.407661</td>\n",
       "      <td>0.378686</td>\n",
       "      <td>0.058282</td>\n",
       "      <td>12.958745</td>\n",
       "      <td>0.417842</td>\n",
       "      <td>0.265482</td>\n",
       "      <td>0.417956</td>\n",
       "      <td>0.418310</td>\n",
       "      <td>0.417269</td>\n",
       "      <td>0.386502</td>\n",
       "      <td>0.065699</td>\n",
       "    </tr>\n",
       "    <tr>\n",
       "      <th>min</th>\n",
       "      <td>0.031157</td>\n",
       "      <td>0.000596</td>\n",
       "      <td>0.008932</td>\n",
       "      <td>0.000214</td>\n",
       "      <td>0.101818</td>\n",
       "      <td>0.137037</td>\n",
       "      <td>0.100372</td>\n",
       "      <td>0.101124</td>\n",
       "      <td>0.101504</td>\n",
       "      <td>0.108389</td>\n",
       "      <td>0.003748</td>\n",
       "      <td>1.000000</td>\n",
       "      <td>0.101679</td>\n",
       "      <td>0.394615</td>\n",
       "      <td>0.102041</td>\n",
       "      <td>0.101852</td>\n",
       "      <td>0.101758</td>\n",
       "      <td>0.160389</td>\n",
       "      <td>0.000000</td>\n",
       "    </tr>\n",
       "    <tr>\n",
       "      <th>25%</th>\n",
       "      <td>0.085218</td>\n",
       "      <td>0.002087</td>\n",
       "      <td>0.021262</td>\n",
       "      <td>0.000473</td>\n",
       "      <td>0.101818</td>\n",
       "      <td>0.433333</td>\n",
       "      <td>0.100372</td>\n",
       "      <td>0.101124</td>\n",
       "      <td>0.101504</td>\n",
       "      <td>0.167780</td>\n",
       "      <td>0.008626</td>\n",
       "      <td>12.500000</td>\n",
       "      <td>0.101679</td>\n",
       "      <td>0.430826</td>\n",
       "      <td>0.102041</td>\n",
       "      <td>0.101852</td>\n",
       "      <td>0.101758</td>\n",
       "      <td>0.167631</td>\n",
       "      <td>0.000000</td>\n",
       "    </tr>\n",
       "    <tr>\n",
       "      <th>50%</th>\n",
       "      <td>0.189139</td>\n",
       "      <td>0.003387</td>\n",
       "      <td>0.024862</td>\n",
       "      <td>0.000575</td>\n",
       "      <td>0.398182</td>\n",
       "      <td>0.505556</td>\n",
       "      <td>0.375465</td>\n",
       "      <td>0.406367</td>\n",
       "      <td>0.400376</td>\n",
       "      <td>0.402376</td>\n",
       "      <td>0.016109</td>\n",
       "      <td>24.500000</td>\n",
       "      <td>0.554104</td>\n",
       "      <td>0.583101</td>\n",
       "      <td>0.555659</td>\n",
       "      <td>0.567130</td>\n",
       "      <td>0.565217</td>\n",
       "      <td>0.565042</td>\n",
       "      <td>0.010358</td>\n",
       "    </tr>\n",
       "    <tr>\n",
       "      <th>75%</th>\n",
       "      <td>0.193954</td>\n",
       "      <td>0.005629</td>\n",
       "      <td>0.025227</td>\n",
       "      <td>0.000828</td>\n",
       "      <td>0.938182</td>\n",
       "      <td>0.937037</td>\n",
       "      <td>0.947955</td>\n",
       "      <td>0.937266</td>\n",
       "      <td>0.958647</td>\n",
       "      <td>0.943022</td>\n",
       "      <td>0.132962</td>\n",
       "      <td>30.000000</td>\n",
       "      <td>1.000000</td>\n",
       "      <td>1.000000</td>\n",
       "      <td>1.000000</td>\n",
       "      <td>1.000000</td>\n",
       "      <td>1.000000</td>\n",
       "      <td>1.000000</td>\n",
       "      <td>0.131598</td>\n",
       "    </tr>\n",
       "    <tr>\n",
       "      <th>max</th>\n",
       "      <td>0.214379</td>\n",
       "      <td>0.013969</td>\n",
       "      <td>0.027233</td>\n",
       "      <td>0.003091</td>\n",
       "      <td>0.981818</td>\n",
       "      <td>0.985185</td>\n",
       "      <td>0.988848</td>\n",
       "      <td>0.981273</td>\n",
       "      <td>0.992481</td>\n",
       "      <td>0.983667</td>\n",
       "      <td>0.152237</td>\n",
       "      <td>47.000000</td>\n",
       "      <td>1.000000</td>\n",
       "      <td>1.000000</td>\n",
       "      <td>1.000000</td>\n",
       "      <td>1.000000</td>\n",
       "      <td>1.000000</td>\n",
       "      <td>1.000000</td>\n",
       "      <td>0.161681</td>\n",
       "    </tr>\n",
       "  </tbody>\n",
       "</table>\n",
       "</div>"
      ],
      "text/plain": [
       "       mean_fit_time  std_fit_time  mean_score_time  std_score_time  \\\n",
       "count      48.000000     48.000000        48.000000       48.000000   \n",
       "mean        0.151402      0.004199         0.021846        0.000717   \n",
       "std         0.065173      0.003054         0.005518        0.000542   \n",
       "min         0.031157      0.000596         0.008932        0.000214   \n",
       "25%         0.085218      0.002087         0.021262        0.000473   \n",
       "50%         0.189139      0.003387         0.024862        0.000575   \n",
       "75%         0.193954      0.005629         0.025227        0.000828   \n",
       "max         0.214379      0.013969         0.027233        0.003091   \n",
       "\n",
       "       split0_test_score  split1_test_score  split2_test_score  \\\n",
       "count          48.000000          48.000000          48.000000   \n",
       "mean            0.492273           0.615972           0.492643   \n",
       "std             0.398570           0.295341           0.405191   \n",
       "min             0.101818           0.137037           0.100372   \n",
       "25%             0.101818           0.433333           0.100372   \n",
       "50%             0.398182           0.505556           0.375465   \n",
       "75%             0.938182           0.937037           0.947955   \n",
       "max             0.981818           0.985185           0.988848   \n",
       "\n",
       "       split3_test_score  split4_test_score  mean_test_score  std_test_score  \\\n",
       "count          48.000000          48.000000        48.000000       48.000000   \n",
       "mean            0.490559           0.499138         0.518158        0.054650   \n",
       "std             0.400978           0.407661         0.378686        0.058282   \n",
       "min             0.101124           0.101504         0.108389        0.003748   \n",
       "25%             0.101124           0.101504         0.167780        0.008626   \n",
       "50%             0.406367           0.400376         0.402376        0.016109   \n",
       "75%             0.937266           0.958647         0.943022        0.132962   \n",
       "max             0.981273           0.992481         0.983667        0.152237   \n",
       "\n",
       "       rank_test_score  split0_train_score  split1_train_score  \\\n",
       "count        48.000000           48.000000           48.000000   \n",
       "mean         22.833333            0.577056            0.717444   \n",
       "std          12.958745            0.417842            0.265482   \n",
       "min           1.000000            0.101679            0.394615   \n",
       "25%          12.500000            0.101679            0.430826   \n",
       "50%          24.500000            0.554104            0.583101   \n",
       "75%          30.000000            1.000000            1.000000   \n",
       "max          47.000000            1.000000            1.000000   \n",
       "\n",
       "       split2_train_score  split3_train_score  split4_train_score  \\\n",
       "count           48.000000           48.000000           48.000000   \n",
       "mean             0.576975            0.578414            0.577841   \n",
       "std              0.417956            0.418310            0.417269   \n",
       "min              0.102041            0.101852            0.101758   \n",
       "25%              0.102041            0.101852            0.101758   \n",
       "50%              0.555659            0.567130            0.565217   \n",
       "75%              1.000000            1.000000            1.000000   \n",
       "max              1.000000            1.000000            1.000000   \n",
       "\n",
       "       mean_train_score  std_train_score  \n",
       "count         48.000000        48.000000  \n",
       "mean           0.605546         0.056569  \n",
       "std            0.386502         0.065699  \n",
       "min            0.160389         0.000000  \n",
       "25%            0.167631         0.000000  \n",
       "50%            0.565042         0.010358  \n",
       "75%            1.000000         0.131598  \n",
       "max            1.000000         0.161681  "
      ]
     },
     "execution_count": 18,
     "metadata": {},
     "output_type": "execute_result"
    }
   ],
   "source": [
    "# Convert results to a DataFrame\n",
    "df = pd.DataFrame(mgse.cv_results_)\n",
    "\n",
    "# Generate descriptive statistics\n",
    "df.describe()"
   ]
  },
  {
   "cell_type": "markdown",
   "metadata": {},
   "source": [
    "-----\n",
    "\n",
    "Another benefit of creating a DataFrame from the cross-validation results is that we can employ the Pandas DataFrame support to create insight into the process. For example, the next two Code cells first create a pivot table on the hyperparameters where the value is the mean test score. This pivot table is converted into a heat map in the second Code cell, which demonstrates the joint impact of these hyperparameters on the score from the validation data. In this case, we see the previous relatively constant scoring once the `C` value exceeds zero is actually dependent on the value of `gamma`. Thus, this demonstrates how the joint score distribution from all hyperparameters is needed to find the best model.\n",
    "\n",
    "-----"
   ]
  },
  {
   "cell_type": "code",
   "execution_count": 19,
   "metadata": {},
   "outputs": [],
   "source": [
    "# Create pivot table of scores for grid parameters\n",
    "pvt = df.pivot('param_svc__C', 'param_svc__gamma', 'mean_test_score')"
   ]
  },
  {
   "cell_type": "code",
   "execution_count": 20,
   "metadata": {},
   "outputs": [
    {
     "data": {
      "image/png": "[encoded data removed]",
      "text/plain": [
       "<Figure size 720x576 with 2 Axes>"
      ]
     },
     "metadata": {
      "needs_background": "light"
     },
     "output_type": "display_data"
    }
   ],
   "source": [
    "# Create figure\n",
    "fig, axs = plt.subplots(figsize=(10,8))\n",
    "\n",
    "# Generate heatmap of scores\n",
    "axs = sns.heatmap(pvt, annot=True, square=True, ax=axs)\n",
    "\n",
    "# Decorate plot\n",
    "axs.set(title='Grid Search Scores', xlabel='$\\gamma$', ylabel='C') ;"
   ]
  },
  {
   "cell_type": "markdown",
   "metadata": {},
   "source": [
    "-----\n",
    "\n",
    "<font color='red' size = '5'> Student Exercise </font>\n",
    "\n",
    "In the preceding cells, we created a DataFrame from a grid search cross-validation using the SVC algorithm on the handwritten digit data set. Try making the following changes to the previous example and see if you can understand the results.\n",
    "\n",
    "1. The grid used in the previous example was rather coarse, try changing the number and locations of grid points in order to determine the best hyperparameter combination for the `C` and `gamma` hyperparameters. \n",
    "3. Try changing to a different classification algorithm such as the random forest classifier, and find the best hyperparameters combinations. Make a heatmap from two of the hyperparameters.\n",
    "\n",
    "-----"
   ]
  },
  {
   "cell_type": "markdown",
   "metadata": {},
   "source": [
    "We can also specify multiple grids, by creating a list of hyperparameter dictionaries. This can be used to explore combinations of hyperparameters that are not all of the same dimension. For example, if the SVC algorithm uses the _rbf_ kernel, we can test both the `C` and `gamma` hyperparameters. However, if the SVC algorithm uses the _linear_ kernel, we can only test the `C` hyperparameter. In this manner, we can construct multiple grids to evaluate all possible hyperparameter combinations, and determine the best set of hyperparameters for a given data set. \n",
    "\n",
    "We demonstrate this in the following Code cell, where we create two separate hyperparameter grids, one for a _linear_ SVC kernel, and one for the _rbf_ SVC kernel. The rest of the code is the same as before, and we determine and display the best hyperparameters, the best score, and the compute time.\n",
    "\n",
    "-----"
   ]
  },
  {
   "cell_type": "code",
   "execution_count": 21,
   "metadata": {
    "scrolled": true
   },
   "outputs": [
    {
     "name": "stdout",
     "output_type": "stream",
     "text": [
      "Compute time = 64.97 seconds.\n",
      "\n",
      "Best C=100.0000\n",
      "Best gamma=0.0100\n",
      "Best gamma=rbf\n",
      "Best CV Score = 0.984\n"
     ]
    }
   ],
   "source": [
    "# Start clock\n",
    "start = time()\n",
    "\n",
    "# Define two hyperparameter grids\n",
    "# one for linear kernel and one for rbf kernel\n",
    "params = list((dict(svc__kernel=['rbf'], \n",
    "                    svc__C=c_vals, \n",
    "                    svc__gamma=g_vals),\n",
    "              dict(svc__kernel=['linear'], \n",
    "                   svc__C=c_vals)))\n",
    "\n",
    "# Create grid search CV\n",
    "tgse = GridSearchCV(estimator=svp,\n",
    "                    param_grid=params,\n",
    "                    cv=skf, iid=True)\n",
    "\n",
    "# Fit cross validation estimator\n",
    "tgse.fit(x_train, y_train)\n",
    "\n",
    "# Compute and display results\n",
    "print(f'Compute time = {time() - start:4.2f} seconds.\\n')\n",
    "\n",
    "tgbe = tgse.best_estimator_\n",
    "print(f'Best C={tgbe.get_params()[\"svc__C\"]:5.4f}')\n",
    "print(f'Best gamma={tgbe.get_params()[\"svc__gamma\"]:5.4f}')\n",
    "print(f'Best gamma={tgbe.get_params()[\"svc__kernel\"]}')\n",
    "\n",
    "print(f'Best CV Score = {tgse.best_score_:4.3f}')"
   ]
  },
  {
   "cell_type": "markdown",
   "metadata": {},
   "source": [
    "-----\n",
    "\n",
    "[[Back to TOC]](#Table-of-Contents)\n",
    "\n",
    "### Parameter Grid\n",
    "\n",
    "When dealing with many hyperparameters, it can be challenging to track all combinations. A better approach is a programmatic interface that automatically constructs a grid of all possible combinations that can be used in a grid search. The scikit learn library provides this interface through the [`ParameterGrid`][skpg] iterator. This iterator enables the grid search to iterate through all possible hyperparameter combinations in a simple manner. \n",
    "\n",
    "The following Code cell demonstrates how to use this iterator. First, we create the iterator by passing in our parameter dictionary. In this case, we have forty-eight grid points: eight values for $\\gamma$ and six values for `C`. Next, we select one grid point and extract the dictionary of hyperparameters and their values for display.\n",
    "\n",
    "-----\n",
    "\n",
    "[skpg]: http://scikit-learn.org/stable/modules/generated/sklearn.model_selection.ParameterGrid.html"
   ]
  },
  {
   "cell_type": "code",
   "execution_count": 22,
   "metadata": {},
   "outputs": [
    {
     "name": "stdout",
     "output_type": "stream",
     "text": [
      "Number of grid points = 54\n",
      "\n",
      "First grid hyperameter values:\n",
      "    Parameter: svc__kernel = rbf\n",
      "    Parameter: svc__gamma = 1e-07\n",
      "    Parameter: svc__C = 0.01\n"
     ]
    }
   ],
   "source": [
    "from sklearn.model_selection import ParameterGrid\n",
    "\n",
    "# Create the parameter grid\n",
    "pg = ParameterGrid(params)\n",
    "\n",
    "# Display results from the parameter grid\n",
    "print(f'Number of grid points = {len(pg)}\\n')\n",
    "\n",
    "# Each point in grid has a dictionary of hyperparameters\n",
    "print(f'First grid hyperameter values:')\n",
    "for k, v in pg[0].items():\n",
    "    print(f'    Parameter: {k} = {v}')"
   ]
  },
  {
   "cell_type": "markdown",
   "metadata": {},
   "source": [
    "-----\n",
    "\n",
    "[[Back to TOC]](#Table-of-Contents)\n",
    "\n",
    "## Randomized Grid Search\n",
    "\n",
    "For a large number of hyperparameters, the number of possible combinations quickly becomes excessive. Since we must evaluate the model for each possible combination of parameters, model selection with standard grid selection can become computationally intractable. An alternative approach is to randomly select possible hyperparameter combinations from the supplied grid of values to identify good parameter combinations.\n",
    "\n",
    "In the following Code cell, we demonstrate a random grid search by using the [`RandomizedSearchCV`][skrgs] estimator. First, we pass in our support vector machine pipeline, along with the parameter grid, and the number of parameter values to sample. As this last value increases, more parameter value combinations are sampled. These values are sampled randomly from a distribution for each parameter. If a list of values is provided (as we have done with previous grid searches), the values are randomly sampled from the list. Alternatively, a random distribution can be used. The requirement for these distributions is that they must contain an `rvs` method, which is provided by the random distributions in the `scipy.stats` module. \n",
    "\n",
    "We demonstrate both of these techniques in the example below, which computes scores for twenty different parameter combinations. In the second Code cell, we extract the best estimator and display the optimal parameters and associated score. Note that, while not the guaranteed best score (and hyperparameter values), the value is close. Thus, the random search cross-validation can be useful to get reasonable hyperparameters values much faster than with traditional techniques.\n",
    "\n",
    "-----\n",
    "\n",
    "[skrgs]: http://scikit-learn.org/stable/modules/generated/sklearn.model_selection.RandomizedSearchCV.html"
   ]
  },
  {
   "cell_type": "code",
   "execution_count": 23,
   "metadata": {
    "scrolled": true
   },
   "outputs": [
    {
     "name": "stdout",
     "output_type": "stream",
     "text": [
      "Compute time = 9.73 seconds for 20 parameter combinations\n"
     ]
    }
   ],
   "source": [
    "from sklearn.model_selection import RandomizedSearchCV\n",
    "import  scipy.stats as st\n",
    "\n",
    "# Start clock\n",
    "start = time()\n",
    "\n",
    "# Number of random parameter samples\n",
    "num_samples = 20\n",
    "\n",
    "# Create parameter grid, by using explicit dictionary\n",
    "pd = {'svc__C': st.uniform(0, 250),\n",
    "      'svc__gamma': g_vals}\n",
    " \n",
    "# Run randomized search\n",
    "rscv = RandomizedSearchCV(svp, param_distributions=pd,\n",
    "                          n_iter=num_samples, iid=True)\n",
    "\n",
    "# Fit grid search estimator and display results\n",
    "rscv.fit(x_train, y_train)\n",
    "print(f'Compute time = {time() - start:4.2f} seconds', end='')\n",
    "print(f' for {num_samples} parameter combinations')"
   ]
  },
  {
   "cell_type": "code",
   "execution_count": 24,
   "metadata": {},
   "outputs": [
    {
     "name": "stdout",
     "output_type": "stream",
     "text": [
      "Best C=244.0775\n",
      "Best gamma=0.0100\n",
      "Best CV Score = 0.984\n"
     ]
    }
   ],
   "source": [
    "# Get best esimtator\n",
    "be = rscv.best_estimator_\n",
    "\n",
    "# Display parameter values\n",
    "print(f'Best C={be.get_params()[\"svc__C\"]:5.4f}')\n",
    "print(f'Best gamma={be.get_params()[\"svc__gamma\"]:5.4f}')\n",
    "\n",
    "# Display best score\n",
    "print(f'Best CV Score = {rscv.best_score_:4.3f}')"
   ]
  },
  {
   "cell_type": "markdown",
   "metadata": {},
   "source": [
    "-----\n",
    "\n",
    "[[Back to TOC]](#Table-of-Contents)\n",
    "\n",
    "## Nested Cross Validation\n",
    "\n",
    "Depending on the size of the available training data, we can also nest cross-validation techniques to enable all data to be used for training, validating, and testing. This can prove useful when the data are not excessively large and they span a wide space. If all data is not used to construct the model, we risk the model failing to recognize a particular aspect of the data. For example, if there are ten instances in our data set and only one contains information about an event, the only way our model _knows_ about the event is if that data is part of the training process. Of course, this means our final model predictions are not as robust as they would be if the model predicted on entirely unseen data, but it can be a worthwhile compromise in these special situations.\n",
    "\n",
    "In the following Code cell we demonstrate nested cross-validation. First, we apply a stratified k-fold cross-validation to create testing and training data from our full digit data. Inside the loop we create a grid search cross-validation estimator that also uses stratified k-fold cross-validation. We train this grid search estimator on our original training data. But in this case, however, the original training data is split into a training and validation data set. We display the score and selected parameter values from the best estimator for each outer cross-validation fold. \n",
    "\n",
    "Note how the computational time for each fold is over one minute, which demonstrates the large computational ties that can result when using large grid searches to determine optimal model hyperparameters. In the end, multiple folds recommend the same set of hyperparameters. For a production system, we likely would want to explore the hyperparameter space at a finer resolution (perhaps first running a coarse grid to define the general space beforehand).\n",
    "\n",
    "\n",
    "----\n",
    "\n"
   ]
  },
  {
   "cell_type": "code",
   "execution_count": 25,
   "metadata": {},
   "outputs": [
    {
     "name": "stdout",
     "output_type": "stream",
     "text": [
      "\n",
      "Fold 1 results:\n",
      "--------------------\n",
      "Best CV Score = 0.948\n",
      "Best Kernel = rbf\n",
      "Best C      = 100.0000\n",
      "Best gamma  = 0.0100\n",
      "Fold time 72.96 seconds\n",
      "--------------------\n",
      "\n",
      "Fold 2 results:\n",
      "--------------------\n",
      "Best CV Score = 0.960\n",
      "Best Kernel = rbf\n",
      "Best C      = 1000.0000\n",
      "Best gamma  = 0.0000\n",
      "Fold time 72.89 seconds\n",
      "--------------------\n",
      "\n",
      "Fold 3 results:\n",
      "--------------------\n",
      "Best CV Score = 0.953\n",
      "Best Kernel = rbf\n",
      "Best C      = 10.0000\n",
      "Best gamma  = 0.0100\n",
      "Fold time 73.74 seconds\n",
      "--------------------\n",
      "\n",
      "Fold 4 results:\n",
      "--------------------\n",
      "Best CV Score = 0.957\n",
      "Best Kernel = rbf\n",
      "Best C      = 10.0000\n",
      "Best gamma  = 0.0100\n",
      "Fold time 72.74 seconds\n",
      "--------------------\n",
      "\n",
      "Fold 5 results:\n",
      "--------------------\n",
      "Best CV Score = 0.961\n",
      "Best Kernel = linear\n",
      "Best C      = 0.1000\n",
      "Fold time 70.78 seconds\n",
      "--------------------\n"
     ]
    }
   ],
   "source": [
    "# Define the inner fold\n",
    "idx = 1\n",
    "\n",
    "# We iterate over folds to ensure no bias from random kfold\n",
    "for train, test in skf.split(x, y):\n",
    "\n",
    "    # Start clock\n",
    "    start = time()\n",
    "\n",
    "    # Inititialize grid search\n",
    "    ngse = GridSearchCV(estimator=svp,\n",
    "                    param_grid=params,\n",
    "                    cv=skf, iid=True)\n",
    "    \n",
    "    # Fit to this folds training data    \n",
    "    ngse.fit(x[train], y[train])\n",
    "    \n",
    "    ngbe = ngse.best_estimator_\n",
    "    \n",
    "    # Display results\n",
    "    print(f'\\nFold {idx} results:')\n",
    "    print(20*'-')\n",
    "    print(f'Best CV Score = {ngse.best_score_:4.3f}')\n",
    "    print(f'Best Kernel = {ngbe.get_params()[\"svc__kernel\"]}')\n",
    "    print(f'Best C      = {ngbe.get_params()[\"svc__C\"]:5.4f}')\n",
    "    \n",
    "    # Only output gamma for rbf kernels\n",
    "    if ngbe.get_params()[\"svc__kernel\"] == 'rbf':\n",
    "        print(f'Best gamma  = {ngbe.get_params()[\"svc__gamma\"]:5.4f}')\n",
    "\n",
    "    print(f'Fold time {time() - start:4.2f} seconds')\n",
    "    print(20*'-', end='\\n')\n",
    "\n",
    "    # Increment fold counter\n",
    "    idx += 1"
   ]
  },
  {
   "cell_type": "markdown",
   "metadata": {},
   "source": [
    "-----\n",
    "\n",
    "## Ancillary Information\n",
    "\n",
    "The following links are to additional documentation that you might find helpful in learning this material. Reading these web-accessible documents is completely optional.\n",
    "\n",
    "1. The scikit learn library’s [introduction][1] to hyperparameter tuning\n",
    "1. A discussion on [grid search][2] for algorithmic tuning from the machine learning mastery website\n",
    "\n",
    "2. The Wikipedia article on [hyperparameters][3]\n",
    "\n",
    "\n",
    "-----\n",
    "\n",
    "[1]: http://scikit-learn.org/stable/modules/grid_search.html\n",
    "[2]: https://machinelearningmastery.com/how-to-tune-algorithm-parameters-with-scikit-learn/\n",
    "[3]: https://en.wikipedia.org/wiki/Hyperparameter_(machine_learning)"
   ]
  },
  {
   "cell_type": "markdown",
   "metadata": {
    "deletable": false,
    "editable": false
   },
   "source": [
    "**&copy; 2017: Robert J. Brunner at the University of Illinois.**\n",
    "\n",
    "This notebook is released under the [Creative Commons license CC BY-NC-SA 4.0][ll]. Any reproduction, adaptation, distribution, dissemination or making available of this notebook for commercial use is not allowed unless authorized in writing by the copyright holder.\n",
    "\n",
    "[ll]: https://creativecommons.org/licenses/by-nc-sa/4.0/legalcode"
   ]
  }
 ],
 "metadata": {
  "kernelspec": {
   "display_name": "Python 3",
   "language": "python",
   "name": "python3"
  },
  "language_info": {
   "codemirror_mode": {
    "name": "ipython",
    "version": 3
   },
   "file_extension": ".py",
   "mimetype": "text/x-python",
   "name": "python",
   "nbconvert_exporter": "python",
   "pygments_lexer": "ipython3",
   "version": "3.6.7"
  }
 },
 "nbformat": 4,
 "nbformat_minor": 1
}
