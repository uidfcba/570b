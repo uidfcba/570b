{
 "cells": [
  {
   "cell_type": "markdown",
   "metadata": {},
   "source": [
    "# Module 8: Lesson 1\n",
    "\n",
    "-----\n",
    "\n",
    "## Introduction to Anomaly Detection\n",
    "\n",
    "This lesson introduces the concept of an anomaly and how different approaches can be used to identify them.\n",
    "\n",
    "\n",
    "### Objectives\n",
    "\n",
    "By the end of this lesson, you will be able to\n",
    "\n",
    "- describe how to identify an anomaly,\n",
    "- articulate different types of anomalies, and\n",
    "- explain ways that accountants might encounter and identify anomalies.\n",
    "\n",
    "### Time Estimate\n",
    "\n",
    "Approximately 1 hour.\n",
    "\n",
    "### Activities\n",
    "\n",
    "Reading: Learn how accountants can use [big data to fight fraud][abdf] in this article by Professor Sean Smith.\n",
    "\n",
    "Reading: Read about [data analytic techniques][datf] that can be used for fraud detection in this Wikipedia post.\n",
    "\n",
    "Reading: Learn how [fraud detection][dfd] can be used to grow margins in retail operations in this Deloitte article.\n",
    "\n",
    "Reading: Learn how machine learning is being deployed to improve  [fraud detection][rf] in retail markets in this ZDNet article by George Anadiotis.\n",
    "\n",
    "Video: Watch the [Introduction to Anomaly Detection ][odv] video, which will discuss outlier detection and its applications. \n",
    "\n",
    "------\n",
    "\n",
    "\n",
    "[datf]: https://en.wikipedia.org/wiki/Data_analysis_techniques_for_fraud_detection\n",
    "\n",
    "[dfd]: http://deloitte.wsj.com/riskandcompliance/2014/01/28/detecting-fraud-and-growing-margins-using-analytics-in-retail/\n",
    "\n",
    "[abdf]: https://www.accountingweb.com/practice/practice-excellence/3-ways-accountants-can-use-big-data-to-fight-fraud\n",
    "\n",
    "[rf]: http://www.zdnet.com/article/machine-learning-versus-online-retail-fraud/\n",
    "\n",
    "[odv]: https://mediaspace.illinois.edu/media/t/1_k1b03njx"
   ]
  },
  {
   "cell_type": "markdown",
   "metadata": {
    "deletable": false,
    "editable": false
   },
   "source": [
    "**&copy; 2017: Robert J. Brunner at the University of Illinois.**\n",
    "\n",
    "This notebook is released under the [Creative Commons license CC BY-NC-SA 4.0][ll]. Any reproduction, adaptation, distribution, dissemination or making available of this notebook for commercial use is not allowed unless authorized in writing by the copyright holder.\n",
    "\n",
    "[ll]: https://creativecommons.org/licenses/by-nc-sa/4.0/legalcode "
   ]
  }
 ],
 "metadata": {
  "kernelspec": {
   "display_name": "Python 3",
   "language": "python",
   "name": "python3"
  },
  "language_info": {
   "codemirror_mode": {
    "name": "ipython",
    "version": 3
   },
   "file_extension": ".py",
   "mimetype": "text/x-python",
   "name": "python",
   "nbconvert_exporter": "python",
   "pygments_lexer": "ipython3",
   "version": "3.6.7"
  }
 },
 "nbformat": 4,
 "nbformat_minor": 2
}
