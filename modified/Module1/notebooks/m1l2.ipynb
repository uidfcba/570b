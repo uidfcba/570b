{
 "cells": [
  {
   "cell_type": "markdown",
   "metadata": {},
   "source": [
    "# Module 1: Lesson 2\n",
    "\n",
    "-----\n",
    "\n",
    "## Introduction to Machine Learning\n",
    "\n",
    "This lesson introduces the four types of data analytics that are commonly used in business communities. Next, the basic tasks of machine learning are introduced, including data cleaning and pre-processing. Finally,  the four main categories of machine learning: classification, regression, clustering, and dimensional reduction are introduced as well as how to persist machine learning models.\n",
    "\n",
    "### Objectives\n",
    "\n",
    "By the end of this lesson, you will be able to:\n",
    "\n",
    "- explain the difference between supervised and unsupervised learning,\n",
    "- explain the difference between regression and classification,\n",
    "- articulate the basics of clustering and dimensional reduction, and\n",
    "- use the scikit learn library to perform basic machine learning tasks.\n",
    "\n",
    "### Time Estimate\n",
    "\n",
    "Approximately 2 hours.\n",
    "\n",
    "### Activities \n",
    "\n",
    "Reading: The four types of [data analytics][b4da] encountered in data science.\n",
    "\n",
    "Video: Watch the [Introduction to Machine Learning ][imlv] video, which will introduce the fundamental concepts in machine learning that will be covered in more detail in the rest of this course.\n",
    "\n",
    "Notebook: Read and complete the practice exercises in the [Introduction to Machine Learning][intro2ml] notebook.\n",
    "\n",
    "------\n",
    "\n",
    "[b4da]: http://insights.principa.co.za/4-types-of-data-analytics-descriptive-diagnostic-predictive-prescriptive\n",
    "[imlv]: https://mediaspace.illinois.edu/media/t/1_67gssl6t\n",
    "[intro2ml]: intro2ml.ipynb"
   ]
  },
  {
   "cell_type": "markdown",
   "metadata": {
    "deletable": false,
    "editable": false
   },
   "source": [
    "**&copy; 2017: Robert J. Brunner at the University of Illinois.**\n",
    "\n",
    "This notebook is released under the [Creative Commons license CC BY-NC-SA 4.0][ll]. Any reproduction, adaptation, distribution, dissemination or making available of this notebook for commercial use is not allowed unless authorized in writing by the copyright holder.\n",
    "\n",
    "[ll]: https://creativecommons.org/licenses/by-nc-sa/4.0/legalcode"
   ]
  }
 ],
 "metadata": {
  "kernelspec": {
   "display_name": "Python 3",
   "language": "python",
   "name": "python3"
  },
  "language_info": {
   "codemirror_mode": {
    "name": "ipython",
    "version": 3
   },
   "file_extension": ".py",
   "mimetype": "text/x-python",
   "name": "python",
   "nbconvert_exporter": "python",
   "pygments_lexer": "ipython3",
   "version": "3.6.7"
  }
 },
 "nbformat": 4,
 "nbformat_minor": 2
}
