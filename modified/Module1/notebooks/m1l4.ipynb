{
 "cells": [
  {
   "cell_type": "markdown",
   "metadata": {},
   "source": [
    "# Module 1: Lesson 4\n",
    "\n",
    "-----\n",
    "\n",
    "## Introduction to k-Nearest Neighbors\n",
    "\n",
    "This lesson in this model introduces the concept of neighbor algorithms, the most well-known of which is the k-nearest neighbors (or k-nn) algorithm. This algorithm is a lazy evaluator, non-parametric technique that simply uses the properties of the training data that lie closest to the point of interest to make predictions about the new data. This algorithm is known as a lazy evaluator since there is no training phase, the prediction phase simply uses the training data properties to make predictions directly. In addition, this is a non-parametric technique since there is no formal model with parameters that must be learned.\n",
    "\n",
    "### Objectives\n",
    "\n",
    "By the end of this lesson, you will be able to\n",
    "\n",
    "- articulate the basic concepts behind the k-nearest neighbor algorithm,\n",
    "- apply k-nn in a Python data analytics script by using the scikit learn library, and\n",
    "- identify the class of tasks where this algorithm can be successfully applied.\n",
    "\n",
    "### Time Estimate\n",
    "\n",
    "Approximately 2 hours.\n",
    "\n",
    "### Activities \n",
    "\n",
    "Video: Watch the [introduction to k-nn][knnv] video, which will demonstrate the basic concepts of the k-nearest neighbors algorithm and how this algorithm can be applied in practice for either classification or regression.\n",
    "\n",
    "Notebook: Read and complete the practice exercises in the [Introduction to k-nn][intro2knn] notebook.\n",
    "\n",
    "------\n",
    "\n",
    "[knnv]: https://mediaspace.illinois.edu/media/t/1_mk27uzqg\n",
    "[intro2knn]: intro2knn.ipynb"
   ]
  },
  {
   "cell_type": "markdown",
   "metadata": {
    "deletable": false,
    "editable": false
   },
   "source": [
    "**&copy; 2017: Robert J. Brunner at the University of Illinois.**\n",
    "\n",
    "This notebook is released under the [Creative Commons license CC BY-NC-SA 4.0][ll]. Any reproduction, adaptation, distribution, dissemination or making available of this notebook for commercial use is not allowed unless authorized in writing by the copyright holder.\n",
    "\n",
    "[ll]: https://creativecommons.org/licenses/by-nc-sa/4.0/legalcode"
   ]
  }
 ],
 "metadata": {
  "kernelspec": {
   "display_name": "Python 3",
   "language": "python",
   "name": "python3"
  },
  "language_info": {
   "codemirror_mode": {
    "name": "ipython",
    "version": 3
   },
   "file_extension": ".py",
   "mimetype": "text/x-python",
   "name": "python",
   "nbconvert_exporter": "python",
   "pygments_lexer": "ipython3",
   "version": "3.6.7"
  }
 },
 "nbformat": 4,
 "nbformat_minor": 2
}
