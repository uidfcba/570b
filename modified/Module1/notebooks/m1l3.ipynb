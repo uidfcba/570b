{
 "cells": [
  {
   "cell_type": "markdown",
   "metadata": {},
   "source": [
    "# Module 1: Lesson 3\n",
    "\n",
    "-----\n",
    "\n",
    "## Introduction to Linear Regression\n",
    "\n",
    "This lesson builds on the ordinary linear regression concept, introduced in the first eight week course, to discuss linear regression as a machine learning task. Regression, or the creation of a predictive model from data, is one of the key machine learning tasks. By using linear regression, which can often be solved analytically, we will introduce the concept of minimizing a cost function to determine the optimal model parameters in a straight-forward manner.\n",
    "\n",
    "### Objectives\n",
    "\n",
    "By the end of this lesson, you will be able to\n",
    "\n",
    "- explain the role of the loss function in machine learning,\n",
    "- articulate how to compute a regression on multiple variables,\n",
    "- explain the different statistical measures that quantify the quality of a regression, \n",
    "- utilize categorical variables in a machine learning model, and\n",
    "- compute a linear regression mode by using the scikit_learn and statsmodel libraries.\n",
    "\n",
    "### Time Estimate\n",
    "\n",
    "Approximately 2 hours.\n",
    "\n",
    "### Activities\n",
    "\n",
    "Video: Watch the [Introduction to Linear Regression ][ilrv] video, which will demonstrate how linear regression can be treated as a machine learning task.\n",
    "\n",
    "Notebook: Read and complete the practice exercises in the [Introduction to Linear Regression][intro2lr] notebook.\n",
    "\n",
    "------\n",
    "\n",
    "[ilrv]: https://mediaspace.illinois.edu/media/t/1_vycy6fwf\n",
    "[intro2lr]: intro2regress.ipynb"
   ]
  },
  {
   "cell_type": "markdown",
   "metadata": {
    "deletable": false,
    "editable": false
   },
   "source": [
    "**&copy; 2017: Robert J. Brunner at the University of Illinois.**\n",
    "\n",
    "This notebook is released under the [Creative Commons license CC BY-NC-SA 4.0][ll]. Any reproduction, adaptation, distribution, dissemination or making available of this notebook for commercial use is not allowed unless authorized in writing by the copyright holder.\n",
    "\n",
    "[ll]: https://creativecommons.org/licenses/by-nc-sa/4.0/legalcode"
   ]
  }
 ],
 "metadata": {
  "kernelspec": {
   "display_name": "Python 3",
   "language": "python",
   "name": "python3"
  },
  "language_info": {
   "codemirror_mode": {
    "name": "ipython",
    "version": 3
   },
   "file_extension": ".py",
   "mimetype": "text/x-python",
   "name": "python",
   "nbconvert_exporter": "python",
   "pygments_lexer": "ipython3",
   "version": "3.6.7"
  }
 },
 "nbformat": 4,
 "nbformat_minor": 2
}
