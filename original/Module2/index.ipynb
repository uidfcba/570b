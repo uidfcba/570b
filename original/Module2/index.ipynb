{
 "cells": [
  {
   "cell_type": "markdown",
   "metadata": {},
   "source": [
    "# Module 2: Fundamental Algorithms\n",
    "\n",
    "This module introduces several of the most important machine learning algorithms: logistic regression, decision trees, and support vector machine. Of these three algorithms, the first, logistic regression, is a classification algorithm (despite its name). The other two, however, can be used for either classification or regression tasks. Thus, this module will dive deeper into the concept of machine classification, where algorithms learn from existing, labeled data to classify new, unseen data into specific categories; and, the concept of machine regression, where algorithms learn a model from data to make predictions for new, unseen data. While these algorithms all differ in their mathematical underpinnings, they are often used for classifying numerical, text, and image data or performing regression in a variety of domains. This module will also review different techniques for quantifying the performance of a classification and regression algorithms and also how to deal with imbalanced training data.\n",
    "\n",
    "## Learning Objectives\n",
    "\n",
    "#### By the end of this module, you should be able to:\n",
    "\n",
    "- articulate the basic process of machine classification and describe how it can be applied to a specific predictive challenge,\n",
    "- articulate the basic concept of machine regression and describe how it can be applied to a specific predictive challenge,\n",
    "- describe the basic concepts behind the logistic regression, decision tree,  and support vector machine algorithms,\n",
    "- apply  the logistic regression, decision tree,  and support vector machine algorithms to classification challenges by writing Python analysis scripts that use the scikit learn library, \n",
    "- apply  the decision tree  and support vector machine algorithms to regression challenges by writing Python analysis scripts that use the scikit learn library,\n",
    "- quantify the performance of a machine classification and machine regression analysis, and\n",
    "- work effectively with imbalanced training classes.\n",
    "\n",
    "### Activities and Assignments\n",
    "\n",
    "| Activities and Assignments               | Time Estimate | Deadline* | Points |\n",
    "| :--------------------------------------- | ------------- | --------- | -----: |\n",
    "| **[Module 2 Overview Video][wv]**        | 10 Minutes    | Tuesday   |    N/A |\n",
    "| **[Module 2 Lesson 1: Digital Supply Chains][nb1]** | 1 Hour        | Thursday  |    N/A |\n",
    "| **[Module 2 Lesson 2: Introduction to Logistic Regression][nb2]** | 2 Hours       | Thursday  |    N/A |\n",
    "| **[Module 2 Lesson 3: Introduction to Decision Trees][nb3]** | 2 Hours       | Thursday  |    N/A |\n",
    "| **[Module 2 Lesson 4: Introduction to Support Vector Machine][nb4]** | 2 Hours       | Thursday  |    N/A |\n",
    "\n",
    "*Please note that unless otherwise noted, the due time is 6pm Central time!\n",
    "\n",
    "----------\n",
    "\n",
    "[nb1]: notebooks/m2l1.ipynb\n",
    "[nb2]: notebooks/m2l2.ipynb\n",
    "[nb3]: notebooks/m2l3.ipynb\n",
    "[nb4]: notebooks/m2l4.ipynb\n",
    "\n",
    "[wv]: https://mediaspace.illinois.edu/media/t/1_e5sxqskd"
   ]
  }
 ],
 "metadata": {
  "kernelspec": {
   "display_name": "Python 3",
   "language": "python",
   "name": "python3"
  },
  "language_info": {
   "codemirror_mode": {
    "name": "ipython",
    "version": 3
   },
   "file_extension": ".py",
   "mimetype": "text/x-python",
   "name": "python",
   "nbconvert_exporter": "python",
   "pygments_lexer": "ipython3",
   "version": "3.6.1"
  }
 },
 "nbformat": 4,
 "nbformat_minor": 2
}
