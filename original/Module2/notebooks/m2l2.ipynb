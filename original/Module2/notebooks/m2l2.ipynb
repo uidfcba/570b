{
 "cells": [
  {
   "cell_type": "markdown",
   "metadata": {},
   "source": [
    "# Module 2: Lesson 2\n",
    "\n",
    "-----\n",
    "\n",
    "##  Introduction to Logistic Regression\n",
    "\n",
    "This lesson introduces the logistic regression algorithm, which despite its name is applied to classification tasks.\n",
    "\n",
    "### Objectives\n",
    "\n",
    "By the end of this lesson, you will be able to:\n",
    "\n",
    "- articulate the basic concepts of logistic regression,\n",
    "- explain the benefits of using Logistic Regression, and\n",
    "- apply logistic regression by using Python via the scikit learn library.\n",
    "\n",
    "### Time Estimate\n",
    "\n",
    "Approximately 2 hours.\n",
    "\n",
    "### Activities \n",
    "\n",
    "Video: Watch the [Introduction to Logistic Regression][ilrv] video, which will demonstrate how the algorithm works, and how to apply it to classification tasks.\n",
    "\n",
    "Notebook: Read and complete the practice exercises in the [Introduction to Logistic Regression][intro2logit] notebook.\n",
    "\n",
    "------\n",
    "\n",
    "[intro2logit]: intro2lr.ipynb\n",
    "\n",
    "[ilrv]: https://mediaspace.illinois.edu/media/t/1_9l59c37y\n",
    "\n"
   ]
  }
 ],
 "metadata": {
  "kernelspec": {
   "display_name": "Python 3",
   "language": "python",
   "name": "python3"
  },
  "language_info": {
   "codemirror_mode": {
    "name": "ipython",
    "version": 3
   },
   "file_extension": ".py",
   "mimetype": "text/x-python",
   "name": "python",
   "nbconvert_exporter": "python",
   "pygments_lexer": "ipython3",
   "version": "3.6.1"
  }
 },
 "nbformat": 4,
 "nbformat_minor": 2
}
