{
 "cells": [
  {
   "cell_type": "markdown",
   "metadata": {},
   "source": [
    "# Introduction to Logistic Regression\n",
    "\n",
    "-----"
   ]
  },
  {
   "cell_type": "markdown",
   "metadata": {},
   "source": [
    "In previous notebooks, we have seen how to perform linear regression on input data to predict a continuous value. In some cases, however, we wish to predict a categorical value, such as _True/False_ or _Yes/No_. Traditional regression methods are not optimal for these problems, since this requires the prediction of a discrete and not continuous value. In this notebook we introduce a technique that simulates linear regression, but with an additional function employed that maps the continuous value predicted by linear regression methods into a probability, or specifically the range $[0, 1]$. In this manner, we can apply a threshold to this probability to predict a binary response.\n",
    "\n",
    "While several functions might be suitable for this transformation, the most popular\n",
    "function is the [_logit_ function][wlf]. Note that some older analyses might reference the [_probit_ function][wpf]. Performing regression by using the logit function is known as [logistic regression][wlr] (the inverse of the logit function is known as the [_logistic_ function][wlcf]). The name might seem confusing since technically this algorithm is used to perform classification, but since logistic regression borrows heavily in its approach from linear regression, the descriptive name was maintained. A major benefit of logistic regression is the creation of a parametric model that can be explored to understand why predictions are made, in the same manner as a linear regression model.\n",
    "\n",
    "In this notebook, we introduce the logit function and how it can be used to construct a binary model. Next, we introduce logistic regression, and specifically show how logistic regression can be performed by using estimators from the scikit-learn library. We also introduce several popular performance metrics and show how they can be calculated for binary classification tasks. We demonstrate logistic regression on several data sets, including one that contains categorical features. We also demonstrate how to perform logistic regression by using the statsmodels module with a formula interface, and introduce how to use this same formula interface with scikit-learn estimators. Finally, we discuss topics such as marginal effects and odds ratios, which are concepts that often prove useful in interpreting logistic regression models.\n",
    "\n",
    "-----\n",
    "[wlr]: https://en.wikipedia.org/wiki/Logistic_regression\n",
    "[wlf]: https://en.wikipedia.org/wiki/Logit\n",
    "[wpf]: https://en.wikipedia.org/wiki/Probit\n",
    "[wlcf]: https://en.wikipedia.org/wiki/Logistic_function"
   ]
  },
  {
   "cell_type": "markdown",
   "metadata": {},
   "source": [
    "## Table of Contents\n",
    "\n",
    "[Formalism](#Formalism)\n",
    "\n",
    "- [Logit Function](#Logit-Function)\n",
    "- [Gradient Descent](#Gradient-Descent)\n",
    "- [Logistic Modelling](#Logistic-Modelling)\n",
    "\n",
    "[Logistic Regression](#Logistic-Regression)\n",
    "\n",
    "- [Performance Metrics](#Performance-Metrics)\n",
    "- [SGD Classifier](#SGD-Classifier)\n",
    "- [LR: Tips Data](#LR:-Tips-Data)\n",
    "- [Categorical Features](#Categorical-Features)\n",
    "- [Formula-Based Method](#Formula-Based-Method)\n",
    "- [Marginal Effects](#Marginal-Effects)\n",
    "- [Odds-Ratio](#Odds-Ratio)\n",
    "\n",
    "-----\n",
    "\n",
    "Before proceeding with the _Formalism_ section of this Notebook, we first have our standard notebook setup code.\n",
    "\n",
    "-----"
   ]
  },
  {
   "cell_type": "code",
   "execution_count": 1,
   "metadata": {
    "collapsed": true
   },
   "outputs": [],
   "source": [
    "# Set up Notebook\n",
    "\n",
    "% matplotlib inline\n",
    "\n",
    "# Standard imports\n",
    "import pandas as pd\n",
    "import numpy as np\n",
    "import matplotlib.pyplot as plt\n",
    "import seaborn as sns\n",
    "\n",
    "# We do this to ignore several specific warnings\n",
    "import warnings\n",
    "warnings.filterwarnings(\"ignore\")\n",
    "\n",
    "sns.set(style=\"white\")"
   ]
  },
  {
   "cell_type": "markdown",
   "metadata": {},
   "source": [
    "-----\n",
    "\n",
    "[[Back to TOC]](#Table-of-Contents)\n",
    "\n",
    "## Formalism\n",
    "\n",
    "-----"
   ]
  },
  {
   "cell_type": "markdown",
   "metadata": {},
   "source": [
    "In a binary classification process, we have two possible outcomes, which for the sake of generality, we can label as _Success_ or _Failure_. Denoting the probability of these two outcomes as $P(S)$ and $P(F)$ respectively, we can write the probability of success as $P(S) = p$, and the probability of failure as $P(F) = 1 - p$. Thus, the odds of a successful outcome, which is the ratio of the probability of success to the probability of failure, is given by the following expression:\n",
    "\n",
    "$\\textrm{Odds}(S) = \\frac{p}{1 - p}$\n",
    "\n",
    "We can extend the framework of _linear regression_ to the task of binary classification by employing a mapping between the continuous value predicted by a linear regressor and the probability of an event occurring, which is bounded by the range $[0, 1]$. To do this, we need a function that maps the real numbers into this range, which enables a regression onto a set of discrete values (0 or 1) that provides us the binary classification. One popular choice for this function is the _logit_ function, while another choice is the _probit_ function. The use of these functions for a classification task leads to _logistic regression_ or _probit regression_. While we focus in this notebook on the application of logistic regression for the binary classification task, this approach can be generalized to classify into more than two categories, this more advanced technique is known as [multinomial logistic regression][mlr].\n",
    "\n",
    "-----\n",
    "\n",
    "[mlr]: https://en.wikipedia.org/wiki/Multinomial_logistic_regression"
   ]
  },
  {
   "cell_type": "markdown",
   "metadata": {},
   "source": [
    "[[Back to TOC]](#Table-of-Contents)\n",
    "\n",
    "### Logit Function\n",
    "\n",
    "-----"
   ]
  },
  {
   "cell_type": "markdown",
   "metadata": {},
   "source": [
    "$\\DeclareMathOperator\\erf{erf}$\n",
    "\n",
    "The [_logit_ function][wl] is defined as the logarithm of the odds (i.e, $p/(1 - p)$), which is also known as the _log-odds_. Thus, the _logit_ function can be written for a probability of success $p$:\n",
    "\n",
    "$\\textrm{logit}(p) = \\log\\left(\\frac{p}{1 - p}\\right)$ where $0 \\leq p \\leq 1$. \n",
    "\n",
    "We can invert this relationship to obtain the [_logistic_ function][wlf], which for a parameter $\\alpha$ is defined by the following expression:\n",
    "\n",
    "$\\textrm{logit}^{-1}(\\alpha) = \\textrm{logistic}(\\alpha) = \\frac{1}{1 + \\exp{(-\\alpha})}$\n",
    "\n",
    "While the logistic function is most commonly used to perform this type of regression, a related function is the [_probit_ function][wp], which stands for _probability unit_ and is sometimes used in lieu of the _logit_ function. The _probit_ function is defined for a probability of success, $p$:\n",
    "\n",
    "$\\textrm{probit}(p) = \\sqrt{2}\\erf^{-1}(2p - 1)$ where $0 \\leq p \\leq 1$, and $\\erf$ is the [Error Function][wef].\n",
    "\n",
    "The logit function (and the probit function) is an _S_ shaped curve that converts real numbers into a probability. Both the logit and probit functions are related to the _sigmoid_ function, but are centered at the origin (0, 0). For the rest of this notebook, we will only consider the $\\textrm{logit}$ function. In the following Code cell, we plot the $\\textrm{logistic}$ function, or the inverse of the logit function, demonstrating how the real numbers can be mapped into the range $[0, 1]$.\n",
    "\n",
    "-----\n",
    "[wl]: https://en.wikipedia.org/wiki/Logit\n",
    "[wp]: https://en.wikipedia.org/wiki/Probit\n",
    "[wlf]: https://en.wikipedia.org/wiki/Logistic_function\n",
    "[wef]: https://en.wikipedia.org/wiki/Error_function\n",
    "[mlr]: https://en.wikipedia.org/wiki/Multinomial_logistic_regression"
   ]
  },
  {
   "cell_type": "code",
   "execution_count": 2,
   "metadata": {},
   "outputs": [
    {
     "data": {
      "image/png": "[encoded data removed]",
      "text/plain": [
       "<matplotlib.figure.Figure at 0x7fc5e076ed68>"
      ]
     },
     "metadata": {},
     "output_type": "display_data"
    }
   ],
   "source": [
    "# Create figure and axes\n",
    "fig, ax = plt.subplots(figsize=(10, 5))\n",
    "\n",
    "# Compute and plot logistic function\n",
    "x = np.linspace(-10, 10, 100)\n",
    "y = 1. / (1 + np.exp(-x))\n",
    "ax.plot(x, y, alpha=0.75)\n",
    "\n",
    "# Draw probability barrier\n",
    "ax.hlines(0.5, -10, 10, linestyles='--')\n",
    "\n",
    "# Decorate plot\n",
    "ax.set_xlabel(r'$\\alpha$', fontsize=16)\n",
    "ax.set_ylabel(r'$p$', fontsize=16)\n",
    "ax.set_title('Logistic Function', fontsize=18)\n",
    "sns.despine(offset = 2, trim=True)"
   ]
  },
  {
   "cell_type": "markdown",
   "metadata": {},
   "source": [
    "-----\n",
    "\n",
    "[[Back to TOC]](#Table-of-Contents)\n",
    "\n",
    "### Gradient Descent\n",
    "\n",
    "-----\n",
    "\n",
    "Given the previously defined _logistic_ function, we can develop the formalism of _logistic regression_ by first employing a linear regression model to predict a dependent variable from the set of independent features. Second, we apply the logistic function to the dependent variable in the linear regression model to make our binary classification prediction. Thus, if we have the following linear model:\n",
    "\n",
    "$ y = mx + b$\n",
    "\n",
    "the logistic regression model fits the following logistic model:\n",
    "\n",
    "$ \\textrm{logistic}(y) = \\frac{1}{1 + \\exp(-y)}$\n",
    "\n",
    "The generally used cost (or loss) function for logistic regression is the sum of the squared errors between the actual classes and the predicted classes. One of the most popular techniques for finding the minimum of this cost function is to use [_stochastic gradient descent_][wsgd]. [Gradient descent][wgd] computes the derivate of (or finds the slope of the tangent line to) the cost function at a particular point. This can be used to modify the parameters of our model to move in a direction that is expected to reach the minimum of the cost function. Standard gradient descent computes these corrections by summing up all the contributions from each training data point. In stochastic gradient descent (or **SGD**), however, the corrections are computed for each training point. As a result, SGD often generates a path towards the minimum that is somewhat rambling, but this has the benefit of avoiding local minima and being more robust.\n",
    "\n",
    "The following Code cell generates a figure to help explain gradient descent. A fictitious cost function is displayed, along with the tangent (or derivative) at a particular point. The arrows specify the direction that the derivative indicates we must move to reach the minimum. The repeated use of arrows signifies how an incremental approach to gradient descent, such as that employed by stochastic gradient descent, might converge to the true minimum of the cost function.\n",
    "\n",
    "----\n",
    "[wgd]: https://en.wikipedia.org/wiki/Gradient_descent\n",
    "[wsgd]: https://en.wikipedia.org/wiki/Stochastic_gradient_descent"
   ]
  },
  {
   "cell_type": "code",
   "execution_count": 3,
   "metadata": {},
   "outputs": [
    {
     "data": {
      "image/png": "[encoded data removed]",
      "text/plain": [
       "<matplotlib.figure.Figure at 0x7fc5dde31080>"
      ]
     },
     "metadata": {},
     "output_type": "display_data"
    }
   ],
   "source": [
    "# Create figure and axes\n",
    "fig, ax = plt.subplots(figsize=(10, 5))\n",
    "\n",
    "# Compute and plot logistic function\n",
    "x = np.linspace(-4, 4, 100)\n",
    "y = x**2\n",
    "ax.plot(x, y, alpha=0.75)\n",
    "\n",
    "# Draw probability barrier\n",
    "ax.plot([1, 2, 3], [0, 4, 8], ls='--')\n",
    "ax.scatter(0, 0, marker='x', c='r', s=100)\n",
    "\n",
    "# Add text and arrow annotations\n",
    "ax.annotate('Descent', xy=(1.75, 4), xytext=(2.0, 6), fontsize=14, \n",
    "    arrowprops=dict(arrowstyle=\"->\", linewidth=2))\n",
    "\n",
    "ax.annotate('Gradient', xy=(2, 4), xytext=(2.5, 1), fontsize=14, \n",
    "    arrowprops=dict(arrowstyle=\"->\", linewidth=2))\n",
    "\n",
    "ax.annotate('Minimum', xy=(0, 0), xytext=(-0.5, 8), fontsize=14,\n",
    "    arrowprops=dict(arrowstyle=\"->\", linewidth=2))\n",
    "\n",
    "# Add extra arrows\n",
    "ax.annotate('', xy=(1.45, 3), xytext=(1.75, 4), fontsize=14, \n",
    "    arrowprops=dict(arrowstyle=\"->\", linewidth=2))\n",
    "ax.annotate('', xy=(1.15, 2), xytext=(1.45, 3), fontsize=14, \n",
    "    arrowprops=dict(arrowstyle=\"->\", linewidth=2))\n",
    "ax.annotate('', xy=(0.65, 1), xytext=(1.15, 2), fontsize=14, \n",
    "    arrowprops=dict(arrowstyle=\"->\", linewidth=2))\n",
    "\n",
    "\n",
    "# Limit plot boundaries\n",
    "ax.set_xlim(-1, 3)\n",
    "ax.set_ylim(-0.5, 10)\n",
    "\n",
    "# Decorate plot\n",
    "ax.set_xlabel(r'$x$', fontsize=16)\n",
    "ax.set_ylabel(r'$y$', fontsize=16)\n",
    "ax.set_title('Gradient Descent Example', fontsize=18)\n",
    "sns.despine(offset = 2, trim=True)"
   ]
  },
  {
   "cell_type": "markdown",
   "metadata": {},
   "source": [
    "-----\n",
    "\n",
    "The scikit-learn library has a standard `LogisticRegression` and an `SGDRegression` estimator. In this notebook, we demonstrate both estimators; however, the latter is a general technique that uses SGD to minimize the cost function. By specifying the `log` value to the `loss` hyperparameter, we can use the `SGDRegression` estimator to perform logistic regression. This can be very useful, especially in a teaching situation, since, by default, the `LogisticRegression` estimator performs regularization, which we have not yet covered (but will in a later notebook). Regularization is a technique to minimize the likelihood of over-fitting and works by penalizing complex models, which, in effect, alters the coefficients of our logistic regression model. \n",
    "\n",
    "-----\n",
    "\n",
    "[[Back to TOC]](#Table-of-Contents)\n",
    "\n",
    "### Logistic Modelling\n",
    "\n",
    "Before introducing logistic regression, we first show how the logistic function can be used to model binary response data. For this purpose, we will use data from NASA on the relationship between the outside temperature when the space shuttle was launched, and the occurrence of a thermal failure of an O-ring on a booster rocket. We will use this data to create a predictive model between temperature and thermal failure; note that it is believed that the [failure of an O-ring][wsrb] on a solid rocket booster led to the Challenger disaster.\n",
    "\n",
    "The [actual data][ord] we use is hosted at the University of California at Irvine (UCI) machine learning data repository. The following two code cells first create the full path and filename for your local copy of this data. If this file already exists, the code displays a message to this effect, while if the file does not exist, we pull it from the UCI ML data repository. Note that this approach will be used repeatedly in these notebooks to grab new data sets from this repository.\n",
    "\n",
    "-----\n",
    "[wsrb]: https://en.wikipedia.org/wiki/Space_Shuttle_Solid_Rocket_Booster#Challenger_disaster\n",
    "[ord]: https://archive.ics.uci.edu/ml/machine-learning-databases/space-shuttle/"
   ]
  },
  {
   "cell_type": "code",
   "execution_count": 4,
   "metadata": {
    "collapsed": true
   },
   "outputs": [],
   "source": [
    "# O-ring data file from UCI ML Repository\n",
    "# https://archive.ics.uci.edu/ml/machine-learning-databases/space-shuttle/\n",
    "\n",
    "# First we find our HOME directory\n",
    "tmp = !echo $HOME\n",
    "\n",
    "# We construct the full path, below our \n",
    "# HOME directory to file location\n",
    "data_file=tmp[0] + '/work/data/o-ring-erosion-only.data'"
   ]
  },
  {
   "cell_type": "code",
   "execution_count": 5,
   "metadata": {},
   "outputs": [
    {
     "name": "stderr",
     "output_type": "stream",
     "text": [
      "--2018-02-18 19:26:42--  https://archive.ics.uci.edu/ml/machine-learning-databases/space-shuttle/o-ring-erosion-only.data\n",
      "Resolving archive.ics.uci.edu (archive.ics.uci.edu)... 128.195.10.249\n",
      "Connecting to archive.ics.uci.edu (archive.ics.uci.edu)|128.195.10.249|:443... connected.\n",
      "HTTP request sent, awaiting response... 200 OK\n",
      "Length: 322 [text/plain]\n",
      "Saving to: ‘/home/jovyan/work/data/o-ring-erosion-only.data’\n",
      "\n",
      "     0K                                                       100% 14.3M=0s\n",
      "\n",
      "2018-02-18 19:26:43 (14.3 MB/s) - ‘/home/jovyan/work/data/o-ring-erosion-only.data’ saved [322/322]\n",
      "\n"
     ]
    }
   ],
   "source": [
    "%%bash -s \"$data_file\"\n",
    "\n",
    "# Note, we passed in a Python variable above to the Bash script \n",
    "# which is then accessed via positional parameter, or $1 in this case.\n",
    "\n",
    "# First test if file of interest does not exist\n",
    "if [ ! -f \"$1\" ] ; then\n",
    "\n",
    "# If it does not exist, we grab the file from the Internet and\n",
    "# store it locally in the data directory\n",
    "\n",
    "wget -O \"$1\" https://archive.ics.uci.edu/ml/machine-learning-databases/space-shuttle/o-ring-erosion-only.data\n",
    "\n",
    "else\n",
    "    \n",
    "    echo \"File already exists locally.\"\n",
    "fi"
   ]
  },
  {
   "cell_type": "markdown",
   "metadata": {},
   "source": [
    "-----\n",
    "\n",
    "Now that the data have been acquired, we next read the data into a Pandas DataFrame. To simplify this process, we explicitly list the feature names, which were obtained from the UCI ML data repository (each data set includes both data and a description of the data). In this case, we have five features, the second of which, `Number_TD`, is the feature that we  wish to predict since it corresponds to the number of thermal failures. One caveat to this example is that normally the concept of success is denoted by one and failure by zero. This example, however, inverts that since zero thermal distresses indicates success.\n",
    "\n",
    "After reading in the data, we display a random sample of five instances. The second Code cell computes and displays descriptive statistics for the entire data set.\n",
    "\n",
    "------"
   ]
  },
  {
   "cell_type": "code",
   "execution_count": 6,
   "metadata": {},
   "outputs": [
    {
     "data": {
      "text/html": [
       "<div>\n",
       "<style scoped>\n",
       "    .dataframe tbody tr th:only-of-type {\n",
       "        vertical-align: middle;\n",
       "    }\n",
       "\n",
       "    .dataframe tbody tr th {\n",
       "        vertical-align: top;\n",
       "    }\n",
       "\n",
       "    .dataframe thead th {\n",
       "        text-align: right;\n",
       "    }\n",
       "</style>\n",
       "<table border=\"1\" class=\"dataframe\">\n",
       "  <thead>\n",
       "    <tr style=\"text-align: right;\">\n",
       "      <th></th>\n",
       "      <th>Number</th>\n",
       "      <th>Number_TD</th>\n",
       "      <th>Temperature</th>\n",
       "      <th>Pressure</th>\n",
       "      <th>Order</th>\n",
       "    </tr>\n",
       "  </thead>\n",
       "  <tbody>\n",
       "    <tr>\n",
       "      <th>3</th>\n",
       "      <td>6</td>\n",
       "      <td>0</td>\n",
       "      <td>68</td>\n",
       "      <td>50</td>\n",
       "      <td>4</td>\n",
       "    </tr>\n",
       "    <tr>\n",
       "      <th>15</th>\n",
       "      <td>6</td>\n",
       "      <td>0</td>\n",
       "      <td>75</td>\n",
       "      <td>200</td>\n",
       "      <td>16</td>\n",
       "    </tr>\n",
       "    <tr>\n",
       "      <th>19</th>\n",
       "      <td>6</td>\n",
       "      <td>0</td>\n",
       "      <td>79</td>\n",
       "      <td>200</td>\n",
       "      <td>20</td>\n",
       "    </tr>\n",
       "    <tr>\n",
       "      <th>6</th>\n",
       "      <td>6</td>\n",
       "      <td>0</td>\n",
       "      <td>73</td>\n",
       "      <td>100</td>\n",
       "      <td>7</td>\n",
       "    </tr>\n",
       "    <tr>\n",
       "      <th>4</th>\n",
       "      <td>6</td>\n",
       "      <td>0</td>\n",
       "      <td>67</td>\n",
       "      <td>50</td>\n",
       "      <td>5</td>\n",
       "    </tr>\n",
       "  </tbody>\n",
       "</table>\n",
       "</div>"
      ],
      "text/plain": [
       "    Number  Number_TD  Temperature  Pressure  Order\n",
       "3        6          0           68        50      4\n",
       "15       6          0           75       200     16\n",
       "19       6          0           79       200     20\n",
       "6        6          0           73       100      7\n",
       "4        6          0           67        50      5"
      ]
     },
     "execution_count": 6,
     "metadata": {},
     "output_type": "execute_result"
    }
   ],
   "source": [
    "# Challenger disaster O-ring data\n",
    "\n",
    "# Feature names taken from UCI repository\n",
    "col_names = ['Number', 'Number_TD', 'Temperature', 'Pressure', 'Order']\n",
    "\n",
    "# Read in data, delimited by whitespace, use feature names\n",
    "cdata = pd.read_csv(data_file, delim_whitespace=True, \n",
    "                    index_col=False, names = col_names)\n",
    "cdata.sample(5)"
   ]
  },
  {
   "cell_type": "code",
   "execution_count": 7,
   "metadata": {},
   "outputs": [
    {
     "data": {
      "text/html": [
       "<div>\n",
       "<style scoped>\n",
       "    .dataframe tbody tr th:only-of-type {\n",
       "        vertical-align: middle;\n",
       "    }\n",
       "\n",
       "    .dataframe tbody tr th {\n",
       "        vertical-align: top;\n",
       "    }\n",
       "\n",
       "    .dataframe thead th {\n",
       "        text-align: right;\n",
       "    }\n",
       "</style>\n",
       "<table border=\"1\" class=\"dataframe\">\n",
       "  <thead>\n",
       "    <tr style=\"text-align: right;\">\n",
       "      <th></th>\n",
       "      <th>Number</th>\n",
       "      <th>Number_TD</th>\n",
       "      <th>Temperature</th>\n",
       "      <th>Pressure</th>\n",
       "      <th>Order</th>\n",
       "    </tr>\n",
       "  </thead>\n",
       "  <tbody>\n",
       "    <tr>\n",
       "      <th>count</th>\n",
       "      <td>23.0</td>\n",
       "      <td>23.000000</td>\n",
       "      <td>23.000000</td>\n",
       "      <td>23.000000</td>\n",
       "      <td>23.00000</td>\n",
       "    </tr>\n",
       "    <tr>\n",
       "      <th>mean</th>\n",
       "      <td>6.0</td>\n",
       "      <td>0.304348</td>\n",
       "      <td>69.565217</td>\n",
       "      <td>152.173913</td>\n",
       "      <td>12.00000</td>\n",
       "    </tr>\n",
       "    <tr>\n",
       "      <th>std</th>\n",
       "      <td>0.0</td>\n",
       "      <td>0.558796</td>\n",
       "      <td>7.057080</td>\n",
       "      <td>68.221332</td>\n",
       "      <td>6.78233</td>\n",
       "    </tr>\n",
       "    <tr>\n",
       "      <th>min</th>\n",
       "      <td>6.0</td>\n",
       "      <td>0.000000</td>\n",
       "      <td>53.000000</td>\n",
       "      <td>50.000000</td>\n",
       "      <td>1.00000</td>\n",
       "    </tr>\n",
       "    <tr>\n",
       "      <th>25%</th>\n",
       "      <td>6.0</td>\n",
       "      <td>0.000000</td>\n",
       "      <td>67.000000</td>\n",
       "      <td>75.000000</td>\n",
       "      <td>6.50000</td>\n",
       "    </tr>\n",
       "    <tr>\n",
       "      <th>50%</th>\n",
       "      <td>6.0</td>\n",
       "      <td>0.000000</td>\n",
       "      <td>70.000000</td>\n",
       "      <td>200.000000</td>\n",
       "      <td>12.00000</td>\n",
       "    </tr>\n",
       "    <tr>\n",
       "      <th>75%</th>\n",
       "      <td>6.0</td>\n",
       "      <td>0.500000</td>\n",
       "      <td>75.000000</td>\n",
       "      <td>200.000000</td>\n",
       "      <td>17.50000</td>\n",
       "    </tr>\n",
       "    <tr>\n",
       "      <th>max</th>\n",
       "      <td>6.0</td>\n",
       "      <td>2.000000</td>\n",
       "      <td>81.000000</td>\n",
       "      <td>200.000000</td>\n",
       "      <td>23.00000</td>\n",
       "    </tr>\n",
       "  </tbody>\n",
       "</table>\n",
       "</div>"
      ],
      "text/plain": [
       "       Number  Number_TD  Temperature    Pressure     Order\n",
       "count    23.0  23.000000    23.000000   23.000000  23.00000\n",
       "mean      6.0   0.304348    69.565217  152.173913  12.00000\n",
       "std       0.0   0.558796     7.057080   68.221332   6.78233\n",
       "min       6.0   0.000000    53.000000   50.000000   1.00000\n",
       "25%       6.0   0.000000    67.000000   75.000000   6.50000\n",
       "50%       6.0   0.000000    70.000000  200.000000  12.00000\n",
       "75%       6.0   0.500000    75.000000  200.000000  17.50000\n",
       "max       6.0   2.000000    81.000000  200.000000  23.00000"
      ]
     },
     "execution_count": 7,
     "metadata": {},
     "output_type": "execute_result"
    }
   ],
   "source": [
    "# Descriptive statistics\n",
    "cdata.describe()"
   ]
  },
  {
   "cell_type": "markdown",
   "metadata": {},
   "source": [
    "-----\n",
    "\n",
    "From this summary description we can identify several important points. First, there are 23 instances in this data set. Second, this summary indicates that there are no missing values, since each feature has the same number in the `count` row, and the `min` row always contains a valid number. On the other hand, we notice that the maximum value for the number of thermal distresses is two, not one like we require for a binary classification task, which should be zero or one. Thus, our next step is to determine how many instances have a value of two for the `Number_TD` feature. We perform this test by applying a Boolean filter to the DataFrame in the following Code cell.\n",
    "\n",
    "-----"
   ]
  },
  {
   "cell_type": "code",
   "execution_count": 8,
   "metadata": {},
   "outputs": [
    {
     "data": {
      "text/html": [
       "<div>\n",
       "<style scoped>\n",
       "    .dataframe tbody tr th:only-of-type {\n",
       "        vertical-align: middle;\n",
       "    }\n",
       "\n",
       "    .dataframe tbody tr th {\n",
       "        vertical-align: top;\n",
       "    }\n",
       "\n",
       "    .dataframe thead th {\n",
       "        text-align: right;\n",
       "    }\n",
       "</style>\n",
       "<table border=\"1\" class=\"dataframe\">\n",
       "  <thead>\n",
       "    <tr style=\"text-align: right;\">\n",
       "      <th></th>\n",
       "      <th>Number</th>\n",
       "      <th>Number_TD</th>\n",
       "      <th>Temperature</th>\n",
       "      <th>Pressure</th>\n",
       "      <th>Order</th>\n",
       "    </tr>\n",
       "  </thead>\n",
       "  <tbody>\n",
       "    <tr>\n",
       "      <th>13</th>\n",
       "      <td>6</td>\n",
       "      <td>2</td>\n",
       "      <td>53</td>\n",
       "      <td>200</td>\n",
       "      <td>14</td>\n",
       "    </tr>\n",
       "  </tbody>\n",
       "</table>\n",
       "</div>"
      ],
      "text/plain": [
       "    Number  Number_TD  Temperature  Pressure  Order\n",
       "13       6          2           53       200     14"
      ]
     },
     "execution_count": 8,
     "metadata": {},
     "output_type": "execute_result"
    }
   ],
   "source": [
    "cdata[cdata.Number_TD > 1]"
   ]
  },
  {
   "cell_type": "markdown",
   "metadata": {},
   "source": [
    "-----\n",
    "\n",
    "As the output demonstrates, we only have one instance that records more than one thermal distress. At this point we have three options:\n",
    "\n",
    "1. delete this instance,\n",
    "2. duplicate this instance so that two single failure instances exist in the data set, or\n",
    "3. change this instance to report only a single thermal distress.\n",
    "\n",
    "While any of these options might be valid from an algorithmic perspective, they differ from a modeling perspective. The first option would remove valuable data from our set, which is already small. This would also make our model less predictive since this was an actual failure, and we likely do not want to under predict failures, which could have devastating effects. On the other hand, duplicating this instance would be the same as having two separate launches at the same temperature. This could also be problematic, as it would overemphasize a failure at a given temperature.\n",
    "\n",
    "As a result, we will instead convert this instance to a single thermal distress. The reason in this case is that this measurement did find an instance of a thermal distress, and we are creating a model between temperature and the probability of a thermal failure. We perform this conversion in the following Code cell, where we find the instance where the number of thermal distresses is higher than one, and explicitly modify the `Number_TD` feature to be one. The second Code cell confirms that this change did take place.\n",
    "\n",
    "-----"
   ]
  },
  {
   "cell_type": "code",
   "execution_count": 9,
   "metadata": {
    "collapsed": true
   },
   "outputs": [],
   "source": [
    "# Modify instance with multiple thermal distresses\n",
    "cdata.loc[cdata['Number_TD'] > 1, 'Number_TD' ] = 1"
   ]
  },
  {
   "cell_type": "code",
   "execution_count": 10,
   "metadata": {},
   "outputs": [
    {
     "data": {
      "text/plain": [
       "1"
      ]
     },
     "execution_count": 10,
     "metadata": {},
     "output_type": "execute_result"
    }
   ],
   "source": [
    "# Display the new number of thermal distesses\n",
    "cdata.loc[13].Number_TD"
   ]
  },
  {
   "cell_type": "markdown",
   "metadata": {},
   "source": [
    "-----\n",
    "\n",
    "Now that our data are prepared, we can model this data by using a logit function. To do this we will use the statsmodels module. Our first step is to construct our feature and label arrays. For the former, we extract the `Temperature` feature and explicitly add a constant term so that we start with a linear regression. Next, we create a logit estimator, and fit this estimator to the feature and label arrays. Finally, we display the best fit intercept and slope (via the coefficient array) terms.\n",
    "\n",
    "-----"
   ]
  },
  {
   "cell_type": "code",
   "execution_count": 11,
   "metadata": {},
   "outputs": [
    {
     "name": "stdout",
     "output_type": "stream",
     "text": [
      "Optimization terminated successfully.\n",
      "         Current function value: 0.313604\n",
      "         Iterations 8\n",
      "\n",
      " Temperature    -0.366701\n",
      "const          23.774955\n",
      "dtype: float64\n"
     ]
    }
   ],
   "source": [
    "import statsmodels.api as sm\n",
    "features = sm.add_constant(cdata['Temperature'], prepend=False)\n",
    "label = cdata['Number_TD']\n",
    "lgt_model = sm.Logit(label, features)\n",
    "lgt = lgt_model.fit()\n",
    "print('\\n', lgt.params)"
   ]
  },
  {
   "cell_type": "markdown",
   "metadata": {},
   "source": [
    "-----\n",
    "\n",
    "We can now compare the newly generated logit model to the original data. The following Code cell first converts the logit model to a set of predictive values to compare with our data. This task is accomplished by generating a set of linearly spaced independent values spanning the temperature range of interest. Next, we compute values at these temperatures by using our logit model. Finally, we convert this to a logistic function. One last requirement is that we must subtract our model from one since our model was trained to predict failures and not successes (thus a predicted one goes to zero and predicted zero goes to one). The rest of the code generates a plot showing the original data and our predictive values.\n",
    "\n",
    "\n",
    "-----"
   ]
  },
  {
   "cell_type": "code",
   "execution_count": 12,
   "metadata": {},
   "outputs": [
    {
     "data": {
      "image/png": "[encoded data removed]",
      "text/plain": [
       "<matplotlib.figure.Figure at 0x7fc5dbb2b860>"
      ]
     },
     "metadata": {},
     "output_type": "display_data"
    }
   ],
   "source": [
    "x = np.linspace(50, 85)\n",
    "lgy = lgt.params['const'] + lgt.params['Temperature'] * x\n",
    "\n",
    "# We subtract fit from one since in the data fail = 1.\n",
    "# A normal logit model is fail = 0\n",
    "y = 1 - 1.0 / (1.0 + np.exp(lgy))\n",
    "\n",
    "# Make the plots\n",
    "fig, ax = plt.subplots(figsize=(10, 6))\n",
    "\n",
    "# Plot data and model\n",
    "plt.scatter(cdata['Temperature'], cdata['Number_TD'],\n",
    "            c='b', alpha = 0.5, label=f'Measured Data')\n",
    "ax.plot(x, y, c='g', alpha = 0.5, lw=2, linestyle='--', label='Model')\n",
    "    \n",
    "# Decorate plot appropriately\n",
    "ax.set_title('Logistic Fit', fontsize=18)\n",
    "ax.set_xlabel('Temperature (F)', fontsize=16)\n",
    "ax.set_ylabel('Probability of Failure', fontsize=16)\n",
    "ax.set_xlim(50, 85)\n",
    "ax.set_ylim(-0.05, 1.05)\n",
    "ax.legend(loc=7, fontsize=16)\n",
    "sns.despine(offset=5, trim=True)"
   ]
  },
  {
   "cell_type": "markdown",
   "metadata": {},
   "source": [
    "-----\n",
    "\n",
    "Given a predictive model such as our computed logit model, we can also predict for new, unseen data. In this case, we can predict the probability of thermal failure for a given temperature. The following Code cell computes and displays these probabilities as a function of temperature. Note, that the temperature at launch during the Challenger disaster was 36 degrees Fahrenheit.\n",
    "\n",
    "-----"
   ]
  },
  {
   "cell_type": "code",
   "execution_count": 13,
   "metadata": {},
   "outputs": [
    {
     "name": "stdout",
     "output_type": "stream",
     "text": [
      "P(Fail) of O-Ring at 36 deg. = 1.00%\n",
      "P(Fail) of O-Ring at 58 deg. = 0.92%\n",
      "P(Fail) of O-Ring at 65 deg. = 0.48%\n",
      "P(Fail) of O-Ring at 72 deg. = 0.07%\n",
      "P(Fail) of O-Ring at 88 deg. = 0.00%\n"
     ]
    }
   ],
   "source": [
    "# Compute the probability of failure for different temperatures\n",
    "for t in [36, 58, 65, 72, 88]:\n",
    "    str = f'P(Fail) of O-Ring at {t} deg. = {lgt.predict([t, 1])[0]:4.2f}%'\n",
    "    print(str)"
   ]
  },
  {
   "cell_type": "markdown",
   "metadata": {},
   "source": [
    "-----\n",
    "\n",
    "[[Back to TOC]](#Table-of-Contents)\n",
    "\n",
    "## Logistic Regression\n",
    "\n",
    "-----\n",
    "\n",
    "We can also compute a logistic regression to these data by using the scikit-learn library. In this case, we will use the `LogisticRegression` estimator. This estimator accepts a number of hyperparameters, of which the most important for our purposes include:\n",
    "\n",
    "- `C`: inverse of regularization strength\n",
    "- `class_weight`: weights to be applied to classes when performing regression, default is uniform\n",
    "- `penalty`: type of regularization to be applied, can be `l1` or `l2`, both of which will be discussed in a future notebook\n",
    "- `fit_intercept`: specifies if a constant term should be included in the regression, the default is `True`\n",
    "- `random_state`: the seed used to initialize the random number generator, a constant value ensures reproducibility.\n",
    "\n",
    "To minimize the effects of regularization, we will introduce a high value for the `C` hyperparameter, which will reduce the impact of regularization on our model fit. The following Code cell creates this estimator, which we will use in the next section of this notebook.\n",
    "\n",
    "------"
   ]
  },
  {
   "cell_type": "code",
   "execution_count": 14,
   "metadata": {
    "collapsed": true
   },
   "outputs": [],
   "source": [
    "from sklearn.linear_model import LogisticRegression\n",
    "model = LogisticRegression(C=1E6)"
   ]
  },
  {
   "cell_type": "markdown",
   "metadata": {},
   "source": [
    "-----\n",
    "\n",
    "#### Training/Testing\n",
    "\n",
    "In the statsmodels logistic regression, we used *all* of the data to fit the regressor and visualize the result. In practice, this is not a good idea, since we will have little idea how well our regressor will perform on new, unseen data. A better approach is to train on a subset of the data and test this new regressor on unseen _test_ data. Formally, we wish to construct separate _training_ and _testing_ data sets. The scikit-learn library supports this operation directly by using the `train_test_split` method in the `model_selection` module. \n",
    "\n",
    "In the following code cell, we split our original data such that 60% of the data is used for training and 40% is used for testing. This is done via the `test_size` parameter. Since we only have 23 original instances, we also use the `stratify` parameter to ensure that our training and testing data sets maintain roughly equivalent ratios of the success and failure. This ensures we don't train a model on unbalanced data or try to predict future performance by using unbalanced data. Finally, we specify a `random_state` to ensure reproducibility.\n",
    "\n",
    "Once our data have been divided into these two samples, we fit our new logistic regression model and use it to predict on our test data. Finally, we display the model parameters, which in this case are the intercept and slope for our linear model. The second Code cell displays the temperature for each instance in the test data set, as well as the predicted result to explore the impact of our model.\n",
    "\n",
    "-----"
   ]
  },
  {
   "cell_type": "code",
   "execution_count": 15,
   "metadata": {},
   "outputs": [
    {
     "name": "stdout",
     "output_type": "stream",
     "text": [
      "LR Model Fit: 25.59 + -0.39 * Temperature\n"
     ]
    }
   ],
   "source": [
    "from sklearn.model_selection import train_test_split\n",
    "\n",
    "features = cdata['Temperature'].reshape(23, 1)\n",
    "labels = cdata['Number_TD'].reshape(23, 1)\n",
    "\n",
    "# Evaluate the model by splitting into train and test sets\n",
    "x_train, x_test, y_train, y_test = train_test_split(features, labels, \n",
    "                                                    test_size=0.4, \n",
    "                                                    stratify = labels,\n",
    "                                                    random_state=23)\n",
    "\n",
    "# Fit a new model and predict on test data\n",
    "lr_model = model.fit(x_train, y_train)\n",
    "predicted = lr_model.predict(x_test)\n",
    "\n",
    "# Compute model values\n",
    "slope = lr_model.coef_[0][0]\n",
    "intercept = lr_model.intercept_[0]\n",
    "\n",
    "print(f'LR Model Fit: {intercept:4.2f} + {slope:4.2f} * Temperature')"
   ]
  },
  {
   "cell_type": "code",
   "execution_count": 16,
   "metadata": {},
   "outputs": [
    {
     "name": "stdout",
     "output_type": "stream",
     "text": [
      "[58] 1\n",
      "[67] 0\n",
      "[78] 0\n",
      "[53] 1\n",
      "[67] 0\n",
      "[70] 0\n",
      "[75] 0\n",
      "[70] 0\n",
      "[70] 0\n",
      "[76] 0\n"
     ]
    }
   ],
   "source": [
    "# Display data and predicted labels\n",
    "for data, label in zip(x_test, predicted):\n",
    "    print(data, label)"
   ]
  },
  {
   "cell_type": "markdown",
   "metadata": {},
   "source": [
    "-----\n",
    "\n",
    "If you look carefully, you will notice that our model fit values differ from those computed by the statsmodels module, although they are close. This is simply the result of the fact that we only used 60% of the original data to fit a logistic regression by using the scikit-learn library, thus there should be differences. We can now use the scikit-learn library to compute and display performance metrics. In the first Code cell we compute and display an accuracy score, as well as display the full classification report. In the second Code cell we display the confusion matrix for this predictive model and the testing data, which we generate and display by using a helper function located in the mlplots.py file in the helper_code module.\n",
    "\n",
    "-----"
   ]
  },
  {
   "cell_type": "code",
   "execution_count": 17,
   "metadata": {},
   "outputs": [
    {
     "name": "stdout",
     "output_type": "stream",
     "text": [
      "Logistic Regression [Challenger Data] Score = 90.0%\n",
      "\n",
      "             precision    recall  f1-score   support\n",
      "\n",
      "          0       0.88      1.00      0.93         7\n",
      "          1       1.00      0.67      0.80         3\n",
      "\n",
      "avg / total       0.91      0.90      0.89        10\n",
      "\n"
     ]
    }
   ],
   "source": [
    "from sklearn.metrics import accuracy_score, classification_report\n",
    "\n",
    "# Generate and display different evaluation metrics\n",
    "score = 100.0 * accuracy_score(y_test, predicted)\n",
    "print(f'Logistic Regression [Challenger Data] Score = {score:4.1f}%\\n')\n",
    "\n",
    "print(classification_report(y_test, predicted))"
   ]
  },
  {
   "cell_type": "code",
   "execution_count": 18,
   "metadata": {},
   "outputs": [
    {
     "data": {
      "image/png": "[encoded data removed]",
      "text/plain": [
       "<matplotlib.figure.Figure at 0x7fc5d8a71d68>"
      ]
     },
     "metadata": {},
     "output_type": "display_data"
    }
   ],
   "source": [
    "# Display confusion matrix for the binary classification\n",
    "# example by using our helper function\n",
    "\n",
    "from helper_code import mlplots as ml\n",
    "\n",
    "ml.confusion(y_test.reshape(y_test.shape[0]), \n",
    "             predicted, ['No Failure', 'Failure'], 2, 'O-Ring Thermal Distress')"
   ]
  },
  {
   "cell_type": "markdown",
   "metadata": {},
   "source": [
    "-----\n",
    "\n",
    "<font color='red' size = '5'> Student Exercise </font>\n",
    "\n",
    "In the preceding cells, we used logistic regression to build a model representation of the O-ring data to predict if the O-ring might suffer thermal distress or not. Now that you have run the notebook once, go back and make the following changes. Be sure to understand what you have done and the impact on the new classification result.\n",
    "\n",
    "1. In this model, we changed one original instance that had two thermal distresses to only have one. Instead, add a new instance so that both original thermal distresses are recorded properly. Recompute the logistic model on this new data. Do you believe the new model more or less than the original model? Why?\n",
    "2. Try including another feature in the model, such as `pressure` or `order`, one at a time. Do either of these features improve the performance?\n",
    "\n",
    "-----"
   ]
  },
  {
   "cell_type": "markdown",
   "metadata": {},
   "source": [
    "-----\n",
    "\n",
    "[[Back to TOC]](#Table-of-Contents)\n",
    "\n",
    "### Performance Metrics\n",
    "\n",
    "In a binary classification problem, like the O-ring classification task, we generate a confusion matrix that has four elements. In this case, we can explicitly label each element by its result, as shown in the following table.\n",
    "\n",
    "|  | |\n",
    "| --- |--- |\n",
    "| True  Negative (**TN**)| False Positive (**FP**)|\n",
    "| False Negative (**FN**)| True Positive (**TP**)|\n",
    "\n",
    "Note that in our O-ring example, a success was that the O-ring did not fail, which corresponded to a zero, or the usual definition of a negative result in a binary classification example. Thus, we have the following results from our O-ring classification demonstration:\n",
    "\n",
    "- $TN = 7$\n",
    "- $FP = 0$\n",
    "- $FN = 1$\n",
    "- $TP = 2$\n",
    "\n",
    "This means that we correctly predicted seven launches would not have O-ring failures (**TN**), while two launches would have O-ring failures (**TP**). On the other hand, we incorrectly predicted that one launch would have an O-ring failure when it didn't (**FN**), but we did miss predicting any real failures (**FP**). This last point is important to highlight. In certain cases, it may be very important to ensure that a model does not incorrectly predict, or alternatively fail to predict, a certain result. Here, it is better to predict a failure and possibly scrub a shuttle launch, rather than miss a potential problem and have a disastrous launch.\n",
    "\n",
    "In the binary classification case it is easy to compute a number of performance metrics, of which there are many. A full analysis of the all classification performance metrics is beyond the scope of this notebook, for more information look at Wikipedia's discussion on the [confusion matrix][wcm]. We can, however, relate these four quantities to a number of standard performance metrics, including the precision, recall, and the F1-score, as shown in the following table.\n",
    "\n",
    "| | | |\n",
    "| -- | -- | -- |\n",
    "| Precision |  Positive Predictive Value | $\\frac{TP}{TP + FP}$ |\n",
    "| Accuracy |   | $\\frac{TP + TN}{TP  + TN + FP + FN}$ |\n",
    "| Recall (Sensitivity) |  True Positive Rate | $\\frac{TP}{TP + FN}$ |\n",
    "| F1-score ($F_1$)|  Harmonic mean of Precision and Recall | $\\frac{2TP}{2TP + FN + FP}$ |\n",
    "| Specificity |  True Negative Rate | $\\frac{TN}{TN + FP}$ |\n",
    "| False Positive Rate (Fall Out)|  FPR | $\\frac{FP}{FP + TN}$ |\n",
    "| False Discovery Rate |  FDR | $\\frac{FP}{FP + TP}$ |\n",
    "\n",
    "In addition to these performance metrics, we also have two commonly used terms that characterize classification mistakes.   \n",
    "  \n",
    "-----\n",
    "<dl>\n",
    "  <dt>Type I Error</dt>\n",
    "  <dd>False Positive: Predicting a condition is true when it is false, hence a _False Hit_.</dd>\n",
    "  \n",
    "<dt>Type II Error</dt>\n",
    "  <dd>False Negative: Predicting a condition is false when it is true, a _Miss_.</dd>\n",
    "</dl>\n",
    "\n",
    "-----\n",
    "\n",
    "These terms were originally popularized in  [_Hypothesis Testing_][wht], a classical statistical technique that is not covered in this course. The following two code cells compute several of these metrics by using the relations displayed in the previous table and functions in the [scikit-learn metrics][skm] module that compute performance metrics. Note, these values will differ from those reported by the `classification_report` function, which generates per-class values.\n",
    "\n",
    "-----\n",
    "[wcm]: https://en.wikipedia.org/wiki/Confusion_matrix\n",
    "[skm]: http://scikit-learn.org/stable/modules/classes.html#module-sklearn.metrics\n",
    "[wht]: https://en.wikipedia.org/wiki/Statistical_hypothesis_testing"
   ]
  },
  {
   "cell_type": "code",
   "execution_count": 19,
   "metadata": {},
   "outputs": [
    {
     "name": "stdout",
     "output_type": "stream",
     "text": [
      "Computed metrics from the confusion matrix\n",
      "------------------------------------------\n",
      "Precision   = 100.00%\n",
      "Accuracy    = 90.00%\n",
      "Recall      = 66.67%\n",
      "F1-score    = 80.00%\n"
     ]
    }
   ],
   "source": [
    "from sklearn.metrics import confusion_matrix\n",
    "\n",
    "tn, fp, fn, tp = confusion_matrix(y_test.reshape(y_test.shape[0]), predicted).ravel()\n",
    "\n",
    "print('Computed metrics from the confusion matrix')\n",
    "print(42*'-')\n",
    "print(f'Precision   = {100.0 * tp/(tp + fp):5.2f}%')\n",
    "print(f'Accuracy    = {100.0 * (tp + tn)/(tp + tn + fp + fn):5.2f}%')\n",
    "print(f'Recall      = {100.0 * tp/(tp + fn):5.2f}%')\n",
    "print(f'F1-score    = {100.0 * 2 * tp/(2 * tp + fp + fn):5.2f}%')"
   ]
  },
  {
   "cell_type": "code",
   "execution_count": 20,
   "metadata": {},
   "outputs": [
    {
     "name": "stdout",
     "output_type": "stream",
     "text": [
      "Computed metrics from the scikit-learn module\n",
      "---------------------------------------------\n",
      "Precision   = 100.00%\n",
      "Accuracy    = 90.00%\n",
      "Recall      = 66.67%\n",
      "F1-score    = 80.00%\n"
     ]
    }
   ],
   "source": [
    "from sklearn.metrics import precision_score\n",
    "from sklearn.metrics import accuracy_score\n",
    "from sklearn.metrics import recall_score\n",
    "from sklearn.metrics import f1_score\n",
    "\n",
    "print('Computed metrics from the scikit-learn module')\n",
    "print(45*'-')\n",
    "print(f'Precision   = {100.0 * precision_score(y_test, predicted):5.2f}%')\n",
    "print(f'Accuracy    = {100.0 * accuracy_score(y_test, predicted):5.2f}%')\n",
    "print(f'Recall      = {100.0 * recall_score(y_test, predicted):5.2f}%')\n",
    "print(f'F1-score    = {100.0 * f1_score(y_test, predicted):5.2f}%')"
   ]
  },
  {
   "cell_type": "markdown",
   "metadata": {},
   "source": [
    "-----\n",
    "\n",
    "As the output from the previous two Code cells confirms, these performance metrics for our binary classification task agree with the theoretical expectations. We now turn to a visual comparison of our model and data. We first compute our model, as before, but now by using the model coefficients from the scikit-learn estimator. We also compute predicted values from our estimator, and display them all in the following figure. As demonstrated in the figure, our model provides probabilistic predictions, but the estimator predicts binary classification where the probability threshold is by default set to 50%.\n",
    "\n",
    "-----"
   ]
  },
  {
   "cell_type": "code",
   "execution_count": 21,
   "metadata": {},
   "outputs": [
    {
     "data": {
      "image/png": "[encoded data removed]",
      "text/plain": [
       "<matplotlib.figure.Figure at 0x7fc5d40bf6a0>"
      ]
     },
     "metadata": {},
     "output_type": "display_data"
    }
   ],
   "source": [
    "# Sample points\n",
    "x = np.linspace(50, 85)\n",
    "\n",
    "# Compute Model\n",
    "lgy = lr_model.intercept_[0] + lr_model.coef_[0][0] * x\n",
    "y = 1.0 - 1.0 / (1.0 + np.exp(lgy))\n",
    "\n",
    "# Predicted data\n",
    "y2 = lr_model.predict(x.reshape(x.shape[0], 1))\n",
    "\n",
    "# Make the plots\n",
    "fig, ax = plt.subplots(figsize=(10, 6))\n",
    "\n",
    "# Plot data and model\n",
    "plt.scatter(cdata['Temperature'], cdata['Number_TD'],\n",
    "            c='b', alpha = 0.4, label=f'Measured data')\n",
    "ax.plot(x, y, c='r', alpha = 0.25, lw=2, linestyle='--', label='Logistic regression model')\n",
    "ax.plot(x, y2, c='g', alpha = 0.25, lw=2, linestyle='--', label='Model predicted data')\n",
    "\n",
    "# Decorate plot appropriately\n",
    "ax.set_title('O-Ring Thermal Distress Classification', fontsize=18)\n",
    "ax.set_xlabel('Temperature (F)', fontsize=16)\n",
    "ax.set_ylabel('Probability of Failure', fontsize=16)\n",
    "ax.set_xlim(50, 85)\n",
    "ax.set_ylim(-0.05, 1.05)\n",
    "ax.legend(loc=7, fontsize=16)\n",
    "sns.despine(offset=5, trim=True)"
   ]
  },
  {
   "cell_type": "markdown",
   "metadata": {},
   "source": [
    "-----\n",
    "\n",
    "[[Back to TOC]](#Table-of-Contents)\n",
    "\n",
    "### SGD Classifier\n",
    "\n",
    "We now turn to the alternative technique for performing logistic regression with the scikit-learn library. We can employ a stochastic gradient descent classifier to perform logistic regression by specifying a logarithmic `loss` function (or cost function in our previous terminology). This has several benefits over the standard logistic regression estimator in the scikit-learn library. First, this technique employs stochastic gradient descent, which can be efficient in finding the minimum of the cost function, especially with large and complex data sets. Stochastic gradient descent is based on standard gradient descent that was demonstrated graphically earlier, but is less prone to being trapped in local minima (or valleys).\n",
    "\n",
    "Second, this estimator does not automatically employ regularization, a technique designed to reduce overfitting. The standard logistic regression estimator employs the `C` hyperparameter to control the amount of regularization used to minimize the cost function. As a result, we were forced to choose a high value for `C`, which effectively turns off the regularization.\n",
    "\n",
    "The following Code cell demonstrates the use of the `SGDClassifier` with a logarithmic loss function to perform logistic regression on the O-ring data. As the output displays, the results are close, but slightly worse than those from the standard logistic regression estimator when we minimized the effects of regularization.\n",
    "\n",
    "-----"
   ]
  },
  {
   "cell_type": "code",
   "execution_count": 22,
   "metadata": {},
   "outputs": [
    {
     "name": "stdout",
     "output_type": "stream",
     "text": [
      "Logistic Regression [Challenger Data] Score = 70.0%\n",
      "\n",
      "Classification Report:\n",
      "              precision    recall  f1-score   support\n",
      "\n",
      "          0       0.70      1.00      0.82         7\n",
      "          1       0.00      0.00      0.00         3\n",
      "\n",
      "avg / total       0.49      0.70      0.58        10\n",
      "\n",
      "\n",
      "SGD Model Fit: 4.66 + -258.46 * Temperature\n"
     ]
    }
   ],
   "source": [
    "from sklearn.linear_model import SGDClassifier\n",
    "\n",
    "# Create SGD estimor with log loss\n",
    "sgd_model = SGDClassifier(loss='log')\n",
    "\n",
    "# Fit training data and predict for test data\n",
    "sgd_model = sgd_model.fit(x_train, y_train)\n",
    "predicted = sgd_model.predict(x_test)\n",
    "\n",
    "# Display performance metrics\n",
    "score = 100.0 * accuracy_score(y_test, predicted)\n",
    "print(f'Logistic Regression [Challenger Data] Score = {score:4.1f}%\\n')\n",
    "print('Classification Report:\\n {0}\\n'.format(\n",
    "    classification_report(y_test, predicted)))\n",
    "\n",
    "# Display logistic model\n",
    "slope = sgd_model.coef_[0][0]\n",
    "intercept = sgd_model.intercept_[0]\n",
    "print(f'SGD Model Fit: {intercept:4.2f} + {slope:4.2f} * Temperature')"
   ]
  },
  {
   "cell_type": "markdown",
   "metadata": {},
   "source": [
    "-----\n",
    "\n",
    "[[Back to TOC]](#Table-of-Contents)\n",
    "\n",
    "### LR: Tips Data\n",
    "\n",
    "While the O-ring data was informative, it was small in both number of features and instances. As a result, we will now transition to the _tips_ data included with the Seaborn library. This data set has 244 instances and seven features. In the following Code cell we load this data set into a DataFrame and display five random instances. As the output demonstrates, we have three numeric features: `total_bill`, `tip`, and `size`, and four categorical features: `sex`, `smoker`, `day`, and `time`. With this data set, we will first demonstrate logistic regression using only numeric features before including categorical features as well.\n",
    "\n",
    "-----"
   ]
  },
  {
   "cell_type": "code",
   "execution_count": 23,
   "metadata": {},
   "outputs": [
    {
     "data": {
      "text/html": [
       "<div>\n",
       "<style scoped>\n",
       "    .dataframe tbody tr th:only-of-type {\n",
       "        vertical-align: middle;\n",
       "    }\n",
       "\n",
       "    .dataframe tbody tr th {\n",
       "        vertical-align: top;\n",
       "    }\n",
       "\n",
       "    .dataframe thead th {\n",
       "        text-align: right;\n",
       "    }\n",
       "</style>\n",
       "<table border=\"1\" class=\"dataframe\">\n",
       "  <thead>\n",
       "    <tr style=\"text-align: right;\">\n",
       "      <th></th>\n",
       "      <th>total_bill</th>\n",
       "      <th>tip</th>\n",
       "      <th>sex</th>\n",
       "      <th>smoker</th>\n",
       "      <th>day</th>\n",
       "      <th>time</th>\n",
       "      <th>size</th>\n",
       "    </tr>\n",
       "  </thead>\n",
       "  <tbody>\n",
       "    <tr>\n",
       "      <th>149</th>\n",
       "      <td>7.51</td>\n",
       "      <td>2.00</td>\n",
       "      <td>Male</td>\n",
       "      <td>No</td>\n",
       "      <td>Thur</td>\n",
       "      <td>Lunch</td>\n",
       "      <td>2</td>\n",
       "    </tr>\n",
       "    <tr>\n",
       "      <th>47</th>\n",
       "      <td>32.40</td>\n",
       "      <td>6.00</td>\n",
       "      <td>Male</td>\n",
       "      <td>No</td>\n",
       "      <td>Sun</td>\n",
       "      <td>Dinner</td>\n",
       "      <td>4</td>\n",
       "    </tr>\n",
       "    <tr>\n",
       "      <th>11</th>\n",
       "      <td>35.26</td>\n",
       "      <td>5.00</td>\n",
       "      <td>Female</td>\n",
       "      <td>No</td>\n",
       "      <td>Sun</td>\n",
       "      <td>Dinner</td>\n",
       "      <td>4</td>\n",
       "    </tr>\n",
       "    <tr>\n",
       "      <th>240</th>\n",
       "      <td>27.18</td>\n",
       "      <td>2.00</td>\n",
       "      <td>Female</td>\n",
       "      <td>Yes</td>\n",
       "      <td>Sat</td>\n",
       "      <td>Dinner</td>\n",
       "      <td>2</td>\n",
       "    </tr>\n",
       "    <tr>\n",
       "      <th>76</th>\n",
       "      <td>17.92</td>\n",
       "      <td>3.08</td>\n",
       "      <td>Male</td>\n",
       "      <td>Yes</td>\n",
       "      <td>Sat</td>\n",
       "      <td>Dinner</td>\n",
       "      <td>2</td>\n",
       "    </tr>\n",
       "  </tbody>\n",
       "</table>\n",
       "</div>"
      ],
      "text/plain": [
       "     total_bill   tip     sex smoker   day    time  size\n",
       "149        7.51  2.00    Male     No  Thur   Lunch     2\n",
       "47        32.40  6.00    Male     No   Sun  Dinner     4\n",
       "11        35.26  5.00  Female     No   Sun  Dinner     4\n",
       "240       27.18  2.00  Female    Yes   Sat  Dinner     2\n",
       "76        17.92  3.08    Male    Yes   Sat  Dinner     2"
      ]
     },
     "execution_count": 23,
     "metadata": {},
     "output_type": "execute_result"
    }
   ],
   "source": [
    "# Load tips data set\n",
    "tdf = sns.load_dataset('tips')\n",
    "\n",
    "# Display several random rows\n",
    "tdf.sample(5)"
   ]
  },
  {
   "cell_type": "markdown",
   "metadata": {},
   "source": [
    "-----\n",
    "\n",
    "To perform regression on the numeric features, we need both the numerical features and a target feature. For this example, we will attempt to predict if a patron is a smoker or not based solely on the three numerical features. The following Code cell first extracts the numerical features into a new DataFrame (for the independent variables), before constructing a NumPy array to hold the labels (or the dependent variable). The construction of the NumPy array is simplified by performing the Boolean test for the `smoker` feature of the `tdf` DataFrame, and converting these Boolean values (i.e., `True/False`) to numerical values (i.e, `0/1`).\n",
    "\n",
    "-----"
   ]
  },
  {
   "cell_type": "code",
   "execution_count": 24,
   "metadata": {},
   "outputs": [
    {
     "data": {
      "text/html": [
       "<div>\n",
       "<style scoped>\n",
       "    .dataframe tbody tr th:only-of-type {\n",
       "        vertical-align: middle;\n",
       "    }\n",
       "\n",
       "    .dataframe tbody tr th {\n",
       "        vertical-align: top;\n",
       "    }\n",
       "\n",
       "    .dataframe thead th {\n",
       "        text-align: right;\n",
       "    }\n",
       "</style>\n",
       "<table border=\"1\" class=\"dataframe\">\n",
       "  <thead>\n",
       "    <tr style=\"text-align: right;\">\n",
       "      <th></th>\n",
       "      <th>total_bill</th>\n",
       "      <th>tip</th>\n",
       "      <th>size</th>\n",
       "    </tr>\n",
       "  </thead>\n",
       "  <tbody>\n",
       "    <tr>\n",
       "      <th>54</th>\n",
       "      <td>25.56</td>\n",
       "      <td>4.34</td>\n",
       "      <td>4</td>\n",
       "    </tr>\n",
       "    <tr>\n",
       "      <th>236</th>\n",
       "      <td>12.60</td>\n",
       "      <td>1.00</td>\n",
       "      <td>2</td>\n",
       "    </tr>\n",
       "    <tr>\n",
       "      <th>44</th>\n",
       "      <td>30.40</td>\n",
       "      <td>5.60</td>\n",
       "      <td>4</td>\n",
       "    </tr>\n",
       "    <tr>\n",
       "      <th>125</th>\n",
       "      <td>29.80</td>\n",
       "      <td>4.20</td>\n",
       "      <td>6</td>\n",
       "    </tr>\n",
       "    <tr>\n",
       "      <th>192</th>\n",
       "      <td>28.44</td>\n",
       "      <td>2.56</td>\n",
       "      <td>2</td>\n",
       "    </tr>\n",
       "  </tbody>\n",
       "</table>\n",
       "</div>"
      ],
      "text/plain": [
       "     total_bill   tip  size\n",
       "54        25.56  4.34     4\n",
       "236       12.60  1.00     2\n",
       "44        30.40  5.60     4\n",
       "125       29.80  4.20     6\n",
       "192       28.44  2.56     2"
      ]
     },
     "execution_count": 24,
     "metadata": {},
     "output_type": "execute_result"
    }
   ],
   "source": [
    "# Extract dependent variable\n",
    "labels = (tdf.smoker == 'Yes').astype(float)\n",
    "\n",
    "# Extract numerical features as a DataFrame\n",
    "numerical = ['total_bill', 'tip', 'size']\n",
    "num_data = tdf[numerical]\n",
    "\n",
    "# Sample DatFrame\n",
    "num_data.sample(5)"
   ]
  },
  {
   "cell_type": "markdown",
   "metadata": {},
   "source": [
    "-----\n",
    "\n",
    "Given the independent and dependent variables, we are ready to construct our logistic regression model. First, we separate the data into training and testing sets. This requires reshaping our `labels` array to be properly sized for the scikit-learn library estimators (244, 1). Next, we create our `LogisticRegression` estimator, using a large value for the `C` hyperparameter to minimize any regularization. Next, we fit our estimator to the training data, predict on the testing data and display performance metrics. In the second Code cell, we also display the confusion matrix. \n",
    "\n",
    "-----"
   ]
  },
  {
   "cell_type": "code",
   "execution_count": 25,
   "metadata": {},
   "outputs": [
    {
     "name": "stdout",
     "output_type": "stream",
     "text": [
      "Smoker [Numeric only] classification score = 62.30%\n",
      "             precision    recall  f1-score   support\n",
      "\n",
      "        0.0       0.64      0.92      0.75        38\n",
      "        1.0       0.50      0.13      0.21        23\n",
      "\n",
      "avg / total       0.58      0.62      0.55        61\n",
      "\n"
     ]
    }
   ],
   "source": [
    "# We want to split our data into training and testing\n",
    "from sklearn.model_selection import train_test_split\n",
    "\n",
    "# This is the amount to hold out for 'blind' testing\n",
    "frac = 0.25\n",
    "\n",
    "# We must reshape the label array to ensure it is of size\n",
    "# (Num_Samples, Num_Features) or (244, 1) in this case\n",
    "labels = labels.reshape(labels.shape[0], 1)\n",
    "\n",
    "# Create test/train splits for independent and dependent data, and\n",
    "# explicitly set our random seed to enable reproduceability\n",
    "ind_train, ind_test, dep_train, dep_test \\\n",
    "    = train_test_split(num_data, labels, stratify=labels,\n",
    "                       test_size=frac, random_state=23)\n",
    "\n",
    "# Create and fit a new LR model\n",
    "tips_model = LogisticRegression(C=1E6)\n",
    "tips_model.fit(ind_train, dep_train)\n",
    "\n",
    "# Predict values, and compute and display performance\n",
    "predicted = tips_model.predict(ind_test)\n",
    "\n",
    "score = 100.0 * accuracy_score(dep_test, predicted)\n",
    "print(f'Smoker [Numeric only] classification score = {score:4.2f}%')\n",
    "print(classification_report(dep_test, predicted))"
   ]
  },
  {
   "cell_type": "code",
   "execution_count": 26,
   "metadata": {},
   "outputs": [
    {
     "data": {
      "image/png": "[encoded data removed]",
      "text/plain": [
       "<matplotlib.figure.Figure at 0x7fc5d40de828>"
      ]
     },
     "metadata": {},
     "output_type": "display_data"
    }
   ],
   "source": [
    "from helper_code import mlplots as ml\n",
    "\n",
    "ml.confusion(dep_test.reshape(dep_test.shape[0]), \n",
    "             predicted, ['No', 'Yes'], 2, 'Smoker Classification [Numeric only]')"
   ]
  },
  {
   "cell_type": "markdown",
   "metadata": {},
   "source": [
    "-----\n",
    "\n",
    "In this simple example, our model provides a reasonable performance, except for the excess _false negatives_ where we over predict non-smokers to be smokers. While there are several techniques we could explore to improve the performance of this simple model, the easiest will be to include additional features in our model. This will require including categorical features in our model, which is discussed in the next section.\n",
    "\n",
    "----\n",
    "\n",
    "[[Back to TOC]](#Table-of-Contents)\n",
    "\n",
    "### LR: Categorical Features\n",
    "\n",
    "Admittedly, our attempt to predict whether a patron is a smoker or not, based solely on the data in the _tips_ data set, is ambitious. Even if the model fails to perform sufficiently well, we may gain insight into our data and the relationship between the features. As a result, we now transition to include categorical features in the model. To accomplish this we need to transform the single categorical feature into multiple features that correspond to the different values available to each categorical feature. In the linear regression notebook, this was performed by using the `LabelBinarizer` in the scikit-learn library. \n",
    "\n",
    "Here we will use a different approach; the pandas library provides a `get_dummies` method that creates a new DataFrame from the categorical features in an existing DataFrame. A dummy feature is a binary feature that takes a value of `0` or `1` depending on whether the original feature had the corresponding categorical value. We demonstrate this in the following Code cell, where we extract the three categorical features: `sex`, `day`, and `time` from the `tdf` DataFrame, generate dummy features, and sample the resulting DataFrame.\n",
    "\n",
    "-----\n",
    "\n"
   ]
  },
  {
   "cell_type": "code",
   "execution_count": 27,
   "metadata": {},
   "outputs": [
    {
     "data": {
      "text/html": [
       "<div>\n",
       "<style scoped>\n",
       "    .dataframe tbody tr th:only-of-type {\n",
       "        vertical-align: middle;\n",
       "    }\n",
       "\n",
       "    .dataframe tbody tr th {\n",
       "        vertical-align: top;\n",
       "    }\n",
       "\n",
       "    .dataframe thead th {\n",
       "        text-align: right;\n",
       "    }\n",
       "</style>\n",
       "<table border=\"1\" class=\"dataframe\">\n",
       "  <thead>\n",
       "    <tr style=\"text-align: right;\">\n",
       "      <th></th>\n",
       "      <th>sex_Male</th>\n",
       "      <th>sex_Female</th>\n",
       "      <th>day_Thur</th>\n",
       "      <th>day_Fri</th>\n",
       "      <th>day_Sat</th>\n",
       "      <th>day_Sun</th>\n",
       "      <th>time_Lunch</th>\n",
       "      <th>time_Dinner</th>\n",
       "    </tr>\n",
       "  </thead>\n",
       "  <tbody>\n",
       "    <tr>\n",
       "      <th>238</th>\n",
       "      <td>0</td>\n",
       "      <td>1</td>\n",
       "      <td>0</td>\n",
       "      <td>0</td>\n",
       "      <td>1</td>\n",
       "      <td>0</td>\n",
       "      <td>0</td>\n",
       "      <td>1</td>\n",
       "    </tr>\n",
       "    <tr>\n",
       "      <th>198</th>\n",
       "      <td>0</td>\n",
       "      <td>1</td>\n",
       "      <td>1</td>\n",
       "      <td>0</td>\n",
       "      <td>0</td>\n",
       "      <td>0</td>\n",
       "      <td>1</td>\n",
       "      <td>0</td>\n",
       "    </tr>\n",
       "    <tr>\n",
       "      <th>240</th>\n",
       "      <td>0</td>\n",
       "      <td>1</td>\n",
       "      <td>0</td>\n",
       "      <td>0</td>\n",
       "      <td>1</td>\n",
       "      <td>0</td>\n",
       "      <td>0</td>\n",
       "      <td>1</td>\n",
       "    </tr>\n",
       "    <tr>\n",
       "      <th>122</th>\n",
       "      <td>1</td>\n",
       "      <td>0</td>\n",
       "      <td>1</td>\n",
       "      <td>0</td>\n",
       "      <td>0</td>\n",
       "      <td>0</td>\n",
       "      <td>1</td>\n",
       "      <td>0</td>\n",
       "    </tr>\n",
       "    <tr>\n",
       "      <th>156</th>\n",
       "      <td>1</td>\n",
       "      <td>0</td>\n",
       "      <td>0</td>\n",
       "      <td>0</td>\n",
       "      <td>0</td>\n",
       "      <td>1</td>\n",
       "      <td>0</td>\n",
       "      <td>1</td>\n",
       "    </tr>\n",
       "  </tbody>\n",
       "</table>\n",
       "</div>"
      ],
      "text/plain": [
       "     sex_Male  sex_Female  day_Thur  day_Fri  day_Sat  day_Sun  time_Lunch  \\\n",
       "238         0           1         0        0        1        0           0   \n",
       "198         0           1         1        0        0        0           1   \n",
       "240         0           1         0        0        1        0           0   \n",
       "122         1           0         1        0        0        0           1   \n",
       "156         1           0         0        0        0        1           0   \n",
       "\n",
       "     time_Dinner  \n",
       "238            1  \n",
       "198            0  \n",
       "240            1  \n",
       "122            0  \n",
       "156            1  "
      ]
     },
     "execution_count": 27,
     "metadata": {},
     "output_type": "execute_result"
    }
   ],
   "source": [
    "categorical = ['sex', 'day', 'time']\n",
    "\n",
    "cat_data = pd.get_dummies(tdf[categorical])\n",
    "cat_data.sample(5)"
   ]
  },
  {
   "cell_type": "markdown",
   "metadata": {},
   "source": [
    "-----\n",
    "\n",
    "With these _dummy_ categorical features, we can compute a logistic regression model for the combined numeric and categorical features. To do this, we first combine the numeric and categorical features into a new DataFrame. Next, we divide the features and labels into training and testing data. We fit our existing estimator to the new data, and display the results. The first Code cell displays the classification report and the second Code cell displays the confusion matrix. Together, these two results demonstrate that the inclusion of the categorical features improves the overall result.\n",
    "\n",
    "-----"
   ]
  },
  {
   "cell_type": "code",
   "execution_count": 28,
   "metadata": {},
   "outputs": [
    {
     "name": "stdout",
     "output_type": "stream",
     "text": [
      "Smoker [Numeric & Categoric] classification score = 72.13%\n",
      "             precision    recall  f1-score   support\n",
      "\n",
      "        0.0       0.75      0.90      0.82        42\n",
      "        1.0       0.60      0.32      0.41        19\n",
      "\n",
      "avg / total       0.70      0.72      0.69        61\n",
      "\n"
     ]
    }
   ],
   "source": [
    "# Join numerical and categorical features\n",
    "# into new DataFrame\n",
    "features = pd.concat([num_data, cat_data], axis=1)\n",
    "\n",
    "# Create test/train splits for independent and dependent data\n",
    "# Explicitly set our random seed to enable reproduceability\n",
    "ind_train, ind_test, dep_train, dep_test \\\n",
    "    = train_test_split(features, labels, test_size=frac, random_state=23)\n",
    "\n",
    "# Fit a new model to new data\n",
    "tips_model.fit(ind_train, dep_train)\n",
    "\n",
    "# Predict on test data\n",
    "predicted = tips_model.predict(ind_test)\n",
    "\n",
    "# Generate and display different evaluation metrics\n",
    "score = 100.0 * accuracy_score(dep_test, predicted)\n",
    "print(f'Smoker [Numeric & Categoric] classification score = {score:4.2f}%')\n",
    "print(classification_report(dep_test, predicted))"
   ]
  },
  {
   "cell_type": "code",
   "execution_count": 29,
   "metadata": {},
   "outputs": [
    {
     "data": {
      "image/png": "[encoded data removed]",
      "text/plain": [
       "<matplotlib.figure.Figure at 0x7fc5d4177c88>"
      ]
     },
     "metadata": {},
     "output_type": "display_data"
    }
   ],
   "source": [
    "ml.confusion(dep_test.reshape(dep_test.shape[0]), \n",
    "             predicted, ['No', 'Yes'], 2, 'Smoker Classification [Numeric & Categoric]')"
   ]
  },
  {
   "cell_type": "markdown",
   "metadata": {},
   "source": [
    "-----\n",
    "\n",
    "We can display the coefficients of our logistic regression model to understand which features contribute the most to future predictions. Simply put, the higher a coefficient, the more important that corresponding feature. In addition, a positive coefficient contributes towards a positive classification, while a negative coefficient contributes in the opposite manner. \n",
    "\n",
    "The following Code cell displays the fit coefficients for each feature in our data set, and the results are interesting. Recall that we are trying to predict if a patron is a smoker or not, thus a positive classification would indicate the patron is predicted to be a smoker. First, our model indicates that more patrons at lunch are smokers as opposed to dinner. Second, more smokers are predicted on Friday, while more non-smokers are predicted on Thursday. Finally, as the size of the group increases, the model predicts fewer smokers. Whether these model insights make sense or not is a matter for debate; however, this does demonstrate one of the important results of logistic regression, we end up with a parametric model that we can explore for insights.\n",
    "\n",
    "-----"
   ]
  },
  {
   "cell_type": "code",
   "execution_count": 30,
   "metadata": {},
   "outputs": [
    {
     "name": "stdout",
     "output_type": "stream",
     "text": [
      " 0.07 * total_bill\n",
      "-0.08 * tip\n",
      "-0.59 * size\n",
      " 0.35 * sex_Male\n",
      " 0.58 * sex_Female\n",
      "-6.48 * day_Thur\n",
      " 3.33 * day_Fri\n",
      " 2.40 * day_Sat\n",
      " 1.68 * day_Sun\n",
      " 4.61 * time_Lunch\n",
      "-3.68 * time_Dinner\n"
     ]
    }
   ],
   "source": [
    "# Display coefficients for different features\n",
    "for c, f in zip(tips_model.coef_[0], features.columns.values):\n",
    "    print(f'{c:5.2f} * {f}')"
   ]
  },
  {
   "cell_type": "markdown",
   "metadata": {},
   "source": [
    "-----\n",
    "\n",
    "[[Back to TOC]](#Table-of-Contents)\n",
    "\n",
    "### Formula-Based Method\n",
    "\n",
    "\n",
    "As the previous example demonstrated, the machine learning estimators in the scikit-learn library operate on NumPy arrays (or DataFrames that are converted into NumPy arrays). However, we can construct a pandas DataFrame from our data, and use the formula interface to the statsmodels module regression estimator to construct a logistic regression model. To demonstrate this formula-based approach, we perform logistic regression on the _tips_ data set. First, we add a new binary feature in our data for our dependent variable, which in this case is the `label` data that indicates whether a patron was a smoker or not.\n",
    "\n",
    "The first Code cell below adds this feature to the `tdf` DataFrame and randomly samples and displays five instances. The second Code cell builds a logit regression model by using the statsmodels module and a formula relating the dependent variable (`label`) to the independent variables (`total_bill`, `tip`, and `size`). Once constructed, we display the model results. Note that, in this case, we have not created and used training and testing data sets, thus we cannot accurately predict future performance.\n",
    "\n",
    "-----"
   ]
  },
  {
   "cell_type": "code",
   "execution_count": 31,
   "metadata": {},
   "outputs": [
    {
     "data": {
      "text/html": [
       "<div>\n",
       "<style scoped>\n",
       "    .dataframe tbody tr th:only-of-type {\n",
       "        vertical-align: middle;\n",
       "    }\n",
       "\n",
       "    .dataframe tbody tr th {\n",
       "        vertical-align: top;\n",
       "    }\n",
       "\n",
       "    .dataframe thead th {\n",
       "        text-align: right;\n",
       "    }\n",
       "</style>\n",
       "<table border=\"1\" class=\"dataframe\">\n",
       "  <thead>\n",
       "    <tr style=\"text-align: right;\">\n",
       "      <th></th>\n",
       "      <th>total_bill</th>\n",
       "      <th>tip</th>\n",
       "      <th>sex</th>\n",
       "      <th>smoker</th>\n",
       "      <th>day</th>\n",
       "      <th>time</th>\n",
       "      <th>size</th>\n",
       "      <th>label</th>\n",
       "    </tr>\n",
       "  </thead>\n",
       "  <tbody>\n",
       "    <tr>\n",
       "      <th>29</th>\n",
       "      <td>19.65</td>\n",
       "      <td>3.00</td>\n",
       "      <td>Female</td>\n",
       "      <td>No</td>\n",
       "      <td>Sat</td>\n",
       "      <td>Dinner</td>\n",
       "      <td>2</td>\n",
       "      <td>0.0</td>\n",
       "    </tr>\n",
       "    <tr>\n",
       "      <th>171</th>\n",
       "      <td>15.81</td>\n",
       "      <td>3.16</td>\n",
       "      <td>Male</td>\n",
       "      <td>Yes</td>\n",
       "      <td>Sat</td>\n",
       "      <td>Dinner</td>\n",
       "      <td>2</td>\n",
       "      <td>1.0</td>\n",
       "    </tr>\n",
       "    <tr>\n",
       "      <th>84</th>\n",
       "      <td>15.98</td>\n",
       "      <td>2.03</td>\n",
       "      <td>Male</td>\n",
       "      <td>No</td>\n",
       "      <td>Thur</td>\n",
       "      <td>Lunch</td>\n",
       "      <td>2</td>\n",
       "      <td>0.0</td>\n",
       "    </tr>\n",
       "    <tr>\n",
       "      <th>98</th>\n",
       "      <td>21.01</td>\n",
       "      <td>3.00</td>\n",
       "      <td>Male</td>\n",
       "      <td>Yes</td>\n",
       "      <td>Fri</td>\n",
       "      <td>Dinner</td>\n",
       "      <td>2</td>\n",
       "      <td>1.0</td>\n",
       "    </tr>\n",
       "    <tr>\n",
       "      <th>27</th>\n",
       "      <td>12.69</td>\n",
       "      <td>2.00</td>\n",
       "      <td>Male</td>\n",
       "      <td>No</td>\n",
       "      <td>Sat</td>\n",
       "      <td>Dinner</td>\n",
       "      <td>2</td>\n",
       "      <td>0.0</td>\n",
       "    </tr>\n",
       "  </tbody>\n",
       "</table>\n",
       "</div>"
      ],
      "text/plain": [
       "     total_bill   tip     sex smoker   day    time  size  label\n",
       "29        19.65  3.00  Female     No   Sat  Dinner     2    0.0\n",
       "171       15.81  3.16    Male    Yes   Sat  Dinner     2    1.0\n",
       "84        15.98  2.03    Male     No  Thur   Lunch     2    0.0\n",
       "98        21.01  3.00    Male    Yes   Fri  Dinner     2    1.0\n",
       "27        12.69  2.00    Male     No   Sat  Dinner     2    0.0"
      ]
     },
     "execution_count": 31,
     "metadata": {},
     "output_type": "execute_result"
    }
   ],
   "source": [
    "# Generate new feature in our DataFrame for the label\n",
    "tdf['label'] = (tdf['smoker'] == 'Yes').astype(float)\n",
    "tdf.sample(5)"
   ]
  },
  {
   "cell_type": "code",
   "execution_count": 32,
   "metadata": {},
   "outputs": [
    {
     "name": "stdout",
     "output_type": "stream",
     "text": [
      "Optimization terminated successfully.\n",
      "         Current function value: 0.632211\n",
      "         Iterations 5\n"
     ]
    },
    {
     "data": {
      "text/html": [
       "<table class=\"simpletable\">\n",
       "<caption>Logit Regression Results</caption>\n",
       "<tr>\n",
       "  <th>Dep. Variable:</th>       <td>label</td>      <th>  No. Observations:  </th>  <td>   244</td> \n",
       "</tr>\n",
       "<tr>\n",
       "  <th>Model:</th>               <td>Logit</td>      <th>  Df Residuals:      </th>  <td>   240</td> \n",
       "</tr>\n",
       "<tr>\n",
       "  <th>Method:</th>               <td>MLE</td>       <th>  Df Model:          </th>  <td>     3</td> \n",
       "</tr>\n",
       "<tr>\n",
       "  <th>Date:</th>          <td>Sun, 18 Feb 2018</td> <th>  Pseudo R-squ.:     </th>  <td>0.04877</td>\n",
       "</tr>\n",
       "<tr>\n",
       "  <th>Time:</th>              <td>19:26:46</td>     <th>  Log-Likelihood:    </th> <td> -154.26</td>\n",
       "</tr>\n",
       "<tr>\n",
       "  <th>converged:</th>           <td>True</td>       <th>  LL-Null:           </th> <td> -162.17</td>\n",
       "</tr>\n",
       "<tr>\n",
       "  <th> </th>                      <td> </td>        <th>  LLR p-value:       </th> <td>0.001236</td>\n",
       "</tr>\n",
       "</table>\n",
       "<table class=\"simpletable\">\n",
       "<tr>\n",
       "       <td></td>         <th>coef</th>     <th>std err</th>      <th>z</th>      <th>P>|z|</th>  <th>[0.025</th>    <th>0.975]</th>  \n",
       "</tr>\n",
       "<tr>\n",
       "  <th>Intercept</th>  <td>    0.0903</td> <td>    0.434</td> <td>    0.208</td> <td> 0.835</td> <td>   -0.759</td> <td>    0.940</td>\n",
       "</tr>\n",
       "<tr>\n",
       "  <th>total_bill</th> <td>    0.0712</td> <td>    0.024</td> <td>    2.982</td> <td> 0.003</td> <td>    0.024</td> <td>    0.118</td>\n",
       "</tr>\n",
       "<tr>\n",
       "  <th>tip</th>        <td>   -0.0846</td> <td>    0.137</td> <td>   -0.616</td> <td> 0.538</td> <td>   -0.354</td> <td>    0.184</td>\n",
       "</tr>\n",
       "<tr>\n",
       "  <th>size</th>       <td>   -0.6866</td> <td>    0.206</td> <td>   -3.335</td> <td> 0.001</td> <td>   -1.090</td> <td>   -0.283</td>\n",
       "</tr>\n",
       "</table>"
      ],
      "text/plain": [
       "<class 'statsmodels.iolib.summary.Summary'>\n",
       "\"\"\"\n",
       "                           Logit Regression Results                           \n",
       "==============================================================================\n",
       "Dep. Variable:                  label   No. Observations:                  244\n",
       "Model:                          Logit   Df Residuals:                      240\n",
       "Method:                           MLE   Df Model:                            3\n",
       "Date:                Sun, 18 Feb 2018   Pseudo R-squ.:                 0.04877\n",
       "Time:                        19:26:46   Log-Likelihood:                -154.26\n",
       "converged:                       True   LL-Null:                       -162.17\n",
       "                                        LLR p-value:                  0.001236\n",
       "==============================================================================\n",
       "                 coef    std err          z      P>|z|      [0.025      0.975]\n",
       "------------------------------------------------------------------------------\n",
       "Intercept      0.0903      0.434      0.208      0.835      -0.759       0.940\n",
       "total_bill     0.0712      0.024      2.982      0.003       0.024       0.118\n",
       "tip           -0.0846      0.137     -0.616      0.538      -0.354       0.184\n",
       "size          -0.6866      0.206     -3.335      0.001      -1.090      -0.283\n",
       "==============================================================================\n",
       "\"\"\""
      ]
     },
     "execution_count": 32,
     "metadata": {},
     "output_type": "execute_result"
    }
   ],
   "source": [
    "import statsmodels.api as sm\n",
    "from statsmodels.formula.api import logit\n",
    "\n",
    "# Implement simple regression: Result ~ Input\n",
    "sts_model = logit('label ~ total_bill + tip + size', data=tdf).fit()\n",
    "\n",
    "# Display summary of model and fit parameters\n",
    "sts_model.summary()"
   ]
  },
  {
   "cell_type": "markdown",
   "metadata": {},
   "source": [
    "-----\n",
    "\n",
    "The displayed fit coefficient results agree, to a degree, with our earlier results. The `total_bill` and `tips` features show a small impact on our predicted result, while the `size` is negatively correlated with a positive prediction. Naively, we might interpret this as smokers tend to visit the restaurant in smaller groups or individually. We can display the confession matrix for these data, as demonstrated in the following Code cell. This shows this new model fails primarily with false negatives.\n",
    "\n",
    "-----"
   ]
  },
  {
   "cell_type": "code",
   "execution_count": 33,
   "metadata": {},
   "outputs": [
    {
     "data": {
      "text/plain": [
       "array([[ 140.,   11.],\n",
       "       [  72.,   21.]])"
      ]
     },
     "execution_count": 33,
     "metadata": {},
     "output_type": "execute_result"
    }
   ],
   "source": [
    "# Display confusion matrix\n",
    "sts_model.pred_table()"
   ]
  },
  {
   "cell_type": "markdown",
   "metadata": {},
   "source": [
    "-----\n",
    "\n",
    "We can also employ a formula-based approach with the scikit-learn library by using the patsy module to construct NumPy matrices from a formula. This is actually how the statsmodels library constructs NumPy arrays for regression models, but in this case we avoid using statsmodels. \n",
    "\n",
    "To demonstrate this, we will once again perform logistic regression on the _tips_ data set. Since we have already constructed our DataFrame with both numeric, categorical, and label features, we can simply supply a formula to the patsy library to generate the desired NumPy matrices. We demonstrate this in the following code cell, where we regress on the same three numerical features, but now add in three categorical features. To indicate to the patsy module that a feature is categorical, we enclose the feature in parenthesis and prefix this with a `C`.\n",
    "\n",
    "The `dmatrices` function takes this formula and the supplied data and returns the aggregated result, which in this case we have requested as two DataFrames: `x` for the independent variables and `y` for the dependent variable. We reshape the `y`, or label DataFrame, to work with the scikit-learn library estimators, and randomly sample five instances to indicate the features that will be used to construct the model. \n",
    "\n",
    "Two important points to notice with `x`, the new feature DataFrame. First, patsy automatically created the dummy, or binarized, features for our categorical features. Second, notice that patsy also dropped one option for each categorical feature. This is not a bug, instead it is done to generate more robust results (something we probably should have been doing earlier). If we regress across all possible categorical options, we have introduced [unnecessary correlations][wdf] between our features. That is because if we have $n$ categorical features, we only need $n - 1$ dummy features to fully map all options (if they are all zero, it is the same as saying the $n^{th}$ dummy feature was one). This is known as [multicollinearity][wmc], and can lead to problems with convergence. To avoid this, you should always [drop one dummy feature][wmcr]. \n",
    "\n",
    "We have, for example, explicitly excluded using `day=Thur` as a predictor. Thus, _Thursday_ is our reference category, for the `day` categorical features. Likewise, _Male_ is the reference category for the `sex` feature, and _Lunch_ is the reference category for the `time` feature. Later, when we quantify the impact of one feature on the prediction, the measurements will be with respect to this reference category.\n",
    "\n",
    "----\n",
    "\n",
    "[wmc]: https://en.wikipedia.org/wiki/Multicollinearity\n",
    "[wmcr]: https://en.wikipedia.org/wiki/Multicollinearity#Remedies_for_multicollinearity\n",
    "\n",
    "[wdf]: https://en.wikipedia.org/wiki/Dummy_variable_(statistics)#Interactions_among_dummy_variables"
   ]
  },
  {
   "cell_type": "code",
   "execution_count": 34,
   "metadata": {},
   "outputs": [
    {
     "data": {
      "text/html": [
       "<div>\n",
       "<style scoped>\n",
       "    .dataframe tbody tr th:only-of-type {\n",
       "        vertical-align: middle;\n",
       "    }\n",
       "\n",
       "    .dataframe tbody tr th {\n",
       "        vertical-align: top;\n",
       "    }\n",
       "\n",
       "    .dataframe thead th {\n",
       "        text-align: right;\n",
       "    }\n",
       "</style>\n",
       "<table border=\"1\" class=\"dataframe\">\n",
       "  <thead>\n",
       "    <tr style=\"text-align: right;\">\n",
       "      <th></th>\n",
       "      <th>Intercept</th>\n",
       "      <th>C(sex)[T.Female]</th>\n",
       "      <th>C(day)[T.Fri]</th>\n",
       "      <th>C(day)[T.Sat]</th>\n",
       "      <th>C(day)[T.Sun]</th>\n",
       "      <th>C(time)[T.Dinner]</th>\n",
       "      <th>total_bill</th>\n",
       "      <th>tip</th>\n",
       "      <th>size</th>\n",
       "    </tr>\n",
       "  </thead>\n",
       "  <tbody>\n",
       "    <tr>\n",
       "      <th>230</th>\n",
       "      <td>1.0</td>\n",
       "      <td>0.0</td>\n",
       "      <td>0.0</td>\n",
       "      <td>1.0</td>\n",
       "      <td>0.0</td>\n",
       "      <td>1.0</td>\n",
       "      <td>24.01</td>\n",
       "      <td>2.00</td>\n",
       "      <td>4.0</td>\n",
       "    </tr>\n",
       "    <tr>\n",
       "      <th>84</th>\n",
       "      <td>1.0</td>\n",
       "      <td>0.0</td>\n",
       "      <td>0.0</td>\n",
       "      <td>0.0</td>\n",
       "      <td>0.0</td>\n",
       "      <td>0.0</td>\n",
       "      <td>15.98</td>\n",
       "      <td>2.03</td>\n",
       "      <td>2.0</td>\n",
       "    </tr>\n",
       "    <tr>\n",
       "      <th>188</th>\n",
       "      <td>1.0</td>\n",
       "      <td>1.0</td>\n",
       "      <td>0.0</td>\n",
       "      <td>0.0</td>\n",
       "      <td>1.0</td>\n",
       "      <td>1.0</td>\n",
       "      <td>18.15</td>\n",
       "      <td>3.50</td>\n",
       "      <td>3.0</td>\n",
       "    </tr>\n",
       "    <tr>\n",
       "      <th>0</th>\n",
       "      <td>1.0</td>\n",
       "      <td>1.0</td>\n",
       "      <td>0.0</td>\n",
       "      <td>0.0</td>\n",
       "      <td>1.0</td>\n",
       "      <td>1.0</td>\n",
       "      <td>16.99</td>\n",
       "      <td>1.01</td>\n",
       "      <td>2.0</td>\n",
       "    </tr>\n",
       "    <tr>\n",
       "      <th>207</th>\n",
       "      <td>1.0</td>\n",
       "      <td>0.0</td>\n",
       "      <td>0.0</td>\n",
       "      <td>1.0</td>\n",
       "      <td>0.0</td>\n",
       "      <td>1.0</td>\n",
       "      <td>38.73</td>\n",
       "      <td>3.00</td>\n",
       "      <td>4.0</td>\n",
       "    </tr>\n",
       "  </tbody>\n",
       "</table>\n",
       "</div>"
      ],
      "text/plain": [
       "     Intercept  C(sex)[T.Female]  C(day)[T.Fri]  C(day)[T.Sat]  C(day)[T.Sun]  \\\n",
       "230        1.0               0.0            0.0            1.0            0.0   \n",
       "84         1.0               0.0            0.0            0.0            0.0   \n",
       "188        1.0               1.0            0.0            0.0            1.0   \n",
       "0          1.0               1.0            0.0            0.0            1.0   \n",
       "207        1.0               0.0            0.0            1.0            0.0   \n",
       "\n",
       "     C(time)[T.Dinner]  total_bill   tip  size  \n",
       "230                1.0       24.01  2.00   4.0  \n",
       "84                 0.0       15.98  2.03   2.0  \n",
       "188                1.0       18.15  3.50   3.0  \n",
       "0                  1.0       16.99  1.01   2.0  \n",
       "207                1.0       38.73  3.00   4.0  "
      ]
     },
     "execution_count": 34,
     "metadata": {},
     "output_type": "execute_result"
    }
   ],
   "source": [
    "import patsy as pts \n",
    "\n",
    "y, x = pts.dmatrices('label ~ total_bill + tip + size + C(sex) + C(day) + C(time)', \n",
    "                     data=tdf, return_type='dataframe')\n",
    "\n",
    "# y needs to be a 1D array for scikit learn\n",
    "y = np.ravel(y)\n",
    "x.sample(5)"
   ]
  },
  {
   "cell_type": "markdown",
   "metadata": {},
   "source": [
    "-----\n",
    "\n",
    "Given these two DataFrames, we can construct an estimator, fit the training data, and predict on our test data. The following Code cell performs these steps, and the output agrees with our earlier results. The second Code cell displays the confusion matrix, indicating that the biggest problem our model faces is the prediction of false negatives.\n",
    "\n",
    "-----"
   ]
  },
  {
   "cell_type": "code",
   "execution_count": 35,
   "metadata": {},
   "outputs": [
    {
     "name": "stdout",
     "output_type": "stream",
     "text": [
      "Smoker [Numeric & Categoric] classification score = 72.13%\n",
      "             precision    recall  f1-score   support\n",
      "\n",
      "        0.0       0.75      0.90      0.82        42\n",
      "        1.0       0.60      0.32      0.41        19\n",
      "\n",
      "avg / total       0.70      0.72      0.69        61\n",
      "\n"
     ]
    }
   ],
   "source": [
    "# Predict on test data\n",
    "predicted = tips_model.predict(ind_test)\n",
    "\n",
    "# Generate and display different evaluation metrics\n",
    "score = 100.0 * accuracy_score(dep_test, predicted)\n",
    "print(f'Smoker [Numeric & Categoric] classification score = {score:4.2f}%')\n",
    "print(classification_report(dep_test, predicted))"
   ]
  },
  {
   "cell_type": "code",
   "execution_count": 36,
   "metadata": {},
   "outputs": [
    {
     "name": "stdout",
     "output_type": "stream",
     "text": [
      "Smoker [Numeric & Categoric] classification score = 72.13%\n",
      "             precision    recall  f1-score   support\n",
      "\n",
      "        0.0       0.75      0.90      0.82        42\n",
      "        1.0       0.60      0.32      0.41        19\n",
      "\n",
      "avg / total       0.70      0.72      0.69        61\n",
      "\n"
     ]
    }
   ],
   "source": [
    "# Create test/train splits for independent and dependent data\n",
    "# Explicitly set our random seed to enable reproduceability\n",
    "ind_train, ind_test, dep_train, dep_test \\\n",
    "    = train_test_split(x, y, test_size=frac, random_state=23)\n",
    "\n",
    "# Create estimator and fit model\n",
    "pts_model = LogisticRegression(C=1E6)\n",
    "pts_model = pts_model.fit(ind_train, dep_train)\n",
    "\n",
    "# Predict on test data\n",
    "predicted = pts_model.predict(ind_test)\n",
    "\n",
    "# Generate and display different evaluation metrics\n",
    "score = 100.0 * accuracy_score(dep_test, predicted)\n",
    "print(f'Smoker [Numeric & Categoric] classification score = {score:4.2f}%')\n",
    "print(classification_report(dep_test, predicted))"
   ]
  },
  {
   "cell_type": "code",
   "execution_count": 37,
   "metadata": {},
   "outputs": [
    {
     "data": {
      "image/png": "[encoded data removed]",
      "text/plain": [
       "<matplotlib.figure.Figure at 0x7fc5dbaf5a20>"
      ]
     },
     "metadata": {},
     "output_type": "display_data"
    }
   ],
   "source": [
    "# Display confusion matrix\n",
    "ml.confusion(dep_test.reshape(dep_test.shape[0]), \n",
    "             predicted, ['No', 'Yes'], 2, 'Smoker Classification [Numeric & Categoric]')"
   ]
  },
  {
   "cell_type": "markdown",
   "metadata": {},
   "source": [
    "-----\n",
    "\n",
    "<font color='red' size = '5'> Student Exercise </font>\n",
    "\n",
    "In the preceding cells, we used logistic regression to build a model representation of the _tips_ data to predict if a patron was a smoker or not. Now that you have run the notebook once, go back and make the following changes. Be sure to understand what you have done, and the impact on the new classification result.\n",
    "\n",
    "1. In this model, we did not employ a train:test split. Change the model construction to split the data into 75% training and 25% testing. Do you believe the new model more or less than the original model? Why?\n",
    "2. Change the features use to drop all categorical features. How does the new model perform? \n",
    "3. Try predicting sex (or gender) rather than the `smoker` feature by using all other features. Does the new model perform better or worse than the current model?\n",
    "\n",
    "-----"
   ]
  },
  {
   "cell_type": "markdown",
   "metadata": {},
   "source": [
    "-----\n",
    "\n",
    "[[Back to TOC]](#Table-of-Contents)\n",
    "\n",
    "### Marginal Effects\n",
    "\n",
    "One challenge when building a logistic model with multiple independent features is understanding the _true_ effect of any one independent feature. To estimate these effects, one can compute the _marginal effects_, which quantifies the impact one feature has on the prediction while the other features are held constant. Formally this is done by taking the partial derivative of the model with respect to the feature of interest, but we can compute them directly by using the `get_margeff` function from the statsmodels library. The following code cell demonstrates this by calling this method on the logistic regression model `sts_model` that we previously constructed by using the statsmodels library. \n",
    "\n",
    "The results displayed agree with what we saw earlier in the fit coefficients, namely that the `total_bill` and `tips` features do not strongly relate to a prediction. For example, a unit change in the `total_bill` feature will induce a change of 0.0157 in the prediction. Of these three features, the `size` has the largest impact at -0.1518, which once again indicates that a smaller `size` feature suggests a higher chance of a smoker, since that marginal effect is negative. We could ask if we see this effect in descriptive statistics. The next two Code cells present the descriptive statistics for the original data split by the `smoker` feature. From this, we see that smokers do tend to be in smaller groups and give slightly smaller tips. However, to fully quantify this interpretation would require employing hypothesis testing, which is beyond the scope of the current notebook.\n",
    "\n",
    "----"
   ]
  },
  {
   "cell_type": "code",
   "execution_count": 38,
   "metadata": {},
   "outputs": [
    {
     "name": "stdout",
     "output_type": "stream",
     "text": [
      "        Logit Marginal Effects       \n",
      "=====================================\n",
      "Dep. Variable:                  label\n",
      "Method:                          dydx\n",
      "At:                           overall\n",
      "==============================================================================\n",
      "                dy/dx    std err          z      P>|z|      [0.025      0.975]\n",
      "------------------------------------------------------------------------------\n",
      "total_bill     0.0157      0.005      3.203      0.001       0.006       0.025\n",
      "tip           -0.0187      0.030     -0.618      0.537      -0.078       0.041\n",
      "size          -0.1518      0.042     -3.638      0.000      -0.234      -0.070\n",
      "==============================================================================\n"
     ]
    }
   ],
   "source": [
    "# Move this to text as an aside\n",
    "mfx = sts_model.get_margeff()\n",
    "print(mfx.summary())"
   ]
  },
  {
   "cell_type": "code",
   "execution_count": 39,
   "metadata": {},
   "outputs": [
    {
     "data": {
      "text/html": [
       "<div>\n",
       "<style scoped>\n",
       "    .dataframe tbody tr th:only-of-type {\n",
       "        vertical-align: middle;\n",
       "    }\n",
       "\n",
       "    .dataframe tbody tr th {\n",
       "        vertical-align: top;\n",
       "    }\n",
       "\n",
       "    .dataframe thead th {\n",
       "        text-align: right;\n",
       "    }\n",
       "</style>\n",
       "<table border=\"1\" class=\"dataframe\">\n",
       "  <thead>\n",
       "    <tr style=\"text-align: right;\">\n",
       "      <th></th>\n",
       "      <th>total_bill</th>\n",
       "      <th>tip</th>\n",
       "      <th>size</th>\n",
       "      <th>label</th>\n",
       "    </tr>\n",
       "  </thead>\n",
       "  <tbody>\n",
       "    <tr>\n",
       "      <th>count</th>\n",
       "      <td>93.000000</td>\n",
       "      <td>93.000000</td>\n",
       "      <td>93.000000</td>\n",
       "      <td>93.0</td>\n",
       "    </tr>\n",
       "    <tr>\n",
       "      <th>mean</th>\n",
       "      <td>20.756344</td>\n",
       "      <td>3.008710</td>\n",
       "      <td>2.408602</td>\n",
       "      <td>1.0</td>\n",
       "    </tr>\n",
       "    <tr>\n",
       "      <th>std</th>\n",
       "      <td>9.832154</td>\n",
       "      <td>1.401468</td>\n",
       "      <td>0.810751</td>\n",
       "      <td>0.0</td>\n",
       "    </tr>\n",
       "    <tr>\n",
       "      <th>min</th>\n",
       "      <td>3.070000</td>\n",
       "      <td>1.000000</td>\n",
       "      <td>1.000000</td>\n",
       "      <td>1.0</td>\n",
       "    </tr>\n",
       "    <tr>\n",
       "      <th>25%</th>\n",
       "      <td>13.420000</td>\n",
       "      <td>2.000000</td>\n",
       "      <td>2.000000</td>\n",
       "      <td>1.0</td>\n",
       "    </tr>\n",
       "    <tr>\n",
       "      <th>50%</th>\n",
       "      <td>17.920000</td>\n",
       "      <td>3.000000</td>\n",
       "      <td>2.000000</td>\n",
       "      <td>1.0</td>\n",
       "    </tr>\n",
       "    <tr>\n",
       "      <th>75%</th>\n",
       "      <td>26.860000</td>\n",
       "      <td>3.680000</td>\n",
       "      <td>3.000000</td>\n",
       "      <td>1.0</td>\n",
       "    </tr>\n",
       "    <tr>\n",
       "      <th>max</th>\n",
       "      <td>50.810000</td>\n",
       "      <td>10.000000</td>\n",
       "      <td>5.000000</td>\n",
       "      <td>1.0</td>\n",
       "    </tr>\n",
       "  </tbody>\n",
       "</table>\n",
       "</div>"
      ],
      "text/plain": [
       "       total_bill        tip       size  label\n",
       "count   93.000000  93.000000  93.000000   93.0\n",
       "mean    20.756344   3.008710   2.408602    1.0\n",
       "std      9.832154   1.401468   0.810751    0.0\n",
       "min      3.070000   1.000000   1.000000    1.0\n",
       "25%     13.420000   2.000000   2.000000    1.0\n",
       "50%     17.920000   3.000000   2.000000    1.0\n",
       "75%     26.860000   3.680000   3.000000    1.0\n",
       "max     50.810000  10.000000   5.000000    1.0"
      ]
     },
     "execution_count": 39,
     "metadata": {},
     "output_type": "execute_result"
    }
   ],
   "source": [
    "# Smoker descriptive statistics\n",
    "tdf[tdf['smoker'] == 'Yes'].describe()"
   ]
  },
  {
   "cell_type": "code",
   "execution_count": 40,
   "metadata": {},
   "outputs": [
    {
     "data": {
      "text/html": [
       "<div>\n",
       "<style scoped>\n",
       "    .dataframe tbody tr th:only-of-type {\n",
       "        vertical-align: middle;\n",
       "    }\n",
       "\n",
       "    .dataframe tbody tr th {\n",
       "        vertical-align: top;\n",
       "    }\n",
       "\n",
       "    .dataframe thead th {\n",
       "        text-align: right;\n",
       "    }\n",
       "</style>\n",
       "<table border=\"1\" class=\"dataframe\">\n",
       "  <thead>\n",
       "    <tr style=\"text-align: right;\">\n",
       "      <th></th>\n",
       "      <th>total_bill</th>\n",
       "      <th>tip</th>\n",
       "      <th>size</th>\n",
       "      <th>label</th>\n",
       "    </tr>\n",
       "  </thead>\n",
       "  <tbody>\n",
       "    <tr>\n",
       "      <th>count</th>\n",
       "      <td>151.000000</td>\n",
       "      <td>151.000000</td>\n",
       "      <td>151.000000</td>\n",
       "      <td>151.0</td>\n",
       "    </tr>\n",
       "    <tr>\n",
       "      <th>mean</th>\n",
       "      <td>19.188278</td>\n",
       "      <td>2.991854</td>\n",
       "      <td>2.668874</td>\n",
       "      <td>0.0</td>\n",
       "    </tr>\n",
       "    <tr>\n",
       "      <th>std</th>\n",
       "      <td>8.255582</td>\n",
       "      <td>1.377190</td>\n",
       "      <td>1.017984</td>\n",
       "      <td>0.0</td>\n",
       "    </tr>\n",
       "    <tr>\n",
       "      <th>min</th>\n",
       "      <td>7.250000</td>\n",
       "      <td>1.000000</td>\n",
       "      <td>1.000000</td>\n",
       "      <td>0.0</td>\n",
       "    </tr>\n",
       "    <tr>\n",
       "      <th>25%</th>\n",
       "      <td>13.325000</td>\n",
       "      <td>2.000000</td>\n",
       "      <td>2.000000</td>\n",
       "      <td>0.0</td>\n",
       "    </tr>\n",
       "    <tr>\n",
       "      <th>50%</th>\n",
       "      <td>17.590000</td>\n",
       "      <td>2.740000</td>\n",
       "      <td>2.000000</td>\n",
       "      <td>0.0</td>\n",
       "    </tr>\n",
       "    <tr>\n",
       "      <th>75%</th>\n",
       "      <td>22.755000</td>\n",
       "      <td>3.505000</td>\n",
       "      <td>3.000000</td>\n",
       "      <td>0.0</td>\n",
       "    </tr>\n",
       "    <tr>\n",
       "      <th>max</th>\n",
       "      <td>48.330000</td>\n",
       "      <td>9.000000</td>\n",
       "      <td>6.000000</td>\n",
       "      <td>0.0</td>\n",
       "    </tr>\n",
       "  </tbody>\n",
       "</table>\n",
       "</div>"
      ],
      "text/plain": [
       "       total_bill         tip        size  label\n",
       "count  151.000000  151.000000  151.000000  151.0\n",
       "mean    19.188278    2.991854    2.668874    0.0\n",
       "std      8.255582    1.377190    1.017984    0.0\n",
       "min      7.250000    1.000000    1.000000    0.0\n",
       "25%     13.325000    2.000000    2.000000    0.0\n",
       "50%     17.590000    2.740000    2.000000    0.0\n",
       "75%     22.755000    3.505000    3.000000    0.0\n",
       "max     48.330000    9.000000    6.000000    0.0"
      ]
     },
     "execution_count": 40,
     "metadata": {},
     "output_type": "execute_result"
    }
   ],
   "source": [
    "# Nonsmoker descriptive statistics\n",
    "tdf[tdf['smoker'] == 'No'].describe()"
   ]
  },
  {
   "cell_type": "markdown",
   "metadata": {},
   "source": [
    "-----\n",
    "\n",
    "[[Back to TOC]](#Table-of-Contents)\n",
    "\n",
    "### Odds Ratio\n",
    "\n",
    "While marginal effect works well for numeric features, we can't take the derivative of a categorical, or discrete feature. Thus, we can also compute the _odds ratio_ to determine the association between the presence or absence of two features. To compute an odds ratio, we hold one categorical value fixed, which is the reference group. This reference category was determined earlier when we held one categorical option out of the fit. Thus, when we calculate an odds ratio for the female instances, it is done with respect to the `sex=male` reference group.\n",
    "\n",
    "We can use the odds ratio to determine the association, for example, between the `day` feature and the `time` feature, in order to determine if there is a relationship between these two features and the likelihood a patron is a smoker. The value of the odds ratio indicates how much more likely a patron is to be a smoker. We can also compute confidence intervals around these values to quantify the degrees of uncertainty associated with this ratio.\n",
    "\n",
    "The following Code cells first perform a logistic regression using all three numeric and categorical features on the full data set, and display a summary of the results. Next, we compute the odds ratio and confidence intervals for the different features, which is done for our logistic model by using the exponential function (i.e., the same as going from a logit function to a logistic function). The results indicate that `day=Fri` and `day=Sat` are important, which is also borne out by the fit coefficients.\n",
    "\n",
    "-----"
   ]
  },
  {
   "cell_type": "code",
   "execution_count": 41,
   "metadata": {},
   "outputs": [
    {
     "name": "stdout",
     "output_type": "stream",
     "text": [
      "Optimization terminated successfully.\n",
      "         Current function value: 0.584335\n",
      "         Iterations 6\n"
     ]
    },
    {
     "data": {
      "text/html": [
       "<table class=\"simpletable\">\n",
       "<caption>Logit Regression Results</caption>\n",
       "<tr>\n",
       "  <th>Dep. Variable:</th>       <td>label</td>      <th>  No. Observations:  </th>  <td>   244</td>  \n",
       "</tr>\n",
       "<tr>\n",
       "  <th>Model:</th>               <td>Logit</td>      <th>  Df Residuals:      </th>  <td>   235</td>  \n",
       "</tr>\n",
       "<tr>\n",
       "  <th>Method:</th>               <td>MLE</td>       <th>  Df Model:          </th>  <td>     8</td>  \n",
       "</tr>\n",
       "<tr>\n",
       "  <th>Date:</th>          <td>Sun, 18 Feb 2018</td> <th>  Pseudo R-squ.:     </th>  <td>0.1208</td>  \n",
       "</tr>\n",
       "<tr>\n",
       "  <th>Time:</th>              <td>19:26:46</td>     <th>  Log-Likelihood:    </th> <td> -142.58</td> \n",
       "</tr>\n",
       "<tr>\n",
       "  <th>converged:</th>           <td>True</td>       <th>  LL-Null:           </th> <td> -162.17</td> \n",
       "</tr>\n",
       "<tr>\n",
       "  <th> </th>                      <td> </td>        <th>  LLR p-value:       </th> <td>4.550e-06</td>\n",
       "</tr>\n",
       "</table>\n",
       "<table class=\"simpletable\">\n",
       "<tr>\n",
       "          <td></td>             <th>coef</th>     <th>std err</th>      <th>z</th>      <th>P>|z|</th>  <th>[0.025</th>    <th>0.975]</th>  \n",
       "</tr>\n",
       "<tr>\n",
       "  <th>Intercept</th>         <td>   -0.5777</td> <td>    0.538</td> <td>   -1.074</td> <td> 0.283</td> <td>   -1.632</td> <td>    0.477</td>\n",
       "</tr>\n",
       "<tr>\n",
       "  <th>C(sex)[T.Female]</th>  <td>   -0.0242</td> <td>    0.311</td> <td>   -0.078</td> <td> 0.938</td> <td>   -0.634</td> <td>    0.586</td>\n",
       "</tr>\n",
       "<tr>\n",
       "  <th>C(day)[T.Fri]</th>     <td>    3.0240</td> <td>    1.107</td> <td>    2.731</td> <td> 0.006</td> <td>    0.853</td> <td>    5.195</td>\n",
       "</tr>\n",
       "<tr>\n",
       "  <th>C(day)[T.Sat]</th>     <td>    2.0200</td> <td>    1.261</td> <td>    1.602</td> <td> 0.109</td> <td>   -0.451</td> <td>    4.492</td>\n",
       "</tr>\n",
       "<tr>\n",
       "  <th>C(day)[T.Sun]</th>     <td>    1.0578</td> <td>    1.274</td> <td>    0.830</td> <td> 0.406</td> <td>   -1.439</td> <td>    3.554</td>\n",
       "</tr>\n",
       "<tr>\n",
       "  <th>C(time)[T.Dinner]</th> <td>   -1.2317</td> <td>    1.219</td> <td>   -1.010</td> <td> 0.312</td> <td>   -3.621</td> <td>    1.158</td>\n",
       "</tr>\n",
       "<tr>\n",
       "  <th>total_bill</th>        <td>    0.0723</td> <td>    0.025</td> <td>    2.898</td> <td> 0.004</td> <td>    0.023</td> <td>    0.121</td>\n",
       "</tr>\n",
       "<tr>\n",
       "  <th>tip</th>               <td>   -0.0903</td> <td>    0.144</td> <td>   -0.627</td> <td> 0.531</td> <td>   -0.373</td> <td>    0.192</td>\n",
       "</tr>\n",
       "<tr>\n",
       "  <th>size</th>              <td>   -0.5874</td> <td>    0.214</td> <td>   -2.750</td> <td> 0.006</td> <td>   -1.006</td> <td>   -0.169</td>\n",
       "</tr>\n",
       "</table>"
      ],
      "text/plain": [
       "<class 'statsmodels.iolib.summary.Summary'>\n",
       "\"\"\"\n",
       "                           Logit Regression Results                           \n",
       "==============================================================================\n",
       "Dep. Variable:                  label   No. Observations:                  244\n",
       "Model:                          Logit   Df Residuals:                      235\n",
       "Method:                           MLE   Df Model:                            8\n",
       "Date:                Sun, 18 Feb 2018   Pseudo R-squ.:                  0.1208\n",
       "Time:                        19:26:46   Log-Likelihood:                -142.58\n",
       "converged:                       True   LL-Null:                       -162.17\n",
       "                                        LLR p-value:                 4.550e-06\n",
       "=====================================================================================\n",
       "                        coef    std err          z      P>|z|      [0.025      0.975]\n",
       "-------------------------------------------------------------------------------------\n",
       "Intercept            -0.5777      0.538     -1.074      0.283      -1.632       0.477\n",
       "C(sex)[T.Female]     -0.0242      0.311     -0.078      0.938      -0.634       0.586\n",
       "C(day)[T.Fri]         3.0240      1.107      2.731      0.006       0.853       5.195\n",
       "C(day)[T.Sat]         2.0200      1.261      1.602      0.109      -0.451       4.492\n",
       "C(day)[T.Sun]         1.0578      1.274      0.830      0.406      -1.439       3.554\n",
       "C(time)[T.Dinner]    -1.2317      1.219     -1.010      0.312      -3.621       1.158\n",
       "total_bill            0.0723      0.025      2.898      0.004       0.023       0.121\n",
       "tip                  -0.0903      0.144     -0.627      0.531      -0.373       0.192\n",
       "size                 -0.5874      0.214     -2.750      0.006      -1.006      -0.169\n",
       "=====================================================================================\n",
       "\"\"\""
      ]
     },
     "execution_count": 41,
     "metadata": {},
     "output_type": "execute_result"
    }
   ],
   "source": [
    "# Implement simple regression: Result ~ Input\n",
    "sts_c_model = logit('label ~ total_bill + tip + size + C(sex) + C(day) + C(time)', \n",
    "                    data=tdf).fit()\n",
    "\n",
    "# Display model fit results\n",
    "sts_c_model.summary()"
   ]
  },
  {
   "cell_type": "code",
   "execution_count": 42,
   "metadata": {},
   "outputs": [
    {
     "name": "stdout",
     "output_type": "stream",
     "text": [
      "                       2.5%       97.5%         OR\n",
      "Intercept          0.195529    1.610648   0.561185\n",
      "C(sex)[T.Female]   0.530437    1.796312   0.976131\n",
      "C(day)[T.Fri]      2.347570  180.306787  20.573836\n",
      "C(day)[T.Sat]      0.636695   89.259933   7.538655\n",
      "C(day)[T.Sun]      0.237217   34.969570   2.880171\n",
      "C(time)[T.Dinner]  0.026750    3.183206   0.291804\n",
      "total_bill         1.023657    1.128765   1.074927\n",
      "tip                0.688984    1.211680   0.913689\n",
      "size               0.365666    0.844746   0.555783\n"
     ]
    }
   ],
   "source": [
    "# Odds ratios and 95% CI\n",
    "ci = sts_c_model.conf_int()\n",
    "ci['OR'] = sts_c_model.params\n",
    "ci.columns = ['2.5%', '97.5%', 'OR']\n",
    "print(np.exp(ci))"
   ]
  },
  {
   "cell_type": "markdown",
   "metadata": {},
   "source": [
    "-----\n",
    "\n",
    "## Ancillary Information\n",
    "\n",
    "The following links are to additional documentation that you might find helpful in learning this material. Reading these web-accessible documents is completely optional.\n",
    "\n",
    "4. Wikipedia article on [Logistic Regression][1]\n",
    "1. An interesting blog article on performing [logistic regression][2] in Python\n",
    "2. An implementation of [logistic regression][3] for modeling usage of wells in remote locations\n",
    "5. A demonstration of logistic regression for [loan prediction][6]\n",
    "67. A concise discussion on [performance metrics][pm] for classification algorithms\n",
    "-----\n",
    "\n",
    "[1]: https://en.wikipedia.org/wiki/Logistic_regression\n",
    "[2]: http://blog.yhat.com/posts/logistic-regression-and-python.html\n",
    "[3]: http://slendermeans.org/arm-ch5.html\n",
    "[6]: http://nbviewer.jupyter.org/github/nborwankar/LearnDataScience/blob/master/notebooks/B3.%20Logistic%20Regression%20-%20Analysis.ipynb\n",
    "[pm]: http://mrvar.fdv.uni-lj.si/pub/mz/mz3.1/vuk.pdf"
   ]
  },
  {
   "cell_type": "markdown",
   "metadata": {
    "deletable": false,
    "editable": false
   },
   "source": [
    "**&copy; 2017: Robert J. Brunner at the University of Illinois.**\n",
    "\n",
    "This notebook is released under the [Creative Commons license CC BY-NC-SA 4.0][ll]. Any reproduction, adaptation, distribution, dissemination or making available of this notebook for commercial use is not allowed unless authorized in writing by the copyright holder.\n",
    "\n",
    "[ll]: https://creativecommons.org/licenses/by-nc-sa/4.0/legalcode "
   ]
  }
 ],
 "metadata": {
  "kernelspec": {
   "display_name": "Python 3",
   "language": "python",
   "name": "python3"
  },
  "language_info": {
   "codemirror_mode": {
    "name": "ipython",
    "version": 3
   },
   "file_extension": ".py",
   "mimetype": "text/x-python",
   "name": "python",
   "nbconvert_exporter": "python",
   "pygments_lexer": "ipython3",
   "version": "3.6.0"
  }
 },
 "nbformat": 4,
 "nbformat_minor": 1
}
