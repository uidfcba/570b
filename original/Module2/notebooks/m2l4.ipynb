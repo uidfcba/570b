{
 "cells": [
  {
   "cell_type": "markdown",
   "metadata": {},
   "source": [
    "# Module 2: Lesson 4\n",
    "\n",
    "-----\n",
    "\n",
    "## Introduction to Support Vector Machine\n",
    "\n",
    "This lesson introduces the support vector machine (SVM) algorithm. SVM has historically been a popular machine learning algorithm since it is both fairly intuitive and rather powerful. SVM can be applied to both classification problems, where is may be called SVC, and to regression problems.\n",
    "\n",
    "### Objectives\n",
    "\n",
    "By the end of this lesson, you will be be able to\n",
    "\n",
    "- articulate the basic concepts behind the SVM algorithm,\n",
    "- apply SVM by using the scikit learn library,\n",
    "- use SVM for classification tasks, and\n",
    "- use SVM for regression problems.\n",
    "\n",
    "### Time Estimate\n",
    "\n",
    "Approximately 2 hours.\n",
    "\n",
    "### Activities\n",
    "\n",
    "Reading: Learn about the [support vector machine algorithm][jsvm] and its application by using the scikit learn module in _Python Data Science Handbook_ by Jake VanderPlas. You can skip the _Example: Face Recognition_ section, which is optional.\n",
    "\n",
    "Video: Watch the [Introduction to Support Vector Machine][svmv] video, which will demonstrate the basic concepts of the support vector machine algorithm and demonstrate its application by using the scikit learn module.\n",
    "\n",
    "Notebook: Read and complete the practice exercises in the [Introduction to Support Vector Machine][intro2svm] notebook.\n",
    "\n",
    "------\n",
    "\n",
    "[jsvm]: http://nbviewer.jupyter.org/github/jakevdp/PythonDataScienceHandbook/blob/master/notebooks/05.07-Support-Vector-Machines.ipynb\n",
    "\n",
    "[svmv]: https://mediaspace.illinois.edu/media/t/1_c8vcvpwd\n",
    "\n",
    "\n",
    "[intro2svm]: intro2svm.ipynb "
   ]
  }
 ],
 "metadata": {
  "kernelspec": {
   "display_name": "Python 3",
   "language": "python",
   "name": "python3"
  },
  "language_info": {
   "codemirror_mode": {
    "name": "ipython",
    "version": 3
   },
   "file_extension": ".py",
   "mimetype": "text/x-python",
   "name": "python",
   "nbconvert_exporter": "python",
   "pygments_lexer": "ipython3",
   "version": "3.6.1"
  }
 },
 "nbformat": 4,
 "nbformat_minor": 2
}
