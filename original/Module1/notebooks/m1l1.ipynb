{
 "cells": [
  {
   "cell_type": "markdown",
   "metadata": {},
   "source": [
    "# Module 1: Lesson 1\n",
    "\n",
    "-----\n",
    "\n",
    "## Artificial Intelligence and Accountancy\t\n",
    "\n",
    "This lesson explores the fundamentals of machine learning and artificial intelligence and how these tools are being used in accountancy and business in general.\n",
    "\n",
    "### Objectives\n",
    "\n",
    "By the end of this lesson, you will\n",
    "\n",
    "- understand the growing role artificial intelligence (and by association, machine learning) play in modern accounting,\n",
    "- appreciate the impact technology plays in shaping careers in modern accountancy,\n",
    "- be able to articulate how artificial intelligence is impacting financial auditing.\n",
    "\n",
    "### Time Estimate\n",
    "\n",
    "Approximately 1 hour.\n",
    "\n",
    "### Activities\n",
    "\n",
    "\n",
    "Reading: How is the [accountancy and finance world using artificial intelligence][afai]?\n",
    "\n",
    "Reading: Artificial Intelligence Comes to [Financial Statement Audits][aia].\n",
    "\n",
    "Video: Watch the [Introduction to Machine Learning ][m1l1v1] video, which will introduce the fundamental concepts in machine learning that will be covered in more detail in the rest of this course.\n",
    "\n",
    "------\n",
    "\n",
    "[afai]: https://www.icas.com/ca-today-news/how-accountancy-and-finance-are-using-artificial-intelligence\n",
    "[aia]: http://ww2.cfo.com/auditing/2017/02/artificial-intelligence-audits/\n",
    "[m1l1v1]: https://mediaspace.illinois.edu/media/t/1_1ph5ok32"
   ]
  }
 ],
 "metadata": {
  "kernelspec": {
   "display_name": "Python 3",
   "language": "python",
   "name": "python3"
  },
  "language_info": {
   "codemirror_mode": {
    "name": "ipython",
    "version": 3
   },
   "file_extension": ".py",
   "mimetype": "text/x-python",
   "name": "python",
   "nbconvert_exporter": "python",
   "pygments_lexer": "ipython3",
   "version": "3.6.1"
  }
 },
 "nbformat": 4,
 "nbformat_minor": 2
}
