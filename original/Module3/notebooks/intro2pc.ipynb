{
 "cells": [
  {
   "cell_type": "markdown",
   "metadata": {},
   "source": [
    "# Practical Concepts in Machine Learning\n",
    "\n",
    "-----"
   ]
  },
  {
   "cell_type": "markdown",
   "metadata": {},
   "source": [
    "In this IPython Notebook, we explore several practical concepts that extend previous machine learning techniques to support more powerful analyses. As a result, these concepts can be very important in real-world machine learning applications. The three specific concepts we explore in this notebook include:\n",
    "\n",
    "2. Voting Classifier\n",
    "3. Pipelines\n",
    "5. Multi-Output Regression\n",
    "\n",
    "-----"
   ]
  },
  {
   "cell_type": "markdown",
   "metadata": {},
   "source": [
    "## Table of Contents\n",
    "\n",
    "[Voting Classification](#Voting-Classification)\n",
    "\n",
    "- [Classification: Iris Data](#Classification:-Iris-Data)\n",
    "- [Voting Classification: Decision Surface](#Voting-Classification:-Decision-Surface)\n",
    "- [Classification: Adult Data](#Classification:-Adult-Data)\n",
    "\n",
    "[Pipeline](#Pipeline)\n",
    "- [Regression: Auto MPG Data](#Auto-MPG-Data)\n",
    "- [Pipeline: Regression](#Pipeline:-Regression)\n",
    "\n",
    "[Regression: Multi-Output](#Regression:-Multi-Output)\n",
    "\n",
    "-----\n",
    "\n",
    "Before proceeding with the rest of this Notebook, we first have our standard notebook setup code.\n",
    "\n",
    "-----"
   ]
  },
  {
   "cell_type": "code",
   "execution_count": 1,
   "metadata": {
    "collapsed": true
   },
   "outputs": [],
   "source": [
    "# Set up Notebook\n",
    "% matplotlib inline\n",
    "\n",
    "# Standard imports\n",
    "import numpy as np\n",
    "import pandas as pd\n",
    "import matplotlib.pyplot as plt\n",
    "import seaborn as sns\n",
    "\n",
    "# We do this to ignore several specific Pandas warnings\n",
    "import warnings\n",
    "warnings.filterwarnings('ignore')\n",
    "\n",
    "sns.set_style('white')"
   ]
  },
  {
   "cell_type": "markdown",
   "metadata": {},
   "source": [
    "-----\n",
    "\n",
    "[[Back to TOC]](#Table-of-Contents)\n",
    "\n",
    "## Voting Classification\n",
    "\n",
    "To this point, we have introduced a number of different algorithms for performing classification, both for binary decisions, as well as multi-output classification decisions. These algorithms have included logistic regression, support vector classification, decision trees, and bagging and boosting ensemble techniques. A third form of ensemble learning is to simply combine the predictions from standard algorithms by using a voting process. This voting process can be simple, where majority rules, or more complex, where probabilistic values are used in the voting process, or weights can be assigned (or computed) to favor better performing algorithms. The goal of this approach is to use different algorithms that can complement each other so that the final result is an improved meta-classifier.\n",
    "\n",
    "The scikit-learn library supports this technique through the [`VotingClassifier`][skvc] ensemble estimator. This estimator is, by default, constructed by specifying two hyperparameters: `estimators` and `voting`. The first hyperparameter, `estimator`, accepts a list that contains the classification algorithms to be used in the voting process. This list should contain tuples that map a name, provided as a string, to the relevant scikit learn classification estimator. The second hyperparameter, `voting`, indicates the type of voting process to use across the input estimators to determine the final classification.\n",
    "\n",
    "The voting approaches supported include the following:\n",
    "- `hard`: majority voting based on input classifications.\n",
    "- `soft`: majority voting on summed classification probabilities.\n",
    "\n",
    "A third hyperparameter, `weights`, can be used to weight either of the two voting approaches. These weights can be specified from prior information or computed from the data directly (perhaps via a validation step, described in a future notebook). For hard voting, the weights just adjust the weight of each classifier’s vote. For soft voting, the weights adjust the probabilistic classification from each algorithm before the class probabilities are summed.\n",
    "\n",
    "To demonstrate using a voting classifier with the scikit-learn library, we will first load in the Iris data. With these data, we will construct a k-nearest neighbor classifier, a logistic regression classifier, and a random forest classifier, and compute a soft vote over the probabilistic outputs from these three algorithms. Next, we will look at the decision surface for the input algorithms and the voting classifier as applied to the Iris data. Finally, we will switch to a larger data set to learn how to employ a decision tree on more complex data.\n",
    "\n",
    "----\n",
    "[skvc]: http://scikit-learn.org/stable/modules/ensemble.html#voting-classifier"
   ]
  },
  {
   "cell_type": "markdown",
   "metadata": {},
   "source": [
    "\n",
    "[[Back to TOC]](#Table-of-Contents)\n",
    "\n",
    "### Classification:  Iris Data\n",
    "\n",
    "We can now apply the Voting Classification algorithm to the Iris data to create an ensemble classification model. The basic approach is simple, and follows the standard scikit-learn estimator philosophy:\n",
    "\n",
    "1. Import our estimator, [`VotingClassifier`][skvc], from the proper scikit-learn module, `ensemble`, as well as any input classification algorithms we wish to include in the voting process.\n",
    "2. Create the input classification estimators, and pass them into the voting classification estimator as a hyperparameter.\n",
    "3. Fit the voting ensemble model to the training data, which by default fits each individual estimator in the voting ensemble to the training data as well. Note, by using our simple `get_iris_data` helper function we have loaded the Iris data, split the data into training and testing sets, and scaled all data by first normalizing the training data.\n",
    "4. Predict new classes with our trained model (or in the simple demonstration below, generate a classification report).\n",
    "\n",
    "These steps are demonstrated in the following three Code cells, where we obtain our data, create our estimator, fit the estimator to our training data, and generate a classification report on the testing data. \n",
    "\n",
    "-----\n",
    "[skdtc]: http://scikit-learn.org/stable/modules/generated/sklearn.ensemble.VotingClassifier.html"
   ]
  },
  {
   "cell_type": "code",
   "execution_count": 2,
   "metadata": {
    "collapsed": true
   },
   "outputs": [],
   "source": [
    "from helper_code import iris as hi\n",
    "\n",
    "# Amount to hold out for 'blind' testing\n",
    "test_frac = 0.25\n",
    "\n",
    "# Do not show the 'Train' and 'Test' data plot.\n",
    "show_plot = False\n",
    "\n",
    "# Split data into training and testing\n",
    "# Note that we have both 'data' and 'labels'\n",
    "d_train_sc, d_test_sc, l_train, l_test = \\\n",
    "    hi.get_iris_data(test_frac, show_plot)"
   ]
  },
  {
   "cell_type": "code",
   "execution_count": 3,
   "metadata": {
    "collapsed": true
   },
   "outputs": [],
   "source": [
    "# Apply voting classification\n",
    "from sklearn.neighbors import KNeighborsClassifier\n",
    "from sklearn.linear_model import LogisticRegression\n",
    "from sklearn.ensemble import RandomForestClassifier\n",
    "from sklearn.ensemble import VotingClassifier\n",
    "\n",
    "# Create input estimators\n",
    "clf1 = KNeighborsClassifier(n_neighbors=1)\n",
    "clf2 = LogisticRegression(random_state=23)\n",
    "clf3 = RandomForestClassifier(random_state=23)\n",
    "\n",
    "# Create a list of tuples, matching name to input estimator\n",
    "estl = [('knn', clf1), ('lr', clf2),('rfc', clf3)]\n",
    "\n",
    "vclf = VotingClassifier(estimators=estl, voting='soft')\n",
    "\n",
    "# Fit the training data\n",
    "vclf = vclf.fit(d_train_sc, l_train)"
   ]
  },
  {
   "cell_type": "code",
   "execution_count": 4,
   "metadata": {},
   "outputs": [
    {
     "name": "stdout",
     "output_type": "stream",
     "text": [
      "Voting prediction accuracy =  97.4%\n",
      "             precision    recall  f1-score   support\n",
      "\n",
      "     Setosa       1.00      1.00      1.00        16\n",
      " Versicolor       0.92      1.00      0.96        11\n",
      "  Virginica       1.00      0.91      0.95        11\n",
      "\n",
      "avg / total       0.98      0.97      0.97        38\n",
      "\n"
     ]
    }
   ],
   "source": [
    "from sklearn.metrics import classification_report\n",
    "\n",
    "score = 100.0 * vclf.score(d_test_sc, l_test)\n",
    "print(f\"Voting prediction accuracy = {score:5.1f}%\")\n",
    "\n",
    "# Thre types of Iris in data set\n",
    "labels = ['Setosa', 'Versicolor', 'Virginica']\n",
    "\n",
    "# Predict on test data and report scores\n",
    "y_pred = vclf.predict(d_test_sc)\n",
    "print(classification_report(l_test, y_pred, \\\n",
    "                            target_names = labels))"
   ]
  },
  {
   "cell_type": "markdown",
   "metadata": {},
   "source": [
    "-----\n",
    "\n",
    "<font color='red' size = '5'> Student Exercise </font>\n",
    "\n",
    "In the previous Code cells, we created a voting classifier that employed _soft_ voting and displayed the classification report. Now that you have run the example, try making the following changes and see how the results vary.\n",
    "\n",
    "2. Employ a _hard_ voting scheme. The values of `max_depth` to 4, 8, and 12.\n",
    "3. Employ a _soft_ voting scheme, but weight the input algorithms as follows: k-nn with weight one, logistic regression with weight two, and random forest with weight four."
   ]
  },
  {
   "cell_type": "markdown",
   "metadata": {},
   "source": [
    "-----\n",
    "\n",
    "[[Back to TOC]](#Table-of-Contents)\n",
    "\n",
    "### Voting Classification: Decision Surface\n",
    "\n",
    "-----\n",
    "\n",
    "While the classification report is useful in providing a summary of the performance of the voting classifier, a more intuitive result is provided by looking at the decision surface for the input algorithms and the voting classifier. In the following Code cell, we first trim the Iris data to two features: Sepal Width and Petal Width. Next, we construct a mesh grid of data points spanning the allowed ranges over these two features. Next, we loop over our three input classification estimators and our voting classifier, applying each estimator to these data and the mesh grid before displaying the result. Note that we have, in general, used the default hyperparameters for the three input algorithms.\n",
    "\n",
    "As the resulting figures demonstrate, the three input algorithms have widely different decision surfaces. This is interesting, in part, since this is a simple data set, but also because this demonstrates how the different algorithms partition the data to build a classification model. The final figure shows the result from a _soft_ voting process, and looks to be a combination, as expected, from all three input classification algorithms.\n",
    "\n",
    "-----"
   ]
  },
  {
   "cell_type": "code",
   "execution_count": 5,
   "metadata": {},
   "outputs": [
    {
     "data": {
      "image/png": "[encoded data removed]",
      "text/plain": [
       "<matplotlib.figure.Figure at 0x7f802b46bf28>"
      ]
     },
     "metadata": {},
     "output_type": "display_data"
    }
   ],
   "source": [
    "# Titles for the figures\n",
    "titles = ['k-NN', 'Logistic Regression', 'Random Forest','Voting (Soft)']\n",
    "\n",
    "# Make a two-dimensional Iris data set\n",
    "n_data = hi.trim_data(d_train_sc, l_train)\n",
    "\n",
    "# Construct mesh grid data\n",
    "mdata = hi.get_mdata(n_data)\n",
    "\n",
    "# Show the mesh grid and training data\n",
    "fig, axs = plt.subplots(figsize=(10, 6 * len(titles)), \n",
    "                        nrows=len(titles), ncols=1, \n",
    "                        sharex=False)\n",
    "\n",
    "# Iterate through different neighbor counts\n",
    "for idx, clf in enumerate([clf1, clf2, clf3, vclf]):\n",
    "    \n",
    "    # Now train our model\n",
    "    clf.fit(n_data[:,:2], n_data[:,2])\n",
    "    \n",
    "    # Predict for mesh grid\n",
    "    z = clf.predict(mdata)\n",
    "    \n",
    "    # Plot training data and mesh grid\n",
    "    hi.splot_data(axs[idx], n_data, mdata, z, \n",
    "                  'Sepal Width', 'Petal Width', 50)\n",
    "    \n",
    "    axs[idx].set_title(f'{titles[idx]}')"
   ]
  },
  {
   "cell_type": "markdown",
   "metadata": {},
   "source": [
    "-----\n",
    "\n",
    "<font color='red' size = '5'> Student Exercise </font>\n",
    "\n",
    "In the previous Code cell, we generated decision surfaces for three different classification algorithms, and the voting classification that employed _soft_ voting over these three algorithms. In the previous Code cell, try making the following changes and think about what you can learn from the new decision surfaces. \n",
    "\n",
    "2. Change the voting to use _hard_ voting.\n",
    "23. Use _soft_ voting, but with weights equal to 1, 2, and 4 for the k-nearest neighbor, logistic regression, and random forest classification algorithms.\n",
    "4. Try changing the hyperparameters for the input algorithms, such as the number of nearest neighbors, or the maximum depth of the random forest."
   ]
  },
  {
   "cell_type": "markdown",
   "metadata": {},
   "source": [
    "-----\n",
    "\n",
    "[[Back to TOC]](#Table-of-Contents)\n",
    "\n",
    "## Classification: Adult Data\n",
    "\n",
    "We now turn to a more complex data set with which to perform ensemble voting classification, the [Adult income prediction task][uciad]. These data have been discussed in detail in other notebooks, especially in the _Introduction to Decision Trees_. The task is to predict from census data whether an individual makes more than $50,000.\n",
    "\n",
    "In the following two Code cells, we first build a full path and file name for where this data will be stored locally. Next, we check to see if the data is already available locally, and if not, we use the `wget` command to pull the data from the UCI machine learning repository for local analysis.\n",
    "\n",
    "-----\n",
    "[uciad]: https://archive.ics.uci.edu/ml/datasets/Adult"
   ]
  },
  {
   "cell_type": "code",
   "execution_count": 6,
   "metadata": {
    "collapsed": true
   },
   "outputs": [],
   "source": [
    "# Adult data file from UCI ML Repository\n",
    "# http://archive.ics.uci.edu/ml/machine-learning-databases/adult/\n",
    "\n",
    "# First we find our HOME directory\n",
    "tmp = !echo $HOME\n",
    "\n",
    "# Second we construct the full path, below our \n",
    "# HOME directory to file location\n",
    "data_file=tmp[0] + '/work/data/adult.data'"
   ]
  },
  {
   "cell_type": "code",
   "execution_count": 7,
   "metadata": {},
   "outputs": [
    {
     "name": "stdout",
     "output_type": "stream",
     "text": [
      "File already exists locally.\n"
     ]
    }
   ],
   "source": [
    "%%bash -s \"$data_file\"\n",
    "\n",
    "# Note, we passed in a Python variable above to the Bash script \n",
    "# which is then accessed via positional parameter, or $1 in this case.\n",
    "\n",
    "# First test if file of interest does not exist\n",
    "if [ ! -f \"$1\" ] ; then\n",
    "\n",
    "# If it does not exist, we grab the file from the Internet and\n",
    "# store it locally in the data directory\n",
    "\n",
    "wget -O \"$1\" http://archive.ics.uci.edu/ml/machine-learning-databases/adult/adult.data\n",
    "\n",
    "else\n",
    "    \n",
    "    echo \"File already exists locally.\"\n",
    "fi"
   ]
  },
  {
   "cell_type": "markdown",
   "metadata": {},
   "source": [
    "-----\n",
    "\n",
    "Now that the _adult data_ has been stored locally, we can read the data into a DataFrame and begin pre-processing it to enable the application of a decision tree for classification. To do this, we first use the pandas `read_csv` function to read the local file. We explicitly define the column names, and indicate that the columns are delimited by white space. Once the DataFrame is created, we randomly sample five rows to verify that the data has been successfully read.\n",
    "\n",
    "-----"
   ]
  },
  {
   "cell_type": "code",
   "execution_count": 8,
   "metadata": {},
   "outputs": [
    {
     "data": {
      "text/html": [
       "<div>\n",
       "<style scoped>\n",
       "    .dataframe tbody tr th:only-of-type {\n",
       "        vertical-align: middle;\n",
       "    }\n",
       "\n",
       "    .dataframe tbody tr th {\n",
       "        vertical-align: top;\n",
       "    }\n",
       "\n",
       "    .dataframe thead th {\n",
       "        text-align: right;\n",
       "    }\n",
       "</style>\n",
       "<table border=\"1\" class=\"dataframe\">\n",
       "  <thead>\n",
       "    <tr style=\"text-align: right;\">\n",
       "      <th></th>\n",
       "      <th>Age</th>\n",
       "      <th>EducationLevel</th>\n",
       "      <th>HoursPerWeek</th>\n",
       "      <th>CapitalGain</th>\n",
       "      <th>CapitalLoss</th>\n",
       "      <th>Education_ 10th</th>\n",
       "      <th>Education_ 11th</th>\n",
       "      <th>Education_ 12th</th>\n",
       "      <th>Education_ 1st-4th</th>\n",
       "      <th>Education_ 5th-6th</th>\n",
       "      <th>...</th>\n",
       "      <th>NativeCountry_ Portugal</th>\n",
       "      <th>NativeCountry_ Puerto-Rico</th>\n",
       "      <th>NativeCountry_ Scotland</th>\n",
       "      <th>NativeCountry_ South</th>\n",
       "      <th>NativeCountry_ Taiwan</th>\n",
       "      <th>NativeCountry_ Thailand</th>\n",
       "      <th>NativeCountry_ Trinadad&amp;Tobago</th>\n",
       "      <th>NativeCountry_ United-States</th>\n",
       "      <th>NativeCountry_ Vietnam</th>\n",
       "      <th>NativeCountry_ Yugoslavia</th>\n",
       "    </tr>\n",
       "  </thead>\n",
       "  <tbody>\n",
       "    <tr>\n",
       "      <th>16937</th>\n",
       "      <td>23</td>\n",
       "      <td>10</td>\n",
       "      <td>15</td>\n",
       "      <td>0</td>\n",
       "      <td>0</td>\n",
       "      <td>0</td>\n",
       "      <td>0</td>\n",
       "      <td>0</td>\n",
       "      <td>0</td>\n",
       "      <td>0</td>\n",
       "      <td>...</td>\n",
       "      <td>0</td>\n",
       "      <td>0</td>\n",
       "      <td>0</td>\n",
       "      <td>0</td>\n",
       "      <td>0</td>\n",
       "      <td>0</td>\n",
       "      <td>0</td>\n",
       "      <td>1</td>\n",
       "      <td>0</td>\n",
       "      <td>0</td>\n",
       "    </tr>\n",
       "    <tr>\n",
       "      <th>26260</th>\n",
       "      <td>60</td>\n",
       "      <td>10</td>\n",
       "      <td>40</td>\n",
       "      <td>0</td>\n",
       "      <td>0</td>\n",
       "      <td>0</td>\n",
       "      <td>0</td>\n",
       "      <td>0</td>\n",
       "      <td>0</td>\n",
       "      <td>0</td>\n",
       "      <td>...</td>\n",
       "      <td>0</td>\n",
       "      <td>0</td>\n",
       "      <td>0</td>\n",
       "      <td>0</td>\n",
       "      <td>0</td>\n",
       "      <td>0</td>\n",
       "      <td>0</td>\n",
       "      <td>1</td>\n",
       "      <td>0</td>\n",
       "      <td>0</td>\n",
       "    </tr>\n",
       "    <tr>\n",
       "      <th>14439</th>\n",
       "      <td>28</td>\n",
       "      <td>7</td>\n",
       "      <td>50</td>\n",
       "      <td>0</td>\n",
       "      <td>0</td>\n",
       "      <td>0</td>\n",
       "      <td>1</td>\n",
       "      <td>0</td>\n",
       "      <td>0</td>\n",
       "      <td>0</td>\n",
       "      <td>...</td>\n",
       "      <td>0</td>\n",
       "      <td>0</td>\n",
       "      <td>0</td>\n",
       "      <td>0</td>\n",
       "      <td>0</td>\n",
       "      <td>0</td>\n",
       "      <td>0</td>\n",
       "      <td>1</td>\n",
       "      <td>0</td>\n",
       "      <td>0</td>\n",
       "    </tr>\n",
       "    <tr>\n",
       "      <th>12564</th>\n",
       "      <td>64</td>\n",
       "      <td>4</td>\n",
       "      <td>40</td>\n",
       "      <td>0</td>\n",
       "      <td>0</td>\n",
       "      <td>0</td>\n",
       "      <td>0</td>\n",
       "      <td>0</td>\n",
       "      <td>0</td>\n",
       "      <td>0</td>\n",
       "      <td>...</td>\n",
       "      <td>0</td>\n",
       "      <td>0</td>\n",
       "      <td>0</td>\n",
       "      <td>0</td>\n",
       "      <td>0</td>\n",
       "      <td>0</td>\n",
       "      <td>0</td>\n",
       "      <td>1</td>\n",
       "      <td>0</td>\n",
       "      <td>0</td>\n",
       "    </tr>\n",
       "    <tr>\n",
       "      <th>633</th>\n",
       "      <td>30</td>\n",
       "      <td>13</td>\n",
       "      <td>40</td>\n",
       "      <td>0</td>\n",
       "      <td>0</td>\n",
       "      <td>0</td>\n",
       "      <td>0</td>\n",
       "      <td>0</td>\n",
       "      <td>0</td>\n",
       "      <td>0</td>\n",
       "      <td>...</td>\n",
       "      <td>0</td>\n",
       "      <td>0</td>\n",
       "      <td>0</td>\n",
       "      <td>0</td>\n",
       "      <td>0</td>\n",
       "      <td>0</td>\n",
       "      <td>0</td>\n",
       "      <td>1</td>\n",
       "      <td>0</td>\n",
       "      <td>0</td>\n",
       "    </tr>\n",
       "  </tbody>\n",
       "</table>\n",
       "<p>5 rows × 100 columns</p>\n",
       "</div>"
      ],
      "text/plain": [
       "       Age  EducationLevel  HoursPerWeek  CapitalGain  CapitalLoss  \\\n",
       "16937   23              10            15            0            0   \n",
       "26260   60              10            40            0            0   \n",
       "14439   28               7            50            0            0   \n",
       "12564   64               4            40            0            0   \n",
       "633     30              13            40            0            0   \n",
       "\n",
       "       Education_ 10th  Education_ 11th  Education_ 12th  Education_ 1st-4th  \\\n",
       "16937                0                0                0                   0   \n",
       "26260                0                0                0                   0   \n",
       "14439                0                1                0                   0   \n",
       "12564                0                0                0                   0   \n",
       "633                  0                0                0                   0   \n",
       "\n",
       "       Education_ 5th-6th            ...              NativeCountry_ Portugal  \\\n",
       "16937                   0            ...                                    0   \n",
       "26260                   0            ...                                    0   \n",
       "14439                   0            ...                                    0   \n",
       "12564                   0            ...                                    0   \n",
       "633                     0            ...                                    0   \n",
       "\n",
       "       NativeCountry_ Puerto-Rico  NativeCountry_ Scotland  \\\n",
       "16937                           0                        0   \n",
       "26260                           0                        0   \n",
       "14439                           0                        0   \n",
       "12564                           0                        0   \n",
       "633                             0                        0   \n",
       "\n",
       "       NativeCountry_ South  NativeCountry_ Taiwan  NativeCountry_ Thailand  \\\n",
       "16937                     0                      0                        0   \n",
       "26260                     0                      0                        0   \n",
       "14439                     0                      0                        0   \n",
       "12564                     0                      0                        0   \n",
       "633                       0                      0                        0   \n",
       "\n",
       "       NativeCountry_ Trinadad&Tobago  NativeCountry_ United-States  \\\n",
       "16937                               0                             1   \n",
       "26260                               0                             1   \n",
       "14439                               0                             1   \n",
       "12564                               0                             1   \n",
       "633                                 0                             1   \n",
       "\n",
       "       NativeCountry_ Vietnam  NativeCountry_ Yugoslavia  \n",
       "16937                       0                          0  \n",
       "26260                       0                          0  \n",
       "14439                       0                          0  \n",
       "12564                       0                          0  \n",
       "633                         0                          0  \n",
       "\n",
       "[5 rows x 100 columns]"
      ]
     },
     "execution_count": 8,
     "metadata": {},
     "output_type": "execute_result"
    }
   ],
   "source": [
    "# Adult data archived at UCI ML Repository\n",
    "\n",
    "col_names = ['Age', 'Workclass', 'FNLWGT', 'Education', \n",
    "             'EducationLevel', 'MaritalStatus', 'Occupation', \n",
    "             'Relationship', 'Race', 'Sex', 'CapitalGain', 'CapitalLoss', \n",
    "             'HoursPerWeek', 'NativeCountry', 'Salary']\n",
    "\n",
    "# Read CSV data from URL return Pandas\n",
    "adult_data = pd.read_csv(data_file, index_col=False, names = col_names)\n",
    "\n",
    "# Create label column, one for >50K, zero otherwise.\n",
    "adult_data['Label'] = adult_data['Salary'].map(lambda x : 1 if '>50K' in x else 0)\n",
    "\n",
    "# Now we can drop the original column\n",
    "adult_data = adult_data.drop('Salary', axis=1)\n",
    "\n",
    "# Define categorical features\n",
    "categorical = ['Education', 'Workclass', 'Race', 'Sex', 'Occupation', \n",
    "               'Relationship', 'NativeCountry']\n",
    "cat_data = pd.get_dummies(adult_data[categorical])\n",
    "\n",
    "# Define numerical features\n",
    "\n",
    "numerical = ['Age', 'EducationLevel', 'HoursPerWeek', \n",
    "             'CapitalGain', 'CapitalLoss']\n",
    "num_data = adult_data[numerical]\n",
    "\n",
    "# Create features & labels for modeling\n",
    "labels = adult_data.Label\n",
    "features = pd.concat([num_data, cat_data], axis=1)\n",
    "features.sample(5)"
   ]
  },
  {
   "cell_type": "markdown",
   "metadata": {},
   "source": [
    "-----\n",
    "\n",
    "With our feature and label data prepared, we are now ready to begin the machine learning process. In the following two Code cells we first create our input algorithm classifiers, which for simplicity are the same as we demonstrated earlier with the Iris data, and we next measure its performance on our training data. In the first Code cell, we start by splitting our data into training and testing samples. Since we have over 30,000 instances in our data set, our standard 60%:40% split should be sufficient. Next, we create the all four estimators. The only hyperparameters we specify for the input algorithms are the number of nearest neighbors and, as appropriate, the `random_state`, in order to ensure reproducibility. Next, we create our `VotingClassifier` estimator, and fit this ensemble estimator to our training data.\n",
    "\n",
    "In the second Code cell, we compute and display a simple accuracy score before generating and displaying the full classification report. Note that even with this simple approach, our voting classifier performs well, easily beating the zero model discussed in a different notebook, as well as the results from most simple classification algorithms (you can test this out by displaying the classification reports for the individual classification algorithms on these same data). While the recall indicates that we incorrectly label positive targets as negative, the misclassification rate is lower than with single classification algorithms, which implies this approach would perform better for any task that seeks to identify high wage earners. \n",
    "\n",
    "\n",
    "----"
   ]
  },
  {
   "cell_type": "code",
   "execution_count": 9,
   "metadata": {
    "collapsed": true
   },
   "outputs": [],
   "source": [
    "from sklearn.model_selection import train_test_split\n",
    "\n",
    "# Hold large sample out for testing\n",
    "frac = 0.4\n",
    "d_train, d_test, l_train, l_test = \\\n",
    "    train_test_split(features, labels,\n",
    "                     test_size=frac, random_state=23)\n",
    "\n",
    "# Create individual estimators\n",
    "clf1 = KNeighborsClassifier(n_neighbors=5)\n",
    "clf2 = LogisticRegression(random_state=23)\n",
    "clf3 = RandomForestClassifier(random_state=23)\n",
    "\n",
    "# Create voting classifier with hard voting\n",
    "estl = [('knn', clf1), ('lr', clf2),('rfc', clf3)]\n",
    "v_adult_model = VotingClassifier(estimators=estl, voting='hard')\n",
    "\n",
    "# Fit ensemble estimator to training data\n",
    "v_adult_model = v_adult_model.fit(d_train, l_train)"
   ]
  },
  {
   "cell_type": "code",
   "execution_count": 10,
   "metadata": {},
   "outputs": [
    {
     "name": "stdout",
     "output_type": "stream",
     "text": [
      "Voting Classification [Adult Data] Score = 85.8%\n",
      "\n",
      "Classification Report:\n",
      "              precision    recall  f1-score   support\n",
      "\n",
      "          0       0.88      0.94      0.91      9811\n",
      "          1       0.77      0.61      0.68      3214\n",
      "\n",
      "avg / total       0.85      0.86      0.85     13025\n",
      "\n",
      "\n"
     ]
    }
   ],
   "source": [
    "from sklearn import metrics\n",
    "\n",
    "# Classify test data and display score and report\n",
    "predicted = v_adult_model.predict(d_test)\n",
    "score = 100.0 * metrics.accuracy_score(l_test, predicted)\n",
    "print(f'Voting Classification [Adult Data] Score = {score:4.1f}%\\n')\n",
    "print('Classification Report:\\n {0}\\n'.format(\n",
    "    metrics.classification_report(l_test, predicted)))"
   ]
  },
  {
   "cell_type": "markdown",
   "metadata": {},
   "source": [
    "-----\n",
    "\n",
    "<font color='red' size = '5'> Student Exercise </font>\n",
    "\n",
    "In the previous Code cells, we constructed a voting classification model and applied it to the adult income prediction task. The initial result was reasonable, but try making the following changes to see if you can do better.\n",
    "\n",
    "2. Try employing soft voting with weights. You can determine the weights by guessing, or by looking at the performance of each individual algorithm.\n",
    "3. Try using different hyperparameter values for the input algorithms, such as changing the number of nearest neighbors, or the maximum tree depth.\n",
    "4. Try using a different algorithm, such as support vector classification."
   ]
  },
  {
   "cell_type": "markdown",
   "metadata": {},
   "source": [
    "-----\n",
    "\n",
    "[[Back to TOC]](#Table-of-Contents)\n",
    "\n",
    "## Pipeline\n",
    "\n",
    "The machine learning applications we have used to date have been fairly simple and straightforward. In many cases, especially when exploring optimal hyper-parameters, or scaling to large data (perhaps spread across multiple compute resources), we will want to deploy multiple machine learning techniques as a _package_, where the output from one technique is directly used by another. Within the scikit learn library, we can employ a pipeline, in a similar manner to the use of a pipeline at a Unix command line prompt, to package related machine learning components together into a single object. This not only simplifies code development, but it also enables optimizations, since combining techniques can reduce data transfer, and method encapsulation can enable hidden computational performance benefits.\n",
    "\n",
    "In scikit learn, a [pipeline][skp] is constructed by passing a list containing the individual scikit learn objects, as we did with the voting classification technique earlier in this notebook. Each element in this list is a tuple that has a name, for which we use a string, by which the method will be programmatically accessed as the first value, and the second value is the actual machine learning instance (or a variable that contains an instance of the appropriate machine learning class) that is to be added to the pipeline. This all sounds more confusing than reality, as we demonstrate in this section.\n",
    "\n",
    "----\n",
    "\n",
    "[skp]: http://scikit-learn.org/stable/modules/generated/sklearn.pipeline.Pipeline.html"
   ]
  },
  {
   "cell_type": "markdown",
   "metadata": {},
   "source": [
    "\n",
    "[[Back to TOC]](#Table-of-Contents)\n",
    "\n",
    "### Regression: Auto MPG Data\n",
    "\n",
    "To demonstrate the use of a scikit learn pipeline, we will use the [automobile fuel performance prediction data][uciap], which were collated by Ross Quinlan and released in 1993. The data contains nine features: mpg, cylinders, displacement, horsepower, weight, acceleration, model year, origin, and car name. Of these, the first is generally treated as the dependent variable (i.e., we wish to predict the fuel efficiency of the cars), while the next seven features are generally used as the independent variables. The last feature is a string that is unlikely to be useful when predicting on new, unseen data, and is, therefore, not included in our analysis.\n",
    "\n",
    "Of these features, three are discrete: cylinders, year, and origin, and four are continuous: \n",
    "displacement, horsepower, weight, and acceleration. In the first two Code cells, we first construct the local path and file name for this data, before checking to see if this data file exists locally. If not, we use the `wget` command to pull the data from the UCI ML repository.\n",
    "\n",
    "----\n",
    "[uciap]: https://archive.ics.uci.edu/ml/datasets/auto+mpg"
   ]
  },
  {
   "cell_type": "code",
   "execution_count": 11,
   "metadata": {
    "collapsed": true
   },
   "outputs": [],
   "source": [
    "# Auto MPG data file from UCI ML Repository\n",
    "# https://archive.ics.uci.edu/ml/machine-learning-databases/auto-mpg/\n",
    "\n",
    "# Second we construct the full path, below our \n",
    "# HOME directory to file location\n",
    "data_file=tmp[0] + '/work/data/auto-mpg.data'"
   ]
  },
  {
   "cell_type": "code",
   "execution_count": 12,
   "metadata": {},
   "outputs": [
    {
     "name": "stdout",
     "output_type": "stream",
     "text": [
      "File already exists locally.\n"
     ]
    }
   ],
   "source": [
    "%%bash -s \"$data_file\"\n",
    "\n",
    "# Note, we passed in a Python variable above to the Bash script \n",
    "# which is then accessed via positional parameter, or $1 in this case.\n",
    "\n",
    "# First test if file of interest does not exist\n",
    "if [ ! -f \"$1\" ] ; then\n",
    "\n",
    "# If it does not exist, we grab the file from the Internet and\n",
    "# store it locally in the data directory\n",
    "\n",
    "wget -O \"$1\" https://archive.ics.uci.edu/ml/machine-learning-databases/auto-mpg/auto-mpg.data\n",
    "\n",
    "else\n",
    "    \n",
    "    echo \"File already exists locally.\"\n",
    "fi"
   ]
  },
  {
   "cell_type": "markdown",
   "metadata": {},
   "source": [
    "-----\n",
    "\n",
    "Now that the data are stored locally, we can read them into a DataFrame by using our provided column names and indicating that the features are delimited by whitespace. The following Code cell performs this task before randomly sampling five rows to demonstrate that this process completed successfully.\n",
    "\n",
    "-----"
   ]
  },
  {
   "cell_type": "code",
   "execution_count": 13,
   "metadata": {},
   "outputs": [
    {
     "data": {
      "text/html": [
       "<div>\n",
       "<style scoped>\n",
       "    .dataframe tbody tr th:only-of-type {\n",
       "        vertical-align: middle;\n",
       "    }\n",
       "\n",
       "    .dataframe tbody tr th {\n",
       "        vertical-align: top;\n",
       "    }\n",
       "\n",
       "    .dataframe thead th {\n",
       "        text-align: right;\n",
       "    }\n",
       "</style>\n",
       "<table border=\"1\" class=\"dataframe\">\n",
       "  <thead>\n",
       "    <tr style=\"text-align: right;\">\n",
       "      <th></th>\n",
       "      <th>MPG</th>\n",
       "      <th>Cylinders</th>\n",
       "      <th>Displacement</th>\n",
       "      <th>Horsepower</th>\n",
       "      <th>Weight</th>\n",
       "      <th>Acceleration</th>\n",
       "      <th>Year</th>\n",
       "      <th>Origin</th>\n",
       "      <th>Name</th>\n",
       "    </tr>\n",
       "  </thead>\n",
       "  <tbody>\n",
       "    <tr>\n",
       "      <th>243</th>\n",
       "      <td>21.5</td>\n",
       "      <td>3</td>\n",
       "      <td>80.0</td>\n",
       "      <td>110.0</td>\n",
       "      <td>2720.0</td>\n",
       "      <td>13.5</td>\n",
       "      <td>77</td>\n",
       "      <td>3</td>\n",
       "      <td>mazda rx-4</td>\n",
       "    </tr>\n",
       "    <tr>\n",
       "      <th>220</th>\n",
       "      <td>33.5</td>\n",
       "      <td>4</td>\n",
       "      <td>85.0</td>\n",
       "      <td>70.00</td>\n",
       "      <td>1945.0</td>\n",
       "      <td>16.8</td>\n",
       "      <td>77</td>\n",
       "      <td>3</td>\n",
       "      <td>datsun f-10 hatchback</td>\n",
       "    </tr>\n",
       "    <tr>\n",
       "      <th>275</th>\n",
       "      <td>17.0</td>\n",
       "      <td>6</td>\n",
       "      <td>163.0</td>\n",
       "      <td>125.0</td>\n",
       "      <td>3140.0</td>\n",
       "      <td>13.6</td>\n",
       "      <td>78</td>\n",
       "      <td>2</td>\n",
       "      <td>volvo 264gl</td>\n",
       "    </tr>\n",
       "    <tr>\n",
       "      <th>269</th>\n",
       "      <td>30.9</td>\n",
       "      <td>4</td>\n",
       "      <td>105.0</td>\n",
       "      <td>75.00</td>\n",
       "      <td>2230.0</td>\n",
       "      <td>14.5</td>\n",
       "      <td>78</td>\n",
       "      <td>1</td>\n",
       "      <td>dodge omni</td>\n",
       "    </tr>\n",
       "    <tr>\n",
       "      <th>69</th>\n",
       "      <td>12.0</td>\n",
       "      <td>8</td>\n",
       "      <td>350.0</td>\n",
       "      <td>160.0</td>\n",
       "      <td>4456.0</td>\n",
       "      <td>13.5</td>\n",
       "      <td>72</td>\n",
       "      <td>1</td>\n",
       "      <td>oldsmobile delta 88 royale</td>\n",
       "    </tr>\n",
       "  </tbody>\n",
       "</table>\n",
       "</div>"
      ],
      "text/plain": [
       "      MPG  Cylinders  Displacement Horsepower  Weight  Acceleration  Year  \\\n",
       "243  21.5          3          80.0      110.0  2720.0          13.5    77   \n",
       "220  33.5          4          85.0      70.00  1945.0          16.8    77   \n",
       "275  17.0          6         163.0      125.0  3140.0          13.6    78   \n",
       "269  30.9          4         105.0      75.00  2230.0          14.5    78   \n",
       "69   12.0          8         350.0      160.0  4456.0          13.5    72   \n",
       "\n",
       "     Origin                        Name  \n",
       "243       3                  mazda rx-4  \n",
       "220       3       datsun f-10 hatchback  \n",
       "275       2                 volvo 264gl  \n",
       "269       1                  dodge omni  \n",
       "69        1  oldsmobile delta 88 royale  "
      ]
     },
     "execution_count": 13,
     "metadata": {},
     "output_type": "execute_result"
    }
   ],
   "source": [
    "# Names for our columns\n",
    "col_names = ['MPG', 'Cylinders', 'Displacement',\n",
    "             'Horsepower', 'Weight', 'Acceleration', \n",
    "             'Year', 'Origin', 'Name']\n",
    "\n",
    "# Create DataFrame and sample the result\n",
    "auto_data = pd.read_csv(data_file, index_col=False, names = col_names, \n",
    "                  delim_whitespace=True)\n",
    "auto_data.sample(5)"
   ]
  },
  {
   "cell_type": "markdown",
   "metadata": {},
   "source": [
    "-----\n",
    "\n",
    "Originally, we ignored the fact that the `Horsepower` feature has several unknown values that are indicated by a `?` in the field of that value. If we continue to use that feature, patsy will treat the values as strings rather than numbers, and build extra dummy variables for each value. Since this is not what we desire, we can ignore this feature in the analysis in this notebook. Instead, however, we will use an alternative technique that converts the `?` into a missing value, after which we will impute these missing values from the other instances. \n",
    "\n",
    "We demonstrate these missing values in the following Code cell, where we first extract the predictive feature into the `y` dependent variable. Second, we extract the three features that have no missing data into our independent variable, `x`. Third, we identify all instances that have a string value of `?` in the `Horsepower` feature. With this information, we can replace this bad value with the NumPy `nan` value, which stands for _Not A Number_, and is frequently used to represent bad or missing values. In doing this, we add this feature to our independent variables. Finally, we display all instances that have a missing (or null) value in the `HorsePower` feature.\n",
    "\n",
    "-----\n",
    "[pm]: http://patsy.readthedocs.io/en/latest/"
   ]
  },
  {
   "cell_type": "code",
   "execution_count": 14,
   "metadata": {},
   "outputs": [
    {
     "data": {
      "text/html": [
       "<div>\n",
       "<style scoped>\n",
       "    .dataframe tbody tr th:only-of-type {\n",
       "        vertical-align: middle;\n",
       "    }\n",
       "\n",
       "    .dataframe tbody tr th {\n",
       "        vertical-align: top;\n",
       "    }\n",
       "\n",
       "    .dataframe thead th {\n",
       "        text-align: right;\n",
       "    }\n",
       "</style>\n",
       "<table border=\"1\" class=\"dataframe\">\n",
       "  <thead>\n",
       "    <tr style=\"text-align: right;\">\n",
       "      <th></th>\n",
       "      <th>Displacement</th>\n",
       "      <th>Weight</th>\n",
       "      <th>Acceleration</th>\n",
       "      <th>Horsepower</th>\n",
       "    </tr>\n",
       "  </thead>\n",
       "  <tbody>\n",
       "    <tr>\n",
       "      <th>32</th>\n",
       "      <td>98.0</td>\n",
       "      <td>2046.0</td>\n",
       "      <td>19.0</td>\n",
       "      <td>NaN</td>\n",
       "    </tr>\n",
       "    <tr>\n",
       "      <th>126</th>\n",
       "      <td>200.0</td>\n",
       "      <td>2875.0</td>\n",
       "      <td>17.0</td>\n",
       "      <td>NaN</td>\n",
       "    </tr>\n",
       "    <tr>\n",
       "      <th>330</th>\n",
       "      <td>85.0</td>\n",
       "      <td>1835.0</td>\n",
       "      <td>17.3</td>\n",
       "      <td>NaN</td>\n",
       "    </tr>\n",
       "    <tr>\n",
       "      <th>336</th>\n",
       "      <td>140.0</td>\n",
       "      <td>2905.0</td>\n",
       "      <td>14.3</td>\n",
       "      <td>NaN</td>\n",
       "    </tr>\n",
       "    <tr>\n",
       "      <th>354</th>\n",
       "      <td>100.0</td>\n",
       "      <td>2320.0</td>\n",
       "      <td>15.8</td>\n",
       "      <td>NaN</td>\n",
       "    </tr>\n",
       "    <tr>\n",
       "      <th>374</th>\n",
       "      <td>151.0</td>\n",
       "      <td>3035.0</td>\n",
       "      <td>20.5</td>\n",
       "      <td>NaN</td>\n",
       "    </tr>\n",
       "  </tbody>\n",
       "</table>\n",
       "</div>"
      ],
      "text/plain": [
       "     Displacement  Weight  Acceleration  Horsepower\n",
       "32           98.0  2046.0          19.0         NaN\n",
       "126         200.0  2875.0          17.0         NaN\n",
       "330          85.0  1835.0          17.3         NaN\n",
       "336         140.0  2905.0          14.3         NaN\n",
       "354         100.0  2320.0          15.8         NaN\n",
       "374         151.0  3035.0          20.5         NaN"
      ]
     },
     "execution_count": 14,
     "metadata": {},
     "output_type": "execute_result"
    }
   ],
   "source": [
    "y = auto_data[['MPG']]\n",
    "\n",
    "x = auto_data[['Displacement', 'Weight', 'Acceleration']]\n",
    "\n",
    "x['Horsepower'] = auto_data.Horsepower.map(lambda x : np.nan if '?' in x else float(x))\n",
    "\n",
    "x[x['Horsepower'].isnull()]"
   ]
  },
  {
   "cell_type": "markdown",
   "metadata": {},
   "source": [
    "-----\n",
    "\n",
    "At this point, we have our dependent variables and independent variable ready to be used in a machine learning task. First, we will perform each step individually to demonstrate the full process of imputing, scaling, and regressing on these data. After that, we will build two pipelines to accomplish the same task more easily. Before proceeding, we first duplicate our dependent variables to simplify creating a pipeline version (since we would otherwise need to recreate the original dependent variables).\n",
    "\n",
    "-----"
   ]
  },
  {
   "cell_type": "code",
   "execution_count": 15,
   "metadata": {
    "collapsed": true
   },
   "outputs": [],
   "source": [
    "# Copy original features for use in Pipeline\n",
    "p_x = x.copy()"
   ]
  },
  {
   "cell_type": "markdown",
   "metadata": {},
   "source": [
    "-----\n",
    "\n",
    "### Imputing\n",
    "\n",
    "Both the Pandas and NumPy modules support dropping or filling missing values. In this case, however, we will use the scikit learn libraries [`Imputer`][ski], which is in the `preprocessing` module to accomplish this task. The `Imputer` takes several hyperparameters, the most useful of which are `missing_values` and `strategy`. Of these, the former is used to identify missing values, by default this is NaN. The `strategy` hyperparameter specifies how the missing value should be imputed. Possible values for this hyperparameter include `mean`, `median`, and `most_frequent`. The first value, `mean`, is the default, and the final value is similar to a mode. These statistical values are computed from all valid features by default.\n",
    "\n",
    "We demonstrate imputation with the scikit learn library in the following Code cell. First, we create the `Imputer` and specify that missing values are indicated by a `NaN` value,  imputation should be done by using the mean value, the imputation should take place over this feature (`axis=0`, alternatively we could compute this over instances), and finally the imputation should be performed _in place_ since `copy=False`.  After we create the imputer, we apply it to our data via the `fit_transform` method. In the second Code cell, we once again extract all instances that have missing values in the `Horsepower` feature, of which there are now no instances (since we performed imputation in place).\n",
    "\n",
    "-----\n",
    "\n",
    "[ski]: http://scikit-learn.org/stable/modules/generated/sklearn.preprocessing.Imputer.html"
   ]
  },
  {
   "cell_type": "code",
   "execution_count": 16,
   "metadata": {
    "collapsed": true
   },
   "outputs": [],
   "source": [
    "from sklearn.preprocessing import Imputer\n",
    "\n",
    "imp = Imputer(missing_values='NaN', strategy='mean', axis=0, copy=False)\n",
    "nf = imp.fit_transform(x)"
   ]
  },
  {
   "cell_type": "code",
   "execution_count": 17,
   "metadata": {},
   "outputs": [
    {
     "data": {
      "text/html": [
       "<div>\n",
       "<style scoped>\n",
       "    .dataframe tbody tr th:only-of-type {\n",
       "        vertical-align: middle;\n",
       "    }\n",
       "\n",
       "    .dataframe tbody tr th {\n",
       "        vertical-align: top;\n",
       "    }\n",
       "\n",
       "    .dataframe thead th {\n",
       "        text-align: right;\n",
       "    }\n",
       "</style>\n",
       "<table border=\"1\" class=\"dataframe\">\n",
       "  <thead>\n",
       "    <tr style=\"text-align: right;\">\n",
       "      <th></th>\n",
       "      <th>Displacement</th>\n",
       "      <th>Weight</th>\n",
       "      <th>Acceleration</th>\n",
       "      <th>Horsepower</th>\n",
       "    </tr>\n",
       "  </thead>\n",
       "  <tbody>\n",
       "  </tbody>\n",
       "</table>\n",
       "</div>"
      ],
      "text/plain": [
       "Empty DataFrame\n",
       "Columns: [Displacement, Weight, Acceleration, Horsepower]\n",
       "Index: []"
      ]
     },
     "execution_count": 17,
     "metadata": {},
     "output_type": "execute_result"
    }
   ],
   "source": [
    "x[x['Horsepower'].isnull()]"
   ]
  },
  {
   "cell_type": "markdown",
   "metadata": {},
   "source": [
    "-----\n",
    "\n",
    "### Scaling Data\n",
    "\n",
    "Another task we have generally ignored when analyzing these data is the scaling of our features prior to performing regression. While this step is not always required, it can lead to [improved performance][qns], since an algorithm will treat features more evenly as they will all be scaled appropriately. There are different types of scaling that can be used, and the scikit learn library supports a number of thee different types:\n",
    "- `StandardScaler`: Transforms data to have zero mean and unit standard deviation.\n",
    "- `MinMaxScaler`: Transforms data to lie between a minimum and maximum value, often the range [0, 1].\n",
    "- `MaxAbsScaler`: Transforms data to lie between a zero and maximum value.\n",
    "- `RobustScaler`: Computes statistical values in robust manner, to minimize effects of outliers, prior to performing transformation.\n",
    "- `QuantileTransformer`: Performs a rank transformation to map data into the same range or distribution, useful to smooth over unusual distributions or outliers. \n",
    "- `Normalizer`: Transform data to have unit mean.\n",
    "- `Binarizer`: Threshold numerical features to generate a new, Boolean feature.\n",
    "\n",
    "In the following Code cell, we demonstrate the use of a scikit learn scaling estimator. In this case, we will use the `StandardScaler` to transform all features to have zero mean and unit standard deviation. To achieve this, we first create the `StandardScaler` by using the `copy=False` parameter, which performs the scaling in place. Next, we apply this scaler to the data by using the `fit_transform` method. Finally, we display five randomly sampled instances.\n",
    "\n",
    "-----\n",
    "[qns]: http://www.faqs.org/faqs/ai-faq/neural-nets/part2/section-16.html"
   ]
  },
  {
   "cell_type": "code",
   "execution_count": 18,
   "metadata": {
    "scrolled": true
   },
   "outputs": [
    {
     "data": {
      "text/html": [
       "<div>\n",
       "<style scoped>\n",
       "    .dataframe tbody tr th:only-of-type {\n",
       "        vertical-align: middle;\n",
       "    }\n",
       "\n",
       "    .dataframe tbody tr th {\n",
       "        vertical-align: top;\n",
       "    }\n",
       "\n",
       "    .dataframe thead th {\n",
       "        text-align: right;\n",
       "    }\n",
       "</style>\n",
       "<table border=\"1\" class=\"dataframe\">\n",
       "  <thead>\n",
       "    <tr style=\"text-align: right;\">\n",
       "      <th></th>\n",
       "      <th>Displacement</th>\n",
       "      <th>Weight</th>\n",
       "      <th>Acceleration</th>\n",
       "      <th>Horsepower</th>\n",
       "    </tr>\n",
       "  </thead>\n",
       "  <tbody>\n",
       "    <tr>\n",
       "      <th>337</th>\n",
       "      <td>-0.829911</td>\n",
       "      <td>-0.804496</td>\n",
       "      <td>0.519896</td>\n",
       "      <td>-0.851072</td>\n",
       "    </tr>\n",
       "    <tr>\n",
       "      <th>54</th>\n",
       "      <td>-1.166001</td>\n",
       "      <td>-1.604943</td>\n",
       "      <td>0.882975</td>\n",
       "      <td>-0.929706</td>\n",
       "    </tr>\n",
       "    <tr>\n",
       "      <th>190</th>\n",
       "      <td>1.513117</td>\n",
       "      <td>1.471517</td>\n",
       "      <td>-1.005035</td>\n",
       "      <td>1.245849</td>\n",
       "    </tr>\n",
       "    <tr>\n",
       "      <th>182</th>\n",
       "      <td>-0.829911</td>\n",
       "      <td>-0.598768</td>\n",
       "      <td>-0.024722</td>\n",
       "      <td>-0.484111</td>\n",
       "    </tr>\n",
       "    <tr>\n",
       "      <th>373</th>\n",
       "      <td>-0.513026</td>\n",
       "      <td>-0.124648</td>\n",
       "      <td>0.302049</td>\n",
       "      <td>-0.326842</td>\n",
       "    </tr>\n",
       "  </tbody>\n",
       "</table>\n",
       "</div>"
      ],
      "text/plain": [
       "     Displacement    Weight  Acceleration  Horsepower\n",
       "337     -0.829911 -0.804496      0.519896   -0.851072\n",
       "54      -1.166001 -1.604943      0.882975   -0.929706\n",
       "190      1.513117  1.471517     -1.005035    1.245849\n",
       "182     -0.829911 -0.598768     -0.024722   -0.484111\n",
       "373     -0.513026 -0.124648      0.302049   -0.326842"
      ]
     },
     "execution_count": 18,
     "metadata": {},
     "output_type": "execute_result"
    }
   ],
   "source": [
    "from sklearn.preprocessing import StandardScaler\n",
    "\n",
    "ss = StandardScaler(copy=False)\n",
    "tmp = ss.fit_transform(x)\n",
    "\n",
    "x.sample(5)"
   ]
  },
  {
   "cell_type": "markdown",
   "metadata": {},
   "source": [
    "-----\n",
    "\n",
    "With our independent features properly selected, imputed, and scaled, we can now generate our testing and training samples before applying a regression model. We use the same split fraction, 40% held out for testing, and specify a value for the `random_state` hyperparameter to ensure reproducibility.\n",
    "\n",
    "-----"
   ]
  },
  {
   "cell_type": "code",
   "execution_count": 19,
   "metadata": {
    "collapsed": true
   },
   "outputs": [],
   "source": [
    "# Split data intro training:testing data set\n",
    "ind_train, ind_test, dep_train, dep_test = \\\n",
    "    train_test_split(x, y, test_size=frac, random_state=23)"
   ]
  },
  {
   "cell_type": "markdown",
   "metadata": {},
   "source": [
    "-----\n",
    "\n",
    "With our data properly selected, we can now build a regressive model. In this case, we will build a random forest regression model. First, we import the `RandomForestRegressor`. Next, we create our estimator, specifying a value for our `random_state` hyperparameter to enable reproducibility. Finally, we fit the model and display a predictive score. The second Code cell computes a number of different regression performance metrics and displays the results. In this case, without any tuning, our simple model provides a reasonable result; the mean squared error in our model prediction is less than three miles per gallon, which is rather reasonable given the range of the original feature.\n",
    "\n",
    "-----"
   ]
  },
  {
   "cell_type": "code",
   "execution_count": 20,
   "metadata": {},
   "outputs": [
    {
     "name": "stdout",
     "output_type": "stream",
     "text": [
      "Score = 70.1%\n"
     ]
    }
   ],
   "source": [
    "from sklearn.ensemble import RandomForestRegressor\n",
    "\n",
    "# Create Regressor with default properties\n",
    "auto_model = RandomForestRegressor(random_state=23)\n",
    "\n",
    "# Fit estimator and display score\n",
    "auto_model = auto_model.fit(ind_train, dep_train)\n",
    "print('Score = {:.1%}'.format(auto_model.score(ind_test, dep_test)))"
   ]
  },
  {
   "cell_type": "code",
   "execution_count": 21,
   "metadata": {},
   "outputs": [
    {
     "name": "stdout",
     "output_type": "stream",
     "text": [
      "Mean Absolute Error   = 2.95\n",
      "Mean Squared Error    = 16.11\n",
      "Median Absolute Error = 2.42\n",
      "R^2 Score             = 0.701\n",
      "Explained Variance    = 0.707\n"
     ]
    }
   ],
   "source": [
    "from sklearn.metrics import explained_variance_score\n",
    "from sklearn.metrics import mean_absolute_error\n",
    "from sklearn.metrics import mean_squared_error\n",
    "from sklearn.metrics import median_absolute_error\n",
    "from sklearn.metrics import r2_score\n",
    "\n",
    "# Regress on test data\n",
    "pred = auto_model.predict(ind_test)\n",
    "\n",
    "# Copute performance metrics\n",
    "mae = mean_absolute_error(dep_test, pred)\n",
    "mse = mean_squared_error(dep_test, pred)\n",
    "mbe = median_absolute_error(dep_test, pred)\n",
    "mr2 = r2_score(dep_test, pred)\n",
    "\n",
    "ev_score = explained_variance_score(dep_test, pred)\n",
    "\n",
    "# Display metrics\n",
    "print(f'Mean Absolute Error   = {mae:4.2f}')\n",
    "print(f'Mean Squared Error    = {mse:4.2f}')\n",
    "print(f'Median Absolute Error = {mbe:4.2f}')\n",
    "print(f'R^2 Score             = {mr2:5.3f}')\n",
    "print(f'Explained Variance    = {ev_score:5.3f}')"
   ]
  },
  {
   "cell_type": "markdown",
   "metadata": {},
   "source": [
    "-----\n",
    "\n",
    "[[Back to TOC]](#Table-of-Contents)\n",
    "\n",
    "## Pipeline: Regression\n",
    "\n",
    "In the last section, we demonstrated a number of steps in building a regression model for the auto data and their implementation by using the scikit learn library. We now explore how to perform these same tasks by using a pipeline. While not every object in the scikit learn library can be used in a pipeline, most can. One quick test to see if they can be used in a pipeline is to check if transformation objects have a `transform` method, and if learning algorithms have a `predict` method.\n",
    "\n",
    "In the example we just demonstrated, we can employ two pipelines. The first pipeline will transform the data by using an imputer and a scaler. The second pipeline will perform the regression. Since we are using the `train_test_split` method to generate training and testing samples, we can’t simply use one pipeline (because this is a single method and not an object that has a `transform` method). A future notebook will introduce the concept of cross-validation, which will enable these two pipelines to be combined into one.\n",
    "\n",
    "To create a pipeline, we import the `Pipeline` object from the `pipeline` module. We create a pipeline by providing a list of scikit learn objects that will make up the pipeline. This list contains tuples that provide a mapping between a unique name and the associated scikit learn object. For example, the following code snippet creates a pipeline that contains a single random forest regressor:\n",
    "\n",
    "```python\n",
    "from sklearn.pipeline import Pipeline\n",
    "\n",
    "auto_model_p = RandomForestRegressor(random_state=23)\n",
    "am_reg = Pipeline([('RFR', auto_model_p)])\n",
    "```\n",
    "\n",
    "To specify hyperparameters to an individual object within a pipeline, we use the `set_params` method. For example, we can specify the random state for the random forest regressor by prefixing the hyperparameter with the name of the object, followed by two underscores, as demonstrated in the following code snippet:\n",
    "\n",
    "```python\n",
    "am_reg.set_params(RFR__random_state=23)\n",
    "```\n",
    "In this example, there is only one object in the pipeline, but notice how we refer to the `RandomForestRegressor` estimator within the pipeline by using the name of the instance followed by two underscores `RFR__`.\n",
    "\n",
    "Our previous example also transformed the original data by employing an imputer to replace missing values, and a scaler to normalize the features. We can build a pipeline to combine these two tasks, as demonstrated in the following code snippet:\n",
    "\n",
    "```python\n",
    "imp = Imputer(missing_values='NaN', strategy='mean', axis=0)\n",
    "ss = StandardScaler()\n",
    "\n",
    "am_data_p = Pipeline([('Impute', imp), ('Scale', ss)])\n",
    "```\n",
    "\n",
    "In this case, we have a transformation pipeline that will first impute missing data before scaling the features to have zero mean and unit standard deviation. In some cases, we might wish to quickly create a pipeline with unnamed components. In this case, we can use the `make_pipeline` function, which does not force us to provide names:\n",
    "```python\n",
    "from sklearn.pipeline import make_pipeline\n",
    "am_data_p = make_pipeline(Imputer(missing_values='NaN', strategy='mean', axis=0),\n",
    "                          StandardScaler())\n",
    "```\n",
    "\n",
    "In the following two Code cells, we construct and apply these two pipelines to the auto data. First, we build the transformation pipeline, and apply it to the original dependent variables (this is why we made a copy earlier in the notebook).  Next, we split these transformed data into training and testing samples. After this, we apply a second pipeline to build our regression model. Note how we set the hyperparameters of the random forest regressor by using the `set_params` method, prior to fitting the model to the transformed data. Finally, we compute and display performance metrics, which match our non-pipelines results.\n",
    "\n",
    "In future notebooks, we will regularly employ pipelines. This is primarily since a pipeline can simplify the task of identifying optimal hyperparameters by making it easier to repeatedly run a set of machine learning tasks.\n",
    "\n",
    "-----"
   ]
  },
  {
   "cell_type": "code",
   "execution_count": 22,
   "metadata": {
    "scrolled": true
   },
   "outputs": [
    {
     "name": "stdout",
     "output_type": "stream",
     "text": [
      "Score = 70.1%\n"
     ]
    }
   ],
   "source": [
    "from sklearn.pipeline import Pipeline\n",
    "\n",
    "# Create transformation objects\n",
    "imp = Imputer(missing_values='NaN', strategy='mean', axis=0)\n",
    "ss = StandardScaler()\n",
    "\n",
    "# First pipeline impute and scales.\n",
    "am_data_p = Pipeline([('Impute', imp), ('Scale', ss)])\n",
    "new_x = am_data_p.fit_transform(p_x, y)\n",
    "\n",
    "# Split data intro training:testing data set\n",
    "ind_train_p, ind_test_p, dep_train, dep_test = \\\n",
    "    train_test_split(new_x, y, test_size=frac, random_state=23)\n",
    "\n",
    "# Create Regressor with default properties\n",
    "auto_model_p = RandomForestRegressor(random_state=23)\n",
    "\n",
    "# Second pipeline regresses\n",
    "am_reg = Pipeline([('RFR', auto_model_p)])\n",
    "am_reg.set_params(RFR__random_state=23)\n",
    "am_reg.fit(ind_train_p, dep_train)\n",
    "\n",
    "# Fit estimator and display score\n",
    "print('Score = {:.1%}'.format(am_reg.score(ind_test_p, dep_test)))"
   ]
  },
  {
   "cell_type": "code",
   "execution_count": 23,
   "metadata": {},
   "outputs": [
    {
     "name": "stdout",
     "output_type": "stream",
     "text": [
      "Mean Absolute Error   = 2.95\n",
      "Mean Squared Error    = 16.11\n",
      "Median Absolute Error = 2.42\n",
      "R^2 Score             = 0.701\n",
      "Explained Variance    = 0.707\n"
     ]
    }
   ],
   "source": [
    "# Regress on test data\n",
    "pred = am_reg.predict(ind_test_p)\n",
    "\n",
    "# Copute performance metrics\n",
    "mae = mean_absolute_error(dep_test, pred)\n",
    "mse = mean_squared_error(dep_test, pred)\n",
    "mbe = median_absolute_error(dep_test, pred)\n",
    "mr2 = r2_score(dep_test, pred)\n",
    "\n",
    "ev_score = explained_variance_score(dep_test, pred)\n",
    "\n",
    "# Display metrics\n",
    "print(f'Mean Absolute Error   = {mae:4.2f}')\n",
    "print(f'Mean Squared Error    = {mse:4.2f}')\n",
    "print(f'Median Absolute Error = {mbe:4.2f}')\n",
    "print(f'R^2 Score             = {mr2:5.3f}')\n",
    "print(f'Explained Variance    = {ev_score:5.3f}')"
   ]
  },
  {
   "cell_type": "markdown",
   "metadata": {},
   "source": [
    "-----\n",
    "\n",
    "<font color='red' size = '5'> Student Exercise </font>\n",
    "\n",
    "In the previous Code cells, we constructed a pipeline to perform imputation and scaling on the original data, and a second pipeline to perform random forest regression. This initial result was reasonable, but try making the following changes to see if you can do better.\n",
    "\n",
    "2. Change the random forest regressor to a different algorithm, such as a decision tree or  gradient boosted decision trees. Do the results change? \n",
    "3. Try using different hyperparameter values, such as changing the maximum tree depth, or minimum number of samples on which to split. Do the results change?"
   ]
  },
  {
   "cell_type": "markdown",
   "metadata": {},
   "source": [
    "-----\n",
    "\n",
    "[[Back to TOC]](#Table-of-Contents)\n",
    "\n",
    "### Regression: Multi-Output\n",
    "\n",
    "To this point, all of our regression models were built from multi-dimensional feature vectors to predict a one-dimensional dependent variable. While this is a common problem, some tasks require predicting multiple outputs. Many of the scikit learn regression estimators support predicting multidimensional dependent variables, in which case the output array is of shape `[num_samples, num_outputs]`, where `num_samples` is the number of instances in the test data set, and `num_outputs` is the number of output features that the model was trained to predict. For example, the `DecisionTreeRegressor` and the `RandomForestRegressor` can predict multiple output features.\n",
    "\n",
    "For those estimators that do not directly support this, the scikit learn library provides the `MultiOutputRegressor`, which builds a regressor automatically for each output feature independently. We demonstrate this estimator in the following two Code cells. First, we construct a new set of dependent and independent features. This new task will be to predict both miles per gallon and acceleration. Thus, we add `Acceleration` to the target features to predict, and drop the same feature from the input features. \n",
    "\n",
    "Next, we create the multiple output regressor by passing in the desired regression estimator, in this case a random forest regressor. Finally, we fit this model to the training data, and predict on the testing data. The second Code cell computes and displays various performance metrics. Note, not all metrics can support multiple target features, and thus only those that do are displayed. Not surprisingly, our simple multiple output regression model does not perform as well as a single output regression. With additional tuning, however, you will likely be able to improve on this initial result.\n",
    "\n",
    "-----"
   ]
  },
  {
   "cell_type": "code",
   "execution_count": 24,
   "metadata": {},
   "outputs": [
    {
     "name": "stdout",
     "output_type": "stream",
     "text": [
      "Score = 61.4%\n"
     ]
    }
   ],
   "source": [
    "from sklearn.multioutput import MultiOutputRegressor\n",
    "\n",
    "y['Acceleration'] = x['Acceleration']\n",
    "x.drop('Acceleration', axis=1, inplace=True)\n",
    "\n",
    "# Split data intro training:testing data set\n",
    "ind_train_m, ind_test_m, dep_train_m, dep_test_m = \\\n",
    "    train_test_split(x, y, test_size=frac, random_state=23)\n",
    "\n",
    "# Create Regressor with default properties\n",
    "auto_model_m = MultiOutputRegressor(RandomForestRegressor(random_state=23))\n",
    "\n",
    "# Fit estimator and display score\n",
    "auto_model_m = auto_model_m.fit(ind_train_m, dep_train_m)\n",
    "print('Score = {:.1%}'.format(auto_model_m.score(ind_test_m, dep_test_m)))"
   ]
  },
  {
   "cell_type": "code",
   "execution_count": 25,
   "metadata": {},
   "outputs": [
    {
     "name": "stdout",
     "output_type": "stream",
     "text": [
      "Mean Absolute Error   = 1.75\n",
      "Mean Squared Error    = 8.78\n",
      "Median Absolute Error = 2.42\n",
      "R^2 Score             = 0.614\n",
      "Explained Variance    = 0.620\n"
     ]
    }
   ],
   "source": [
    "# Regress on test data\n",
    "pred_m = auto_model_m.predict(ind_test_m)\n",
    "\n",
    "# Compute performance metrics\n",
    "mae = mean_absolute_error(dep_test_m, pred_m)\n",
    "mse = mean_squared_error(dep_test_m, pred_m)\n",
    "# Median absolute error does not support multioutput\n",
    "mr2 = r2_score(dep_test_m, pred_m, multioutput='uniform_average')\n",
    "\n",
    "ev_score = explained_variance_score(dep_test_m, pred_m)\n",
    "\n",
    "# Display metrics\n",
    "print(f'Mean Absolute Error   = {mae:4.2f}')\n",
    "print(f'Mean Squared Error    = {mse:4.2f}')\n",
    "print(f'Median Absolute Error = {mbe:4.2f}')\n",
    "print(f'R^2 Score             = {mr2:5.3f}')\n",
    "print(f'Explained Variance    = {ev_score:5.3f}')"
   ]
  },
  {
   "cell_type": "markdown",
   "metadata": {},
   "source": [
    "-----\n",
    "\n",
    "## Ancillary Information\n",
    "\n",
    "The following links are to additional documentation that you might find helpful in learning this material. Reading these web-accessible documents is completely optional.\n",
    "\n",
    "4. A detailed [article][2] on building pipelines by using scikit learn\n",
    "1. A [blog article][1] that includes a discussion of building pipelines with scikit learn for text processing\n",
    "\n",
    "2. An article on [building multiple output regression models][3] in Python\n",
    "\n",
    "-----\n",
    "[1]: http://zacstewart.com/2014/08/05/pipelines-of-featureunions-of-pipelines.html\n",
    "\n",
    "[2]: https://machinelearningmastery.com/automate-machine-learning-workflows-pipelines-python-scikit-learn/\n",
    "\n",
    "[3]: https://medium.com/towards-data-science/simple-and-multiple-linear-regression-in-python-c928425168f9\n",
    "\n"
   ]
  },
  {
   "cell_type": "markdown",
   "metadata": {
    "deletable": false,
    "editable": false
   },
   "source": [
    "**&copy; 2017: Robert J. Brunner at the University of Illinois.**\n",
    "\n",
    "This notebook is released under the [Creative Commons license CC BY-NC-SA 4.0][ll]. Any reproduction, adaptation, distribution, dissemination or making available of this notebook for commercial use is not allowed unless authorized in writing by the copyright holder.\n",
    "\n",
    "[ll]: https://creativecommons.org/licenses/by-nc-sa/4.0/legalcode"
   ]
  }
 ],
 "metadata": {
  "kernelspec": {
   "display_name": "Python 3",
   "language": "python",
   "name": "python3"
  },
  "language_info": {
   "codemirror_mode": {
    "name": "ipython",
    "version": 3
   },
   "file_extension": ".py",
   "mimetype": "text/x-python",
   "name": "python",
   "nbconvert_exporter": "python",
   "pygments_lexer": "ipython3",
   "version": "3.6.0"
  }
 },
 "nbformat": 4,
 "nbformat_minor": 1
}
