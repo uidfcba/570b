{
 "cells": [
  {
   "cell_type": "markdown",
   "metadata": {},
   "source": [
    "# Module 3: Lesson 3\n",
    "\n",
    "-----\n",
    "\n",
    "##  Introduction to Boosting\n",
    "\n",
    "This lesson introduces the concept of boosting, an ensemble learning technique in which weak learners are combined together by using weights. This iterative process is continued by modifying the weights to emphasize inaccurate predictions, which can then be better predicted in future iterations.\n",
    "\n",
    "### Objectives\n",
    "\n",
    "By the end of this lesson, you will be able to\n",
    "\n",
    "- explain the concept of boosting,\n",
    "- articulate the benefits of using boosting, and how it differs from bagging,\n",
    "- apply boosting algorithms, such as the gradient boosted decision tree, by using the scikit learn library.\n",
    "\n",
    "### Time Estimate\n",
    "\n",
    "Approximately 2 hours.\n",
    "\n",
    "### Activities\n",
    "\n",
    "Video: Watch the [Introduction to Boosting][ibov] video, which will demonstrate the concept of boosting and how it can be employed to improve the predictions of weak learners.\n",
    "\n",
    "Notebook: Read and complete the practice exercises in the [Introduction to Boosting][intro2boo] notebook.\n",
    "\n",
    "------\n",
    "\n",
    "[ibov]: https://mediaspace.illinois.edu/media/t/1_08ihq47l\n",
    "[intro2boo]: intro2bot.ipynb"
   ]
  }
 ],
 "metadata": {
  "kernelspec": {
   "display_name": "Python 3",
   "language": "python",
   "name": "python3"
  },
  "language_info": {
   "codemirror_mode": {
    "name": "ipython",
    "version": 3
   },
   "file_extension": ".py",
   "mimetype": "text/x-python",
   "name": "python",
   "nbconvert_exporter": "python",
   "pygments_lexer": "ipython3",
   "version": "3.6.1"
  }
 },
 "nbformat": 4,
 "nbformat_minor": 2
}
