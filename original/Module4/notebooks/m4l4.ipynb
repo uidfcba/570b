{
 "cells": [
  {
   "cell_type": "markdown",
   "metadata": {},
   "source": [
    "# Module 4: Lesson 4\n",
    "\n",
    "-----\n",
    "\n",
    "## Introduction to Regularization\n",
    "\n",
    "This lesson introduces the concept of regularization, which reduces the impact of overfitting on machine learning models by introducing penalties, such as on model complexity. These techniques include the Lasso, Ridge Regression, and Elastic Net regularization methods.\n",
    "\n",
    "### Objectives\n",
    "\n",
    "By the end of this lesson, you will be be able to\n",
    "\n",
    "- explain the benefits of regularization,\n",
    "- articulate the differences between Lasso, Ridge, and ElasticNet regularization,\n",
    "- apply the Lasso, Ridge, and ElasticNet regularization methods by using the scikit learn library.\n",
    "\n",
    "### Time Estimate\n",
    "\n",
    "Approximately 2 hours.\n",
    "\n",
    "### Activities\n",
    "\n",
    "Video: Watch the [Introduction to Regularization ][regv] video, which introduces the concepts of regularization and demonstrates how it can improve model performance.\n",
    "\n",
    "Notebook: Read and complete the practice exercises in the [Introduction to Regularization][intro2reg] notebook.\n",
    "\n",
    "------\n",
    "\n",
    "[regv]: https://mediaspace.illinois.edu/media/t/1_3l49b63q\n",
    "[intro2reg]: intro2reg.ipynb "
   ]
  }
 ],
 "metadata": {
  "kernelspec": {
   "display_name": "Python 3",
   "language": "python",
   "name": "python3"
  },
  "language_info": {
   "codemirror_mode": {
    "name": "ipython",
    "version": 3
   },
   "file_extension": ".py",
   "mimetype": "text/x-python",
   "name": "python",
   "nbconvert_exporter": "python",
   "pygments_lexer": "ipython3",
   "version": "3.6.1"
  }
 },
 "nbformat": 4,
 "nbformat_minor": 2
}
