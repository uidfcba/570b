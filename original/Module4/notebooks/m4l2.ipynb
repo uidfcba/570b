{
 "cells": [
  {
   "cell_type": "markdown",
   "metadata": {},
   "source": [
    "# Module 4: Lesson 2\n",
    "\n",
    "-----\n",
    "\n",
    "##  Introduction to Cross-Validation\n",
    "\n",
    "This lesson explores how to identify conditions for overfitting and the general challenge implicit in the bias-variance tradeoff. In addition, cross-validation, which is a technique used to reduce the likelihood of overfitting, is introduced as are learning and validation curves, which can aid in selecting the best model and training sample size.\n",
    "\n",
    "### Objectives\n",
    "\n",
    "By the end of this lesson, you will be able to:\n",
    "\n",
    "- articulate the bias-variance tradeoff and how it impacts model selection,\n",
    "- explain how cross-validation can reduce the likelihood of overfitting,\n",
    "- apply cross-validation by using the scikit learn library.\n",
    "\n",
    "### Time Estimate\n",
    "\n",
    "Approximately 2 hours.\n",
    "\n",
    "### Activities \n",
    "\n",
    "Reading: Read about why your [modeling results][rmr] aren't as good as you think due to overfitting.\n",
    "\n",
    "Reading: Read about the [bias-variance tradeoff][bvt] in machine learning.\n",
    "\n",
    "Video: Watch the [Introduction to Cross-Validation][iov] video, which will demonstrate the concepts behind overfitting and ways to overcome it, including cross-validation.\n",
    "\n",
    "Notebook: Read and complete the practice exercises in the [Introduction to Cross-Validation][intro2of] notebook.\n",
    "\n",
    "------\n",
    "[rmr]: http://machinelearningmastery.com/arent-results-good-thought-youre-probably-overfitting/\n",
    "\n",
    "[bvt]: http://scott.fortmann-roe.com/docs/BiasVariance.html\n",
    "\n",
    "[iov]: https://mediaspace.illinois.edu/media/t/1_mgxg9d4z\n",
    "[intro2of]: intro2cv.ipynb "
   ]
  }
 ],
 "metadata": {
  "kernelspec": {
   "display_name": "Python 3",
   "language": "python",
   "name": "python3"
  },
  "language_info": {
   "codemirror_mode": {
    "name": "ipython",
    "version": 3
   },
   "file_extension": ".py",
   "mimetype": "text/x-python",
   "name": "python",
   "nbconvert_exporter": "python",
   "pygments_lexer": "ipython3",
   "version": "3.6.1"
  }
 },
 "nbformat": 4,
 "nbformat_minor": 2
}
