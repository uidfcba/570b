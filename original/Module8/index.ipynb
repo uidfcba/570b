{
 "cells": [
  {
   "cell_type": "markdown",
   "metadata": {},
   "source": [
    "# Module 8: Introduction to Anomaly Detection\n",
    "\n",
    "This module introduces the concept of an anomaly, or outlier, and different techniques for identifying these unusual data points. First, the general concept of an anomaly is discussed and demonstrated in the business community via the detection of fraud, which in general should be an anomaly when compared to normal customers or operations. Next, statistical techniques for identifying outliers are introduced, which often involve simple descriptive statistics that can highlight data that are sufficiently far from the _norm_ for a given data set. Finally, machine learning techniques are reviewed that can either classify outliers or identify points in low density (or outside normal clusters)  areas as potential outliers.\n",
    "\n",
    "## Learning Objectives\n",
    "\n",
    "#### By the end of this module, you should be able to:\n",
    "\n",
    "- articulate the basic concepts behind outlier detection,\n",
    "- provide examples where outlier detection is important to accountancy and business in general,\n",
    "- apply statistical outlier detection techniques in a Python data analytics script, and\n",
    "- apply machine learning based outlier detection techniques by using the scikit learn library.\n",
    "\n",
    "### Activities and Assignments\n",
    "\n",
    "| Activities and Assignments               | Time Estimate | Deadline* | Points |\n",
    "| :--------------------------------------- | ------------- | --------- | -----: |\n",
    "| **[Module 8 Overview Video][wv]**        | 10 Minutes    | Tuesday   |    N/A |\n",
    "| **[Module 8 Lesson 1: Introduction to Anomaly Detection][nb1]** | 1 Hour        | Thursday  |    N/A |\n",
    "| **[Module 8 Lesson 2: Statistical Anomaly Detection][nb2]** | 2 Hours       | Thursday  |    N/A |\n",
    "| **[Module 8 Lesson 3: Machine Learning and Anomaly Detection][nb3]** | 2 Hours       | Thursday  |    N/A |\n",
    "\n",
    "\n",
    "*Please note that unless otherwise noted, the due time is 6pm Central time!\n",
    "\n",
    "----------\n",
    "\n",
    "[nb1]: notebooks/m8l1.ipynb\n",
    "[nb2]: notebooks/m8l2.ipynb\n",
    "[nb3]: notebooks/m8l3.ipynb\n",
    "\n",
    "[wv]: https://mediaspace.illinois.edu/media/t/1_rogtayn0"
   ]
  }
 ],
 "metadata": {
  "kernelspec": {
   "display_name": "Python 3",
   "language": "python",
   "name": "python3"
  },
  "language_info": {
   "codemirror_mode": {
    "name": "ipython",
    "version": 3
   },
   "file_extension": ".py",
   "mimetype": "text/x-python",
   "name": "python",
   "nbconvert_exporter": "python",
   "pygments_lexer": "ipython3",
   "version": "3.6.1"
  }
 },
 "nbformat": 4,
 "nbformat_minor": 2
}
