{
 "cells": [
  {
   "cell_type": "markdown",
   "metadata": {},
   "source": [
    "# Module 8: Lesson 2\n",
    "\n",
    "-----\n",
    "\n",
    "## Statistical Anomaly Detection\n",
    "\n",
    "This lesson introduces statistical anomaly detection, where descriptive statistics are used to identify instances that differ from than the majority of the data.\n",
    "\n",
    "\n",
    "### Objectives\n",
    "\n",
    "By the end of this lesson, you will be able to\n",
    "\n",
    "- explain how visual and statistical methods can be used to identify anomalies,\n",
    "- develop visualizations in Python that can be used to identify anomalies, and\n",
    "- apply statistical techniques in Python to identify anomalies.\n",
    "\n",
    "### Time Estimate\n",
    "\n",
    "Approximately 2 hours.\n",
    "\n",
    "### Activities\n",
    "\n",
    "Video: Watch the [Statistical Anomaly Detection][sodv] video, which will demonstrate different statistical techniques used in outlier detection.\n",
    "\n",
    "Notebook: Read and complete the practice exercises in the [Statistical Anomaly Detection][intro2sod] notebook.\n",
    "\n",
    "------\n",
    "\n",
    "[sodv]: https://mediaspace.illinois.edu/media/t/1_1z3kchdr\n",
    "[intro2sod]: intro2sd.ipynb "
   ]
  }
 ],
 "metadata": {
  "kernelspec": {
   "display_name": "Python 3",
   "language": "python",
   "name": "python3"
  },
  "language_info": {
   "codemirror_mode": {
    "name": "ipython",
    "version": 3
   },
   "file_extension": ".py",
   "mimetype": "text/x-python",
   "name": "python",
   "nbconvert_exporter": "python",
   "pygments_lexer": "ipython3",
   "version": "3.6.1"
  }
 },
 "nbformat": 4,
 "nbformat_minor": 2
}
