{
 "cells": [
  {
   "cell_type": "markdown",
   "metadata": {},
   "source": [
    "# Module 8: Lesson 3\n",
    "\n",
    "-----\n",
    "\n",
    "## Machine Learning and Anomaly Detection\t\n",
    "\n",
    "This lesson introduces the use of machine learning techniques to identify anomalies.\n",
    "\n",
    "\n",
    "### Objectives\n",
    "\n",
    "By the end of this lesson, you will be able to\n",
    "\n",
    "- explain how machine learning techniques can be used to identify anomalies,\n",
    "- apply classification techniques by using the scikit learn library to identify anomalies,\n",
    "- apply clustering techniques by using the scikit learn library to identify anomalies, and\n",
    "- apply dimension reduction techniques by using the scikit learn library to identify anomalies.\n",
    "\n",
    "### Time Estimate\n",
    "\n",
    "Approximately 2 hours.\n",
    "\n",
    "### Activities\n",
    "\n",
    "Video: Watch the [Machine Learning and Anomaly Detection][odv] video, which will demonstrate the use of machine learning for outlier detection.\n",
    "\n",
    "Notebook: Read and complete the practice exercises in the [Machine Learning and Anomaly Detection][odnb] notebook.\n",
    "\n",
    "------\n",
    "\n",
    "[odv]: https://mediaspace.illinois.edu/media/t/1_cvwu8r9s\n",
    "[odnb]: intro2mld.ipynb "
   ]
  }
 ],
 "metadata": {
  "kernelspec": {
   "display_name": "Python 3",
   "language": "python",
   "name": "python3"
  },
  "language_info": {
   "codemirror_mode": {
    "name": "ipython",
    "version": 3
   },
   "file_extension": ".py",
   "mimetype": "text/x-python",
   "name": "python",
   "nbconvert_exporter": "python",
   "pygments_lexer": "ipython3",
   "version": "3.6.1"
  }
 },
 "nbformat": 4,
 "nbformat_minor": 2
}
