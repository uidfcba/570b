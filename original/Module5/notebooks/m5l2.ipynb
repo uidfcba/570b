{
 "cells": [
  {
   "cell_type": "markdown",
   "metadata": {},
   "source": [
    "# Module 5: Lesson 2\n",
    "\n",
    "-----\n",
    "\n",
    "## Introduction to Naive Bayes\n",
    "\n",
    "This lesson introduces the Naive Bayes algorithm, and how it can be applied to machine learning problems.\n",
    "\n",
    "### Objectives\n",
    "\n",
    "By the end of this lesson, you will be able to:\n",
    "\n",
    "- explain the Naive Bayes algorithm,\n",
    "- articulate how the Naive Bayes algorithm can be used to perform classification,\n",
    "- apply the Naive Bayes algorithm by using the scikit learn library.\n",
    "\n",
    "### Time Estimate\n",
    "\n",
    "Approximately 2 hours.\n",
    "\n",
    "### Activities \n",
    "\n",
    "Reading: Learn about the [Naive Bayes algorithm][jnb] and its application by using the scikit learn module in _Python Data Science Handbook_ by Jake VanderPlas. You can skip the _Example: Classifying Text_ section, which is optional.\n",
    "\n",
    "Video: Watch the [Introduction to Naive Bayes ][inbv] video, which will demonstrate the basic concepts of the Naive Bayes algorithm and demonstrate its application by using the scikit learn module.\n",
    "\n",
    "Notebook: Read and complete the practice exercises in the [Introduction to Naive Bayes][intro2nb] notebook.\n",
    "\n",
    "------\n",
    "[jnb]: http://nbviewer.jupyter.org/github/jakevdp/PythonDataScienceHandbook/blob/master/notebooks/05.05-Naive-Bayes.ipynb\n",
    "[inbv]: https://mediaspace.illinois.edu/media/t/1_782nlyrz\n",
    "[intro2nb]: intro2nb.ipynb"
   ]
  }
 ],
 "metadata": {
  "kernelspec": {
   "display_name": "Python 3",
   "language": "python",
   "name": "python3"
  },
  "language_info": {
   "codemirror_mode": {
    "name": "ipython",
    "version": 3
   },
   "file_extension": ".py",
   "mimetype": "text/x-python",
   "name": "python",
   "nbconvert_exporter": "python",
   "pygments_lexer": "ipython3",
   "version": "3.6.1"
  }
 },
 "nbformat": 4,
 "nbformat_minor": 2
}
