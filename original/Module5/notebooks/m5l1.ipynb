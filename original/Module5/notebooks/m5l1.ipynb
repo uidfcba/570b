{
 "cells": [
  {
   "cell_type": "markdown",
   "metadata": {},
   "source": [
    "# Module 5: Lesson 1\n",
    "\n",
    "-----\n",
    "\n",
    "## Machine Learning Workflows\n",
    "\n",
    "This lesson introduces the development and deployment of machine learning workflows.\n",
    "\n",
    "### Objectives\n",
    "\n",
    "By the end of this lesson, you will\n",
    "\n",
    "- explain the steps involved in a full machine learning workflow,\n",
    "- articulate why a workflow can provide benefits for a machine learning task,\n",
    "- discuss how machine learning can be applied to real-world problems.\n",
    "\n",
    "### Time Estimate\n",
    "\n",
    "Approximately 1 hour.\n",
    "\n",
    "### Activities\n",
    "\n",
    "Reading: [Read about how regression can be deployed in practice][mlf] in this concise introduction to machine learning regression by Adam Geithey.\n",
    "\n",
    "Reading: Read about [Using Machine Learning to Predict Value of Homes On Airbnb][mlabnb] by Robert Chang.\n",
    "\n",
    "Video: Watch the [introduction to practical machine learning][irv] video, which will review how machine learning workflows can be developed and deployed to tackle problems in business and accountancy. \n",
    "\n",
    "------\n",
    "\n",
    "[mlf]: https://medium.com/@ageitgey/machine-learning-is-fun-80ea3ec3c471\n",
    "[mlabnb]: https://medium.com/airbnb-engineering/using-machine-learning-to-predict-value-of-homes-on-airbnb-9272d3d4739d\n",
    "[irv]: https://mediaspace.illinois.edu/media/t/1_tn7sxmx3"
   ]
  }
 ],
 "metadata": {
  "kernelspec": {
   "display_name": "Python 3",
   "language": "python",
   "name": "python3"
  },
  "language_info": {
   "codemirror_mode": {
    "name": "ipython",
    "version": 3
   },
   "file_extension": ".py",
   "mimetype": "text/x-python",
   "name": "python",
   "nbconvert_exporter": "python",
   "pygments_lexer": "ipython3",
   "version": "3.6.1"
  }
 },
 "nbformat": 4,
 "nbformat_minor": 2
}
