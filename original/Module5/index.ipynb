{
 "cells": [
  {
   "cell_type": "markdown",
   "metadata": {},
   "source": [
    "# Module 5: Fundamental Probabilistic Algorithms\n",
    "\n",
    "This module starts by discussing practical machine learning workflows that are deployed in production environments, which emphasizes the big picture view of machine learning. Next this module introduces two additional fundamental algorithms: naive Bayes and Gaussian Processes.  These algorithms both have foundations in probability theory but operate under very different assumptions. Naive Bayes is generally used for classification tasks, while Gaussian Processes are generally used for regression tasks. This module also discusses practical issues in constructing machine learning workflows.\n",
    "\n",
    "\n",
    "## Learning Objectives\n",
    "\n",
    "#### By the end of this module, you should be able to:\n",
    "\n",
    "- describe the steps required to build a production machine learning workflow,\n",
    "- describe the basic concepts behind the naive Bayes and Gaussian process algorithms, and\n",
    "- apply the naive Bayes and Gaussian process algorithms to machine learning challenges by writing Python analysis scripts that use the scikit learn library.\n",
    "\n",
    "### Activities and Assignments\n",
    "\n",
    "| Activities and Assignments               | Time Estimate | Deadline* | Points |\n",
    "| :--------------------------------------- | ------------- | --------- | -----: |\n",
    "| **[Module 5 Overview Video][wv]**      | 10 Minutes    | Tuesday |    N/A |\n",
    "| **[Module 5 Lesson 1: Machine Learning Workflows][nb1]** | 1 Hour   | Thursday  |     N/A |\n",
    "| **[Module 5 Lesson 2: Introduction to Naive Bayes][nb2]** | 2 Hours | Thursday  |     N/A |\n",
    "| **[Module 5 Lesson 3: Introduction to Gaussian Processes][nb3]** | 2 Hours | Thursday  |     N/A |\n",
    "\n",
    "*Please note that unless otherwise noted, the due time is 6pm Central time!\n",
    "\n",
    "----------\n",
    "\n",
    "[nb1]: notebooks/m5l1.ipynb\n",
    "[nb2]: notebooks/m5l2.ipynb\n",
    "[nb3]: notebooks/m5l3.ipynb\n",
    "\n",
    "[wv]: https://mediaspace.illinois.edu/media/t/1_dd6hdjcy"
   ]
  }
 ],
 "metadata": {
  "kernelspec": {
   "display_name": "Python 3",
   "language": "python",
   "name": "python3"
  },
  "language_info": {
   "codemirror_mode": {
    "name": "ipython",
    "version": 3
   },
   "file_extension": ".py",
   "mimetype": "text/x-python",
   "name": "python",
   "nbconvert_exporter": "python",
   "pygments_lexer": "ipython3",
   "version": "3.6.1"
  }
 },
 "nbformat": 4,
 "nbformat_minor": 2
}
