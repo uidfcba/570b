{
 "cells": [
  {
   "cell_type": "markdown",
   "metadata": {},
   "source": [
    "# Module 6: Lesson 4\n",
    "\n",
    "-----\n",
    "\n",
    "## Introduction to Manifold Learning\n",
    "\n",
    "This lesson introduces manifold learning, which enables the projection of high-dimensional data to a smaller set of dimensions. This can be useful both as a feature selection mechanisms for machine learning, and a technique that enables visualization of high-dimensional data.\n",
    "\n",
    "### Objectives\n",
    "\n",
    "By the end of this lesson, you will be be able to\n",
    "\n",
    "- identify when manifold learning can be an effective tool,\n",
    "- explain the differences between the LLE, Isomap and t-SNE algorithms,\n",
    "- apply manifold learning algorithms by using the scikit learn library to generate a two-dimensional visualization, and\n",
    "- employ a feature union to generate an optimal set of features.\n",
    "\n",
    "### Time Estimate\n",
    "\n",
    "Approximately 2 hours.\n",
    "\n",
    "### Activities\n",
    "\n",
    "Reading: Learn about [Manifold Learning][jml]  and its application by using the scikit learn module in Python Data Science Handbook by Jake VanderPlas. You can skip the _Example: Isomap on Faces_ and _Example: Visualizing Structure in Digits_ sections, which are optional.\n",
    "\n",
    "Video: Watch the [introduction to manifold learning][imlv] video, which will demonstrate these concepts.\n",
    "\n",
    "Notebook: Read and complete the practice exercises in the [Introduction to manifold learning][intro2ml] notebook.\n",
    "\n",
    "------\n",
    "[jml]: http://nbviewer.jupyter.org/github/jakevdp/PythonDataScienceHandbook/blob/master/notebooks/05.10-Manifold-Learning.ipynb\n",
    "[imlv]: https://mediaspace.illinois.edu/media/t/1_chpvt2st\n",
    "[intro2ml]: intro2ml.ipynb"
   ]
  }
 ],
 "metadata": {
  "kernelspec": {
   "display_name": "Python 3",
   "language": "python",
   "name": "python3"
  },
  "language_info": {
   "codemirror_mode": {
    "name": "ipython",
    "version": 3
   },
   "file_extension": ".py",
   "mimetype": "text/x-python",
   "name": "python",
   "nbconvert_exporter": "python",
   "pygments_lexer": "ipython3",
   "version": "3.6.1"
  }
 },
 "nbformat": 4,
 "nbformat_minor": 2
}
