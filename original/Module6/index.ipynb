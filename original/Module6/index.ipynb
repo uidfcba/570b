{
 "cells": [
  {
   "cell_type": "markdown",
   "metadata": {},
   "source": [
    "# Module 6: Feature Engineering\n",
    "\n",
    "This module introduces an important concept in machine learning, the selection of the actual features that will be used by a machine learning algorithm. Along with data cleaning, this step in the data analytics process is extremely important, yet it is often overlooked as a method for improving the overall performance of an analysis. This module beings with a discussion of ethics in machine learning, in large part because the selection of features can have (sometimes) non-obvious impacts on the final performance of an algorithm. This can be important when machine learning is applied to data in a regulated industry or when the improper application of an algorithm might lead to discrimination. The rest of this module introduces different techniques for either selecting the best features in a data set, or the construction of new features from the existing set of features.\n",
    "\n",
    "## Learning Objectives\n",
    "\n",
    "#### By the end of this module, you should be able to:\n",
    "\n",
    "- articulate how machine learning might make _ethical_ mistakes,\n",
    "- indicate how machine learning models can be constructed to avoid making ethical mistakes,\n",
    "- understand the importance of including _ethics_ in artificial intelligence that will increasingly affect our everyday lives,\n",
    "- perform feature selection in data analytics scripts written in Python that use the scikit learn module,\n",
    "- perform dimensional reduction by using the scikit learn module, and\n",
    "- apply manifold learning to reduce the number of features in a large data set.\n",
    "\n",
    "### Activities and Assignments\n",
    "\n",
    "| Activities and Assignments               | Time Estimate | Deadline* | Points |\n",
    "| :--------------------------------------- | ------------- | --------- | -----: |\n",
    "| **[Module 6 Overview Video][wv]**        | 10 Minutes    | Tuesday   |    N/A |\n",
    "| **[Module 6 Lesson 1: Practical Concerns with Machine Learning][nb1]** | 1 Hour        | Thursday  |    N/A |\n",
    "| **[Module 6 Lesson 2: Introduction to Feature Selection][nb2]** | 2 Hours       | Thursday  |    N/A |\n",
    "| **[Module 6 Lesson 3: Introduction to Dimensional Reduction][nb3]** | 2 Hours       | Thursday  |    N/A |\n",
    "| **[Module 6 Lesson 4: Introduction to Manifold Learning][nb4]** | 2 Hours       | Thursday  |    N/A |\n",
    "\n",
    "*Please note that unless otherwise noted, the due time is 6pm Central time!\n",
    "\n",
    "----------\n",
    "\n",
    "[nb1]: notebooks/m6l1.ipynb\n",
    "[nb2]: notebooks/m6l2.ipynb\n",
    "[nb3]: notebooks/m6l3.ipynb\n",
    "[nb4]: notebooks/m6l4.ipynb\n",
    "\n",
    "[wv]: https://mediaspace.illinois.edu/media/t/1_9adle1ys"
   ]
  }
 ],
 "metadata": {
  "kernelspec": {
   "display_name": "Python 3",
   "language": "python",
   "name": "python3"
  },
  "language_info": {
   "codemirror_mode": {
    "name": "ipython",
    "version": 3
   },
   "file_extension": ".py",
   "mimetype": "text/x-python",
   "name": "python",
   "nbconvert_exporter": "python",
   "pygments_lexer": "ipython3",
   "version": "3.6.1"
  }
 },
 "nbformat": 4,
 "nbformat_minor": 2
}
