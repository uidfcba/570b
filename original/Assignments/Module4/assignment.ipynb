{
 "cells": [
  {
   "cell_type": "markdown",
   "metadata": {
    "deletable": false,
    "editable": false
   },
   "source": [
    "# Module 4 Assignment\n",
    "\n",
    "A few things you should keep in mind when working on assignments:\n",
    "\n",
    "1. Make sure you fill in any place that says `# YOUR CODE HERE`. Do not write your answer anywhere else other than where it says `# YOUR CODE HERE`. Anything you write elsewhere will be removed or overwritten by the autograder.\n",
    "2. Before you submit your assignment, make sure everything runs as expected. Go to the menubar, select Kernel, and restart the kernel and run all cells (Restart & Run all).\n",
    "3. Do not change the title (i.e. file name) of this notebook.\n",
    "4. Make sure that you save your work (in the menubar, select File → Save and CheckPoint).\n",
    "5. All work must be your own, if you do use any code from another source (such as a course notebook or a website) you need to properly cite the source.\n",
    "\n",
    "-----"
   ]
  },
  {
   "cell_type": "code",
   "execution_count": null,
   "metadata": {
    "deletable": false,
    "editable": false
   },
   "outputs": [],
   "source": [
    "%matplotlib inline\n",
    "\n",
    "import pandas as pd\n",
    "import numpy as np\n",
    "\n",
    "import matplotlib.pyplot as plt\n",
    "import seaborn as sns\n",
    "\n",
    "from sklearn.model_selection import train_test_split\n",
    "\n",
    "from nose.tools import assert_equal, assert_almost_equal, assert_true, assert_is_instance"
   ]
  },
  {
   "cell_type": "markdown",
   "metadata": {
    "deletable": false,
    "editable": false
   },
   "source": [
    "-----\n",
    "\n",
    "## Loading Breast Cancer Data\n",
    "\n",
    "In this assignment, we will work with a breast cancer data set to make predictive models. Before we build a model, we first load the data into the assignment notebook, and randomly sample several rows. The second Code cell splits the DataFrame into a training and testing data set, respectively, before creating the features and labels to use for our classification task.\n",
    "\n",
    "-----"
   ]
  },
  {
   "cell_type": "code",
   "execution_count": null,
   "metadata": {
    "deletable": false,
    "editable": false
   },
   "outputs": [],
   "source": [
    "# Load data\n",
    "df = pd.read_csv('./breast-cancer-wisconsin.data')\n",
    "df.sample(5)"
   ]
  },
  {
   "cell_type": "code",
   "execution_count": null,
   "metadata": {
    "deletable": false,
    "editable": false
   },
   "outputs": [],
   "source": [
    "# Create features and labels\n",
    "\n",
    "y = df['class']\n",
    "X = df.drop('class', axis=1)\n",
    "\n",
    "# Split data into training and testing data sets\n",
    "X_train, X_test, y_train, y_test = train_test_split(X, y, test_size=0.3, random_state=0)"
   ]
  },
  {
   "cell_type": "markdown",
   "metadata": {
    "deletable": false,
    "editable": false
   },
   "source": [
    "-----\n",
    "\n",
    "## Problem 1: Create a Pipeline for Random Forest\n",
    "\n",
    "For this problem, you must complete the `rf_pipeline` function to create a new pipeline that contains random forest classifier. This classifier should be created by using the `n_estimators` and `rs` parameters.\n",
    "\n",
    "-----"
   ]
  },
  {
   "cell_type": "code",
   "execution_count": null,
   "metadata": {
    "deletable": false,
    "nbgrader": {
     "checksum": "6b90d51ceb0eb77df52ca35a77a2b9f1",
     "grade": false,
     "grade_id": "p1_answer",
     "locked": false,
     "schema_version": 1,
     "solution": true
    }
   },
   "outputs": [],
   "source": [
    "from sklearn.ensemble import RandomForestClassifier\n",
    "from sklearn.pipeline import Pipeline\n",
    "\n",
    "def rf_pipeline(n_estimators, rs):\n",
    "    \"\"\"\"\n",
    "    Create a scikit learn pipeline that wraps a random forest classifier\n",
    "    \n",
    "    Inputs\n",
    "    ---------\n",
    "    n_estimators: the number of estimators used by the random forest\n",
    "    rs: the random state of the random forest, used for reproducibility\n",
    "    \n",
    "    Returns\n",
    "    -------\n",
    "    pipeline: an sklearn pipeline object\n",
    "    \"\"\"\n",
    "    \n",
    "    ### YOUR CODE HERE\n",
    "    \n",
    "    return pipeline"
   ]
  },
  {
   "cell_type": "code",
   "execution_count": null,
   "metadata": {
    "deletable": false,
    "editable": false,
    "nbgrader": {
     "checksum": "f0d2f69b933a5445d4a858464fad15bc",
     "grade": true,
     "grade_id": "p1_test",
     "locked": true,
     "points": 1,
     "schema_version": 1,
     "solution": false
    }
   },
   "outputs": [],
   "source": [
    "# Call function to create a pipeline\n",
    "pl = rf_pipeline(100, 2)\n",
    "\n",
    "# Test the new pipeline\n",
    "assert_equal(str(type(pl)), \"<class 'sklearn.pipeline.Pipeline'>\")\n",
    "assert_equal(pl.steps[0][1].n_estimators, 100)\n",
    "assert_equal(pl.steps[0][1].random_state, 2)"
   ]
  },
  {
   "cell_type": "markdown",
   "metadata": {
    "deletable": false,
    "editable": false,
    "nbgrader": {
     "checksum": "36e9e4a0e444bbf6cf169409f0bde1e0",
     "grade": false,
     "grade_id": "cell-3a9a1e07f4750700",
     "locked": true,
     "schema_version": 1,
     "solution": false
    }
   },
   "source": [
    "-----\n",
    "\n",
    "## Problem 2: Compute the Average Cross Validation Score\n",
    "\n",
    "For this problem, you will finish the `rf_avg_crossval` function to compute the average (or mean) cross validation score for a random forest classifier. To perform the cross-validation, you should use the `StratifiedKFold` object within the scikit learn library. Specifically, you must complete the following tasks:\n",
    "\n",
    "1. Create the `StratifiedKFold` object, using the `n_splits` and `rs` parameters.\n",
    "2. Create a random forest pipeline, by using your solution to problem one above, and including the `n_estimators` and `rs` parameters.\n",
    "3. Compute the cross-validation scores for this pipeline, the training data, and the `StratifiedKFold` object.\n",
    "4. Compute the average cross validation score\n",
    "\n",
    "-----"
   ]
  },
  {
   "cell_type": "code",
   "execution_count": null,
   "metadata": {
    "deletable": false,
    "nbgrader": {
     "checksum": "37958cf3432e411b560179a4c47ee6fd",
     "grade": false,
     "grade_id": "p2_answer",
     "locked": false,
     "schema_version": 1,
     "solution": true
    }
   },
   "outputs": [],
   "source": [
    "from sklearn.model_selection import StratifiedKFold, cross_val_score\n",
    "\n",
    "def rf_avg_crossval(rfp, X_train, y_train, \n",
    "                    n_estimators, n_splits, rs):\n",
    "    \"\"\"\"\n",
    "    Inputs\n",
    "    ---------\n",
    "    rfp: The rf_pipeline function you created in Problem 1\n",
    "    X_train: the training data\n",
    "    y_train: the training data labels\n",
    "    n_estimators: the number of estimators used by the random forest\n",
    "    rs: the random state of the random forest and of the cross validation,\n",
    "        used for reproducibility\n",
    "    \n",
    "    Returns\n",
    "    -------\n",
    "    mean_score: the average cross validation score of the random forest \n",
    "    \"\"\"\n",
    "    \n",
    "    ### YOUR CODE HERE\n",
    "    \n",
    "    return mean_score"
   ]
  },
  {
   "cell_type": "code",
   "execution_count": null,
   "metadata": {
    "deletable": false,
    "editable": false,
    "nbgrader": {
     "checksum": "933b2afb6100d43361e4d6846d03b27d",
     "grade": true,
     "grade_id": "p2_test",
     "locked": true,
     "points": 1,
     "schema_version": 1,
     "solution": false
    }
   },
   "outputs": [],
   "source": [
    "# Compute mean scores\n",
    "mean_score = rf_avg_crossval(rf_pipeline, X_train, y_train, 10, 5, 2)\n",
    "\n",
    "# Test mean scores\n",
    "assert_almost_equal(mean_score, 0.96236, places=4)"
   ]
  },
  {
   "cell_type": "markdown",
   "metadata": {
    "deletable": false,
    "editable": false
   },
   "source": [
    "-----\n",
    "\n",
    "## Problem 3: Random Grid Search\n",
    "\n",
    "For this problem, you will finish writing the `random_crossval` function, shown below, to complete the following tasks:\n",
    "\n",
    "1. Create a dictionary to map the `'rf__n_estimators'` key to the `n_estimators_array` value.\n",
    "1. Create a randomized search cross-validation estimator by using the scikit learn library. Be sure to pass or assign the following parameters when creating this estimator:\n",
    "  - `pl` random forest pipeline.\n",
    "  - The dictionary created in step one above assigned to the `param_distributions` parameter.\n",
    "  - `n_samples` parameter assigned to the `n_iter` parameter.\n",
    "  - `rs` assigned to the `random_state` parameter.\n",
    "\n",
    "1. Fit this estimator to the training data.\n",
    "1. Extract the best values from the randomized grid search as a dictionary.\n",
    "1. Return the dictionary containing the best parameters.\n",
    "\n",
    "-----"
   ]
  },
  {
   "cell_type": "code",
   "execution_count": null,
   "metadata": {
    "deletable": false,
    "nbgrader": {
     "checksum": "f0164e143ca26cc89149b657506f7b34",
     "grade": false,
     "grade_id": "p3_answer",
     "locked": false,
     "schema_version": 1,
     "solution": true
    }
   },
   "outputs": [],
   "source": [
    "from sklearn.model_selection import RandomizedSearchCV\n",
    "\n",
    "def random_crossval(pl, X_train, y_train, n_estimators_array, n_samples, rs):\n",
    "    \"\"\"\"\n",
    "    Uses a randomized grid search to determine the best parameters of a \n",
    "    specific the specified pipeline on a given test data set.\n",
    "    \n",
    "    Inputs\n",
    "    ---------\n",
    "    pl: random forest pipeline\n",
    "    X_train: the training data\n",
    "    y_train: the trainig data lavels\n",
    "    n_estimators_array: a numpy array containing possible values for n_estimators\n",
    "    n_samples: the number of times the random cv will sample from n_estimators_array\n",
    "    rs: the random state of the random forest and of the cross validation,\n",
    "        used for reproducibility\n",
    "    \n",
    "    Returns\n",
    "    -------\n",
    "    best_params: a list of the best parameters from the randomized cross validation\n",
    "    \"\"\"\n",
    "    \n",
    "    ### YOUR CODE HERE\n",
    "    \n",
    "    return best_params"
   ]
  },
  {
   "cell_type": "code",
   "execution_count": null,
   "metadata": {
    "deletable": false,
    "editable": false,
    "nbgrader": {
     "checksum": "beb41ab9b4f45318a08cf4e49e230b44",
     "grade": true,
     "grade_id": "p3_test",
     "locked": true,
     "points": 1,
     "schema_version": 1,
     "solution": false
    }
   },
   "outputs": [],
   "source": [
    "# Perform Grid Search to get best parameters\n",
    "params_list = random_crossval(pl, X_train, y_train, \n",
    "                              np.arange(1,100,1), 10, 2)\n",
    "\n",
    "# Test grid search results\n",
    "assert_equal(params_list[\"rf__n_estimators\"], 31)"
   ]
  },
  {
   "cell_type": "markdown",
   "metadata": {
    "deletable": false,
    "editable": false
   },
   "source": [
    "-----\n",
    "\n",
    "## Loading Car Price Data\n",
    "\n",
    "For the rest of this assignment, we will work with a car price data set to make regressive models between car specifications and car price. Before we build a model, we first load the data into the assignment notebook, and randomly sample several rows. The second Code cell selects only numeric columns to simplify the analysis, and displays the first few instances.\n",
    "\n",
    "-----"
   ]
  },
  {
   "cell_type": "code",
   "execution_count": null,
   "metadata": {
    "deletable": false,
    "editable": false
   },
   "outputs": [],
   "source": [
    "df = pd.read_csv('./imports-85.data')\n",
    "df.sample(5)"
   ]
  },
  {
   "cell_type": "code",
   "execution_count": null,
   "metadata": {
    "deletable": false,
    "editable": false
   },
   "outputs": [],
   "source": [
    "df_simple = df[df.columns[df.dtypes!=object]]\n",
    "df_simple.head()"
   ]
  },
  {
   "cell_type": "markdown",
   "metadata": {
    "deletable": false,
    "editable": false
   },
   "source": [
    "-----\n",
    "\n",
    "With the numeric data, we can now create our independent and dependent variables so that we can \n",
    "build a model that can predict the price of the car. After this is done, we split these data into a training and testing set.\n",
    "\n",
    "-----"
   ]
  },
  {
   "cell_type": "code",
   "execution_count": null,
   "metadata": {
    "deletable": false,
    "editable": false
   },
   "outputs": [],
   "source": [
    "X = df_simple.drop(\"price\", axis=1)\n",
    "y = np.ravel(df_simple[\"price\"])\n",
    "X_train, X_test, y_train, y_test = train_test_split(X, y, test_size=0.3, random_state=0)"
   ]
  },
  {
   "cell_type": "markdown",
   "metadata": {
    "deletable": false,
    "editable": false
   },
   "source": [
    "-----\n",
    "\n",
    "## Problem 4:  Ridge Regression\n",
    "\n",
    "For this problem, you must finish writing the `ridge_r` function by completing the following tasks:\n",
    "1. Create a [`Ridge Regression`](http://scikit-learn.org/stable/modules/generated/sklearn.linear_model.Ridge.html) model by using the scikit learn library. Be sure to\n",
    "  - Set the `alpha` hyperparameter for the `RidgeRegression` model to the `alpha` function parameter.\n",
    "  - Set the `random_state` parameter for the `RidgeRegression` model to the `rs` function parameter.\n",
    "  \n",
    "1. Fit the `RidgeRegression` model by using the training features and labels.\n",
    "1. Compute the $R^2$ coefficient using the testing features and labels.\n",
    "1. Return the $R^2$ coefficient.\n",
    "\n",
    "-----"
   ]
  },
  {
   "cell_type": "code",
   "execution_count": null,
   "metadata": {
    "deletable": false,
    "nbgrader": {
     "checksum": "f25618fd1ade432743e7552f52a680da",
     "grade": false,
     "grade_id": "p4_answer",
     "locked": false,
     "schema_version": 1,
     "solution": true
    }
   },
   "outputs": [],
   "source": [
    "from sklearn.linear_model import Ridge\n",
    "\n",
    "def ridge_r(X_train, y_train, X_test, y_test, alpha=1, rs=0):\n",
    "    \"\"\"\"\n",
    "    Fit a ridge regression model to the training data and \n",
    "    compute and return the R2 score for the test data.\n",
    "    \n",
    "    Inputs\n",
    "    ---------\n",
    "    X_train: Pandas DataFrame containing features for training dataset\n",
    "    y_train: Pandas DataFrame containing labels for training dataset\n",
    "    X_test: Pandas DataFrame containing features for testing dataset\n",
    "    y_test: Pandas DataFrame containing labels for testing dataset\n",
    "    alpha: a regularization parameter\n",
    "    rs: random state for random number generator\n",
    "    \n",
    "    Returns\n",
    "    -------\n",
    "    score: the coefficient of determination as a floating point value\n",
    "    \"\"\"\n",
    "    \n",
    "    ### YOUR CODE HERE"
   ]
  },
  {
   "cell_type": "code",
   "execution_count": null,
   "metadata": {
    "deletable": false,
    "editable": false,
    "nbgrader": {
     "checksum": "8f0bc684b108a92c803434a608194608",
     "grade": true,
     "grade_id": "p4_test",
     "locked": true,
     "points": 1,
     "schema_version": 1,
     "solution": false
    }
   },
   "outputs": [],
   "source": [
    "import helper\n",
    "\n",
    "# Compute scores as a function of alpha\n",
    "alphas = np.arange(0.1, 250, 1)\n",
    "scores = []\n",
    "for alpha in alphas:\n",
    "    score = ridge_r(X_train, y_train, X_test, y_test, alpha=alpha)\n",
    "    scores.append(score)\n",
    "\n",
    "# Compare scores to precomputed values\n",
    "for ans, sol in zip(scores, helper.rr_sol):\n",
    "    assert_almost_equal(ans, sol, places=2)"
   ]
  },
  {
   "cell_type": "markdown",
   "metadata": {
    "deletable": false,
    "editable": false
   },
   "source": [
    "-----\n",
    "\n",
    "If you plot your ridge regression scores against alpha they should look similar to this plot: \n",
    "\n",
    "![ridgeR2.png](ridgeR2.png)\n",
    "\n",
    "Notice how the r2 score increases as alpha increases. \n",
    "\n",
    "*If you are failing the previous assert statement, try running the cell below to help you debug the `ridge_r` function.*\n",
    "\n",
    "-----"
   ]
  },
  {
   "cell_type": "code",
   "execution_count": null,
   "metadata": {
    "deletable": false,
    "editable": false
   },
   "outputs": [],
   "source": [
    "# Plot the score as a function of alpha\n",
    "sns.set()\n",
    "fig, ax = plt.subplots()\n",
    "ax.plot(alphas, scores)\n",
    "ax.set(title='Ridge Regression Score',\n",
    "       xlabel='Alpha',\n",
    "       ylabel='Score')\n",
    "\n",
    "sns.despine()"
   ]
  },
  {
   "cell_type": "markdown",
   "metadata": {
    "deletable": false,
    "editable": false
   },
   "source": [
    "**&copy; 2017: Robert J. Brunner at the University of Illinois.**\n",
    "\n",
    "This notebook is released under the [Creative Commons license CC BY-NC-SA 4.0][ll]. Any reproduction, adaptation, distribution, dissemination or making available of this notebook for commercial use is not allowed unless authorized in writing by the copyright holder.\n",
    "\n",
    "[ll]: https://creativecommons.org/licenses/by-nc-sa/4.0/legalcode "
   ]
  }
 ],
 "metadata": {
  "coursera": {
   "course_slug": "data-analytics-accountancy-2",
   "graded_item_id": "ZfO6D",
   "launcher_item_id": "m4_assignment"
  },
  "kernelspec": {
   "display_name": "Python 3",
   "language": "python",
   "name": "python3"
  },
  "language_info": {
   "codemirror_mode": {
    "name": "ipython",
    "version": 3
   },
   "file_extension": ".py",
   "mimetype": "text/x-python",
   "name": "python",
   "nbconvert_exporter": "python",
   "pygments_lexer": "ipython3",
   "version": "3.6.1"
  }
 },
 "nbformat": 4,
 "nbformat_minor": 2
}
