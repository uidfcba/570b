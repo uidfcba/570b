{
 "cells": [
  {
   "cell_type": "markdown",
   "metadata": {
    "deletable": false,
    "editable": false
   },
   "source": [
    "# Module 6 Assignment\n",
    "\n",
    "A few things you should keep in mind when working on assignments:\n",
    "\n",
    "1. Make sure you fill in any place that says `# YOUR CODE HERE`. Do not write your answer anywhere else other than where it says `# YOUR CODE HERE`. Anything you write elsewhere will be removed or overwritten by the autograder.\n",
    "2. Before you submit your assignment, make sure everything runs as expected. Go to the menubar, select Kernel, and restart the kernel and run all cells (Restart & Run all).\n",
    "3. Do not change the title (i.e. file name) of this notebook.\n",
    "4. Make sure that you save your work (in the menubar, select File → Save and CheckPoint).\n",
    "5. All work must be your own, if you do use any code from another source (such as a course notebook or a website) you need to properly cite the source.\n",
    "\n",
    "-----"
   ]
  },
  {
   "cell_type": "code",
   "execution_count": null,
   "metadata": {
    "collapsed": true,
    "deletable": false,
    "editable": false
   },
   "outputs": [],
   "source": [
    "%matplotlib inline\n",
    "\n",
    "import matplotlib.pyplot as plt\n",
    "import pandas as pd\n",
    "import numpy as np\n",
    "\n",
    "import sklearn.preprocessing\n",
    "from sklearn.model_selection import train_test_split\n",
    "\n",
    "import helper as hp\n",
    "from nose.tools import assert_equal, assert_almost_equal, assert_true, assert_is_instance"
   ]
  },
  {
   "cell_type": "markdown",
   "metadata": {
    "deletable": false,
    "editable": false
   },
   "source": [
    "-----\n",
    "\n",
    "## Loading Breast Cancer Data\n",
    "\n",
    "In this assignment, we will work with a breast cancer data set to make predictive models. Before we build a model, we first load the data into the assignment notebook, and randomly sample several rows. The second Code cell creates the features and labels.\n",
    "\n",
    "-----"
   ]
  },
  {
   "cell_type": "code",
   "execution_count": null,
   "metadata": {
    "collapsed": true,
    "deletable": false,
    "editable": false
   },
   "outputs": [],
   "source": [
    "# Load data\n",
    "df = pd.read_csv('./breast-cancer-wisconsin.data')\n",
    "df.sample(5)"
   ]
  },
  {
   "cell_type": "code",
   "execution_count": null,
   "metadata": {
    "collapsed": true,
    "deletable": false,
    "editable": false
   },
   "outputs": [],
   "source": [
    "# Create features and labels\n",
    "labels = df['class']\n",
    "features = df.drop('class', axis=1)"
   ]
  },
  {
   "cell_type": "markdown",
   "metadata": {
    "deletable": false,
    "editable": false
   },
   "source": [
    "-----\n",
    "\n",
    "## Problem 1:  Variance Thresholding\n",
    "\n",
    "In this problem, you will create and implement a function to perform variance thresholding. Specifically, you must complete the following tasks:\n",
    "\n",
    "- Define a function called `VarianceThreshold` that excepts three arguments: `features`, `labels`, and `threshold`, in this order.\n",
    "- Create a [`Variance Threshold`](http://scikit-learn.org/stable/modules/generated/sklearn.feature_selection.VarianceThreshold.html) feature selector by using the scikit learn library.\n",
    "  - Use default parameters for this selector, except\n",
    "  - Set the `threshold` parameter to the `threshold` argument provided to your function.\n",
    "- Apply this feature selector to fit and transform the feature and label arguments provided to your function.\n",
    "- Return the selected features and variances of the individual features, in this order.  \n",
    "\n",
    "**TIP**: Notice that the function you write will be defined as `VarianceThreshold`. Thus, you should not import VarianceThreshold from sklearn.feature.selection. Instead, use the _dot_ operator to reference the `VarianceThreshold` class from the `feature_selection` module in the scikit learn library.\n",
    "\n",
    "-----"
   ]
  },
  {
   "cell_type": "code",
   "execution_count": null,
   "metadata": {
    "collapsed": true,
    "deletable": false,
    "nbgrader": {
     "checksum": "c1adf230b46582457465f0b4221efad8",
     "grade": false,
     "grade_id": "p1_answer",
     "locked": false,
     "schema_version": 1,
     "solution": true
    }
   },
   "outputs": [],
   "source": [
    "from  sklearn import feature_selection\n",
    "\n",
    "### YOUR CODE HERE"
   ]
  },
  {
   "cell_type": "code",
   "execution_count": null,
   "metadata": {
    "collapsed": true,
    "deletable": false,
    "editable": false,
    "nbgrader": {
     "checksum": "c61901253d4ee739353663b85406b35b",
     "grade": true,
     "grade_id": "p1_test",
     "locked": true,
     "points": 1,
     "schema_version": 1,
     "solution": false
    }
   },
   "outputs": [],
   "source": [
    "# Select features and compute relevant variances\n",
    "selected_features, variences = VarianceThreshold(features, labels, 6)\n",
    "\n",
    "# Test function\n",
    "assert_equal(hp.vt_sf, selected_features.flatten().tolist())\n",
    "assert_equal(variences.flatten().tolist(), [384635052873.4785, 7.945044792052974,\n",
    "     9.381357331041032, 8.918538272070725, 8.193702316667704, 4.934873062387323,\n",
    "     13.258254749844047, 5.992227040723361, 9.30512830956357, 2.9977641487794995])"
   ]
  },
  {
   "cell_type": "markdown",
   "metadata": {
    "deletable": false,
    "editable": false
   },
   "source": [
    "-----\n",
    "\n",
    "## Problem 2: Recursive Feature Extraction\n",
    "In this problem, you will create and implement a function to perform recursive feature extraction. Specifically, you must complete the following tasks:\n",
    "\n",
    "- Write a function called `RFE` that accepts four parameters: features, label, rs, and n, in this order.\n",
    "- Create a random forest classifier and assign the `random_state` parameter for this estimator to the `rs` argument passed into your function.\n",
    "- Create a Recursive Feature Estimator (RFE) by using the scikit learn library's [RFE](http://scikit-learn.org/stable/modules/generated/sklearn.feature_selection.RFE.html#sklearn.feature_selection.RFE) object. \n",
    "  - Use the random forest classifier as the estimator for the `RFE` object.\n",
    "  - Assign the numbers of features to select parameter to `n`, which was passed as an argument into your function.\n",
    "- Fit the RFE estimator by using the features and labels.\n",
    "- Return the RFE model.\n",
    "\n",
    "When completing this problem, you should reference the **TIP** provided with Problem 1: Variance Thresholding.\n",
    "\n",
    "-----"
   ]
  },
  {
   "cell_type": "code",
   "execution_count": null,
   "metadata": {
    "collapsed": true,
    "deletable": false,
    "nbgrader": {
     "checksum": "9063bc87d68825e874af438fbe48d8b4",
     "grade": false,
     "grade_id": "p2_answer",
     "locked": false,
     "schema_version": 1,
     "solution": true
    }
   },
   "outputs": [],
   "source": [
    "from sklearn import ensemble\n",
    "\n",
    "### YOUR CODE HERE"
   ]
  },
  {
   "cell_type": "code",
   "execution_count": null,
   "metadata": {
    "collapsed": true,
    "deletable": false,
    "editable": false,
    "nbgrader": {
     "checksum": "8fce8d00d03fc319e156ab8c53360527",
     "grade": true,
     "grade_id": "p2_test",
     "locked": true,
     "points": 1,
     "schema_version": 1,
     "solution": false
    }
   },
   "outputs": [],
   "source": [
    "# Create RFE estimator\n",
    "rfe1 = RFE(features, labels, rs=0, n=1)\n",
    "\n",
    "# Test function results\n",
    "assert_equal(rfe1.ranking_.tolist(), [9, 7, 2, 1, 8, 5, 4, 3, 6, 10])\n",
    "\n",
    "for i in range(1, len(features.columns)+1):\n",
    "    rfe = RFE(features, labels, rs=0, n=i)\n",
    "    print ('Performing Recursive Feature Selection. Choosing', i, 'features.')\n",
    "    if i == 1:\n",
    "        assert_equal(rfe.ranking_.tolist(), [9, 7, 2, 1, 8, 5, 4, 3, 6, 10])\n",
    "        assert_equal(rfe.support_.tolist(), [False, False, False, True, False, \n",
    "                                             False, False, False, False, False])\n",
    "    elif i == 2:\n",
    "        assert_equal(rfe.ranking_.tolist(), [8, 6, 1, 1, 7, 4, 3, 2, 5, 9])\n",
    "        assert_equal(rfe.support_.tolist(), [False, False, True, True, False, \n",
    "                                             False, False, False, False, False])\n",
    "    elif i == 3:\n",
    "        assert_equal(rfe.ranking_.tolist(), [7, 5, 1, 1, 6, 3, 2, 1, 4, 8])\n",
    "        assert_equal(rfe.support_.tolist(), [False, False, True, True, False, \n",
    "                                             False, False, True, False, False])\n",
    "    elif i == 4:\n",
    "        assert_equal(rfe.ranking_.tolist(), [6, 4, 1, 1, 5, 2, 1, 1, 3, 7])\n",
    "        assert_equal(rfe.support_.tolist(), [False, False, True, True, False, \n",
    "                                             False, True, True, False, False])\n",
    "    elif i == 5:\n",
    "        assert_equal(rfe.ranking_.tolist(), [5, 3, 1, 1, 4, 1, 1, 1, 2, 6])\n",
    "        assert_equal(rfe.support_.tolist(), [False, False, True, True, False, \n",
    "                                             True, True, True, False, False])\n",
    "    elif i == 6:\n",
    "        assert_equal(rfe.ranking_.tolist(), [4, 2, 1, 1, 3, 1, 1, 1, 1, 5])\n",
    "        assert_equal(rfe.support_.tolist(), [False, False, True, True, False, \n",
    "                                             True, True, True, True, False])\n",
    "    elif i == 7:\n",
    "        assert_equal(rfe.ranking_.tolist(), [3, 1, 1, 1, 2, 1, 1, 1, 1, 4])\n",
    "        assert_equal(rfe.support_.tolist(), [False, True, True, True, False, True, \n",
    "                                             True, True, True, False])\n",
    "    elif i == 8:\n",
    "        assert_equal(rfe.ranking_.tolist(), [2, 1, 1, 1, 1, 1, 1, 1, 1, 3])\n",
    "        assert_equal(rfe.support_.tolist(), [False, True, True, True, True, True, \n",
    "                                             True, True, True, False])\n",
    "    elif i == 9:\n",
    "        assert_equal(rfe.ranking_.tolist(), [1, 1, 1, 1, 1, 1, 1, 1, 1, 2])\n",
    "        assert_equal(rfe.support_.tolist(), [True, True, True, True, True, True, \n",
    "                                             True, True, True, False])\n",
    "    else:\n",
    "        assert_equal(rfe.ranking_.tolist(), [1, 1, 1, 1, 1, 1, 1, 1, 1, 1])\n",
    "        assert_equal(rfe.support_.tolist(), [True, True, True, True, True, True, \n",
    "                                             True, True, True, True])\n"
   ]
  },
  {
   "cell_type": "markdown",
   "metadata": {
    "deletable": false,
    "editable": false
   },
   "source": [
    "-----\n",
    "\n",
    "For the final problem below, you will use the car data to relate car price to the car specifications. In the following Code cells, we first load these data and sample several instances, before cleaning the data for non-numeric features, and finally, extracting features (`X`) and labels (`y`).\n",
    "\n",
    "-----"
   ]
  },
  {
   "cell_type": "code",
   "execution_count": null,
   "metadata": {
    "collapsed": true,
    "deletable": false,
    "editable": false
   },
   "outputs": [],
   "source": [
    "# Load data\n",
    "df = pd.read_csv('./imports-85.data')\n",
    "df.sample(5)"
   ]
  },
  {
   "cell_type": "code",
   "execution_count": null,
   "metadata": {
    "collapsed": true,
    "deletable": false,
    "editable": false
   },
   "outputs": [],
   "source": [
    "# Eliminate non-numeric features\n",
    "df_simple = df[df.columns[df.dtypes!=object]]\n",
    "df_simple.head()"
   ]
  },
  {
   "cell_type": "code",
   "execution_count": null,
   "metadata": {
    "collapsed": true,
    "deletable": false,
    "editable": false
   },
   "outputs": [],
   "source": [
    "# Create feature and label arrays\n",
    "X = df_simple.drop(\"price\", axis=1)\n",
    "y = np.ravel(df_simple[\"price\"])"
   ]
  },
  {
   "cell_type": "markdown",
   "metadata": {
    "deletable": false,
    "editable": false
   },
   "source": [
    "-----\n",
    "\n",
    "## Problem 3: Principal Component Analysis\n",
    "\n",
    "For this problem, you will complete the function `fit_pca`, provided below, to perform principal component analysis on a provided DataFrame, `df`. To complete this task, you must create an instance of the `PCA` estimator in the scikit learn library, specifying the number of components to keep (which is passed into the `fit_pca` function via the `n_c` parameter). Using this estimator, you should fit and transform the DataFrame to compute a NumPy array that contains the reduced set of features.\n",
    "\n",
    "-----"
   ]
  },
  {
   "cell_type": "code",
   "execution_count": null,
   "metadata": {
    "collapsed": true,
    "deletable": false,
    "nbgrader": {
     "checksum": "c7cc69554aacc51c0123ba67921b7f42",
     "grade": false,
     "grade_id": "p3_answer",
     "locked": false,
     "schema_version": 1,
     "solution": true
    }
   },
   "outputs": [],
   "source": [
    "from sklearn.decomposition import PCA\n",
    "\n",
    "def fit_pca(df, n_c):\n",
    "    \"\"\"\n",
    "    Perform principal component analysis\n",
    "    \n",
    "    Parameters\n",
    "    ----------\n",
    "    df: A pandas DataFrame containing the relevant features\n",
    "    n_c: The number of principal components to keep\n",
    "    \n",
    "    Returns\n",
    "    -------\n",
    "    reduced: A NumPy array containing the PCA reduced features\n",
    "    \"\"\"\n",
    "    \n",
    "    ### YOUR CODE HERE\n",
    "    \n",
    "    return reduced"
   ]
  },
  {
   "cell_type": "code",
   "execution_count": null,
   "metadata": {
    "collapsed": true,
    "deletable": false,
    "editable": false,
    "nbgrader": {
     "checksum": "86835a466f3181aab85908d560f0f3ab",
     "grade": true,
     "grade_id": "p3_test",
     "locked": true,
     "points": 1,
     "schema_version": 1,
     "solution": false
    }
   },
   "outputs": [],
   "source": [
    "# Compute reduced features on car data\n",
    "pca_data = fit_pca(X,n_c=X.shape[1])\n",
    "\n",
    "# Test function\n",
    "assert_almost_equal(sum(pca_data[0]), 0.60937, places=4)\n",
    "assert_equal(pca_data.shape, (205, 15))"
   ]
  },
  {
   "cell_type": "markdown",
   "metadata": {
    "deletable": false,
    "editable": false
   },
   "source": [
    "**&copy; 2017: Robert J. Brunner at the University of Illinois.**\n",
    "\n",
    "This notebook is released under the [Creative Commons license CC BY-NC-SA 4.0][ll]. Any reproduction, adaptation, distribution, dissemination or making available of this notebook for commercial use is not allowed unless authorized in writing by the copyright holder.\n",
    "\n",
    "[ll]: https://creativecommons.org/licenses/by-nc-sa/4.0/legalcode "
   ]
  }
 ],
 "metadata": {
  "coursera": {
   "course_slug": "data-analytics-accountancy-2",
   "graded_item_id": "JDlsJ",
   "launcher_item_id": "m6_assignment"
  },
  "kernelspec": {
   "display_name": "Python 3",
   "language": "python",
   "name": "python3"
  },
  "language_info": {
   "codemirror_mode": {
    "name": "ipython",
    "version": 3
   },
   "file_extension": ".py",
   "mimetype": "text/x-python",
   "name": "python",
   "nbconvert_exporter": "python",
   "pygments_lexer": "ipython3",
   "version": "3.6.0"
  }
 },
 "nbformat": 4,
 "nbformat_minor": 2
}
