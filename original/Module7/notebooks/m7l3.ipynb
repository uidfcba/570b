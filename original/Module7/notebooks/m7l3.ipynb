{
 "cells": [
  {
   "cell_type": "markdown",
   "metadata": {},
   "source": [
    "# Module 7: Lesson 3\n",
    "\n",
    "-----\n",
    "\n",
    "## Introduction to Density-Based Clustering\t\n",
    "\n",
    "This lesson introduces an alternative clustering technique, DB-SCAN, that finds clusters based on the spatial density of points. One of the main benefits of DB-SCAN is that the number of clusters does not need to be specified a prior.\n",
    "\n",
    "\n",
    "### Objectives\n",
    "\n",
    "By the end of this lesson, you will be able to \n",
    "\n",
    "- articulate the basic concepts behind density clustering algorithms,\n",
    "- explain how the DBSCAN algorithm works to identify clusters, and\n",
    "- apply the DBSCAN algorithm by using the scikit learn library to perform cluster analysis.\n",
    "\n",
    "### Time Estimate\n",
    "\n",
    "Approximately 2 hours.\n",
    "\n",
    "### Activities\n",
    "\n",
    "Reading: Explore the visual interactive demo for the [DB-SCAN][vkm] clustering algorithm by Naftali Harris.\n",
    "\n",
    "Video: Watch the [Introduction to Density-Based Clustering][dbcv] video, which will demonstrate \n",
    "\n",
    "Notebook: Read and complete the practice exercises in the [Introduction to Density-Based Clustering][intro2dbc] notebook.\n",
    "\n",
    "------\n",
    "[vkm]: https://www.naftaliharris.com/blog/visualizing-dbscan-clustering/\n",
    "[dbcv]: https://mediaspace.illinois.edu/media/t/1_r1v2aqnb\n",
    "[intro2dbc]: intro2db.ipynb "
   ]
  }
 ],
 "metadata": {
  "kernelspec": {
   "display_name": "Python 3",
   "language": "python",
   "name": "python3"
  },
  "language_info": {
   "codemirror_mode": {
    "name": "ipython",
    "version": 3
   },
   "file_extension": ".py",
   "mimetype": "text/x-python",
   "name": "python",
   "nbconvert_exporter": "python",
   "pygments_lexer": "ipython3",
   "version": "3.6.1"
  }
 },
 "nbformat": 4,
 "nbformat_minor": 2
}
