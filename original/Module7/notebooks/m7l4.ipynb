{
 "cells": [
  {
   "cell_type": "markdown",
   "metadata": {},
   "source": [
    "# Module 7: Lesson 4\n",
    "\n",
    "-----\n",
    "\n",
    "## Introduction to Mixture Models\n",
    "\n",
    "This lesson introduces Gaussian mixture models, which is a clustering model that assumes all data are generated from a mixture of a finite number of Gaussian (or normal) distributions.\n",
    "\n",
    "\n",
    "### Objectives\n",
    "\n",
    "By the end of this lesson, you will\n",
    "\n",
    "- articulate the basic concepts behind mixture models,\n",
    "- explain how mixture models work to identify clusters, and\n",
    "- apply the Gaussian mixture model algorithm by using the scikit learn library to perform cluster analysis.\n",
    "\n",
    "\n",
    "### Time Estimate\n",
    "\n",
    "Approximately 2 hours.\n",
    "\n",
    "### Activities\n",
    "\n",
    "Reading: Learn about  [Gaussian Mixture Models][jgmm]  and its application by using the scikit learn module in Python Data Science Handbook by Jake VanderPlas. You can skip the _Example: GMM for Generating New Data_ section, which is optional.\n",
    "\n",
    "Video: Watch the [Introduction to Mixture Models][mmv] video, which will demonstrate the basic concepts behind mixture models.\n",
    "\n",
    "Notebook: Read and complete the practice exercises in the [Introduction to Mixture Models][intro2mm] notebook.\n",
    "\n",
    "------\n",
    "[jgmm]: http://nbviewer.jupyter.org/github/jakevdp/PythonDataScienceHandbook/blob/master/notebooks/05.12-Gaussian-Mixtures.ipynb\n",
    "[mmv]: https://mediaspace.illinois.edu/media/t/1_8it9huu9\n",
    "[intro2mm]: intro2mm.ipynb "
   ]
  }
 ],
 "metadata": {
  "kernelspec": {
   "display_name": "Python 3",
   "language": "python",
   "name": "python3"
  },
  "language_info": {
   "codemirror_mode": {
    "name": "ipython",
    "version": 3
   },
   "file_extension": ".py",
   "mimetype": "text/x-python",
   "name": "python",
   "nbconvert_exporter": "python",
   "pygments_lexer": "ipython3",
   "version": "3.6.1"
  }
 },
 "nbformat": 4,
 "nbformat_minor": 2
}
